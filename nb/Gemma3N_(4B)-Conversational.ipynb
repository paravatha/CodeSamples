{
  "cells": [
    {
      "cell_type": "markdown",
      "metadata": {
        "id": "view-in-github",
        "colab_type": "text"
      },
      "source": [
        "<a href=\"https://colab.research.google.com/github/paravatha/CodeSamples/blob/master/nb/Gemma3N_(4B)-Conversational.ipynb\" target=\"_parent\"><img src=\"https://colab.research.google.com/assets/colab-badge.svg\" alt=\"Open In Colab\"/></a>"
      ]
    },
    {
      "cell_type": "markdown",
      "metadata": {
        "id": "wh4ZpnndMvaO"
      },
      "source": [
        "To run this, press \"*Runtime*\" and press \"*Run all*\" on a **free** Tesla T4 Google Colab instance!\n",
        "<div class=\"align-center\">\n",
        "<a href=\"https://unsloth.ai/\"><img src=\"https://github.com/unslothai/unsloth/raw/main/images/unsloth%20new%20logo.png\" width=\"115\"></a>\n",
        "<a href=\"https://discord.gg/unsloth\"><img src=\"https://github.com/unslothai/unsloth/raw/main/images/Discord button.png\" width=\"145\"></a>\n",
        "<a href=\"https://docs.unsloth.ai/\"><img src=\"https://github.com/unslothai/unsloth/blob/main/images/documentation%20green%20button.png?raw=true\" width=\"125\"></a></a> Join Discord if you need help + ⭐ <i>Star us on <a href=\"https://github.com/unslothai/unsloth\">Github</a> </i> ⭐\n",
        "</div>\n",
        "\n",
        "To install Unsloth on your own computer, follow the installation instructions on our Github page [here](https://docs.unsloth.ai/get-started/installing-+-updating).\n",
        "\n",
        "You will learn how to do [data prep](#Data), how to [train](#Train), how to [run the model](#Inference), & [how to save it](#Save)\n"
      ]
    },
    {
      "cell_type": "markdown",
      "metadata": {
        "id": "qBia8GVKMvaS"
      },
      "source": [
        "### News"
      ]
    },
    {
      "cell_type": "code",
      "source": [],
      "metadata": {
        "id": "WfimwBReluDB"
      },
      "execution_count": null,
      "outputs": []
    },
    {
      "cell_type": "markdown",
      "metadata": {
        "id": "yb-D9qhRMvaU"
      },
      "source": [
        "Unsloth now supports Text-to-Speech (TTS) models. Read our [guide here](https://docs.unsloth.ai/basics/text-to-speech-tts-fine-tuning).\n",
        "\n",
        "Read our **[Gemma 3N Guide](https://docs.unsloth.ai/basics/gemma-3n-how-to-run-and-fine-tune)** and check out our new **[Dynamic 2.0](https://docs.unsloth.ai/basics/unsloth-dynamic-2.0-ggufs)** quants which outperforms other quantization methods!\n",
        "\n",
        "Visit our docs for all our [model uploads](https://docs.unsloth.ai/get-started/all-our-models) and [notebooks](https://docs.unsloth.ai/get-started/unsloth-notebooks).\n"
      ]
    },
    {
      "cell_type": "markdown",
      "metadata": {
        "id": "N3z2yeVsMvaV"
      },
      "source": [
        "### Installation"
      ]
    },
    {
      "cell_type": "code",
      "execution_count": 1,
      "metadata": {
        "id": "pS-P_shPMvaX"
      },
      "outputs": [],
      "source": [
        "%%capture\n",
        "import os\n",
        "if \"COLAB_\" not in \"\".join(os.environ.keys()):\n",
        "    !pip install unsloth\n",
        "else:\n",
        "    # Do this only in Colab notebooks! Otherwise use pip install unsloth\n",
        "    !pip install --no-deps bitsandbytes accelerate xformers==0.0.29.post3 peft trl triton cut_cross_entropy unsloth_zoo\n",
        "    !pip install sentencepiece protobuf \"datasets>=3.4.1\" huggingface_hub hf_transfer\n",
        "    !pip install --no-deps unsloth"
      ]
    },
    {
      "cell_type": "code",
      "source": [
        "%%capture\n",
        "# Install latest transformers for Gemma 3N\n",
        "!pip install --no-deps git+https://github.com/huggingface/transformers.git # Only for Gemma 3N\n",
        "!pip install --no-deps --upgrade timm # Only for Gemma 3N"
      ],
      "metadata": {
        "id": "lBN09c1tUlSV"
      },
      "execution_count": 2,
      "outputs": []
    },
    {
      "cell_type": "markdown",
      "metadata": {
        "id": "TGMWlrRdzwgf"
      },
      "source": [
        "### Unsloth\n",
        "\n",
        "`FastModel` supports loading nearly any model now! This includes Vision and Text models!"
      ]
    },
    {
      "cell_type": "code",
      "execution_count": 3,
      "metadata": {
        "colab": {
          "base_uri": "https://localhost:8080/",
          "height": 202,
          "referenced_widgets": [
            "9ddc84abe4294cb081ef5f652d67707e",
            "243d69262f674730b6dcd5aa176f5558",
            "cdddd2c0386140d0a353ec029695b813",
            "10bd487900ea4988ae46d8d5aeda0436",
            "5f10b09c629d453996be17079de623eb",
            "d8df4b2ea66641c4823e52833668606e",
            "e1ef83cf84aa4ed0a74f58a2c9d74906",
            "3607bb178a85465693df1eae8ef894e0",
            "d88457bde6184fc59e361febea04edd2",
            "0a15eb11d3804665ae94ea96648b2d08",
            "572f96d79b93411ba062228586135997"
          ]
        },
        "id": "-Xbb0cuLzwgf",
        "outputId": "d5f2d6e8-c2e0-4694-9348-943d88932551"
      },
      "outputs": [
        {
          "output_type": "stream",
          "name": "stdout",
          "text": [
            "🦥 Unsloth: Will patch your computer to enable 2x faster free finetuning.\n",
            "🦥 Unsloth Zoo will now patch everything to make training faster!\n",
            "==((====))==  Unsloth 2025.6.12: Fast Gemma3N patching. Transformers: 4.54.0.dev0.\n",
            "   \\\\   /|    Tesla T4. Num GPUs = 1. Max memory: 14.741 GB. Platform: Linux.\n",
            "O^O/ \\_/ \\    Torch: 2.6.0+cu124. CUDA: 7.5. CUDA Toolkit: 12.4. Triton: 3.2.0\n",
            "\\        /    Bfloat16 = FALSE. FA [Xformers = 0.0.29.post3. FA2 = False]\n",
            " \"-____-\"     Free license: http://github.com/unslothai/unsloth\n",
            "Unsloth: Fast downloading is enabled - ignore downloading bars which are red colored!\n",
            "Unsloth: Gemma3N does not support SDPA - switching to eager!\n"
          ]
        },
        {
          "output_type": "display_data",
          "data": {
            "text/plain": [
              "Loading checkpoint shards:   0%|          | 0/3 [00:00<?, ?it/s]"
            ],
            "application/vnd.jupyter.widget-view+json": {
              "version_major": 2,
              "version_minor": 0,
              "model_id": "9ddc84abe4294cb081ef5f652d67707e"
            }
          },
          "metadata": {}
        }
      ],
      "source": [
        "from unsloth import FastModel\n",
        "import torch\n",
        "\n",
        "fourbit_models = [\n",
        "    # 4bit dynamic quants for superior accuracy and low memory use\n",
        "    \"unsloth/gemma-3n-E4B-it-unsloth-bnb-4bit\",\n",
        "    \"unsloth/gemma-3n-E2B-it-unsloth-bnb-4bit\",\n",
        "    # Pretrained models\n",
        "    \"unsloth/gemma-3n-E4B-unsloth-bnb-4bit\",\n",
        "    \"unsloth/gemma-3n-E2B-unsloth-bnb-4bit\",\n",
        "\n",
        "    # Other Gemma 3 quants\n",
        "    \"unsloth/gemma-3-1b-it-unsloth-bnb-4bit\",\n",
        "    \"unsloth/gemma-3-4b-it-unsloth-bnb-4bit\",\n",
        "    \"unsloth/gemma-3-12b-it-unsloth-bnb-4bit\",\n",
        "    \"unsloth/gemma-3-27b-it-unsloth-bnb-4bit\",\n",
        "] # More models at https://huggingface.co/unsloth\n",
        "\n",
        "model, tokenizer = FastModel.from_pretrained(\n",
        "    model_name = \"unsloth/gemma-3n-E4B-it\",\n",
        "    dtype = None, # None for auto detection\n",
        "    max_seq_length = 1024, # Choose any for long context!\n",
        "    load_in_4bit = True,  # 4 bit quantization to reduce memory\n",
        "    full_finetuning = False, # [NEW!] We have full finetuning now!\n",
        "    # token = \"hf_...\", # use one if using gated models\n",
        ")"
      ]
    },
    {
      "cell_type": "markdown",
      "source": [
        "# Gemma 3N can process Text, Vision and Audio!\n",
        "\n",
        "Let's first experience how Gemma 3N can handle multimodal inputs. We use Gemma 3N's recommended settings of `temperature = 1.0, top_p = 0.95, top_k = 64`"
      ],
      "metadata": {
        "id": "ixr4dyTHVIcI"
      }
    },
    {
      "cell_type": "code",
      "source": [
        "# from transformers import TextStreamer\n",
        "# # Helper function for inference\n",
        "# def do_gemma_3n_inference(messages, max_new_tokens = 128):\n",
        "#     _ = model.generate(\n",
        "#         **tokenizer.apply_chat_template(\n",
        "#             messages,\n",
        "#             add_generation_prompt = True, # Must add for generation\n",
        "#             tokenize = True,\n",
        "#             return_dict = True,\n",
        "#             return_tensors = \"pt\",\n",
        "#         ).to(\"cuda\"),\n",
        "#         max_new_tokens = max_new_tokens,\n",
        "#         temperature = 1.0, top_p = 0.95, top_k = 64,\n",
        "#         streamer = TextStreamer(tokenizer, skip_prompt = True),\n",
        "#     )"
      ],
      "metadata": {
        "id": "UsfUPU-oVQYu"
      },
      "execution_count": 4,
      "outputs": []
    },
    {
      "cell_type": "markdown",
      "source": [
        "# Gemma 3N can see images!\n",
        "\n",
        "<img src=\"https://files.worldwildlife.org/wwfcmsprod/images/Sloth_Sitting_iStock_3_12_2014/story_full_width/8l7pbjmj29_iStock_000011145477Large_mini__1_.jpg\" alt=\"Alt text\" height=\"256\">"
      ],
      "metadata": {
        "id": "q2-ddk0CWeTA"
      }
    },
    {
      "cell_type": "code",
      "source": [
        "# sloth_link = \"https://files.worldwildlife.org/wwfcmsprod/images/Sloth_Sitting_iStock_3_12_2014/story_full_width/8l7pbjmj29_iStock_000011145477Large_mini__1_.jpg\"\n",
        "\n",
        "# messages = [{\n",
        "#     \"role\" : \"user\",\n",
        "#     \"content\": [\n",
        "#         { \"type\": \"image\", \"image\" : sloth_link },\n",
        "#         { \"type\": \"text\",  \"text\" : \"Which countries does this animal exist in?\" }\n",
        "#     ]\n",
        "# }]\n",
        "# # You might have to wait 1 minute for Unsloth's auto compiler\n",
        "# do_gemma_3n_inference(messages, max_new_tokens = 256)"
      ],
      "metadata": {
        "id": "9jGeSb9bWe0k"
      },
      "execution_count": 5,
      "outputs": []
    },
    {
      "cell_type": "markdown",
      "source": [
        "Let's make a poem about sloths!"
      ],
      "metadata": {
        "id": "eh0BzbZPWtRD"
      }
    },
    {
      "cell_type": "code",
      "source": [
        "# messages = [{\n",
        "#     \"role\": \"user\",\n",
        "#     \"content\": [{ \"type\" : \"text\",\n",
        "#                   \"text\" : \"Write a poem about sloths.\" }]\n",
        "# }]\n",
        "# do_gemma_3n_inference(messages)"
      ],
      "metadata": {
        "id": "R3ExuK8cWuT3"
      },
      "execution_count": 6,
      "outputs": []
    },
    {
      "cell_type": "markdown",
      "source": [
        "# Gemma 3N can also hear!"
      ],
      "metadata": {
        "id": "wZrmFRZpZtGf"
      }
    },
    {
      "cell_type": "code",
      "source": [
        "from IPython.display import Audio, display\n",
        "Audio(\"https://upload.wikimedia.org/wikipedia/en/6/61/I_Have_A_Dream_sample.ogg\")"
      ],
      "metadata": {
        "colab": {
          "base_uri": "https://localhost:8080/",
          "height": 52
        },
        "id": "68crYajNZtw1",
        "outputId": "e8698e30-b8db-43ec-a1c4-63168867c4b3"
      },
      "execution_count": 7,
      "outputs": [
        {
          "output_type": "execute_result",
          "data": {
            "text/plain": [
              "<IPython.lib.display.Audio object>"
            ],
            "text/html": [
              "\n",
              "                <audio  controls=\"controls\" >\n",
              "                    <source src=\"data:audio/ogg;base64,T2dnUwACAAAAAAAAAADILQAAAAAAAIsvs2QBHgF2b3JiaXMAAAAAAoC7AAAAAAAAAPoAAAAAAAC4AU9nZ1MAAAAAAAAAAAAAyC0AAAEAAAAZhT99EEf//////////////////8EDdm9yYmlzHQAAAFhpcGguT3JnIGxpYlZvcmJpcyBJIDIwMDcwNjIyAQAAABYAAABFbmNvZGVkIGJ5PUxhdmY1Mi4xNi4wAQV2b3JiaXMhQkNWAQAAAQAYY1QpRplS0kqJGXOUMUaZYpJKiaWEFkJInXMUU6k515xrrLm1IIQQGlNQKQWZUo5SaRljkCkFmVIQS0kldBI6J51jEFtJwdaYa4tBthyEDZpSTCnElFKKQggZU4wpxZRSSkIHJXQOOuYcU45KKEG4nHOrtZaWY4updJJK5yRkTEJIKYWSSgelU05CSDWW1lIpHXNSUmpB6CCEEEK2IIQNgtCQVQAAAQDAQBAasgoAUAAAEIqhGIoChIasAgAyAAAEoCiO4iiOIzmSY0kWEBqyCgAAAgAQAADAcBRJkRTJsSRL0ixL00RRVX3VNlVV9nVd13Vd13UgNGQVAAABAEBIp5mlGiDCDGQYCA1ZBQAgAAAARijCEANCQ1YBAAABAABiKDmIJrTmfHOOg2Y5aCrF5nRwItXmSW4q5uacc845J5tzxjjnnHOKcmYxaCa05pxzEoNmKWgmtOacc57E5kFrqrTmnHPGOaeDcUYY55xzmrTmQWo21uaccxa0pjlqLsXmnHMi5eZJbS7V5pxzzjnnnHPOOeecc6oXp3NwTjjnnHOi9uZabkIX55xzPhmne3NCOOecc84555xzzjnnnHOC0JBVAAAQAABBGDaGcacgSJ+jgRhFiGnIpAfdo8MkaAxyCqlHo6ORUuoglFTGSSmdIDRkFQAACAAAIYQUUkghhRRSSCGFFFKIIYYYYsgpp5yCCiqppKKKMsoss8wyyyyzzDLrsLPOOuwwxBBDDK20EktNtdVYY62555xrDtJaaa211koppZRSSikIDVkFAIAAABAIGWSQQUYhhRRSiCGmnHLKKaigAkJDVgEAgAAAAgAAADzJc0RHdERHdERHdERHdETHczxHlERJlERJtEzL1ExPFVXVlV1b1mXd9m1hF3bd93Xf93Xj14VhWZZlWZZlWZZlWZZlWZZlWYLQkFUAAAgAAIAQQgghhRRSSCGlGGPMMeegk1BCIDRkFQAACAAgAAAAwFEcxXEkR3IkyZIsSZM0S7M8zdM8TfREURRN01RFV3RF3bRF2ZRN13RN2XRVWbVdWbZt2dZtX5Zt3/d93/d93/d93/d93/d1HQgNWQUASAAA6EiOpEiKpEiO4ziSJAGhIasAABkAAAEAKIqjOI7jSJIkSZakSZ7lWaJmaqZneqqoAqEhqwAAQAAAAQAAAAAAKJriKabiKaLiOaIjSqJlWqKmaq4om7Lruq7ruq7ruq7ruq7ruq7ruq7ruq7ruq7ruq7ruq7ruq7rui4QGrIKAJAAANCRHMmRHEmRFEmRHMkBQkNWAQAyAAACAHAMx5AUybEsS9M8zdM8TfRET/RMTxVd0QVCQ1YBAIAAAAIAAAAAADAkw1IsR3M0SZRUS7VUTbVUSxVVT1VVVVVVVVVVVVVVVVVVVVVVVVVVVVVVVVVVVVVVVVVVVTVN0zRNIDRkJQAQBQAAOkst1torgJSCVoNoEGQQc++QU05iEKJizEHMQXUQQmm9x8wxBq3mWDGEmMRYM4cUg9ICoSErBIDQDACDJAGSpgGSpgEAAAAAAACA5GmAJoqAJooAAAAAAAAAIGkaoIkioIkiAAAAAAAAAAAAAAAAAAAAAAAAAAAAAAAAAAAAAAAAAAAAAAAAAAAAAAAAAAAAAAAAAAAAAAAAAAAAAAAAAAAAAAAAAACSpgGeKQKaKAIAAAAAAACAJoqAaKqAqJoAAAAAAAAAoIkiIKoiIJoqAAAAAAAAAAAAAAAAAAAAAAAAAAAAAAAAAAAAAAAAAAAAAAAAAAAAAAAAAAAAAAAAAAAAAAAAAAAAAAAAAAAAAAAAAACSpgGaKAKeKAIAAAAAAACAJoqAqJqAKKoAAAAAAAAAoIkmIJoqIKomAAAAAAAAAAAAAAAAAAAAAAAAAAAAAAAAAAAAAAAAAAAAAAAAAAAAAAAAAAAAAAAAAAAAAAAAAAAAAAAAAAAAAAAAAAAAAAAAAAAAAAAAAAAAAAAAAAAAAAAAAAAAAAAAAAAAAAAAAAAAAAAAAAAAAAAAAAAAAAAAAAAAAAAAAAAAAAAAAAAAAAAAAAAAAAAAAAAAAAAAAAAAAAAAAAAAAAAAAAAAAAAAAAAAAAAAAAAAAAAAAAAAAAAAAAAAAAAAAAAAAAAAAAAAAAAAAAAAAAAAAAAAAAAAAAAAAAAAAAAAAAAAAAAAAAAAAAAAAAAAAAAAAAAAAAAAAAAAAAAAAAAAAAAAAAAAAAAAAAAAAAAAAAAAAAAAAAAAAAAAAAAAAAAAAAAAAAAAAAAAAAAAAAAAAAAAAAAAAAAAAAAAAAAAAAAAAAAAAAAAAAAAAAAAAAAAAAAAAAAAAAAAAAAAAAAAAAAAAAAAAAAAAAAAAAAAAAAAAAAAAAAAAAAAAAAAAAAAAAAAAAAAAAAAAAAAAAAAAAAAAAAAAAAAAAAAAAAAAAAAAAAAAAAAAAAAAAAAAAAAAAAAAAAAAAAAAAAAAAAAAAAAAAAAAAAAAAAAAAAAAAAAAAAAAAAAAAAAAAAAAAAAAAAAAAAAAAAAAAAAAAAAAAAAAAAAAAAAAAAAAAAAAAAAAAAAAAAAAAAAAAAAAAAAAAAAAAAAAAAAAAAAAAAAAAAAAAAAAAAAAAAAAAAAAAAAAAAAAAAAAAAAAAAAAAAAAAAAAAAAAAAAAAAAAAAAAAAAAAAAAAAAAAAAAAAAAAAAAACAAACAAAcAgAALodCQFQFAnACAwXEsCwAAHEnSLAAAcCRL0wAAwNI0UQQAAEvTRBEAAAAAAAAAAAAAAAAAAAAAAAAAAAAAAAAAAAAAAAAAAAAAAAAAAAAAAAAAAAAAAAAAAAAAAAAAAAAAAAAAAAAAQAAAwIADAECACWWg0JCVAEAUAIBBMTwNYFkAywJoGkDTAJ4H8DyAKAIAAQAABQ4AAAE2aEosDlBoyEoAIAoAwKAolmVZngdN0zRRhKZpmihC0zRPFKFpmiaKEEXPM014oueZJkxTFE0TiKJpCgAAKHAAAAiwQVNicYBCQ1YCACEBAAZHsSxP8zzPE0XTVFVomueJoiiKpmmqKjTN80RRFE3TNFUVmuZ5oiiKpqmqqgpN8zxRFEXTVFVVheeJoiiapmmqquvC80RRFE3TNFXVdSGKomiapqmqquu6QBRN0zRVVVVdF4iiaZqmqrquLANRNE3TVFXXlWVgmqqqqqrrurIMUE1VVVXXlWWAqrqq67quLANUVXVd15VlGeC6ruvKsmzbAFzXdWXZtgUAABw4AAAEGEEnGVUWYaMJFx6AQkNWBABRAACAMUwpppRhTEIoITSKSQgphExKSqmVVEFIJaVSKgippFRKRqWllFLKIJRSUioVhFRKKqUAALADBwCwAwuh0JCVAEAeAABBiFKMMcaclFIpxpxzTkqpFGPOOSelZIwx55yTUjLGmHPOSSkdc84556SUjDnnnHNSSuecc845KaWUzjnnnJRSSgidc05KKaVzzjknAACowAEAIMBGkc0JRoIKDVkJAKQCABgcx7I0TdM8TxQ1SdI0z/M8UTRNTbI0zfM8TxRNk+d5niiKommqKs/zPFEURdNUVa4riqZpmqqqqmRZFEXRNFVVdWGapqmqquq6ME1RVFXVdV3IsmmqquvKMmzbNFXVdWUZqKqqyq4sA9dVVdeVZQEA4AkOAEAFNqyOcFI0FlhoyEoAIAMAgCAEIaUUQkophJRSCCmlEBIAADDgAAAQYEIZKDRkRQAQJwAAICSlgk5KJaGUUkoppZRSSimllFJKKaWUUkoppZRSSimllFJKKaWUUkoppZRSSimllFJKKaWUUkoppZRSSimllFJKKaWUUkoppZRSSimlk1JKKaWUUkoppZRSSimllFJKKaWUUkoppZRSSimllFJKKaWUUkoppZRSSimllJJSSimllFJKKaWUUkoppZRSSimllFJKKaWUUkoppZRSSSmllFJKKaWUUkoppZRSSimllFJKKaWUUkoppZRSSimllFJKKaWUUkoppZRSSimllFJKKaWUUkoppZRSSimllFJKKaWUUkoppZRSSimllFJKKaWUUkoppZRSSimllFJKKaWUUkoppZRSSimllFJKKaWUUkoppZRSSimllFJKKaWUUkoppZRSSimllFJKKaWUUkoppZRSSimllFJKKaWUUkoppZRSSimllFJKKaWUUkoppZRSSimllFJKKaWUUkoppZRSSimllFJKKaWUUkoppZRSSimllFJKKaWUUkoppZRSSimllFJKKaWUCgDQjXAA0H0woQwUGrISAEgFAACMUYoxCKnFViHEmHMSWmutQogx5yS0lGLPmHMQSmkttp4xxyCUklqLvZTOSUmttRh7Kh2jklJLMfbeSyklpdhi7L2nkEKOLcbYe88xpRZbq7H3XmNKsdUYY++99xhjq7HW3nvvMbZWa44FAGA2OABAJNiwOsJJ0VhgoSErAYCQAADCGKUYY8w555xzTkrJGHPOQQghhBBKKRljzDkIIYQQQiklY845ByGEUEIopWTMOegghFBCKKWUzjkHHYQQQgmllJIx5yCEEEIJpZRSOucghBBCKKWEVEopnYMQQighhFJKSSmEEEIIoYRQUikphRBCCCGEUEJKJaUQQgghhBBKSKWklFIIIYQQQgillJRSCiWUEEIooaSSSimlhBBKCKGkVFIqqZQSQgglhJJKSimVVEooIYRSAADAgQMAQIARdJJRZRE2mnDhASg0ZCUAEAUAABkHHZSWG4CQctRahxyEFFsLkUMMWoydcoxBSilkkDHGpJWSQscYpNRiS6GDFHvPuZXUAgAAIAgACDABBAYICr4QAmIMAEAQIjNEQmEVLDAogwaHeQDwABEhEQAkJijSLi6gywAXdHHXgRCCEIQgFgdQQAIOTrjhiTc84QYn6BSVOhAAAAAAAAUAeAAAQCiAiIhmrsLiAiNDY4Ojw+MDRAAAAAAApADgAwAACQEiIpq5CosLjAyNDY4Ojw+QAABAAAEAAAAAEEAAAgICAAAAAAABAAAAAgJPZ2dTAADAhgAAAAAAAMgtAAACAAAAgPIucCQlI5uMiYd3cnVxb3Btbmxpe4B0e4Z0dXN1cH2IfHlqeoeCiosU489/1KP8+fSr1bNnCU5f/z9696NpbvY9uXry7/tm83+zcbMJNOXfe3yb8+++eWqzqhmkMNBMcw6NeseDu+zszWRHfqHsFAA6KeaUL6Y5P43mH9SMlWRC+WLK81vKovgPNUV/gchdHbWTZW5xiFSrZgTAoebVEyESAQDyEWLSd0ivjKb0EdnjtezEijIaYJUhUjrUUUiXzThMq7ZJ7NR83sE5vbFuLbl2HePwGN4WNWRD4MiVJ58vmumvR32OBBUE0ahL/y3jtNnk3li83cDfQ75Q/4fMTllTCxPUUFVCJlN+AH7pVZSPmJ2YizP/Qe2x80uq78idOEvPJNR56HTkM/UkiJgAADvnGtKBFy8RNa/BAaaQky/GJ3MaUxfyL49Yp6qgOdawWy4jEu7nOU4Lj80ODSSQmqnjn6HTQXG7bPjblQbWwYITzkMC+xrvR0eFeJcDu0kp6gP3hRpjKq/iUBsaCkxAqAq220+IUH8T3pkesH5zb57XOqPbP2tqiqPprPWLM9wPM3vuP2vqNfhgMRnAUYaklHzBIAEAAJfDRFi3yYeABweUXKypJXQFclNezkIbRNM2hFrrOIKKx44W9Tk2d+XHn7sR8s2olZekBkNAMxImoZ/qADGaFRZf1hX9XYwlFpd1UyseiOWjtl0B9A1QEBAuDACeug74P7z5vxMXwTfC6yxqiqHsnL1ZuLP/IS6CP9dZNPpAGybBVjSbnhCRAACgaWjnsr60OA4gIvGWEhqEsoyTnGxuRgCUQ/vzz/jIuPvkpLkg3kiotxrq/ziQDb2u22NNH81clMK+e8vVy+HTXW/Rz0TXuDS0mtuYHan//txBFDnAFliMigT+6rbxbwGFF3hQhfkN9fhTU4x9W3gzCyjc0o4q7G+ox5WaotMtApTZQmUiAAgAAHDQlAtDAwAEeWI6aRrZnJZoycg/dbLBgIxPjr9EfvcIRobR38CHPtsRsfpLvrWzmUslIzZEoO+JLhghCxvjD2y4UJQPmpWKAt7aVsAf/qvvoDLeoSagZnx183CzCACv/QeZ8Q4/ATVFFyw8kCClYFYWJCICBAAA2KEjEE2uCABAdVFyoQEA5KQZSRLDZD7AOOQYAMwl7D1I6D/2ogb7e1PTtMrbt4Fi4SMw3wK8gtwNoJgTFAUBY0AUIr7KVvBm5b68d7zY77AJUVNcZSt4s7Jf3Yf4YD5DRU3RBRu4DQNCkrFySUAQEBEAAOGIIdefFAsAANwchgCADnNyLJpFK2dAdSaw5wamYEzAE8gFl+cECCEiRrGoGQKkImx8gEtHMcJ0nSadnZpLhS9AgdwVAN7KtuRm5b18Djr2M9RE1IyvbVVsFt6rZ0flvENNQE3RDSTQADwwYHhZygAIAkAEAAAHCaSOEACoATYAREzsmOkIA4mcwuiQAJgHADrcQE54RjfDP8lyG2GsSNs7UImIAfDltVcqAWsW9X9hygq+BBQoHvpWiT+CO8A5yHpPLVhcU3x9E3Sz8F6/D6rqGepFtrhm9AEDZHAhwCIqyOgSAEEAiAAAQLcQmdplShQABjlSqKgAQHRsAABokj8JgE4AaEYAONYBQB66BPEGEjsDAUwgixtVIqwAzVcyN/gSUEUA/uoG8g/PtbOj6jwjzErENcXYN2J/ONf2Y8eo88xz7sYbcU3R7QYEgBcWtcFEAyQAAAEAhJJsGYEHbjIAygAAkNccAACgAFHeWRABRJqbEYAmNZLiALgEgHIAmrng0s6wEHDduBKfRCJYSWpdVJ/IAL7a5thfnuv3Ia54R5ghUVNsbXPiL8+1e5FXPMMvUTO6NyAA0JhwmMIVSweAEBAgAITiDsCGkA4CEwAHJwZAY+AUAJt5DQBzARy5L9AfADoHAKcGq5AwiYDGNSXMmMe/GX6kEa0Ca1AWWRhaCwu+2ubpX97LdfAhe4bfoqg1xVU3jzcrz8U5+FS9w29RazVFF+iTU9QixNKJAEAiAkBgCeGmojyA3JAmFWQHoggkGXkAVF4BkHoAPiAzAIwDALFWEFOgRL2CLdHxKUTrMqxEC7WQhRUhYAQkRKCgAh77JvVm4bnsO/GD+xlhIq2mGPsm5WbmvjgHL9E74kRqzegGgIhKwiEkJAsjTIQAIBEAACFADEo0qMwkbah2Yi5AGAgAMe1GAG8DvMDOQIBnwRN4TXad0DN932QzAWgU63CFjUgIsCIFEYQBBX4at+lm5h37Xj0q99MsrSmmxi36wzusvTqUfM3SmqILtDE0WcY5EhEBAkgAAECArZKDmAwio4uTTocYaEJLO1gE6BKILRSgzd0cVkuihJIc4Dg1API738cvNUDt0QAaAGijDyIGRJKFCD4LV9xvAehy7o5P+/0M9Uq1VlNchQdyMwsAL+du+rTfb1dqtJqiGwFAXWLdvJgjEREgIgIA5AFbtmEmGOLY4mZm841vNjvKT9A2mxcAMQNdBwgE44SsIpO7Y//svlUIMb/CXXmA1TNANqlCNof6BgAncnsgIQggqEA1RD66toi/3Nu+G/VDmO+aCz8y25pi6ppDm3Nv2tHyJ56hHxBIX1N0QSuxLlc5Ek0pAQBAiCCIJ5spBGLU7SMim53NnJQLNC8yCrhK2D0B/2AbDWPl6m0ZjxXZJFECLw8eG8oj+2p98jFN7hoAkDiwBwgMBBFEff8jxcXCOphpUkkAHvuG7Df/2HbiL/W8w++Tb7Y1xdg3ZL/5xjjkX/J5h/+ApJrnmsENgHoBeLDAED6HIEJACBIAAAEYJkUAwBHZAADIEVWmnJATzSwAKgBki4APjOxHqIIchMJwV2bNghswZHqT22xfyhIAGridsWCAVKAEFhc+2g7IzcrJaydf0v3W20fmuaZY2rbJP5yhH/Ilnbe7wiOzrim6Aciol8AtNkFWOYOKSISUAACADH3ENA4AsAqqAgCAaCxUmlQNmCG+Ribo/iUtRvSXlAyggc0o7e4naqfp1WVHpuQMtXoWAACHRhSYJCoBuEYQkKGYBAbe2ibwHwFwo7vR/877Heq9PqejmuKrm6CbRQDMYu/ukec7du/SOJ1rii7YNg7hrGaKUSJETAAAqDEKC7K05AAIkTNx3qmLUwNf7CwEs+zxE8cAkAkA/4RuAXDE7VobJY4HQji2kARkK1MCAPS+V+FLidrglElioDEAL64FnRAgKVDAEBICFL4KV9lmFoBMne4azL+3CzgKx5pxVa7SXwLA1PeeaoanuA6X1oxuAFApwSGcFZYTQERAgAgAACKAgroCINjSWTCLhVMuzhLVbhsGABYA8CZhGwA6B5OAfgfPYJv3yCDqRGDCFezIv4sLZ+oGAAq0MBgYUGBF/ion/S/+oe+dMdjPp1KOUFOMlRN+MwmAQz8Vo+OtRE3RDQBFFbjDgnAJc0NFAIkIARIAoIOw5TQaAQBURA0AGsPxwyRnSpLZSSBlBcCtABUAmwL7gvfqm1LuJAASlh8IdRhgUwC2IAECNE5Cgi+ChYTAUOACHjvn4mYSAC/m7nS/Oc/nmVywLa0pzs7J8iMAvFinuwPHu+7UUFN0AyDzVIJ1w0rYREgAAIAAAAAAuMxuDARJGjnj8yKmZpeebAYid0cNgBLqwggALbgnN0d2nV0GAhysAk+CpDSGXdYqT33kFspgQA4RVL7a5uRm5bm+7+QH4Rlqy2vyaoqtblL+4b227+SHmJ7ht6Umt6boBkBkHVg3mVolJAAQUALAYBs0BRkcTDYqQU2OoDHFyQHcE8YiAKzhv7TQhb5QBAFqDGmV38pXL+hfGgBKcnCXTg2zO0rUpToc3QxICC4FFL7K5ulf7uvPIWfJO9StVlNsdfN4s/Bce3ZUqbzDP1TTt6boglZiEWKSL4kEERAgAgAAgGiKCYOjksFRJK2OpgTM8wIA48IAQF9AwNeUFroAD4sJ+1v7Ygsu4UCRdkisaMGkhry22WhwJKGQICEKsAA+yraVP7yX3y6U6E5vTbWvprjaVrg/wveSdyFF0zf6p6nOpzVFF7YNB+OKPyUCABAAAJAUVmEsEMAsYqOzxUkQgzlSRLJoyiyATmMKoDly8AuOlaMpByALwRTr3Y+aBQRQxT+4lf7tThc+HCwNjz1xJ623AgSbO1a3QikYIj75ta0/Qk/wJ1yG7eRjz8fHcJD5IyTBn/AwPZ1U7HnoAwMsTFmoPEkChIlSgUVgWWEkjBAiUIjiEYdZWMG4SlNprIdRG2J0TYImHs7nnkJsyZX00XpyoddrURs/KyPcqcd8DIGVRo3jVJORvut0nvUyeeTpjb4892QG/2/AE6ZerBsUnsQJiAw+GeYzX/j4/7RHQ5KWKvZSjCSr+R8hI/xpD8F/rT72VHQaVVadEkBAhEFGmopoyVn2dAs6PWXmADkLGTAsHveVIItloAQkqw1EOP91zUq27obj6byCgcQz8q9EqBh7H9vnQJo0MGSrt9M11qZbIMnkx/XAnRigtBPwqoIIfrnOhJtVeDLerYLk648Q1BRP2Rz/R3jntOsFxV/4b3pBEzdAZDEdgPVl+QkAQAAAAOBayhoCANgc7LF2UcYyOVFI8hYAjc6BEf6HjDXFmoj5+DqQE3tqU2VbFKZjEhr/XJ2Ea3xs79A3Jqv7E9RRkgBGu7s/ETqhAD76Vuzfwt/ITqmKt55LqCmOvpXgt/CDD21RvPXEQ03RDRBRKRKwwP9EAAAAAABgK7qPIQCI7DCCJLk3LwPacSqAYRFAUkjQrQMAfXJE2pSjI7lVf67wEQoCxfDoeFUlcxHWsQiyrPEIWwS+2gbkH+FncNfPX6Jv+O1UcU1xtQ24P8LP8q47n7JvqB2YSk3RDaBeC4Dhks8mQgQIAABI4PwCGwOduCAS84UlYy2dxhZg2MG9orCLJu4JW1dcgfubHXG5RiyYDcq/1iveHIRkrNU+kqx47ckQRkPmBoHpdMdCRy4JXN4YVjOf8Q/WQJ1/LrZfrhUbxXzuE/T5a6DePy2vcs3owoKW/wlHAgCEmYm0BGmCwtASmdG0CWLSxDRp0uSCYi4quuTF2WlyNrcFnU8+1+FU76dDBw3h6FYlnSq7Wx63poaYph3yPl8ko1/UunnjOZ+CIl6gZijPAdn8NYy4HRnqeh81AtryAJ4phvYjfJD9KfnveOXacJNM7TeY92P/Uvw4Xq029MECWhA1V/9TAIAsMgic5qLYITJSIlqYbDwECyhQUI3wSCx6KBVKidXx1d7bls/2dl/NpxnqzymevMq+O4ZjZfmaeeqOFDs5SJlf87QPFedA6UkcscpAwk9g+IU2PqKpIELwWxF+Geb4b/WEqKaPHp7oSFQzbo6B+oXb75fLL7f/Sahnow8SaCeksGvO/ogAgDKAHUmmtIheWIGRaC1eNQVyLRP5NuUvcJRsG2CU0SZz9qLhhOVlTz/sVmF3X65Erif+XMqTDKutTEQWqKFRvrn88mqh5Pc9ZBXBa4LR1U4i2T4ShjAV9R8FRAn0qQke6eWV18hupP3Cj+gGtR4eK8Gk8l7ZjrRfgj/RC1pt6MWAoWLV5ZMgEQAggDRDYWHMcRkNtjNJJ1+IgTTNoGLoOvuMFZ7IACcAaB5WO7wZapxSqv7oTcZrWIwmMuL1t0sloBm7B++d1JJCQ1NoZdt2FXRO5fOEG72MIdUq43+I1BQYBGJ6bugS+sgAT2dnUwAAwAIBAAAAAADILQAAAwAAAInPQYsfh42JgoaHgIKJhIONiYaMh4qGiYaDiYKJi4WKhIqHhp7oHVC/FSBRfjWgDLdaj8XGb079Cj/Rfgn+y1hrtUMXdmHmK/5TIgCALQfYTc1O85jpnBg364QI0/m7sDBLZ0uDDG2w6Ugj63uvjB/vAiRDrYigQ1rxofdzvqkbEcK1eZ6/8CkMQD40VJLS3q5OhOH4pYuQVHEQnVrEvCyFrBUrNouIlFNtAJ45DsifzT7YOrCHh25S5Zpi43jA+om9sQb2oMZVrRldB9ZgmJX6L0hIAIAgQRCE8SARcZKQlm8MT4oM1XR8sxESdhlMFdRa6/6tMHa7918NHlaPZ7uh/kbqyh95/ZPUaDYBEfhGc0iC2aSi8GMD41TlVeqzgmLnriVoENQVb2qXIJDy1T0RtMdPIFidAV56JpTNzJLztZ5PyZ+HUcu14uiZVDczU/bXcj4l/zyMSq4pOg2znP8LIgEAWiGJbL6cKY4g0shmTHEeA0mzhBgXFiIF+zHBN4J9Dnd8zaWqqZnR3l5PRmqKDbkTJfJlCMOnnwYM12AbRB/c5XRkjAJXDoS7GuJtkHVXvJnqjUGYYjow0HgkAbUCPromyM1K27TTfkfBF7WmWMpGxGalb9refkfBG7mm6AZQ1AEswlkmLM0mIgIAgCUnRRUwRBsZFoaRZuQfVYxZHAeATgWIScEDbQIKyi2DbTxN1BM29OrVQ+915/rdBvkNAHhopl+ihFm8gwJN0VU/nxm7xVqOh7MPHxH0HcF7o9C0AL7KBuAPX8y9y78rubzDPy/F4WqKrW0ANwtfrL3935VcvhGe10Vja4outg1KsVUZIRCREgDA4KQ0Eo8rDEWECAsZqZgnU3MbVSoq1uykWCCsk52tBEgovzgGf2sgepYRY7jZry0N92pDqBKg+WKpwzzVpAe2JFUno4KwIvYPBkQGIoxaE4gA/rkOwWal17d3/YLi7QHpz0FriqHrAGxWenzH8v1NiV/9CeXPsjVFFz2wLrOFFSQoRKQBAFSKxRJpFgI4jEsjm9FodPJskeamxoKmwwbSu7AZSz5feB6nM2qcnav8udG7cXkgbhXuClrh4FgsfXW5dSpBZYBymTxZMCECmwKgMKhA3uATcHEB/pkeBJvN6v9u2YvUveffOZOvphiqHqCbTat/1+9F6t5+t5n0aoouAwhfMslKSog4AAB5KWJlhUHQ3FwaKtEsg+k8Z/IocXW+AXMAaYpgnt19Ucu2w/a0XrDvI7Mh+ggQU2yZBynhuSyCL0mK5+BJ9AlAQjCFhAIErFDcwuqKfAA+ms7hf2Cdb2c+TM/QfdLUFEPVebw557y7fr5sT33a1BRds5CM4oYJ/hgTAMBJayXGhONVlohZCo7NYm1jmavNoOhoyChgfRxqwOoAcUBHUwPQcG6fqpoqgM6NfpsBC4bbEGDqj4NKI0bIY7f1C0aMsAsiBiURwLJzqaBNYefKOW8BvknegPgr4ID66MdD82dVUFPsLA8n/go4oD76+TJ8rVIz+mDQSrQxRZtYXQJCTACAcibnq7yUHAC0lJTKtmkkWlxZMc5TDWksWw3vXfMDrmLVD0fPhhp9EBopmZqfkIK4S+INAGdx3fLFkCPYrXP7fvJr9U5HKOFRcbInBHDzWBpPyOiNmM/F2AJ+SR5GbBahd/msexHCj1NaUCtuloeIzSKMqZ/rLFL4c6apGV1t9DBkJb6UQBCARAgUV2AgKVGpAiURTdNOpwMmqtlhNjANNJC/pdP3gH3ediTpnM7pNe3K3fr1G5PojUDVWCt9pox7HU7hrlVvjKPcFQro0p3/0PJGBPgGE+h0OfYosABeGR7gfqtYAvVzJf8LOnh1teGlOM9tZqEf+a3jQf5z2Gq1Qy8kayg6X54EiRIBUJYVinwfGUKeTuQYnx3IMBlGEoLBsG1fFD57VgWVAFDn/SWsuY0OObUOHxzGLRAVYNwSVQ3aIHHxTz30L/+tX0is/Oot6k4RMSr4AtEK3ATiCridAB4JHuB/qWiC1nEJ/jmsyrXhZDiv/FLtjK5xCf45vKq1odMUXr18IpgAAIMLkVTu+CWDNGfZGemUScSA+ZeMMsfahqTDtjHJmDRyOz+0AhaMc4pi+eUaO3UTSIpFpBrHm6iZe24HWvLar4n1XFfnW7cWa9KpFpUVF3y9IVRRzC8tuAHxCgSOqUIA+CLcDN74zXFfagyRZXYNaFFrw8hwhvxWA5FlrA1oVmtDL4Ydo1D58SSYAAAzAQGVi4VwGmnJWJKT5jaGEyfFojQjdKypsbI1xKoCAuB+Fkb6hg7LbejbSr3z6LiMXpikz9l5qSl+NFOZuG9KnIeMNami5h3zTHulwLkbym+Qy/9CC4RFIK97Cli5ixAAHukN0VuNRba0RfK11dlNjPRm0FutJbG2RfHPqlY79GJZhqLlLMORKAIAhANwglqNsPVco9l5TOdNXWXzckZC2k4l2aItfmRiJWFAZMct5PX8R6x+dC0jWjGa6xNTiM3+XansM76uWi1tixhZZdDMbID9hJoC2e8ZBrHho8Wio5uxcuCpQBv++M1x32qUyVJWxz9bao+P4Bz/pUYwWcvl+KfVUht6gWAULZfjmJAQgACnSKUhBMkXRU0szphFXu5YTiZtlEPMh0ggUybgFTSSABDjqYkx2t3cmr6E35WZkiQ2+2eTRg3pNTWnxz9/0Ss3VzhOu8JkNBJNSr2SRpgSotVuuR1ufBajCPIFywoYiO9dAP4IzijfTfvJul+aP0+qtcPIcMh/N+2Hrv3Rxj0p14xeMChh//QJABARUOVQkEvGDasZnShnlk4c5otoI6RYcDQFLqbgb2JaHsBxcwxu2cCovM5jhxT8zNTfLBtfev1LrTXNc8vb8WG4PVF6UdXWClvFGCGVvHvMhJVBcTOyRHQkgiVeJD+/H97oDflX679Yz4fjz7649vjoDdRXEz9bz0cP2hfXDr1gMGTl7DM2AQAqmzQwjhbiICzPlmqak0SaHXDRQpj3sEfMqdbQ60uy2teU9P/qKzeOST2udG2PDSX/p6uYYfxyylg9QUm7oExhDDVdmB5JTFW7TjKuJOMGrhREBkxxaF7wkZsSRqxylfJBEz7p5cGzMTfr06fp6zyidljp5dBj4mHKp+nrPKJ26AWBWeZZ+owIAFCBVUYiWXcVZoMZiVnMl8nLbbYRNE2TuRpt700tJVntA62/2VdQH6zDd60DalsKTWPXIUu67utYp2uzjcR+lbudd/ydy3WAzqVKzqIbi/ubENiVu0gld1HqWYUv6QIsPunlyFvEEdqn6Ylce6z0kuQt4gjt0/RErT16QWDIV/9TAECFTGCHTSmoDiJJ5k0zxokB01TTDBnHqrkJieyji3g4T1NwiqkHrOaNNb9ie/0bitUTpCx4PkoNc9lwP/Itpf0H9bPW3f2Oxdl1sBXjztBWNvBh8Vzu8EjFciO16wbGb3hyfSIwggz+6CXJM+YobXH8KJJrh5NegtjGHKUtjq+SXDv0gsC6XPF/RgAAEJgoFVLa7EiTnYZFi/JyMpMkJ19KKleqaURTJKHsmqebpw3JzDrf7HGDbOuOZy9dc3A2pTjVYKSPeIAKmY/smeTxA/FOFiuqGlZzV1/aMAxWvDQ4owY9yvALWCMeYYPnB37o5dU9frQamP6gdpjoJdQ1OpXxO75Qe/QGhjXPs38CAIAkyGMiJBfkQweR5kTTam5mvowmwpzSDB33RYcTvq4mubUy7/vh3vzn9RyTvq3r2I1Rso9hthNeWvkWHlScHxs8WnR52LiG9m1qUwhHcSWMEYO6zeyGwyVZqPcTPzifNyUAvujlySNpV+ZlekPtsNHLEUfSrszL9IXa0AsDwzP26QYAABCzMmScTJSoneuizC7kk3SANCpNBgsDgyEdE0PR29Xe48P89Fj5G95Nykgdm3GF3JxQytx1vyzrZXGtsePbENMft9ka9xqm73MrZmNU3lh7pTe5EGo+gNEat1Mdd44f6mocQZAJAAD+6CXIfbEr85fmGRa1w0cvQe6LXZm/NM+wqA2dls9OGUkCAIDErGmTNl80Y6AGkiZNc2REkuSXIaLjLGOGARmCzqASHOfdbsM85N7vDeunfzyYSfl0/8FObhh+YdwkPkMw78q0pWRqzuhG/G4pQoiSJFsvDakI1jVsPg2qniS4hL8AfuhVyCPsSvhN84Ta46FXIc+wK+E3zQ21R6f5Qv9SEAAABgiJyLYDZuRmSjSbTfLLzYlIB5RtEqk5bSeq2fo3fYrU6sfU0CcEYW/D34f0N/7lWWIcWlQFuxmf7AWZ9Ni5exsOHl9rfEwPMWXH9HBLOvdi+NAc5veXkhTuL286pXm5EZJJghIEMwB+6OXBkdQVn4Y/qKfhoZcHR1JXfBr+oB4PnTLLRNk/AQBARpPMbBpNMtPMpnlJ0jSbO0Be5A0oT0aGd08Ub/vN/7N51FO607nD0ZjLl3/h6k1hooT4Cdh9lqQB4uTFylG2zbnVh/A1DeE2z51HvPHFikJde24MI5X2y9U42SxllYItQ4zsUA+g5ikBPuhViCO2K+2X6R/U4+GgVyGO2Km0X0b9Qu3RlRAYlv+PAACQkHAiVBWDaCjlRuRGI7KNbJJN0ywamdsaQ03yyog+p5N13L/JN666LYXmke7b9CIzpmtvfgs3eLwgfE0Ny1vl/wMdj0E6LoHMosRFKJNwg+WcQhVzzkbw6AuXko74RyagAD7o5dGSbCl+4Z9k7CYOenmwJDuKX/gHtUdfAEICU8n/RwIAkCMCAYEtItEgGpdTioJ4QRGIcJq3ZOtczZzgU1KYAqvebNz5Gg8RhJCao5VKSrfsRuiYZl+M/TT1ZXtnujc/2dStqd2u6283bPnNy2Br2amsOJfs8qIpxN0KlLT6qyyvMV2MbVBhAf7oBeT6sJT5qfiD2mOkF6LlzlTGL/yD2qNTSOhKPRspEYjKyIBkwI6fEEl2IOkoIidvitmcaBvOu3CL8StDo5WM1ONLrY+3K5RkEku9g7XJS3EyALKK3ebpfySARBqTtukdm6bVffG5UqWuYCuyAm+MVQGK+OuIMSJDJiPOowQ3sCC4AL7oheq62yb4TfIPtTZc9AJ13WwXIf7S/AhE7dCNAFIFsOR59TOMRKCCo2WCcDS5iCSNqc1LkoyJ1XYzSkS1EgBxlNGaFC/ffW5EeUgI7Mm9CylsTX8PfyQJLn+ixb0PiyqHPzkCna6Xt3O8t5RJzJ2ppEaLqCZ8yg0Sj0vk2DDhyVHAykNFMiD4AJ7otZTbmd1CenWSwyr1XEz0Wsplzx4lvUz/HFapHbpgYSjn/B+CiABQoKgIHDMOQbk0Fs2TJctIm5GTdNTMiVLtljZTL2Hv+OU1h++7Mp7LvSHV0PsRjC/ntacThpFoDtfnpNho2ZnNe+37LLSH8WaJdzuKQKLUmCLj6M7ojsRRNkKXsFBxAf4Itoj7ffyY0Bt+5FrEdgsfwSpxv48vEXrTV64Vuw2dNrjKhI4nEiQAIpUmSW4S4/Nym7+LsjLTNrIx0CQfAirJnwQa6v+9usH0FABN4JHVjheohoUQ5U8LhTjlQjwERI//dnOKkx3vmLX20K4s2SG/3ibti1TKPCLgR/P2IKRJCwRU/8QAT2dnUwAAwIIBAAAAAADILQAABAAAAGXpld4gko9+gYJ/gIWEioKGhoN+gYF9foODhYSCgIeFgYh/hH9+SbbZW+8cErK3t7621B4vyTb+eLKfjFS93fqysZvoAouRzUv5HwBQAIECYQeN0DjR7EJPFaceP+rgxHHbKaULmhKgWBMhLyKvScAIxm2eOjBG6w2PTywjQTw0EJfT2b35X35NX50La0XltU6zyExPLbdV4/Z3RVLHuQvP6pRkjuq+BvPNMoTxbOKzdwV1RShdCb5JDs1mElAo+Nf0nv0/5z61YmY5o38Jf+Vf0Xv2X+cqtUM3iECGUE9pwnI+TdMAAKJNiCGSOgaHEGnzZfMy0ukkJKKBeSmpfPF209cOUBMAFCQdq+lldvszPx3Vl1MPOL3cGBFRkrFet99thTYPbgfzUVMm1fRutNsT0lHh7rbP4BMsK5/jlyrJWgto5+wAXhm24cfJS7bF7e1BALl2eBkO8PfFh7be01uuhNqhC0gSnlWfIAgJAQjIRWs5VJCFSVjTTeQEjdxsEgO2V0zf0mtvYMoBYJgL4IMs05PQzLSju0oaS5aO51ihl2oFIeSUFHUe553WOZmtmvSxsj7U1MrRBCPDfQFgvwyQv6AA/ugN8GtcvAKmrzNYWjt89Ab4OS4eAduPU7Bce3Qawuw/QRBGAgMIxnJCkpsmSZPmJDKTzDSNEANpo1HI4lg0z7VXU7pEZVLgrot/NmbxcJhcn21uchuFfDz2pmuvtl8F+XYayRcbfdm5ldj9mgoWCWFEv1NgF9AZgK8gQujThsgO3ugdYJ/n+Auyp69JWjts9A6wz3P8BdnTj0muPToNYcbZnyCICACQqRmLIjeyeUkiK98om6TZzGxGRGbk5A4QFSONzELQ/cSp0lJFFgEufA13OiAmoIo66a/IdSeHkV/5UsW48ZGuMg5NZzcW4d5rv5gXfRXP+KncSJQ3B+AX8cGVCv7ozbIPrQ0KHh2RZml9h4/eLHtrbVDw6OZm6hs6TfZPjBCJCIDcRtLmIyMnTSIjyUmS/DnRJJqZjWy+Dg3VITqNhUb8hHRK1u3Ea+aqjY+J9+3eeo77hf4h5bnh98mjm3KmK+vdZq7ZypUr5X2iuoxrifKkjhfawMeCaYF2zQPe6M2bD23XoTA7//yDeh8bvXnzuV3/hdn1H0Lt0Wmyq/ADxAABmCAy5EvyommaNJ3OZiaNHEkHmi9NmpEOZEYgi6J1IPp8b9gJjrfm6ye8ntq7wVW6T53XcxhDPfy2O6RcTc17o9EA2AhoumF9jEry5P1AJLhZ7MtRMQLa8J4bAF4ptuL7fvURZe0uJUMn10+xUmzF9/3qJcraXUqGTq2fotMi/3KKCQCADM0x0MycfGnOdGaGNGTmZuRLMyLJyMmZkxozpcEwFEBgtuAV+BvYRVdM+dn66TS999PrWCex9UwhNYvSbKi2Sw1tuqaGcSDZVT4Ww3aH6FLzWInKgIhPuHngcASeSbbK1/vaD7H2JMrQyfUzZpKt9PW+9kEsfRaXoZPWp+h0CC9l9YkmAiCaJpmykZF/mK9jC5pJw1JpMuAibd4yKJUWZnMLAH0CdhcCAJphlFrzuu9kx8JNJQk1E/rauf2UKNDwgNlVSl8JuxvWJJBYf13CqqYxSRECEtqEBL8MsPsEEgAeeibc5z97IF5G+h9qLkGtvzH0TLgv/uz+8OpIDDWXoNZf0WndCisbPhFRIgCEzNx0MDMjM82InMjMaDJAJNHIZkMlA2RAJKREpEVJQCYAIMlLCxAcLfUDlihU0gkP8W3MDaVf/o2ASUDQf9Q0XRS3ZtTzgE9x0+2kvZYVNrhZiIO2Kysg+h1UaQK+aVbct+4bCPEQ/MkBrd7hplnxm4l7+314NKAc0GpGp3Urz58EgWAiAhHSSc2IjGyMT6KdGDEaiimaMHBK2rxkQkjTUkWWgNgUAHQSANSARmhMHJVt9fU91/c6vfpsy3hQAbtrY1jdKhbnAZlSailXOd5wvbgbCGBLogB5VtQSMAVEnklW05fOa4jERfEV66G+w80yn77FCwBCLC1cz4epKTodFib/gkSUIpiqWUlGF43Lq8yQkeRLk7w8aTaiTUWar7KiATAFAEi2AgDLcQOAih43wCg6CAgr+GN+3uTdoXLs/j7coNZyl1U+uxTW5lqRlKNCuquuGOgCuAGfNQXcaEUyjqwAMgCeWVbML8ED+P/kh1D/KSzXjJtm3nwLeAeAP/FDiD/IdRo63SYAI1v0lASBwQCAIM2QDAhASZsT8qfRHK0YMC8NMpvNy4yIqNcEwDwEEMguA4cRkF648wNY64ux5VjTtXwqGFN6hOgl9Ys0zt1FUUv8xFoL7zOFn3GUl24EXYBNBAArgeYvAt5Z5s03++X3k6/eGNRpzqgZP82c+2G/en7i4vYvuLMMy3U1WmUBDodcThMBGgAQUUioMBINFAYy6bC4H0aLC4tME5E/I0NSABi3AgBhBwAApgCgYD2F8rG9PmqZzpTD8dYJ2G83OpnrD3+s6iJ/KilZbkgVVJ8/dJBeE8vNgl0GQkcRnlm29Ldwvw5/8qM7Ufji+hc3zar50uc6hNSrJ1FouT6j02FYzfBEQHAAwDTZdIwJeTnZ7FhGZkbzi3xpvpBmNjRY9tKzAACZ5wKAzAKAnMBtCASIBS6rmx+3ChrEm5kPp2bDCzL4dNA9U1CHDcVawIrH6skWN7qmYAf2Ie8DXkm2zc9z/Yd0Hz2JtuK6jZXkwGwmwQPw/9QPd/hnK6636HQbAYTyp4mIEgAASyWEIBBAEhFjU5eOSLNpqqED5s/GwHnDikQEO0lgpyUaXWDcR72lsVFEmgDg09JPSq6dMnU6ux4I/txxh+5Q59QYmgGyC2t/2ogCbshqDPcZVm0CXknOuB9dVwhZPirSqlp/4yU59D+6riBk+aggq6mi/opOh1lmpwSCBADImEcyPmJhWUtUmmQszswxLmeezciXbSKByMuXEYIWoFksAIispiHgRbT7pIi9TyBdq6c5UmiV9GKUZzkXNVdobh/4VP7Mf1g4HtJWlnIN2qjQsbKPm6ENvnkO9G/u7HuqAvlPlKLVpxiKVv1m5s6etyoI+V+oUUqc1k/RaSil+hkBBAwAAGbissjIMZ83nZqbTE2bzRdK3gDabDvSLi4mUBf2TQVcBYLbpHawpkHQxB+s4uMVYVODuWGaIOOXsXJWEp+Zal2sy+cIojCesBrDKLhwzwY+irb9L+Ea6ZPTLyn+5TED6jOOpu24mYVzxJf0S/IXti0krVvRaX1hyyOBIAEARPONmlJt7HCKY7PZ4A4kTcRJIU2FwWGNnyCMmhS8iuDtyFubQ/hkqCxqCaAKQDHidb9YR5WjD/niGNS8U0nJt9wOeLgcKz8dyZOB+6RAwiq+Kc7SX9oNQfJL8q9JHwxaHYqZ4hzczNokQuKriZbDQKuDoqsFhnWIcjUOJCYAgKOOyQ5ciiItMQ/W4llF2mhCjiQNlZGbIjQarncbN1jb6jNlFmCiat/8cDjph/O58yM2LEx9sAiHiX+HY7xJTsjg7ms0CHQU3AwKXQBuE+6PlQMhBx75HUZsZm2S0DIpvujsJk6CB8lf2gWiZayKP/S1oUtrgFFdzoYAQSQAoknKYvlSOVDDIV7MYEZEbmhGKMM42Zp10mWNxKag0XjgJjFkg/dh8067pHLPmU+qZaV6HyHZjiaUaz/kt5YvrLD2uwyDlYmYAdvforHIBNxBYzBFwFFEBncqfjke4n7pUwatd23Lkk5XU7wkD+N+CZ9mv+XORv0nXTquGV02gKH41SMxEAkAGmF/YRlVRAmCeJCIyJTmyyYSoQtIotKOpe2kJQCNfQ5JIqBlH3Xdx9cXrb3rUk+OfHjl+WbjihmHagA8jdQ1dYNwY0VMQoS2fFR1YoKVh58msC/gPTJEDJ45zii/9C0IrWdtQ2ci14yZ5KzyS/gW/F1nMfx3puWa0UUAQ/YfSTgIAABSOSmIxqMYOwjCpKmMzLxItKIdtizODR3HIa1xvjzs66tjfpGWY/bVqIc/heb3Bta/o9ysGzaNVlSGujte7Xjoi+cbJqxQagXlfsP60cUywdG/AgCOAI5uHz4pzqqb6eMf1N8vxz90tcPJcU791schWu5HDzfr62p0Q8ioJQATLtXPBIOEANCamAJIEZHEMBt509mUkqSZMsjQDsOQRvg8zt6tmw45SgqooqLkVpOeXggXmEfjGEinRo/M1bq1QYodyvJfNPKhQwTaCzaSgKhLkYA/bTDgP53xBag++Q3Vz7v4kflh+4PasBIcKJ96C4jMzx4yRG1gFZsBhkxm5SeihAjCIBJJJlfswIpI0fDQYRYOkyGDGA4LTMZAqE+giqZH0SCEKNenw0G7TDk8QfpMLIhXKhn4+IcHo77GZrZtfSGapfyNwP8F70jcqIYV+669WnAZJAL2hUQbCz7pHSA2rU7DzL14+meidjjpHSB+dBrInMXTbVLtJrpsD0xecv2JgCBRBChIxBVDNEJwaYY0r2lmNJUmIR0XOzcNzZh0bP1qVK3cYpAOJvO0qj6nN8rvmSr1pwu1BTjEYs0JAuC5ca6pfi/+US5P4tu0ISHieAkalCaikj3qwhOg4sMNsm4LR97oDYjnaR8h/Kb4GlEbNnoD4nmmRwi/Kb4mao8uAcOQPS8xCQLBhABA6EgjVCQpIBaHjIhRM0bIbUZzkgzmMWps0jYzphlDzmdb1LzWaaF77sjfMQ/qTLrW9OnrxfTd+zWn3PioRZCKXCO79qei6+RrEUV1q32X2KZG47oD+C8iGCuC2wF+6LXAJZuj+ND86AOmdnjotcA2m13xYfinD4zaodOQnX0SBIIJAJCbRvNIo4k0I2k6kIwBB6wkI40kzUl0XpgyDm3MqlmKcLVekjH+bNOQqQ37yt7372u7jt9i6qyn/KYXm4okrm4ZRr3xiZhqP6yYa+IagYEnonTzLxO4JxC5+AD+6OXR5Z49SngUqqN2+Ojlics73Up6SP7UUTt0sdqB4Tn7REhEAAAUDyIJ01xiiRECMSiR04FlJ+VGmmYtLoTVMAyGpFW8ht4adcru/hm1dqs50ej8Pv7WWqnzMtJgAhPlM3Ue2/lIUf/vtyipPeoqorDeHs/e0VL/DXoNg0wFailRC0aOgRUAvugNlNsjX8VvvbmZ2nDRGyi3R36K33qkmVrRBbNYl2cfCYkRACAkTCRiRBJJYUA8TkZEkiOy+SSRplkDZJpQEWkDEf+WbRXIUEe55VgfRo3d9tfyC1rJoaikyciGrhJN5/aJ0tlWPm6HOKyQGF1CEKG1YhCNiSlVR/hEBuAGOR7ozVrX5I+SHt0KasNGr8pd9/xR0qPbhJrRW2NgKBf6URAKIAAA3FRTaivNigmKCYI0Q5KT5Iull+QtK82ZXrTAMCeRpKmyr93uvlj6ye5W/lf+blOZks1/bR6p2WF5NPrRh3bK/k3O4ynZZrZF3LUHq1ZKKVdgx31rIaiJJyEvCwBQAD7ozZPPbH7B2tnTRB2Gg948+czmF6ydHc3UoegiLWzPnpAQAgAAQBiaICQkEVhxYrmRZMqQNJuTiJzmbySNNo0ISaW4xj9H4/XbW/bVj/Q633OunsffLLd7bnDvv2oyuYidE9Hsn+WLLDKjGxeEv6cmqig/7h8h5o10XZ0AewtPZ2dTAADA/QEAAAAAAMgtAAAFAAAAsylIHiSAg4qGfoOAh4SDhYaJHh8gHiEgmomDjYiAg4iGhoWGgoeNgYI++Q3o+0ovUX/5+gd1GE5+A/q+0kvUX77+QR2GTptQ9kIjIRQAQBAESWbzsmIgDRlpRkaSJ2SbZEkjHSDSSKVERBN9Busb2HbfXo5uMEYKan5ii4Rj5vCJX/PCCFavt1PItsIYA3cSQ/BsPtoJY97QXzK2RaDtSHUDCQBqLuwdAP74tcH9zF8h/nL8g9rw8WuD+5m/Qvzl+Ae1odO6nJ2NCQIBACCjZEgz8kVOkpHmJDnZbDY3f7Y5mSInIzfNS1LNpkQb6hXHSn8ye6NOv+2efQ4jdbQNIeS2TEqYr0S+zKNttrmC5pSu+hFM7kQNCi7jG900F4JdegbaKsXNYgcq7Act/ui18G3Pb9V8OP4h1w4fvRa+7fmtmg/HP+TaoQsshpdPJwgEAICkMBKBwGGYCAKIZoRm5JdkM5tkcyIn47C4OHRqooOI7r/rnxnZU7fe07EXo1+7UUM5dfy4I6iv6N77idR2mrwN7UFuv71r1dwKlzAa5VJzt9Kp/+OZpdY6HiC6EZ/C3X+AX1IAvui1iMs+fkr+1a1DXRQXvRZx2cdPyb+6daiLotOwzP4JEQAActNoZpqEzNxKVeTll+bISEWSprlZWBiBIWMiQhlOIRPCnxvk89s20q1dfnX1vwYvww1prN0tEeXfeX77ebijpfda4u6R1lONam/Vb48rs6IHByLD73MlFnk4VnYdd4jHkwDe6LXJ2549avjVp4JasdFrk7c9e9Twq08FtaJT6P9MIgAAgMy0WUmSk5WbysjNaYY0p5Wv+fOSvLSTc7+eDvetI7VG+dJOk9uxr/HKfPx58CmoYfWO5s0/0rJHUGMtOcqXww3Wm3M+GC05dKd7OZeY5QZCwHIj8NoD5tVXAAve6FXw9b7ZBb86JdTjsNGr4Ot9swt+dUqox6ELVrJJNps9gQAAoHioWBAjiCUCxxXPTORENC83N7M50ZRUPtlsSSSRtGPZxdavM69D474831robk9kTRTlHnsnO2UO6rBSQjRFFGpqd/2yqSZi2/z3AHpHxYiyWq7qNWAR4AZuOA4YAP7oVfVtv3wVnx3KKrXio1fVt/3yVXx2KKvUik7Dlx8PAQAAmWlks7JJMyIvM9IkmgwkMdD8eSIjI202MYw1zTGAKIMeDpiS4mjPQ037OtbPy3BHbfaTJVNCyzqn+9yM2iPcrLwizkaoCSlmdBmHvD0SG7uB1jHaDHZcApDPAF0AHulV6e263BUP3/LFoXYY6VXp7brcFQ/f8sWhdug0FPqMPWCIAICMkHbAvOYg0szmJRmRysyfRgx0wKSmeZyHjlMlTew7Y2CNJ3Sfe8u0q6xV+/WL6tHrupXxGs7jVh73EQ/wpJYQlbeL4yZL04knjKqU0yFba2FtqujzjBU51Woi+48ACUwAnui1ues1PKp52P7LNNQOE702d72GRzUP23+ZhtqhCxLy7I80EiAnxQ0KSEQiTopGMkOSNqO5kozQ9HX9Hrf4yoGiuWH4+9H6xOnjc5TyO1hmKaOq62ZF5y86TgX3cMev6STxXvOzXCCmMU7AqHQXZjeQwoBPVlJFZGgU3HMA9wP68lAAHulV8ePcPIKH7Qm1w0ivih/n5hE8bE+oHbogYfhyeRSURATIoSAaJiAej0ViTrIRaZpkB8jKpZ2rkdE4agcPX29mKp0y/54Sn1H+lvvp5qSYcg7uUlr6YW9pk+cd0/fB7uCK/VU+X/PxgCTnkFdXbiVukZIbFLhZiKCEJ4AAgidy0Ab+6A3x68w+wctxKySuPT56Q/w6s0/wctwKiWuPTuvLl0eKFIDMiIw0MyInJ81Lc5OSmyTZJDtg5CbZzLy8iLxmVWgoV8eILo1sWX+m4sCx6/MobFfi1kzBrY+wtfsjzh6a5/VfyjguK0VOMNIXJMU4prKiJoPp4lrgJomIU+yHlYeLBG4AXugNyWsuH8XL9ge1x0JvSF5z+Spepj+oPTqty5KXTB5JiAgAkNk0I5WXjWak0nyZsvnypdmMzEaSZiYZqeYmUWmqQd0jWjjx6CqvFJp7UnPsblFLRLbHZW5zisuwA4nrjmV6o0w3NEQjtsrI1Z4Y6P1XURKtyLAPV4Gba3EjvnIKsA8AES1W6bX14zu8io9uQqs9Vnpt/fgOr+Kjm6PVHn1sa03gYIN1Wc5OEIgTACAIHYvFwkQQBDgaEATxeDSmhB0LQxFG3oDZjEgzGhkSvHuXblfXZn8pu7NSfXFIpXyGiGz3uLjh97V2DMc1VaZKZsLtKLEZiknOKowaUWiy2lMzAs8BIhZ8OgB5BZ/wFwzf79Y5Q/i7da68A2EwZsUSgTTK7ivJl6qMcSfiAAzfryrM8P2qwsofghCC0VyAUXjKE7ulXUY/GbtVJ0T83u+Yf37wd8z/yO8wBMM4USVF6Tm2vJa47t1bf/UjCwzdp37uofvzQ6tFVgkUBkcx/GUrVaUhpN+xVT1EF/Tg75zZHvy006uSKQ4WkRYnG4C1yhA11H+Gql9/x3u59yT1z57/JvXPnP9Kjwbz5eZLDGSA8NyKFLzrMyk6bk8TGnrm1F8CcP5/oPkfKmqKoWdO/RYoOUHoiArVWldFf4iMLEIps2amkggZgiitm6v/EwBA1kjG7ESJQp1qT1wcagjREWVhgLyMJmmYpUGH6ZFcxdp62GiblKaxW5piuOfb4G38qn1XAEBZ4rUgxdiKh6d7tt21967O7SS38qn9f9PruphOErUiOhlEKApYCb0e2DX8n4rleHeGBH7oHbI+FFAIvzn+LNLa4eJ3wPoMH1N+c3yt5dqh08hW/H8CAJyKaJetGYumiizzfAunmNJCXpKZT8aU0cWUMdFkZLlU5BBWzD6e7c4jR530/mde5TVz538BJqw69avFROCaAE96oq32H3/8QcmXEzZcrDoCty5XLJTAXSVdTI7hg5WBni0uUIcE/ujNcK+Vf4Le0xtqh4/ejPLa8lconacv1B6d2mT5f5YAAJlBOnDSsijyslPJTFMDTqf5zSLNzCzfUDwZqA41EAU22nQ57gpRpiElpe5YoztuReLmcMKs6p9ZxNSeLS9Djbn2cRV31OMvHuSGj49Pc4WqIBdRqw8mwg4fsOMXwICh6AP+6FWI29gewaftC7XHRG/APXOxMz4cX6jLR6fhOVumTwCA7cZicHD8OCwsnqUZmcuslrJoS0zowLF9bppk6GoYDRnmaCt/9Onrk+Khz+NgB9n4d41cqAdvsz+dfoxNEiB2ufNLtBafVINtP3gt/gx7bTxkmDnFCjeNsMpawwjs4l9LNW75YYCPI4hJZAveCM6A1za+RPz09B9qh4/hAHzs407EXz2IXA9FLyCtC5X/BScAQCkqdxkIDcRCSAenTZi4dZbTGDYnbTY3zZGGNqREcRlE38GG86VL3NwgZJYsBUddlHaRG6tVUi4M3Yls8Mhaazp8Tatb87/syn64FGEQPlILlvFY+NleipTglE+hemao7ZsDHgkO4OsaHyZ82v6h1R4rwTZ9X5ubCB+2N5rdQqf1/xdEDACYsTvBiXbRLEk0WXbMYnE0p7mWZCPSzHxCdCpQl0nU2vL5O2vtR/kYx11iTxoTUv91+n4f+dpsj6FOPrXLKhK9DYO8cE2yxzBcQXIDldSGpxqf2LGYxMIA9cya6ANe6bXE87x6BKvbH9QeL72WfG2Xj2B1/FioPTqNcvVPEwBgumlMmKVTMxZZkplMp2ma6LJl85LMzGxOzKJb5hgWo6SZWg6AWsZFLmTOwvFZDwqjQS3FCIAETa3HpUzmo4wrE3tjIZvXmbDiUrkzRcSlNoq5heHGhf8s9QzVDpgMsmM+Bd7oDdD9zD+lfNj+1FF7jPTa8P7kr1I+HP/VUTt0QeQyXPLlJ0wAgLKj8WgsdNyJqAKUJBnrYTaN/JXN12Z0muckRAbN5r9cRrbYhRXi43dtU3DyOz0c9ar3KG4YzqTXmpFZLfFXO5mqtY5S4RxXejPoWVEzHlQt7Xq8F6uAUwzPEFwWC4p1bgEe6bXxbR8exafbD9QeK70qve/Do/j09obaodO8OnuCSIDAdE0c7OLpWaeM6bZZy8qfRNr8jcho801D2ow6D+PQZurk2Nv9SsNwrre+zK4y+ZadrM4tnghEjtKel/1/vJipG9druqIlZEprlg2sLSI/ZBOJPf/dWkKpC7ogx/WJ7AtQsTBwI97oteB9H28hfrh9wW7io1fF9328hfjh+ELt0Gkoy5L/BEGEBKZ2vqWzzDYj2so/NTu+OUmSRN4UspUyDmWRDrOQwi02hUczepPXfCtsINmzxXVYoau1NHYcUdQCTiPO7/tfYxBTi9kxOWjY+rF1mqjEm55WnPY8DkisYlDtYAo4Fa0AiVcAnujNoMdpH8Fvth+oPS56Q/A87SP4zfYPao9O81UhNiVMSCAjSUakA0ak1cyB0wHlNKe5ibzIp5kLw+LQocZoMuTf/Yz1+5SXsVdNxGbtBceneGMMa3eXkV8CfqV/JpX7CDH9MqVg+6JoK8JBI16vrEg1K1+gsLhTWFmCZaAPkaUa4CtfAf7oDdjz3D5CeHUrCzVjpDdgj2vzKuHVaVmoKbogMsc6+09ChAkAEJAUhJiWMCAWKGlqmjQvsvk6XFgUsyRyM4VIBRoNe7teHZvC9ORbmcItQlkrHayJ8vv6XqzXGurWcDit1c6WlR/mbmmsnG/n+K7dbVlW/EB0u4M+ugCvAG6A/5GAZZcBHum16PPcPIxP03+oFSO9Fn3um4fxafoPtaHT8JV6CiAAAQAyImJs0VJEpE1y0qWaRENmSJsvfzYfQ+ZJoZrXg7DR7XdvvjsrdU1Vm00hPEIJn/VoWs8X+8dSyVHMQljDOLf/6LUfaazfSDMvxXanF0ZIQ7DvvKF0h1BYeasAvgG/CP7oVcX9ungFD9Mb6jp89Krifl28gofpDXUeupIV0nA5KydCKEAAQYIwajuhRDyQRUbIyGZmSPNHktWMeaAZh6gRv9rG6vE42Pk1b+raY03H5zXp3muD/exC5bP++OOYLZM7JRtW2KBkhnxlks34CJZRrLBddhyzMZbc61BUeQgsAOg0BNyAHx7p5eR23/yKD8U/qB1Gejm53Te/4kPxD2qHTiHWLMQ+IQQSACBJZaY5iYjm5mZImiubmeRkZkRORjZfRvb19ul+907xYij0dSz5bEtuzNx8lK/KDAIDWtv4xRXnf11PfuMpa4Sr8DKE0x3dLyarUShx+jaahHLkV5ygPpQU3eFYAnC3g+8rA64p9mHFBB7pDdn92v6Kl9sP1IaR3pDdr+2veLn9QK3oNNn/EaEAACDJiMw0WtnIyTKgvMQAuRl55OYL+bLjNM2lg5l22Laap/tjx94ktGLYuFY6ya9unet0wyg1tY7bVGtrxYYoPELW5LPWCAG1JWS8p2gPJeqwo7IxSLuY/dDG4RswANMUAP7oDfDjHH/Fh+0/otrw0Rvgxzn+ig/bf8S1oVWAYPh/EgQMAAAS8UABgcIgDoqGUyyM86IsDKOhGWNxzhyJtN3sGtvl1PSLn9M+7WRczfjPLLr/5RomUStt8FrXP0J73k2xlBjjnmEbz/l0ZGvTMATV7c+2V/xF6AYFI94JAI0xDQBPZ2dTAADAeQIAAAAAAMgtAAAGAAAAAOTjFB99iI6DiISDi5aQlIuAe356goh5homHi4iBiI6GhYuIXunl2fUZX8Wjw4SasdLLs9t9vBWPThNqRismm/+CMiACAAzttLC0NkyDcZ5kRoY0crNZ6YADyRkgMiE6ZShTX75+JrvhhY4279Rs6WRWqAdKuuvYDkCYms3f7JIgpbjUNzX4/v5c4yONj41URNZ8O6gBmIES98QqwLUaoh3+6M3ht64RFV2fHGrFSG+OfugcUdD1yaE2dIrKZ78ERADQ1JBkxmp1f9KMSGPxzOKlJElGNp9Gbm7+4i4WXPwS+XOyw8qkqN3QucPtG8roam3AviJY1td8zpqSO/HquPFwIiK+sJnKfXtfnNuOn7jthbvotYa7DdYR7oxEd2ItVgnwgxblBDwAHulVwf0aHiH/pvkHtWGkVwG3c7yF/LvmP9QenVL0qtCJMUwA0LDNTmhmanehGRFpNl+SIdFGmh1wAO4n8lWLOtYnghlViJLc6k6XzJ18Nsh9wrhpMg4vd8n3WJJ6sNeS3P6+XNk2hMkROqp/GtmCcbfTvUko20zDnd3YMC59+EWGLkEC7oBEky5xzIoTAR7pteXjfvEIrr4JaoeRXls+totHcPWJUHt0Gs7mT2MCAEynHcXiY1cuXmw2PRPm8rIdODIHmhs5qdwuZDAzyqBJ8XGixUlDf1LTa2g4FEJM9b59k8i+p03lamRmkI9r4DVmIJjqXVxMPHNhqJPPZxcqimhyXBIcMxiRAj8QCdVxpGBF3ujNgMeWPtU8HP/BbuKjNwSPZT9VPBz/wW6i08jO+FMokAAAmUlsiaOFiMlnFmUsqkS0s6VylpVOmSyRZjsTQ5OxDTsTQZPWdMOhOUJ02juT8kLx90C6Smq1Yi7Fm32TS3tSrCnSAkYZ7DlfaXOeXqLfkJ5WrhAvrVviU0IJiAXIVAW4TxRkAF7ozaJLxlcJnz0cao+H3iy4ZXwUn47/SO0mOg1XkpenCBIAYOnsMM/chGpzI0nyCUvycvLy5c1SOUvHtixs765qbCs71b5LzW9bm5zvL+xkZ6lg5GaBWLjjC6+mUyuMAlkjEFx1dXjiKnTUfDKh9leAaO3+RlfUWROpv+Nm2cutBFS9HP7oDeRjHx7FL0//UGuHj95A3rfhVfzqE5HWhi6wWJfL6kcIAgAAh0o4rgBsHFNGyOlSUxdPlU2xJCOnaW4kTSNNWpS7QqRI/RWvB52D3hCnOq5QJjqjB15eZ2EpivgSRp0cKNk7nS+tJL2JNvxZkVYKBvQxifWnZYfsk0/gG8DeMlkAPum1iNd1fTFqA5dAX4/FSa9FPs9rRxS1QUqgq0ej0yZU/cgkIgEAQJJWujhDx2J85mDsaDAdGxMio7LL5CyzzECXWSYvJ5umLRERG1qnAzek5Hl6TdQWJHWSSOBwD4nzrZh+D3+4u7BSrZIx+e00hIatro+D/wSu20W7Lbg12X8H8ndObcJi8DVXAH45tuxPnQNELKY3cu3xkmzZX+fwIxbTG9luolNIZnX5TwCAJE0yUnIy8zeSZGzJAANtUqnIi/yZOZl5V8dO91dEoSWZzw45fuXtpl+t4Yurc65OkTrPrFNw73OkEjSDI6hljCz2Dkn30+FMjzgtHGOkKYXcNuMTqHsDNIxn3HRXoTJ0/7yG92+26/vmJc66Yd8kgF8eBf74DYn3yD5m+d02ke02fPyGxMfIfmb93VSQ7TZ02qTM/0cCAGQkkRHRjAHbjDTNSxJJozRN8/LS3DTyiWwqQqTFi/F+jXAK6U0j+tujSa1Dpc4a5FpG3zrSwEvMOJY1VnzEmx9Vb5xD2bTCSzT2YfZ5DfutjHVZTIxQPtTGt0ZW+DRuZXc23o9YPkGGm8h3AD4ptvj3nv9kxt8cX6inw0mxxX/u+Y92/M10Qz08usAOB7ti/yQIAAiDAIykqCNJgTJIpAZITY/PlzTDhBxZqqCtQfcmhHh0bPg682q2G98WDSszj8/OaQ1G6RR/n7xaLGOeMv/e0R3x1Rk2c2HzfjPq76hEGjYpfO7XaVY5x1D1p1YhXHNfQ6Ifl5qNm71aAjlwTwA+6Q2Iz+fqR1yevlDHj5PfgPh8rn7Ew+0HaocurB6h8vyfCAAQ4Hg0UEFSlCBmkaRyI00G0Bo1jfjenn7lifkXfZ3ehk43mxwlhbXGt00v9r5vmP6pKfuZnow961k+IaXT5xXv3DcgjPfBuvmk3AMZV8LjRtOxsiJ9hOiGyNU5CEN/VZT3J4DsWI5N/hgOlc89e0kJnz0cuWaMFAfK15k+VMKv3hxqik5TXeEJgk4AgNyIJCyeMjEc18xs2mjSNm8gTdJEhuhipMSaRr0WQEHlkbPhNryXVu7tptNz8l3jNcumjeEAH5VlIa60h21oSevXHTerlkULGxcrtuh5oRQgkbBLlf7yZX40RhP+CLbJ9z68RPeb2z+o6+Mj2CbfW/4S/e+9FdQUnW5JQP4TAzEBAMquAoEAkJVZEnIWMVkiJUN1gDRCTjtPTpUbdl1zq0pc8+u+lo7bFO8f2Wibto/WwZifBNPZUGYC8lL4hOBm3JBSWgXDeSFVO2RMYdsPhgoj3MLN2UVe+VXBa08v0/3eSVAbVn5V8N7TQ9VDZ+xQU3S61Qbw2RcMBBEJAFA1kMGyQYGSppKMNKan01k2N0c0lQhpxtQBF1nUw/t6sfU9TKlRYI6xaROmzLtn6xqaJYS3FuFrrhKpdzvFeKxLqDQJ226Roe5YeuvTECgTKtcMBW0+HLP+6M2ADxUZZLrfescJNcVHbwZ8qMgg0/3WW0HN6HQwKZnSbMEkCAAAAGRGNNI0ctLMAUmoZvPayGkqms2XaJOophQFM0SkTG5Kh2+AkT6YT0n26x2hqoa70dyQA0cDDFP6YwLwqEBrbyRR8MzHGxgDgtTwx2QHDHYSAL7ozYJ3tg/js7eCmnHSG+L3tvkEn30qqBmdJmdXvwQIAADTC8lCRmNcSKbQQdmxNsnQpTO69NRYYllDh8lxTEpHvrBR5hE1p6jmINxSG2BN+qlXQ5hU8eZ7/zevJ1nGuII9kCxTt8ktMXqzwpUcb0Ldhb5tRGT83BupN0FPA1r8TwCe6M3BV8Zf8HD8gN3ERG8OvjL+gofjP9TRodP25ZcMBBAEBoimTTOakebmJBlpEpEvaUQaSUbkyzYjcjMy85ImbaMl5k7379/MBulQU4rbUX7LZKK5reFYZqZq7Yu/r7+hOpc2hxX0wss0H+eY3uSrnIw1VkKqeI3qjWDcBxACLijAKm4GYMsAXujNcY8Mr+DVTVDHh4XePPlM/glevTnU8dAbAFP+HwECAEBomSAaBoqHCh1Lk4wBMmTzkSEzI1/abZlGjDXT9E/tNwzVZ62x6dkSArukX+V6+259xlR2G/2jkPmdmSQjE/zGfNWo8JnQMhugonLq7BKN+ycfgduRCz7pDejrGj6hfrj9h9pjpddmr2d4hfrRQ1AbuoBJ0ZLJfGJDACQAQNTEo4Fi0SBqhQkn84xOXJyT6pi8eVYxxTRTIBcU6f35tiOFnud2srIQgZF8plp8OgLM7HYKn/iF3J3E+tKK55XsmsBM8qsfrqynwPb+vzXhB6Y2IEo6cZSB78Avz499XujNka9sX6Y8bP+h9hjptfHr3LxMeXQj1A6d1lmZiR4TUgIA3Lc7s9lto9HW0XYT04njZSPfhCTkDDRptHn5M4KKrEbLp5hkbccNnsPjymiD0i33eV2mEasgCR863/btKrITCQELTWZzfdnSeLr2Zy2vF+O/2ho3Rg5guVGUgxy4Q6mxz6E/vQUe6c2A9z78Qvtw/CC1XzHSmwHvbfiE8tE7CLk2dBrOZj9RQgRJjZtoMUvanMWRNhkcMDcnfzZNdCkcur06dopWjcH0+tIutH7PeIVV2iscM7f8cywxV1JgtaajEEaeX378b3LEFsdY03E8G610I1//57THvWCiDq6bkLAQkWqqTdrST8gZEgbe6A3J1z37mfKb4wfsbvjoDciXzgwy5TfbF+p/6DR89hN4BDE3obOTTjohXRCRmdOcyg4wkGWaNptmhMxJMgw6VoXJ1RHjt5777t9G21v164plPuINXvmL+zX1a8db81RR5EjmufDHbp7PdHqMflxrOgrpNVbFOYgUFcsNYtQDvwNAxT1HItxgBUwBXgkO+E+dGUTC5e0bGvZPvAzb/PeZ/Ui6fP0PQa3oSgwM5Sz/SBMCEBTIgKKlsViAg+npJNd0MjUqIknKlAyJji295XWFE7a387+/yTa+ijqEMLzGKeX1nfGX1T9hxGEmu7u9ur7ClAh8dplJxIF+IpSbpFNRwy9S1SPDDR4RVwU3gEy2Dzu0AJ7oHVC/Mv7MWG3/UGuPid8B+zvDT8zV9kWtPbp6CCxnPwQBTARAWKKrGhTNJwkpnkFGxMLCMo2oyJiGTG0HGQeRYGoIqrOy8of+bK3v+vVUKStOp5qJ89KjTnnVMKpSz4s9btedfdl5B8p+jikJCVLQ8RkZXJA7MaDiYGAq2SkwFX75DfivK/9Rna+WUNGegVYzXoID/mfPP9TNl+InaKDVHl1tLAzhFeOPRJQIANdBOcQihxQ6mrRTM7tkXhALWZySmDqIseMNgbOwJJMQSKU0fr3iGa1mCREQZbBk5G+VWTJeEhMnBFAGnDDFUEgHSqZ8GQrHkMvIpcXW3YeNJYMAlnTEnjz3h2ne6M1ZXypyyOq4HP/M1B4nvRn+UyNH1o3LiT/BM3ZPdAUShl/YoyCBRADEAhwShqURQgiyk2Yx2khDEhqm02HouNgR4070TLeI1eFAXuu8J3RIphus11ywAis8X6V6Dul99Tb3stShRCIMjWk8D/NarnSwUfj/Zl5spY7t67qFwVnmFQKwsOZx2tq0LdwAnujN8u+MP5MeRnwaYf+Gjd6Q/MjwMeFhxh8jUd2Prn4Aw9lPmA4AqEsIGiGKOQyjATGmF2L8sDFbekG6WBoyTHRczSPIeTPrrvTiXb7o/c7EfDqPczlHtBvYQ1l3jNOW2Pq09C7GtNmwbtjfxtZrnl1ll4sr1OjKnxBocRNuFqidKIn/mwFe6B3g3hkexofbF2nt8dCbJ18ZHsFHj0RaMzoNWSU/TZgwLR3plZGIjIxaSJcsJBlLIt9AB5I2lZGTUx2zyNBGVV6+WKNH6Owjzw7ZybViXBABNxDPoa3CkqqbKHFSWo5j146+p2y1y4eO269vU5tVh3X0MbdYCDlgxwo54INIbapgZcB/nujNER/b+DFenp5Qe1z05sDnNn6Ml7cn2E10seQQki+aHQkTIkXzRCOJAKBAcRfmNsYMzsdk5CRJ5CRf1Ce2xxO5cIlfRGR/2mi1nl6s1SjYVGpOyw1n6623x+rdOO4OWSkE6hU36Tk5UISxymSXLp6UHUfsaTHqiMwsBqExThCsfAYWlxvhQw5sAh7ptfnnPb2Mzw6E2mGk1+YfV/oYn6YfqD26WCaYMl90RlEQgggBQKGiQcKJIJoUdyRMmixJ5xemhoVFjcxZDENi1kMTYzaUvZctffpgTv59aZuadXyxUkS86jAhfVJ4lHIeS6t3+jMxsBr6JcXftYwa6jUhxqrPFwRi+lEJFc+AneMfgBu4yABPZ2dTAADA9QIAAAAAAMgtAAAHAAAAyIDNfR+DjZGOjIOGfYeGio2Gh3p/gICBhImGioR/hIaIkYGGXhlWrI/TPmiojv9QG1aGFevjtDcaqts/XGtDp2GePw1BEEgIQEZoOkrnIZqXPzebkc3MjGjTgQwki5xq22Qsc3C3m0On0Pi57fDP2G58I+AElIlwtfuSlJlmxzjxbHEsqcz+d59x4huq7N9YOwRMLQ1GCOxcjoQ2cH7czCShQ83TARXe6M1bf05uSP2wHaiHw0Zv3tosJzdSP20Hao9O6+qsZDQSFBEgkBBpMtnE/BPHmtOcyMmXW9KBJjlNpQPm5WVHbWVJVYUoti4WQV5jTU+n5Tfs1vRsw30r1Az5Ffoybv6Xz9wy6bT2pO3k+Tq7Us20wfT2/+0nT2Lk/WenA1YK2BeAHCvLKAiA2HwHgwqeSVatzUzb7j/WwgCJqCk+krOZzQyb+8fahBJQU/QiMEb5ckooiEgEgKxYnlligeQo9bJNzZtOMzOMS/ImhOziwjzIOFiPZDVUOUDO6DzT3zRyDWN6xPv69et5pU/7a3n77dsrDfrW4UOHn33CNELsxuG8w+7Ll1Lnr50HNbmFBk/w4uUvwdh2nvlEgLEsOgQAHunNKt/ac4i4jPxjX7bfMBE8aH8rAyQ8bF/7st0VXZCGoVypy4IYEwCglCApwHU7jRYUxPOJ5w6nGw84xfjjg5LhllGGqTEOumIQbjYb+c9jIpum3vnumELDcc2uFAxJA/ZolRSrCIYQtxtq+EJv5MZM2O6SW2KGxY1E39hBkIeOHyS4UQGuG837h1H+Ah7pzaCvc3iI+mGHN1r9Die/Ifo+h5uov+zwRbNf0WlTWT5bkFICBBIx7MS8g9x8mW26aMqcJDND5qJosoOMiQvNyEtCG4lW2jTaFAgASh3y5Za0ysqZTs15c27gjpQfmdW6UgGAZua3jl+8cZaeI3iE1TDJx6kFsFI55uFGMHdiYWkhuIlcrmAVDDcLPukN4de+fQkvx3+kdT2s/Ab4+9x+hI/uKKS1omtgEHqlCrGCSEQEAAjjoSMiEcbcCrKmsjhJ08HmZKUJb891r0UWtjzbGXF3t3ud58mkvDf2DBr2IYRV7vw2IlGLiDHWAQhSEt5YirFCnwN5eQ857KQXECtdAjWAHyBZkT6OG3+BTVm+6M2hz4wf48PTH9hXcdGbA1/Z/ET+6DMTaodO26z6kSgBAPJFkmQ0IyMJ+dLMGjAROZM1I5q57GGSEVlLwqLIRghzyXirg9FeZZUYDq4blPjbbys7HQlyuZudlXuQICW2TdZB05OuXKmP7bfhc6B3qo7gwUCeV0YtA1k2BFWnCMU+0gd8cv7oDdHHNT6Ml+Yfau3x0Ruij2t8Ga82Qq0NnUJymT0CQZAAAIloZlTk5SUDSJvNDRE5SU6+nBjXGOB8z+v1bdwI2QVyep3ojfSubPUrxzavfwToQLn2rN/XfMjwLJgh46PZTGnSbJcaj+FA1h2TZbC7uz47NgfuCewCfqATHunN0PeZf0L86FNCzRjpDfHzHH4hfvZWUDO6LAhDNlOXGRkQAgCAAoIIkTANokmhiqMZss3ISNOBZkBGduxiOtiPGQe4XnXkdrdSGvtQMc+dezF9RsMvY1vcIFUKdfurkkQqMNlYrRS7g5i9JY4WR5zK8Sa3BdG6en4quM8GQHFoAcCEyTECnujNg49neAifvSVqrfDozeCPZ3iI+Nmbh6bVCk7Di/4LUgAAmBbjR+nC1PmiiJhenKYxYKdm5IuYMg3JQEOaWcehUWl8LZv+Z5fffIKS4qSulL6WUv9oifUalAGwRsFkiMrhi/byKo2QEyf5NYX/PbLtV9ZdoqMEn15bhW0XrwBh4ehANAL+6A3pe9v8grXbNKDx0RvS9775BWu3aUCj02Qz9jMCRACApDGxNYVxSWQ0NwmRDJhmRV6+fDk52RqzMI3RodIxQ3zzebvvsd+x8UZY+u122HqkcXiqTl7X9KxtO8QknCr7QmbWr9ybNVV5mRdinPRPWOejrs8c9/OIv3B2K8czdseeNhxfAXxARQXe6A3wo24/IT06yUydho3eAD/q9hPSo5PM1OnQBQRD9lK+BIQjiMYcJoiGhiB0lNyQppIkmkTOQNIk82ycxypG4xk3ffX1OzRd4umwlxt+G9M62O9UNZs1mcR4zPbWx3EDz+nzBllku/gLZ6/0+K0/bmr+1m2Sbt2r2mvhA8dOSQHErwkRAfzsLbACkACe6M2g22VfJf/e41ioKSZ6M+h22VfJv/c4FmqKTutMzrIxA0QRQQZpI5tfZuRPMnLl00xZuUnWgJm5kSkvjRBtpJJqvmrt7ZyejLqtgPSyo69rbbA11oquthfhLL/ftDpE5uSSoqiNspYW7SWVrZGIDCecEgyM288pBNN/2DQvoOJ+y0UJXP7oDenzyn8h/+otEdeGj96QPq/8F/Kv3hJxbegCliErGfuFkAgAAByGjiuqRFIkElcQZjRJsiInI8kXaWaOwTxG0kmSmI+9hzhBazpcHT29gpbY7hX9lZrBBnVkOxptoMhkcr5A659UmlH+vLTC1oiM50GCgbYcNRbc2I+wgbz9Elthibj/Av7oDfDj2nxK+uitQ8346A3w49p8SvrorUPN6JRL9pMQAAQAAJmRRBp52TSRGY1oNs2mHSAjDEQH0Ov57/zPeiq3XmshH6PTh8vI2m+SU50I+0YNv96mkt17+jEfHdXPLbsSxTkHQ/XgjldDVHxWhQPKij4RAfdumOJEnujNcY9L/Er8vV8LaoqJ3hz30CWgEn/v04KaogvBsLFX8REQAACIQBEh6kigJJRoksrJMNCcNCrNS9NskkS0jYjQyayx4fFlS5le6yyMMbq874X2fLUf47M1+fw6n9hPAoKB6tCwvI7VC72851iC4eg0FJ/FwmJ18GxMJGJlAP7oDdBzyz/Bb71NqCk+egP03PJX8FtvE+qs6GICTFbV2UdACACIBCjqeDQSoGhSzEk2yYjIzZekspGXTSQZZzGOmYN+6Zf+78R5cwidifFbCmmGGoxAikhd8WmI+kDQAB43ZTtby7oL9olQJDVhdxUZtWy0bo8B0eLYJrvAiP8jPugdIl9KQsFn70io32Ohd5B4KQkKPj3jP7D/otN8tXzEAQBLSxIZ082U26AhL2NAAzGQ3FQustixoxoNMbQc9f7OYzjBz71ZGo1aNcS4qhcreBZ1CdxII4lO0Wx1ygTd3M1NJ+rOwANBrSXEqsZ2mgXnPBe3AWoEA39x+cEKNwA+6B0GPpQLFPS9JdSMh95B+KFcoKDvU0HN6DRk7C8TTgCAqYkYJpY91ySdpZ1uk4HkZWRmSBJ5GcHCMDaFxvhcR9ha3z/2HDmVBsKG9WV/GZPFQTvbMrWUtvNWU7lj4+llvh0ly9q9UdOrGNcon0iJn7CLEAcJHZDFBy6DSfAlqAC++M3BD60BMn715lAzPn4z9K19gIJfvU1odFqXV0I/EQMAgJPmKTHQnEq7EDJiamazEQOmOckA0qR5SUYqtG1EU3HKmgkmJwlhG0+wjfQettnijhSWTcqn/x+DTLPR3h2Jrr5tD9ba9WafwqROl66FgH7oppKWMayQryraNwIVn9sCWwJ+6M2Dp1aGQvrN8R+5djjoHURPJYdC+t3xH9VuotPwsx9QAAhMJjY3urjpKWaL0mxneZlJkuZMoeMGzshLxgnMBgsZo5GV/5Hp3O44mneKsFb77MTpL7j1ZprXNseecY9FQ+uPzm3NiTK3pqSm3HCUbrrBDDHyiCXmwjCQD8MPkxuwQOgqyW0cAX7ozdNXxk8oL0//ofZ46M2zdzY/k15u/6D26MKAqc7/iAkQKAhDEXUyBZFI1DiS22RsMBk3gDSy5MsQC4YpMpeMh/JxBMgq5FBKvpCzVuvG8ft1ahoTKxcboRwgqZJQif1qXaVwdznKiHHNDwp567+A8IwhrqiQcUMx9FceGFy8TksDgRNEfujNwmeGRwi/9ZgWaoqJ3gx+ZXiY8FsPWqjzodOU6pKlJWECACyrzWkkSbaR0UzLZORmyDY60GZmZhci5mHqmHluO1ZTw6Ec4kdmzMcUIaScctb6XjYN96Fd+zXEcXzlfKVsDYXYkc1o1Nzgzgg9IX1x/Iq8u49OF/IVZcVKQZMJKgOUllYV/2YAPujNoUc2r+CjU5mpGQe9OfTI5hW8OslMbeg0LGXJHyVRAgTyNUpOmkhEZv40L8kYaI60IhnAwK2ZadaMjB2rrJ9ru7cdz7ww0qtF5zFudE+ba8daQq+dTrnT+oXkZuXNlCRkPjKWJb4bo9Hsl615u0PDjdwbLYFSuYFTwISE628/oA8R3ugN4GsfbsZnN6HWho3eAL7O4WZ8dhNqbeiChSnLHxkRAAAIgiB0LCwMcRAqyWGY0YxmoxMjdPzAGR0WDZmaJB0T23MoLYcs6pczU/cThXj9mhgxvbrRrWsyOkmf0TblBEuUD2EVnXeNMiEGQ/g3lNXjvEcFeQw84EA0KC1MEh7ptcTjGnfBb31yqBUjvZZ4XuPO+K1PCXVZtGIu2eVkCgICBMACXVzMODBPC6bMjGz+6EBS2cwksjnJtJjFMTFLJMPhUc/9tTvd+3OtnUlx1fKoLSjxSmEc+Ki3YRw4v376Hp9EONrtxprl+glyR9Cfn+VVMcfGCYk1AACOEbA3bn4EIh7ozaJbxluIv5v+Q+1x0JtBtwy34PdOCbWh0/p5yWSigoCIAGhkM00nSZrMY+rSuSInai5jgKXk60LaPBkiQZNGpL1RD1crfx+39Dy+d59pg/779Vn5ukL1GXvBQo38aed2/fhopm+5hCjWkJqNWF9sR0fcFz2Lo1niVqsT3IiAuZOLxScLfugN8CPbnfHRw6EuhofeAN9zcYT0cvyH2qM3wDCUz0+UiAgAEIaKWJKDzGGSD+YO+bON6Yl5OvA4abeapgiSDt2+zqmfS9g8z75tVu2HE4zxvfPYdXw99hrzOi9ivL/a0Vopuy0WYEDzh5Q8x3n/Dg39Jb1tmQ53xTzblmMiqRFNnQZBgM+3AH74HeA+kr9M/LT9SafWHhO/ee4jw8v4tP1Hrh067efLU0GAEy0dGYuTEE1tpjl5m92YLDNfpDk5OctYMNecpdJFaVuhShTtK199zDTs4m2mvTP//7U2VN2G1z//54sMlorhnaBRJr3efbWWm8/vCW+wtnZad2T9zbqp2/HmNiJgMJHBZUXWwZORSRZ+EQwUFgNeSQ5yX7osJPQdCppskpXspy4JIXFtqxkWNaOrDbDzZ1NKYAIgCNUkIk1lQxUNGmK0NdIkpnahXZTZpXOSRlUjDdFcAoNSnWdPoCI7jDRRxGwqcTqLGsrtjU8zhenYuw0hpuMQscWaS20zURpXym7b7it1/NXVxI3gdgbrEqxABQue6M1z72SfEH71VlBTbPRmyY9kH+M3Tz9Qe/QGwCarPyVMANAoaqVOCkSYIHDR+JibsvmSyEmz6ZTZDLnZENGmUqT76tRakcYtl7q+jHQ+8AxzQqZyGl6/74KaKX+njnisMYTyrp1V47ueieLbT2KdwHo0mdUIqk6SHN6ocPOgGrqiLqVgC09nZ1MAAMBxAwAAAAAAyC0AAAgAAABKo/nAH5CEgoaNi42KhIGFi4iKioaFhoqJh4aIhoKAjIeJgH4e6R3A3zo3yFh6oxF1PDz8DgffygUylt7ciLowuiAGI//ySAYgAUADsdK8EnE6+axYSUS3GtftRtMnkpOP75zSbHdcbakmsR6HNjX1ECi6nff+00XlxQDkJkoatvOH9JlDajXSSUfP/K/7Ca1X4TUybq2jZq4adXIeO4fnUseRX9wJ/Qtuo3itAwAYxCP8iQoe6Q3x+xwfxoenN9hNnPSG+GMfP8JHnwh19Og0z7iSByRBQgAymowfZ6OLF9K5WNKF3LxlRU6mKUVG/khNhu1JbJ82VPvVF3spRY0zn3NYivj+xGl5Dc1uLqS06BJHGGaUlFjgFV/EEu3XGy0x6lkh+6pkQqZyp2ARnXIDEN2IFqx4MwCe6M2iZzav0F6mf0jtFi56s/ChbKBSPro51A6d1tmLPhEdAci3KDsWYSZJMysviSQdJZ2CSdEJ6LbMNJUpJJBQry2DO9KBLq+g1tnK18rvRQx3Ik1i3ghvw7u0QqbR4p8JKrHITxizodJax7ydrfSvkriBCOok46MTuFgWJPKEm8MC3ujNwue1+ZVx9RkTaW0Y6B0ib9l+ynj05qj2T3Qa+eonwgkAMDu9fDynPNpdmC0szKe06FQLzchOHJsUufKaF1tqEDI0QytnNMzx6n6q4hBPkswx+/FdvDEfRgVJvCp/OsbbSFYb9aa4vZtX8Lro9w3ubYyy6vTAICLji1mWCtKOAasgq0Re6Q3Yx5N9bPrl+C8huY4eK72B+Ljyn836m+0/cu3QaZTznwAUEgEAkmZkI7K5aUY28jdN0jQj2jYyB0waudEajxmbYVaRB0iJYdd+sWmahvPelUpLqg3dVbQ/7/bIUi88qPKd3M377ndx7PN7bfSTbZnaGv13B1fI/OpnlWBSrYh8ytFxIwD4kdSYqwpe6bXlz7P9kPToWR25nhUrvYH8pWcLkfTocyXYA6PTFFapZ2OABABIwsSFbCMzQswl2YFmszlJXpqR0SSXZDIhUzONIpscLLa/zmsvIBJq2/228Y7xW84Vg4lwDfn565tI55vJ/zZKqwMvM/Hu55jGab+x/nfiuNF5WyZSYDoDls5Z3EjgXz6BbxAA/uhVxf0aX8HvHSbielJs9Krifm52wa82qUatJ6PTwlmll9OAAAAgGabyMgZoRN748c1sZPMyGkmn0FRmDDRznBfTWcdSgnW1SWmk6Xu68Z/Jo/kJJYIo0k1yoUqyf1KakgWJDJoFIIim9fq1GmmNbqpPkcznBPVtuc+xJCn9aRCYy+dp/C+XYza85kEBPum14/3c/opHJ7eoteGk1/b38+JXPLq5WVwbWoUFpqx+OhEAAARJoVRCoFhzWBGLeGEcpsVh3j7UMC0yL0zpOEyFQTr0G1qdqdvzGCt7pNRdLVwCDMK4+bQ3/o9WzZfM34bktZ9fYShTY0ndY/YmuWzNXfHdoqQkaZ/sp8Q8rEmH6BOtRqEmaoQF/ujl9WW/titenQT1ePjoVfR1v3YrHt0E9Tj0Qg6maFX+iQAAAAQEgRWGgR2PB44OkERusihnSaSRmyfNaBYXM45jk4H0WcbChPqgUWa7+P0Y6V6oALAVzuXp1TZWofdFtHYyfWV62ppR3geKb6QhhR2TUnaIqfRjv1Xs5h39cIeVyy0A/ui1/c0d8Fdc3dJE7fDRa/ubO8CveHTqJupy6LTOLv9yAABIQmZesxnBANks2YTcJBKZmcPMgYTMyWSUjCAp0Z6Q1fGczoL8gnTLPziYCXklrFrHJHTdi4f2yvtoYk1YK/ts/WLipenIXWF8SLUdiRNHLmtF13ADOj0nIgGrgPcAHukN6GONv+KzTw61x0dvgO8aI1R89mlCzei0ZYX+JAESACCzHRdpRJQkBkyIaDTJlzYvQ2aakWYHTJJIQyRSlF7j3bPmOob1xbrqTRtzbLvZv4StzFsGcej9y8Ve4w1kpkO2P9LHDfNrNKxSs+UeDmv9XkNmXPR1aVHtJcAFXk+CDnDCAN7oteV9u3pFsXYrqBkbvba8b1evSK5ugtqh01gt1QeCIAEAMsSEcZkZ2aXlBpJ5Rm42nTUNuQPNny7u0MG0H4ahc1MyDeYk5v78vzkvphYgh3x/PrtKfLeen1qq0Kr1boo+XRhlAyBLNEatReoei/Kb/TzXMv05VmxUQn/lCiN+I2wG+nfli59qHQD+6A3o6755BC9PXwu1w0dvQN/X5mG83N4W7Ca6IAxTnv8gGAR1EI1GApwUiSoRKpqQXlY52QWLlmV6emx07KzGDHSa3lh09ZQhV9OaTlPiM9l7IDq+pvF4+qTDseQPF5I5RFlAVm77l3ucVJaUs3qhrlT1M2OnCUMzGQfgZrCLwPAGBVYe+RoBPunN6s9r+wlWT/9ssZv46M2Jz2v7CS5vxxr7FZ2m5GX2jNKAQNJ0f0VmzhSTZpBthk6eRJqbmyydJjn5M2KcFjOVcRgzNPm8CFnlHqKLkEbDMACqveuW/F/eBna3tAsvU6qbi8nuptkMWn3IWDUfaAWyUsn76UI/ReqXANc/oIeChTstLVQVJtwc3ujNife2+QW/vH0lYX+Mj96sfGsfoeCXd3xKxu6KThs7/3IaEMjUsUFjaZLt4sjIyRlcFDkSjYGbOVnOuAgymjTJI2gbXh+ldHMhvjDIW8RsrdbG/d7SvrhBrY/96EagDhxqSX3dIaakVUPDRdHt32jU1CJIeRhKwNt5AWuASpSSs9j/bRcZFk4EvugN4XPkj+CX7Qt2Cxu9IX6P/GZ8Ov5D7dAFdkmVZz8J4gCQSYQWiseqgAhanM0YPz2aDZuRozkZi+6l1zhv9s0jZnk5JSvYwdrLN42/qYxM+tUrbwg1ypjzVbJry3UVxlF0h3zOgRmxsElj89YqDVe90nRcE1jgUIw8DWDYHDFFnjUFfgBe+eX9/brahfjp9g/sJlZ+ef/YL28m/3L7gdqh05T/iSgRApquJfPYUWenDiJinpVmNhvZZMAYMFfG0GGxydAxmyyj4Zat8Pysb2nNVssJwtvYVYVVvqZyU+3N1y5lj8NzlgbXqxDtZuavrpxknn7dSunsvky1KFZBlo4BDNyYuJmtFXEYPujNgGu2txI+FX+o9i0OejPols0R0qfii1p7dFqX8p+IkIiCfJqmYWKiGfm6KJupU+YttuykiYxUks2VGc0JEYXvktUg3caxtqFXEldK96+esTk5VTTTrF8af9amXlsMr/tEN1sV0yWsHbH4w7cq9ej+MLptxYaR3yE3B9zBWPET+AW3iwge6Q30XfsGKlbbP6g9PnoDfde2hYrV9B/sFroEApOXq/IZoIBAGC9WocPiYpITCsOMdLDZZNuSVCYD52XHdWLSZjKg9cjn4metVQEO+UPzpzbvch3yFaU+x2tpKr3d+Od6lCSYYaw6YkrzG19keDKDYzPe/zDvx5GeSqJHnupz440YuAP6QGLlrQIe6Q30Y9++ipfhx1ZqNzHSG+jbuf0Vr05uLa0dOg2v/xEgJpBEIs3mkEwhmynNbV4zMrKRIS9P0vzJ4ibzaIhUjK1pulpors5fcH9LRvM+UnhZ0/TG6QSUBxZxhQT8acXUXMxSGG/PtyqlXMd+HK6He8PgOVfL3nzEIlCsT7wRjdGKyc+ShyJDBR7ozaNbto8yXoZ/yLXDRW8Ar/vmUearw0KuFV0GMFyyP0EARCQQxJzFEs2UaykSa+K+ZD6dE8u32zZKYtCEZJzmqaaOpUPM23Yzyqne2mZS9oqyxLS5X1p/dVzp+Uvz0WLH9Ox6TA65s4yWo22kdTORr/duipVJ5TOTEEBxV/QtQBau7IgcI17ozarPDA/TPgz/ENcOI70W+TizVygfbYiodug02TMpBSekhAAkC52SQSYZH5GRhOYkmUvl5S21jNmsSWsYyNDVTHPXm/uq9lxW/BBOdW6oh/LlWuPz927eVXFresXxqPuHYknykXHTtaMOrya21v8FH5rk8cgwpEWgWNE6CAkZRCa7DGoEvui1g+fuN1dB0z+o9zDRG4TPzR+ugqYfsH+iizQwfC76RHgASFRRh2EYSYoKK5wel2REEhlT5rZtmpPBoqGDoY1Wf9v1Kmos429e7lAyoeMKq32VcWuKDe29Vr7hN1HBYjsASC0Htv87fzY5yS7Y0hFuGHq+qzrJV4icxB+NLS10hNVgZFRoAt4IzgYfumBmfPaOgroWG8HZ4KUTFsan443Ino8uIkHoyw/wIEgkYkGITJCUSG2PayQR6ZJFUy67Czmo13SuG0ac8vBrvE0NS/ELasyscH+R+xqb57PnKac7TdcNMn1Trl2d78Y37WuF0D+OFT+EyH4ZN2qchW5kErHFP6NlL/ssrGKAUGAEXugd4B9Kgkp5OX6sBfU+FnoH+KeSoFA+HH/W1B6ddsWuPgCCCQFlpmlkaDNay4oJcuepgebLkaQim6TyJ5HSJCnRyj+SOga8gWbN1rm+CzUDUYQ/1hll37sVRwmzof//WuEGHAFlFJUqxdgepwN6jCDapFOSCpF+uvQ8QLwgK2JgBd7otdAt+a20D8MX6nts9KromuFW2qfmH9QOPcAEQ6HZHwCDhIBiQmBZUUecyE2phcW542LGhbGDxdQwER1a+UXIMtoq2Lo/Onv41f72sy0HevmZ10a6MbaQ9m1YJUwqm8KRcx04Gp3UOyTmtWDK5N3qJTKgHyo5FAAUCYIyYQsRvugdBN/N+LPVw9PTgn2Hid4h8N2OP1u9PP2YqfOjF9i1/ox9QsEUgAiBFUYiASRiDhM0kZvmGEaFnMiYQBpNC9Fb4jhXXOF7cg/Q0Gqe6xq5n1AbRFKmni6T6WK7nhjmuVPnDdMRuWt4vtZJ5qNj7dNQwyJTN8Y1rY+e6ZNCigZEd2TQIKbKCDFoQgHe6B0kv5QEhbM6/uyrtcdG7yD5qSQonKtH2ddqRs9BIoKQ9bBn5VMGkBIBYDsIOVqKITQazQ4kM0RGZs50hdxsEmiSJEGKxTqxA1qNmq36d/f82j/KiC2HaN61ZMxR+2fjCjorz7r4bP5NaimrF1d+GTWkMkSM31YbwTS3Jz2A1RjE/GpBXgUe+c2Sn9n+zOi6cbuV63wY+c1yX9n8zOhs/1a3au3Rh2X7BJgzVqaMIaAEAIjhDLvUDqREU6OlKW6oicUiQRzULmUcpykiHVv0My/qs9HX5iymcM6dU8n80Xmpqe2kNUqE1eUGyr6s2SxGxJOsEibK7TMhq7rrFwpqQaCfZMUofYAxQOKZY+o8Ar45zimbSX0kSOL2bSBr6n3sHGf5zaQxMiTppgaypa6KrgEYyrPyDCAlAEAQCwBhgkgkUVoUjVHbDnSuIkmHaRgGVWOGQGY/wiZ86ZfcGKbW6x5yI1N4mebKP1bM+3pSscn5sGKisX5D7FkaaLs3oQ6OrIHgNZjo4UlIFOQgoT0LXlnOZX/D+L3g9s+a+gyX5WxmMwsZ4Qe90Zb6Gb0wMFWp8o9ESACAANkmDLJAEI1pvmzIjESaHTAv/9iMcbEtwThVo0BidhkOv1WnlnJeYZU8e3F9MfyP7WoJPNTSWssIM8k6Agzqi7oheLegELAWiTvgSvk2dxMSDfDkA58AT2dnUwAAwPkDAAAAAADILQAACQAAABXkMTwid3h/e4B6cHVwa3Nwc3VzfX53fXp4c3d/gYaAhYOGgIaOhH7KVsjNIngA3x1M31BnasbQts1vFsEOuO/glK/ZXVP0wQYEjHChokplaQAAAgAA2KHtbp8rGXAQjQIWBNEwOeuMAs0UgAo+AK9wMrZes2VhACs29+ikLoTGnGiP/zBBKnhYnFNCrtxAgq+2igo0j0OxyroTaCMAvupW5GYR3IG/O6rpHeqJqCm2vnn9I3iD/B5k0/9QT0Sj020BYFKr9BEgAACAUAIAAgNojMuJpMNRvjSGQlJ5OTMQHeXqtxMsByoqXpsoskdx5CGXIew6RUAuBQNxJk01reoEknURiIUB8sszNm/zTkLFyBeUgRUAnvom8GYWECCQcwiL5Ovgoaa4Gifwp4AAAe+X1Cvtn5sVVKifotN7AChpqvSEAAEAAORKMgBAaWgQkZgeH1uWD7wkmlTE3EAjCNEOgdnJBaQKgMcNJDzBBBRQ88g/yLkSwGn1jUW1eAjdmISQbkrtTygq4enmt2usBmVakVEhAN4Kx3ozCwgMdO1yeEm+KSvUFF/lWG4aAYGArFcML2n+S9SWoX6KVhxCYf6HAAgIABDW+2FxCz8MlSxoDbj01ASEgWTkF6DyAGS3vYADX8IPOAZHhq8HJZS0+ERSDgDkqKBgnpMX7vg8X3a0kiraJvkRZKpg5FlIZkDgAt4KZ2IzCwgCtA4+BG8DaoqvcileAgICjY/wIe1/DkfUp+hCgG8AkDBkXNJTREQAAJBRTsnVlgECl1QICIAIAAAmBQCQEaOXz//i2N2J7CEFcAgowfpIGyyk2WCP9MIx70MVl4X57lrxXf/UgXdpzKIx0K1N/VVkR0GJu0TCLYgAPgsXfjMJ/kDbznwY7RtqWxA1xVo59d+CP9B6mJc5/4VN49zodNcGMKn1pwgAAgBALJMBA4oagtwMgx3KnVCNaCSzAdJsKADqYjHAkRY8sCW247OAB9w0TS0QFgCXgKRsAOKQXBQYHMG459C+y02JGlarvNevuSwoCQZeCifYZhZ8gPWd9sIbaoqpcVL+EnyAtJ32MMZb4tQUfSBhgLcHGJpcTIgTAQAAAQAwjoiGs6ErwJLkJgBAissAACoGgPlJABoAZrAFMBFA0MnNOCABUgEQxNysE4A9RNybcWP4T5VbV2PkBMHdrCMMPgun6bfgD6Qf2ofhHWo7pmZ8lQO3mQQECKTttA9jfKXJIGqKLiR4DEC40jymRAAABAAAIbsgzAMgV5QRAEA0AmF+YjrDKDZ2lBaATgEcUAJkBnBtAEFnQB3JQJIAxdRhA6QZ4JORCAjB5RIUeQWTY8AtMrAA3hqH7jf/9TiEX4andhA1xVc5dptJQIAAfkif5nhrB2eQNYPTYwAWDisReCIAAAEAgNphHgCEkyAYRSfG9qPxkyII5OTlz0chABkWASgAcwFsWYGB1AgwVh6GCYACKD9oIdUAgCfCawWRWpC4AYM2RJ4aR+I3/2Ud0qfp6XoYU1NclRPyF99l7fh02tP1EDrWFF0IcMAwrGIkAoiAAAAAREBfISDJUtmaTT055vkTQr5lWkCSpgDGBUD0GQGMExiwBpDgJo3dAgAG0JRwaNEHEUdWuBFqRRGBNUAE/hon/GYSgK/NQ1nN9HU95FtTjJWjuJkEoGv90C57vN3zsDMKNUUXEjwmAcaEjCIwEgAIAAIAAEgOBseAAJgrGQEAqMAEY6NFl10cXJR7k2qBZGEGbrCDfofKVWAv6AL7gAZIphXwVwAoAQDaLCKkigE/Ct4KJ+JmFgBe64fwYZS3DhvfmvE1jvwvAeBVHdKn2Z46bOjWFF0s8A5AOGNCkRICJIAAAFBhwtQJACDSXEJcAABRA5qukiZJ3tLDCIBkKYA/uAFkKlCYRrN4HygCC26LL7BXwCqJMFhYAW1kBeCTRwH++kb+D8/1/ZA+JM/Qh6+ophgLB36zcl+vRfo03MGntLim6HQKMSNXChAABEFEBADQiFGkecl8PqAWIfIGEgnQgU6ZCzBqAojIzAOYgBLKQHQPvAWsC5CCA6AJdolbAWBg6gDrDwbQNkzjBmoE2j0CBTcC/upW/Gblu3gPfmme4b85o7SmmPq2zR+ey/3gl+npXRjFNUUXAjw2AMmF8kgACSJAAgAAEHQtEMhOplgAABEgRIw63sQk8yqNBtAsFtABLw6Q3IISgIKAEv3cEptk44HM8RieTxxpGLgLFwUXSrRI4BWAqEUA/urm4mblvzwLvwmeYT9MtWZcfavujwDw8iz8Jnj6kNWaogsH8NgALOFaBBIhIQIiAIAAx5JJ2ACYXA0IAEcEPWlszHB8dmIMUkCzACAB0E0ADDNItMgR2hIFMHFZh/kAaAGHi1CCiAAaFRcRxAKMgRG4Kl7KzurN5h6fUwGU8fSsgFxTLG1n9V/W5jsVQSlPH6qAXFN0YcBjAxAunFUMgiidCAGQEXmSQQaAhCMCABwGRGVYGC5upwfuvAGQRUBf8CuATgkoQRMBTJFMeK5Ez7AEUSwCocIxZq60pQD0FC4MKlAvBitQBxYBC2vlCS5cPsrOmL98436qQ2E+s8DWKtSMp+3AbVa+zXOqM6E9Uw5ay1hTdAOkKoDb9IBwxkuNGI+JABhgh3EwAkD51GAAESEimTDMzNg9SbwYaWFnUMKuBUhnyNABDysSch2wl1gRcUouE4oGRAUgFQC8B80CXNw8JHArVWIh8AsQUQQGvvq2/W8ByNw7y+/a+51ySrWU1BRX4bb/LQA09y5ev2vPZ8op1VJSU3QhwGG9UC2REIkQJAIAgDD5orgwAhUbsRmdnuWOFtp22csSCIgUwJwAMBFAJ0ySjuSthOcCBXC0GJoAcAWARfKUSHiCSoARQIVUFMIV4QK++lbLbwHQ3KfLYyu932lXLT5qhla4kjYzP/fe7nWR3u9UVy0+aoouJLhNAMIZr3hEQkSQCAABjs9GAgAEpkUGA9gKaQcXn3zy0m1mquAD90SPBcgEfoFOxMzhyDeJAJb4xcs1GYirTjbH+YKrCAAMCyKuEiwCKoPlQqVwAb76tsxmEYDFu7dm1NozbY9fG0NNcRVumd8CkHj31mpae6ect8ZQU3QhwOMQgBCDEKqRMBJhAABAhmgQiQhs0RzkAQBIjSNqXJosWSYGHgsC0GMAI7Bv4QnkSOg5t3AA68EWsIm5QrUhAMyUgFGRYZoVYJEFgYIlgVUAXvoO2G9+f/Z2Ge3wTl0vh9UYZ+Gc+y0AxrtXNscz7HnK2TVFF3pw2wIMObxOSEgIAgAAoEgibMYCIFZiVgMCCDHEsyfEKcTRcU21+QboGEAyFZ5AooSBA6vq1CgArl9OSylu3q5cAADQZGDAqMhzzFgNIAhcqFQBnvpWzW/+9p6KzfF2Tlm2ZmyF82Yz8/V3r9gcb7H4cnRN0cUkuG0ApmSVTkgIABIBAIQJwzQDpBBiWRIABiwIHZ/GhORkaW6Isr8LLANgUpooYAPsVv8DzaLOxWCogXsdA3CirkHaVQA6wTYh8GMhAoMKAR7qzsLNInwO3CuaO7/1ibNcTbH0naG/edd/KppnfOtDcnDN6EKCdUOWi1AnBAAQAQAMDsNehMBEQGZGPaQ7MyLyz9OUAfIKAqNgnTfAoACdAqZJcr8ArBO/xalYFdIEIBtYDUg1AEvd0IJ2IiUDiPnKMRtlgSMGXsoO0R/+9Z4uzdy+KV8JaobTdkBuFr792WuYO719411TdAOoBIDRkgk1TxGARAAgKSjkohukEGlOTD69vzM1N1tM25e0pW1ixFUxADYADCnAagKkqvZ5buB6AHihDdzp80TTt9dQUZnc536FhJoLFyhxWt5+pqD+EjCwCgRIAJ4pDsFmTvog4cP2tU3q+g43ySHYLEISvfh0/NhSX9ELEutL1XiiIyEAzYjMhA6DwKHqpFOnc6ITp2Zjnqqmy4oICinSd6FMonT8Wvj8pR4mg3xih2gA1zNBr4ZVDhuwe6YGIFMhkcEpiqoM8rBGliXfGOUXwCJhiwKf75TfyhwhA/4IDtGXkiPhl+Y2wr7FTLIFfgnJ8Cf8bvpnolZ02jSXRVV2QsRIYGfFglnzTR75xmYiFsnGQr7cxtzUeWI67URpSWjatOwCSH0CQgiIKiyv3AAYHsNuhIbcYmtcx6MBZMMrgHXHE0IHv/uZhYykJB4A72ML3c2BYgr3zApQwNY+KFi4gRUBHhnOoC8lIVFenv4roK7Fy3EW/ChJIOmjb3KoqRmd1uXsLwggEgBgaiqjEZE3uGQKmppZyBhOjCnSDJ3LY9xCNFSIFD1dkrdoI70PqtNrmdz8vFu+2B/h/sg3bLjLYGJ9YZboet6D/+6pyq9UAdytRMt5tZRVyHxlUQCgfwXe0Qfe6A2Jj3XxMV7efiRRGx56B9UvZYSED2//rKkNXUiwnWdPhGwAAEZJniiNgqi93SoZF4O65MQ+b5azFIM7ioBWklD/B7djuutxYL4LzVuab+/q7W1n4zbP/lkiSsGDu0I7EW+JyI4qNu4Gh1epGZ6JkYu56rT1q5H9Iuaw4AJ2HgHc6YgIHunN8B+6Z5AJlz9/UDss9A4PP5WMmXT5889C7dFpk/OKvSAyQgTAsMsd7n3jtNxIm5qeNQYHHMi40mg0O5abQohIS8PNZXkWI6sZQt6Ye7RX+ezUkFJSgAaQ02pQd2UDcgV8men+Xb+YPUDh0W5cQV9kdVjI0UZOGAVg7IMdQDGgAxce6Q2tt54GqQS3J9htGAkOrU+dHVLl2BuhNnSRATY5z08JA0IAICgoCEJRiwoUHUsyY2zcOEvGZYYkGTCdC41KRIfp0RvrTm83jJ297TB+7TI49z9/b0byAKZmMUJe53u6VCM0S5IEk/xHcrzb6rUDt9C5f+Nd69gIYVFKwAZNWAG/OaMdAf7oDfj3bj4m/uZ4g93Ewu9A8KlISORfbl+wz6ELB7Cp8x/gCAjYDkhLKHIZZFjOdKbOw3T++c5YMOBoBp1FkrTqzpZwiUHXZM+K7zhO6yRnfWGNm7/50OnfuFX/eS4RAHfI3a3EpXbOX5W1kZ6UWZEWBcKKN1tqghH8Ai5Eq1AjHum1+feZHiL8ZvpR0ewmToIt7vNML5F+s/2oqLVDFztgFypUlWMAIYgIAAhAjWQozlehAkyIsQkxXGrCbMqMsQgReZ2FENUwm0TSDHgiqowNtuBKwnOVzCb+fa/hwm7Px2r4WhhUkKiYX5LJqDDNqEqKduVJzjXZPlBVK0iUT28CfClWyADe6B1UN5MeI0R5mPWfWa09PnoHlM2kyzBRXnb+mrXao4tNMGQsi4wdQFBCAMDxeAmRGlWS5AzZ8TFMBj6RRs+SjAyLnbakDEmSLPOF7e8+2DbNzLWlq0jLrm+H7gn70Y06bvQDa+W8bK99jqWGU3f9MjWisbSmPsk5BKlYHTNo3WOpqLwS2OXpDzwoRiMAntomws0sfJx2BMVP+BfmX1ozrrpR8Fv4KO8IUvxGePgX1xSddlbo2ZGIEABAMrGRkp1e1pIsrSZZA8lOMS0NcqbMF0DN6oFUgVDckEUR6N3uiF1tQ88b/25YkTGL2/rboKRbDzlGGI0OtB4yjNzanLtFd7R5CbxJVSkfbnzgEoBK4rIAT2dnUwAAwIEEAAAAAADILQAACgAAAKgnH5UicXR2eXNubW9vgHdvgnl2got7e3JvgX5+gIh+j42Gio96fP4al8ov4S/woBreHkCammKsXKu/+MV3kE1vD4SmZnADoKwB1mW+OhERAAAAgDE45g4BgGg6dXxGSQaMotLcBIASOlnxBCuQNAQbBjcb+WIDQD+qKYUDpShF678YNQksNS0pvtq5WuI0RcAkn7IBCl1c/ho3yi8B1YJH8dC8U3IJ1BRj5U75JYC19wheprdcgZqiG0BEpQ4Y2kT/iQgAAAAAG0cFKQJgZLR1eebC/OR5AOYJIEWCBEQkEwqOUB3ABvngOcUvWyKxthThoFmMar+5rHTzHEVBdWO6sUVlFNKIuCYKOSi+GofKLwHlg7sUflPSO3VCTjXFVjlVfgkoLzxC+CV5p84wp2Z0A1A0lUBsyFfsiQgAAABAAoWSRHUwQlMZY/uIgecJ7ArgzACsCsCwOAI24QkE4GIVYMftGWjaGQWlLB4WbgN6sDPk+NBMPGviwy5RMQxtyMEA3honuc0soFq2E3rBM+UmzENNMVZOcr8ENJrvhF7ydBNiS03RPRaAKE4BHIZcQixTIgIAAAAEKmTv2RmCWQOACTRbUQZIJswByJkBDAXANAYQCTdagBKAC7sPX+Agzzz8MzFpv/6Gh1WAQlnThGcMz2OGkRJQDSyQAL765rnNIqBi5aiB6J16oabYGue4zSygImWXRcE79WFNTdHqABxw808EAAAAAEABEMRo2FNetbEoBSgEsaRsN0AA0nxJACSDBTAvwZNmewGsDDypSAFqK2QpMH7d28+7HA0R71cMxXK1IgJjSLSBZfCJHQC++g7I3wIqRo4aolbeqT+gU03xNW6Rm1lATcpOyMp4+4DUFN0AUR5XAA5W6JISIAAIAABA4LCHAABJanO7RixJQfMyAIySAUDmwmDvYJo3uIWEeCYQxB9tgs+mYjGtiuhHp1WEbLUhbFckhyMQAJ76DrjNIqCc4A7CeGrc1BRX4SHxW0Axwx20+dSonWuKbgBZzAI4mIRfDggAJAAAYClkOQGA0CTmOyctpM3mB/JyAwFMAHQGgQc8JSxWdGO96wAIuFEhIpDUONZ7fNZCTN3D/YIIbW0GCq7AYADe6raIPwIKN7gTKJ6hzsI1xde3SmwW4b+BO4EynqHO1BTdABSVBBzMFMAfEABEAAAABas0wkCIjEEZkeEwzx8gJzcAJAsAdIQbeBZ6BqBDsCLGOR8ARsAGIaO4rLBbP0irJAUt5ODeFyT8x9KGhQDe2ubQHwGFF7gLhc43+qeBpqZ4+ra5zSL8t7wTyJ4aWGqKboBQqwEcMJOojggIAAQAAIxoFSckgBAxrpHGwrp5gUaa2wAYzmMARrACZAagPasNM/Qi7m2wds0OZAeFlZJRi5hWTNBtBpK7iS74igV+id7A2qxCrN28s+bHo9pRU9xUD1f+CrG288xKfPvxwY6aogvbw5KrwlSZkSAACAgAycShlWifDGZqK9FG0wEHmhJzlgWt9BgUu53CJNhLoxgUjGsCHtDkL/AQENdyaixKUsOA9wIKoqE2Rqqykei+chpoInPTBzfpMoABfAHGB57aVuFmpfh3dT4kz7D9FqSoKba6efyHJr9ddx6KZ+h+CyhxTdEHWgmthJVF6VQCQkAIAABZBoi6VAZA+XgvWVsGsrDaWwVqMDaATogAwS2O2fgrviQzWCkTvhzgrqAMRTmWibTqErWC4iOtSDQbYJ8kgZwCCboA/rm2yM0K9jvMT8FXzjA1xdI2T/wB++7MX4Kv9oWaohe0scDI8oxKIiIiAECFDJIpcRKrMBWxg4EsmYmKztk2VoFRlwDzAG50AZjAlmjl+DWQWEAOQB2cnBZ/t2GihYZXlngVAdp5BakQEbBQsaAAnrrO4c0WdoWnawiad9izTc24ys7iP8IWtHcJwfAOe5XOrSm6Bz1A1gqAYclVmcoRkQAAsnoZAUSTSpAxAKGkiQkgMFsP0TTSDT2yuJi6ZOLsD/LKWnzilaIHRFWBYMFapwJGUiaBMnDkwDOhkaBkuiO7zlyYo7uKeI/CBaGSKnCPAJ66zqK/wjfgofzupHeox74142d7iP8jXA73KmCmt+O8mqILc4DF0JQaqpyIggQAEAjliweTtQEMm66nR2YhL5IACzMCmhFAugCAYwMoISYAJAh4LqJzpAoG+0G+iUAAcDQeqST6CyC8Ik4hqdrHBDUiGhCgwgqjpQK+2g7xH+FRPKTflPgO2179aoqvb5v+Ee6Oh/S74hlqe5WaonsgABQ1wKlMQwVLhkiEiEgAADl1TwYTNRUAKlLNYjGASHMBEAWIyAVAVQAcoJ0FUHvBBZJhBkIBygEkZldJAKDtGmzJ3oqAppZYLBhUBAyg4roAvsq24F/hEnRIv4ne4d9+u9QUT9sh2qzCpXgov4vefmEs1ZqiG4CiVgKGpeJcC6WJMAEAwBj7gAEiZmokxi1f1g5ShMxpkCQD1+uHNh2YJjYyyoLrJiA0Dj7B7YOkyYBIQOA6yQCNn9BkAxgF6MgoCVSZAiNDP48FNaAgwjLUWNcNA145zqh/wHwf48PwX9Mr16tYSc5am1WIgQ/z08h/miz1KvpAgklYVnx2xBMAIBBBCGFFSdQIIBdRQRoUEmJo6DSSFjqqkhwITG1N//J3Mv44PT3SQcDFp16q2duZPG6IDE4XwtH0Otb54T63RHy7m0MujLAFL7HO/DOhUFuYeIbXr4FR+ARS5yQ5ZiteeR5S/ghJ8KV9CunPY11J61PMRA8qm1WIhQ/jU0l/fvRQUVP0gQQRMJeVYksAAAgAAOVQARYoKmGQTT6ZUheAwSwmJQXjFw9O4Rft3j7PnYubra3cpiNH0QnD3NpfeF+CxJsSAMZTRe4SyVLIJF2vE4VprGjIsgRMMAHeqR7gNqvQk96MRfDjZajWFE/XGbBZhZHRrrZeKu/QP/BQRLmm6B4sgOkoAUuW65cAABAAACqUIkSeybgMAFJs6gwgyLzbBWCcFZAmkGVCY45Cf7sk/hev1l4MYOqZBsRLogoIrLpS9Vsx+lo0m+LS6crwBgubio5QkAB+ug7AZhX2S9nlSfYOv8mnppjKDuBmFbZLOvKkesfWeTSUa4ruwQaA2QVgEWaMIi4YIAAIAABADDLhSFGVCgAUy08EQJHFANTiVgAEKACUA8gGABIAl4HGbhe8QqpBMwL4CNywVq+2KA8TsNXN5AMkWAC+yrbAZhXOLR/2lr3Df7yF1BRb2yrYLMJ1gUfe5PaN8NFKaorugQBE1ACWpvmMBBEAgAAAIEyAU6GYGgBIamMWBQKVSQHYPg8ACUzlSLvaBIAgAnQ8FFIBPVx7uYsa9RMe0GLcBoyaii7s8FUqFQO+mR7iN7PQbby0KvjxA5eQ6zOWqnNoMwvLxqu2TvIX6vuly3UrugcDCNORgHH+T0gYAFAJUoByudQNMBJRa00B42SYxgKiVTmQZLh/OvP/BHzoTOfbasIMsiZN+TStg4N/XI4tSYxiQgcmq826ItyRlm5LWdVuVZUMcKoLVtxFEAB+aQ7tHyFGft4fTeiG6ZVripnoINhMQgx9fD9b0DVb1ZqiZwDUwHDJ/wRBCQAQUCwWBBcBQmuKA0w2tSGwMA/LVkU6JvAEt5PUX++z5Sg2x3ieRnx65+o21wWkgUhc4ZyeVBYp6gbKK4uxvi/SUzWuVcmwPLSJ/gL8IgRkrQA+KVatj+Q/MpcW1MmLXDNWkm37S8kZ2WsH19lraU3RBQHD8vwTgkQAGBMBEw8iOawMHQscJk1x2ZlZmg45CAJlOgeuNCuKUi/1hvFhZPNqLR0InUKmwzbtDen5iCQWImkIp5B+8qsviafd/HXHopszfa/roJPkDDgiUK81QQJe+VXVd9JPzGz4syqtPW6KOfWtGEjsvoOsSmtGH8wAASNTkv8jwARAIBtgqHhSDWEFEorYCiOmHqZpGa1EalVQANNYYlac+jZAHRkILp201tL/HiMzvhZqvAFit7TXmgX0JcMh6If8l1M4to/lGgjuLQysbfyRXCq8f/NfxcIPWV4ZVrmPNX7E7AX/reprw8yxwn9sw0fstWHKkwZrRhcGDNkvRwlBCQAAFQSFkYJoUFcW0/Nodbvll045mhOdkvEQsBrld2m9Jt1+ExNXexHuczvuv+v8rz3dtMx9n0z9xOYkKRv3nEMvMoKNVMkW0+0Ox5g2Si5qDUyWMB3BlqhAXp+IhQ6oHSQ+KVbs1928SFsaSeOWa8VLMme9LvMj4xL8CaF26MIERHUpVXmMgCIAFQQpjqeSBMHMdNN52u0mXyQnQkoXkwOYY4nYCC9KrASKzsxohnRM4WpcY47SkvAYndYgfAlITHdrvCLZBoV+jqKFGnAkpVHUsfxjREyhwqlOJPQxoSO++B3gv/WMSNw0P0KLa8NJcIb80TNA4qZ4ahrk2qMLsxCuqlroMQJCBBSCI2FLUpqsCCA6m2Zs8/jVDt5dKtkWTMfvFFGZS6Bp+ZCdalGwLdl7p97RyaRgoFhcaRd/6ops1RGkTAjERMrEW0ZtAlGQs6DeY+ud4SbKXiGpathGx7Hs98KWFhxouRF/AzeaAP7ozcOfx7xEewj+rA3aTYz0DsBfl3mJdkmetvraowvaMFytlvEJAaiCSBargzT5pDAIQmk6jcHs4aQpJnp8JKabcWqoQ0Reo8V15MOpy+50r5QS7BExpCCrSTX+wn3MOoc49VONawtpZDyD+Il+b8ptReEiAaOITe3Ogo/l/ZVo02eBDxWMSkkH4Bj2Ad7oHQZ/dj6mPMTwRbO/4aN3CGymTfwkpYfoic7+QhfmALPUy6wgPiEANoFNPIgIGnJGJBPWMeyYKZdERlJ7BwdGivHkCc+dzfNr+tr1sxYLB/JcWgXDgRvv4+3l1K/qjrEuk2UjWEayyuoFW0pAoUMoOuIrgESljxb8zyl2gYrwu9IGbmgDXujdCLFZYh6kfeDHnCrr+pjo3QBslpgHKR+4zanCvoYuSBgrmV8KYpwIAGFH7IF8rTwmTKa7IU1XTTKXKeZpMaNKllVNqgKwYO3ZpsUc1UNSRPvpoTOm+/ifPY381UjYscqJAPEffz8bWDyDe0rJ2VoZ7MJLdAtOAdQPsDi2qzJCGz57u91gWYkKHmoepH8J+dy652+EZ9jXzVyaQ73DzfMw+JeQ76N7/0Z8et2cFYOsd+jCJgwXyhVm9BMAApC0FJuyBNJ0epflcsZn5JuUxLBu5sZKA3mv2M78fU7l36Nzz43utRmXN/0A1uspdjTCkk/AjWQBV+T5p5oSmlkiVivPa6ETLLGxKsEYWJAwrzCM2N9qAysHmgDe2R7gNwvN7If0UOfXh6dVqBlD3Vlus9DSfkgvXXl7bdytQk3RB/RAC0N7nSuEkEQAgAQAIEAiUI6ICpMFgTG1o0FxDKB0uQHwfJDNA4CMAECxgpXGRZQGyKkGwLin2EgKbv0AEDByPf4PTv8zAm4avORggVXJs4KVBd7aJsAfnuHslFX1jvj1x5TWFF/dCG0W7nw/lEv1jvCViSmtGd0DAyDzNGARKsT5TCISAiSAQEAMhcIOhQBk3OaHYABjpwLIlk0AjE/CmMI+yf+XXYkekPcZCXIJ1GfgwnE4hqb1rSfwWsGaPkNF4rPgE9ByJPIDFasEFABPZ2dTAABABAUAAAAAAMgtAAALAAAA2hvd+SV+enxydnl7em9xdXh6hoB4fHl+f3+Hd3qMHh8gJCObgn+CiYeKHvvGaLPwmncnXLJn+L2KPzXFWDgmNjO7eXfCJc93hK8rIjVFNwBZNhbAYajM3DwCAoAIAAAADqrBAqLNGYaRmUjyAogpC8C8EADGqQBkawpfAoqlQBgsBWCa0wu3hHsJUiUEEU1oI8XqDdbfJLB2RWW60aJblKNLy8cnQsQAfvqGymbhk/9OWPB013KVmmIsXBKbmV/+O2ERxjvUu5ZbaopuAETTBBYpJeP6CAgARACAAKRRYowAoZd01LlaKgNw2BWA5SYA0oBrTveML4z0oZMLz2u4iSN5tnlO7qZiYOQaFqANUwEg407POOasFItYFG5UTTuCiAS+Csf8LwGlwINeGl+ve0hNsVXOuM0kAMW3k1flvN0N86kpWh2AoSkrrp4IAAQAAIAogGikNCONaG4ooIgQejCrBQVwCID/gF4AWWjhBpRgan47zSfoWQAPdbJGty4CCKuAA/WZkmHbvho0qr0xHdpZJecY7It3oO1iuAgAPgtnYDMLAPl2ShXGN/wqak1xNk7RL+EveSdUyTvUOGNOTdENQGSjBIcpqio6EgAAAACAEdgKg2AwclIZCTJyW5CdCEC3F4AAIIst3AhNEQDAdwGUIzmO+4pnYREpVUsGmt27Oa6WYIlhPKsc/yTiSEUf3urm0Gbhyf9DiqJ32F7jqtUUW+EcuZn50rcTIuftbsarrqbodiAB2CUr+RMBAggAAIBrBQWpLPIAoAAUBcAM0wgHQCMvB4DLggB4EDe0+EUNXiVeHVOFTU9c636mZJ8A4CpXF8E6i26mmLorWMtIWlGGWyUqVJ7KzoI/wmVoB9M31JmaYmk7T2wW4TRwR3TG10RN0QcMmMAiWrjiIuQUAQAAAIDFdJURGCeSAwCMcrmCJMDAwqYAbDECkAdgJZgLbqKxuwFbzABQALsB3Ru1NrCvrAEggJEOhDIb6Mbtp9xuZvXCa3BY/YS7s/poqQC+mR7GbVZhDfAmFU//xG0ZGkPVg8RmJcZ/pxRPX7HLqSm6Bw4AshYJTkthnL+UAAAkAIAkQteZwa0LAGyUnFgAgHQgADCxAEQBMAFgGhUrkEOApxiQ0QR1DCZlCORZ1vPGA46k1T9RtW6iDnvipSupdlxDgCIAStAmEgGeyubYZqVfnp1y2b4RxjU+aoqd7YD4g27bzni491fGjpqie6AFQANgRUuplZpICAAAAAAAMWULCMh1LCwAaXKRgSYZtgdAyAsABpACVQaQKkA/8EkWGJNBCoHUAIjGQGQmk5ZZBUDLgziIKWv7f12nPqa1IbYZ6BLwBd7qNuKPYAfZD3vBO2yo1BRf31r8Fmwg22H3xniHGio1RR9wABlYTKFKHikAAAAAgEJyIIxzw+RtAMBJVYkVAGSaA6CLUwEYADAVRZJ2Cl0T8TFm9As0BQBuLF04p6AoyepHxFZQV+RDWyFPmwkROd7qNugP/Xo/wln13hH2PkZyTfH1rcFvwQ7QDnOR5zv88LWa0QU9HKZQ9UgICAAAAAAEgUrq2QARMiIikDPQxQ2QLwLA4sIuAFEA3Qi4hQJc4J5MME+k7czvq03O5Q/ZQtlkReJKUZ+bHwyJThR2TLAAnrpmxOacy1hC+dC7I4xrPnJNcZNNWn9plxzKpzqf4lJGrSn6gABtWJGs0oLMAIkQAREAAKdVJbdBhc6BAeQwXxQJDFCjCYA0XwpAFniX7JYV3AvckKMPKQmwNgtwk2Cg+gHuXQN9K/7g2QQA0KRAdS0KkFMAHsq2uL8s0/dKQZpP4YtriqVtjvzDsbVXQOZb3GclsdYU3QMBIOYsEwxNpiRfECkRSAAAuSZQoSJWUGIIAEDkBwGghzkNQAF7XwagC2MgsI/phY0mQA1Ib/jXitMBoXYYcNoATua8x+NisOYNYAoMRo6EClGCKi8Bnvrm4W8BoDinMzTjvPXqippiK5zDm1kAEut0hGA+3+5lbaGaohsARdSBqKGQMGlURIiCgAARAMCAjauHjIlg3KjZhbElkeQVFItlEYx/wjMVQLQgJuA9MENPQANwHUABVCtCIHOA5h0g/4qAJtxmM3JbrAQDzIEKxgLe2lbEZuWXz95nBNMzvlWa2tKa4qubZ5tFAMh9fMPv9v2Ob9X7M9yimqLVAVgsQpXiZBKZAIAEAABQABqTD1o+z0hyxzanTAEAYutbk00FwDxOAZAJgG5ZBoBFBWBWYMuEBv/ANUQ4tUTgGhwBiq0UJEwKAQBUSAK6LgARBlgAkwDUQMFlAd7a5tlm4Zf7wW/G/oa9G/Ev1wyvbp5tFl7u0wnM/Q71dTOKaopuACIbKsDQlMIK4wWXCAARAAAwEEPJuoDQgVMZ0RITR0CnRQBPAT0eAchKaEfsg1V8zgQSAFHB4QMBVyB9BakeCaCaAaAR3F24OyhVhkG0DVdZAVBq8qA1o4ELvspW4B8+/U8VsL0j3BfUFFvdKt6svP6fauDpHf7T1BTdANAQCcINJRehfwSACAAAYAhyggTBWDeYBYelI9gXYN0CMI0A6AQ8wDRQrXu1GsATAHw9CCNCrpRFQIKkdDqsDVzj6br/NkPTdIwMSyixxiKA0FEAY4ALfmke5H+EOH74rc9NL8xq/RQ30QP8ZhLi8uF3z/Tf02p9ik7D5z8SIQEAptOkI41GxgDLykaLqKXzpvN3VtBxUQPQiTpHtwMd/DrkJtjO6/Ekd+itunE6u9PdDiC4hNyY3rTWViyjuON70fI+g2JJn7jQCcjJUphERLhgAL55DvlfQgK/CtA/lKFQU/xMB/wvIYFvBfTPfxkONUX3YBJAPQArFa/+SCAAoAw2IClXYtwIAMddJQC1dR5WAQgBIA/hZkkkAJJm9LwNaUASkBZpfn7k3wcYwU1Q6PVrkFCV1r2K/VowoRxINORXH5WgVKyAil0E+iI+WR5UNpMQIb8+/NYvajGipnh5HuA3k1DCvz781i9KmJqiD0zCJgyZZOxPUIQIAJCwwUi5FowACFQQkZFQ83rYATpeoOTTiC3Agb6h1lo33yLZazVHyeq89+W055+Q1FCURTEyRguzclnE4pg5ZZXJRJ806CzbxApQAA4JKgzeWea5L/UthLqw9lCoDwxDXRVDzxy5mYqLH8ph7eGxO+cVGv0QgGgKaMEiXGV/QgIEAMDYYBTDZAMAgWPJFAgwaRYLSDstAWiBAqh5TAEAyGmajLXeuh71uqdQZsUf5sHm0BD6cYhmDdJPfb96xCeG6+nWEzLIHrkM/AImOXABXmkO1c0kZAN/8qtPdHioV3HzHPC/YPN/5Fff3GFLow9sG2RgyJjSf4IiQACAspQDsCmhnZMMgHOdsJUAAZpxsQDXlzgnOuaxdwnHHRN7GEiFMaXMKgOE1gyUfK61BN6IwbMvVrkaTn7qmsdE8slIbYq2jEV7saI+PgEAMAdwGD5JziqbWcgF/4S+d02niMbNsk38EsoL+tW49JkrtufCI3cTf+hAxGkHAGEmgFHx+idCQAAA0OHGgK5mLFgAeFKTRgCV9TgHUMUDoAGAMgerc6yi5Sxqlss4LaVZkeMETrskCbUlJyGs8xLmuVvGUO5L6xcm1fH/ghhjUXL89Gsej2LxHir7AL5pVpUfocnxI619UzDqVbw829aPMBvwI6ze/kP9FN2DSQAzAbhFAvXHBREQAAAISyAR9EXCUIBA/hYYAJLHAADhkwCIKvBqj5i3opsV2kp73cdReB+na33Tquo53LINIS01+MSR8JoTjRCCIo5jEa8II0CXYFEBnlnm1A8hOfzx6M1lqFA/Y+eZUD6F5PgRX71Jhjj1Gf0CIMyqAhK2y8eMAEAAABggAdSyEt0BQRDmLQBE5mD+ADAxMMut6KgdY2gUh/ItU73yCSu+M9IkH19/VfZ5Q7jPUIJO9XA6PtNtx7qdilskZRvJ8AhE8Kc4Bgq2SVa4z9P8SL/2WSgpvLqLo2aC+BYugz/d0htDzahQM/oPgAG7sEr/iSYEAACVhGtH3VSYJRGRJEWwkJr+xVj+RW28mIQpRgFd0vDgKiOZJagPIpJxh6vBcTCagBT3A9AASHioeJVcLHwc3Vhulbur0ZXM8jffAv0OVuNfhIWbMM+4bqEFhRa8RjcDA0Tn31UmOv9u2fIZgIPJlvuSCokzK4SVZFqnX3aqFUzn369MVT6++KxqpgBw0DENUaDraiqslJkSw8HJZAAs4xOW/5vxqVIcdZPmJDjQ85MuK5ycjf3LCmGYlkr9NzzlEyf9o/Jxb7d8OzhYUiKaFEFy69zs++ZTX/hi5o/xbd/3FkThXc/1FN5fbS1nRCR8oGrYFMKYiNM97bTpy5F7cfBr//QcOilW+G+Q349fpqlVsNvwkkxyr5gP4tOwtTJ2Y/QLBBnZJMoADrCZFedcPhFiAMBwcFtDV0hSxUioqKJOUJSRUeMlo3xjGY12HtlMjZMbN44pQwEGnCr95NTYnH28EYgqMau5NfIB4Ig1ku79TzZXD2qRGvHM2ZPptV2e3SjksqccT8XqiuImfP0aRGob2XZn8RgdrUuHFY8nswl+GQbqJXoz81cbaifS2nBTDNVb9MXaYPhvoTb0DEA9EoZmmf1DAAIABIywTa1BdjCPRjZzICJEzrZR21ENWs3pMlaOAAW+/rkjJ1O765Urghim96ZLq07vDbxbR9Gs+Rq5eamdiLd9+E6HYGR2xT6V5XJ/w//ICowKr7ALqgl0AZ8AXunl0CXZraSP3gi1YaWXIy5Jt+JXb4Ta0GkoM/XPIJAAAElUNEy5fKDNTod8JaTJFCYOhDQkuj2yQzJmtm27r8EWl/lLDXLPR4PvX0NnquTJdAIYZS13scoQUxpBKHa9kmtEHRnHSpuqaq/YjnZiFNgFahsy8At4wib0DXaBJh7ptYhb5KO4bP+hLh8rvTxxjXwVD9N/RHXx6AMDLAzzqvoZIgAAlFoWBMVBo8TQoQIAS73+RIADwbKGWUMTpdS79f1903Bc4Vk/hQhAlCVRiiCXMibOhiMj0fJSPAkVhH7tXO4sKDd1rbgLoX+nr1AcakXWfXbALzAq5OEDWYAFnQB+6A2US8yjpN97EGntMNFrK5eYRyuA4z/S2qMLs4GozC4/Q4AAAAMKgpZEUBwQKsisichdtGiCSqM5BWXBSSZFs4YtEuPC/m9XUz4aJ2u2rMZmfu1/H8/sydFtjVE7/Onr8U14ZlJdF9eD+9F5+9qpjOa2xEWGD6qTIet8BepFBceXeFdr4ylvAh7pVcnLZV6lvWz/ke0mTnoVcnuZ12ivbo5ce3QaLv9HDACIxMSxpD3F/LLpeQYzFbP8yYBT3FgU0hg7lplAumWetjpnY03l/afvp19qaGVvbp6+pabvm8qabNALrden8Xh0JacUcdckxaft+lTau/VcckIDBY/0us4Yr5EBbOj5F4dJrHsTCd7oJYljN0dJv5v+g93CRy9Bnqc8WgVMX7Cb6MIGDF/NppEIAYg3QGFTOXMdRgLIyA5jrMJgOjVdlORZTTPj2HZsa1rDz+4G4rNjfeQf8U0wTDaM9fd1jjRe99Mr2XpIbNO/L8dru6Tp0k2dYkUo83b4GaeEgkeoZ0wl1DIf43VRVax/GktAQFpKC09nZ1MAAECABQAAAAAAyC0AAAwAAAD92VvaH42BhIuHj4iDh4aCjoR/gX+Ch4qGgoaCgYaMhoeDhYe+6FW5y8mttM8OtKZ22OhVydsldqH9Mv2zpXboNOR59mdIhABkRIax5uQlqXGZ+SqRz4D50+x0vmxORtNO5mFhLCSVzKkW8dCbCyA0ZD5SPm1Th7T3H1uGAY1+1ewdoHMdM6TUMEEoNf5Nt5j+50+rrFG/qqTxaJyCqbEg1bbo9ax7drFa7PAjg1LhjgC+6FX469JdqqHmDbXDQa+tbsOtVQB/UDt0YcBQXkn2MyIAQIuF4kFXjtuCqwmDo9TCnMpclN/YuXPTkeCUS+iKlF8U1p/CTq1L6I60hn37Ym3Ybq6gOKAU6xmLLld6zTSD/TV8vaSPGu6t0s60PesRlBQl47mw82RhYRqOBYCUIgD+6OXI7SUerYK2/5KoHT56OeJycmsFtP2TRO3QBQmbWf3HSACAwkBh6HgijQUowEnWBCH/oiZJkpNEg1kiTyIgZqu2gLkw2/6hnlbDY4DN6tHa0zBpTl57HWvpjb1fjD2J+RRGGT2P9TpZq47VIQmW+uNZSiZKLsWKS3S044MCKwfDLwG+6LXgbTePVETbG+wWNnpVet3NoxXR8Qd2E12wsBlL9Y8HAMSiJjQomaiiNtNJLLc4SdLITRblpmlupdKIJEPTtPG9OZCATgGEkSbxmoXpsDol5zpXRyGkA5jmAOG4v1ZWLGtk7QsllvyJ1iTsLZbZ3bKu29uTJB/oBfHGsPDxymhSYAUIlUqlcCAC3ui18f2yr5A+HP+tqT0+ei36eOwtpA/HP2vsJrpgYGhcXZ5BYQIAhFERinjcSTg0idgYbP6QrxpJ7jodhqihWtIWq0kBM/AADS4hxfCZlo0NdEwVCEDlY1JqJkVdZ0Zqlrqa2bbHDzwxd2xum+PedKb4BEyuuIuRgAp8AHosqAv3WuOmcOoMnugNwX0Xr+CX2xfsJj56Lfx4xC3EX7a3GbsNnW5LwPzy8QcBYWiDDNjB1LTD5dIpRCMzI5qRTdIMkQyYLzIjMjKbXUhtzdJ2he+laf3WvaP1UVmzCNC77mxlS5rOsh6tL1mHUulctk7i0WlEs9kn33gb3brKEEZ7po6CxZ1HxffIlomARrCDYYDkRhSFJQHe6FXp9cx3xeX2A3YTH70KvO75rmZZ3X7AbqILUqb56umYEshTaIirNBK4CiJkRmcbCyGSTgrbtm5VTWAcK6fnnrlHmI98ebyyX5P2i5SEr2f3xuoziQZSDyzdd69Lupr6YXNrtW2UudM1TR9HjSY3RQ2zcN3z2gV96KeNlRGNXwsGWAMLpkIB/ujl6HnZXfFp+w+1w0gvx87H3opP0x/UDl2wpLn8H5EQAORoqKRIpERJJCIZaUYnRJJG/qyMSNK5DEYxpLMcqJP0NTixHFpffBlnqskfZV/L2hpPvot/ld5z1WIildxqbcmn3cjc5kbVeybtRnWsupDyJIU6DAa0T/9ffCK7Jlgi9AHe6OXhuWdHKb3bP6gdPno5fJ7ZUVLv9g9qhy4YGMrsn4UAAQBGkpOkiCNYQQY5TWdpTpKQ5LWVUXVXM+3pVgwZcVPX9DpmxX733tfZLuN6NiJ212Q/3en3nWNsxVr3xkwv1WXW0HzZ5jiJiXUITzewirUVtH6F49VkgHwVRn3wPsPYAlCtNgC+6FXFec92xcvxH+wmLnpVcd6zXfFy/Ae7iU7DZ18eiQDIlKbRbKZsJPlbaUYaGdEkHTBrgByZmYZMYRznAeNT5MjkH79krdPtxeTpkTtOraldApOaxObKRvUiFczHPVxX6HB/43a8z6h+7YuiH7cqiuB8DiA8ryOXqARqXiptNaKAAKHpA77oJdG62aWkVxtBXR4uekm0bnYp6dVGUBeHLuwMQi//kQgQCK1AVkJJYRgodEZOopGTkb+RJM30e2Ja9OUfkzBku3fruPvK8XPbmzJj+mCdzh2yuqXfDq83/LJlF5xOFGsct+sRkss75Uk1FsKapFQTXufJuLLug8tCJ2KbAiravgO+6OXweU9L8TL8B/tSXPRy+LynpXgZ/oN9KbqgDcOSLeXLRAQIRAMURONRJcXCSICTyEzbJCMzJ5eMjDTJrM08jJH2H05E1I3UiTTqpzFehHuuU2bfpkeKjFz7FvV95hcvf3IXlcg6/SLerL5oxs+eXgz1ODq7MUYKVbkd2w0MDf5uBT5IRCLlgvBJcjoDPugNwDbZUdrSQdbU4+GgNwDbZEdpSwdZU4+HTsN/fEICAOTLiDSNSEO0mRlpK5rGQDMz8mUzIiMZMo/jUDVWR1/Hpp9s1fkP03WmG6d9lDumhHsUbvtOLaGBXWtzDMNM51x3ZTOPMXMzk1ao8SdwSC6SVTZepW2ETBw+i78E5gUVbqICnujliHVLR0kPw3+oHSZ6OWLd0lHSw/AfaocuSJgvy5eMEgAAjEQYKBaPBnZGtnIkTUQiyUubjjIMxBSKcNnwER1z/whhtY91rbj2hXUPxDuzVnxkdgdFLjt1fXDenNKO9AmxHB9WyueLjz29xUmPgjkIQaQQwDQRbgmeVBdPFP7oBWy58mWUl+QHaoePXsCWK19GeUl+oHZoFRiYTVn+IQQJAABELEgoDBVG4yFBMA3TQqd5HhcWx2HMkLmaQeckQ5U/YkN+mJK4YUaUIszVjO37RfbemvgFAW+t5mZjZIRd1dl+3N18m3NovIhfI136pl28AHGVZAw3Suw9ASWLCj7oDeiZYVe8HD9QOxz0BvTMsCtejh+oHToN5fLHGAAAQD6ZoWmiWU3zRTQi8uXkDJhtRpoTrWlaSDJpU0Y3yi5adNIqoSZfzvefNdNtWI/35f9syRJV7ym+ac7Or6WG+Vr+2paMszd+gl+YxVGikrbzmCpNIbexUqkOkyRtuwje6OXFeU+7Ej8dP1A7bPTy4rynXYmfjh+oHToN5XL5UYIAgEQ2I0MMJCN/SchNAznZ/AaamUiZx7EZh44tPEujFttsvJHCd+pPGQc3p9dtvHRQyJXZClJ8TPk9ujw6qNXc4OrHfTJn+xE9FZ5rG1pFJ8lzrMn5x+ADQR7nxiuCGwkAHukl5H5lS4m/TP+gdhjpJeR+ZUuJv0z/oHboCgysl/+jICIAIB6NyAEkFCpwhIxoRpLm5os2JE2alyTRJJpIiYiR12RdlebmlLKiRO7hEB4ls5XpWbfOxv6/15uqbG2ISzPmdz5rlTeyQmlPmu77219XKqu3HUU0FH+3Kx3CkZEGTEEkDxEJPui16Z7hGD5auEWuPQ56bbpnOIaPFm6Ra49Os8z+7AQAyG3SzGg2sklmriRfK5s/m+bLyMlpXm5iNgzajmnaDiPb6bA3Ialrecm9WsPq+Pe1vO200tCr2aWoseTtNm88758xz5DIhKY1zIXcitjKKKsOWtBFT6m7hjfosy+k1j7o//JxEJCw3DQCvuhV5bFntzE/HW8Vao+LXlUee3Yb89PxVqH26DSUl/8BAQAyNUc0ImLAnDbJiozMyMyNvLzmJE1jnjGM2ozM1Ymqb5J1TG9q3cyhQP5gvvCaAmtZK1quMsS6G+8YoVVqSFOV3z6WuK/XChN3b+IvRhheFwcQ0urc5Nek74Z7PtjxE2GX5wK+6OXZ+tjbSB+VCLXDRS/P1sfeRvqoRKgdOuUZW36GAACQKW2i2bwkSXOb0WyTbGaS5GYkBogkjf+cb0c5d9nYu1PuyK9Ny0c695AGtRJdmYGY6wad27dGE4b++nCkNGKDWE58dg29F4ei5P176Vxrh7A2xCoMn3qPjGIRBG3EPzUsPuhV6J6xK16KP6g9DnoVumfsipfiD2qPTkOhX54yQACA3LykbRJpSNPM/DlJ84QkI19us5HNzBsyj4Nh6JgM0e2yymp3rFqEn6OZ91f1eZ96ZVobvRJGbWytUGNmjbi/Vb6XvDod6o12R7J+KuszzTo0/1pzQ0rcHCEubuPMytmBT55XAvpe6LXYnuwYHpL/Zrk2LPRabE92DA/Jf7NcGzoN2f9UkAgAkE9kI81IUs1p5GVkRmjaAeTPzRRCBp0N4xgVGzvGQ/66HxhxOISp2XYa1efwP2PdcyCNK2TsPa0Mq3bdlKQyr3/U8iiZTO9oA8EoeVYu54OAYWUfrswnH001AqBLVBwB/uhFcrnn02gP/IPa46MXyeWeT6M98A9qj07Dclk+CREgAECG5mQzkKTZtHlkpGmaEwNkZvMykozcZJ6NmMrQseOQeeuWn/aZevToMiryhvSi0GPYNvSMqETHwee9y1E/EMrVvNrXzvrUm62W7EXgc0OkSCsIS5guR2/Z+MFiF2kDvugl6H7Jo/hVHOphuOgl6H7Jo/hVHOph6DTLJZtNKQAAZGQrjWwj2/xykzYrmzYzc6CRzQupLgxjzWXK0LZjN5/enQo3TGIQUctm7v+995mfH6fH55dIkXHaVeqvA063gMMr9cpTbcZ08Ej5Xaf68UbUJRXObp16P+5aSCXdu3ZMpAU30gLe6CX9sedT8dL8Q1oPh41e0h97PhUvzT+k9XDoNJesUDajhAAAkBlJkmbk5SRJGkmSmaRZlZFNBkhzMnOzTdthGo1jx44Z2e/0yZJr8r/U5utn9RvaZMkKjYv2nZXVhk92mK8xbnqIMqHDF0GHbHlY1972aOMqEg3W5HKjjjjk5i6a0lWGo5+gL78IAN7oRWy58mOkX5o/RLXDRi9iy5UfI/3S/CGqHTptsvxJLkgAAJA0Iltp5KUZkvyikvzN5uuASRMlLyEjaEYkpWFs0BZTcLi2no9Y7+1mz/1k0zEc7/7ZMSVM/hGN78W4dxPhhdwdzw75FG+8a1P+YUimH8nQD5YkC70IjFTsmHKwCrIU2bgAvugl8XLPdqN84A9qj4teEi/3bDfKB/6g9ug0XP5nRAAAkEgzNV82L9uMnGw2H5qRRGa+AdskMtOFkWibIaPRON309Gl3v4V1j38V74fJrmCzu/t72Z6umz8jpHvd8vusWT7Np9edf9FO7BhX572ey6om57HZTgaXtC09pISSLvd2CbZkY04BXuhV8ZFsV8ov/EDtsNCr4iPZrpRf+IHaoQsWhmVWli+JCAAQKiSCIyiUZfJFZIqI5gTZ3GQYFscMHUiGaFHcM0nPEKNtUkrEsa5VH4wrpHRZsnTFlVnpEZKnT8Se4s2KG4ZVbFK4bfaJ7lllfmU71o9ql0sfJT9NEcFCwSJ3g1UoGAD+6OXYeU+7Mj5N/5WoHT56OXbe066MT9N/JWqHLsjEcHl5wSMBAOKBYmE8cEJBmIg6kjSJzOgAERk5qRydMtBGW6MtwzSvGmrn/evXnnev0RWX1/amqB0y1e2tcPq93jGMj9BAnOaylFay7vXMNBSEinpvvNqMpq4nA0asVvmoBKsnwsIR3uiFYt43XQm/GhBqj41eKOZ905XwqwGh9uiCgOEy+5cBACAMosQVIXQQRqIBGdJIYqBpIiKiOZkWJIOhRsyat72R77xyOpconR/RtpRGExnmWmTKm/z8uDL3usolhoZdQ7yG72tl8kj9rH0J0nQueWtEWiHuOoQriXa3hkkVR1p2MVAiQqQCT2dnUwAAQPgFAAAAAADILQAADQAAAJ1aqkMei3p+h4aMkIiLkpCJiZWLkpCGhJaPjY+QiYaBi46IvujlxLmPu1J+N90q1A4XvZw493FXyu+mW4XaodM8+88AAABk0oycNCdtXmrA5svJ1Jx0wJycbF4jT5KpDe2QMuR7mn15yu98Q/vlrPd2yfZ3e3fpWbYMkt+pJ2nGT9im6djRa6m943SKdZYLq67t7ZW3bk7DGtkqZeSTbOh9wIo+RqyFS1gS92YrAN7o5fBx2aWM3zU/UDts9HL4uOxSxu+aH6gdurBgWP74DBAAwIoS2kGQUEAsSpJm5CTNyGakzUnlJh3mhSA0re9SN7LY5y6lXr9F42HUSYdUUyQj3w/xsAnKgSJcwR8pHGDVEUY4SAjZiMaISmyDwanjTh1cF7jJdFUoXujl0ZpsKuGFP6gdFnp5tCRbRnjhD2qH3gAYSpllsw8IABBGiNvCDnGEpGE2ScnMk38g2YimQ9VMMiQJx87BwZefFF+vZ3PhRrcnGVHyx7FMWjjGoGt9VcczxUP1oq6VvaR+d7SYJElOCBgHuCmECG5XuiNDRgu3FK67QUAXPuhV6ZphKT41P1B7XPQSbF35VPxS/EHt0GlYKPuzEAgIgJPMs/OhwbFhJzUdjDQdthn5K7tMLSTpwjSO5jJCpX8UhxHupyE1nLfxj9xrRo90hzA5QBLjOzpc21DKlGPM1+Z8gzib5A/FEOPwGempPo0H/qE6qsTgYqAdEE9D3jaHCXrdIGAAPuhVxZp8V/zCD9QeB72qWJMfxS/FD9SGTsPP/5EQgNw0ozmyGc1pZuTkyBcZKUm+yZK8RLPpOA5zkSnNShwRl+fm9q45/U/s+923d+I44uuk6g8N6Xl6Xlu73Ahv+t112GZRY6brXsonShwz4eaTZqhI1soTgvcYU7jZIPklDCT3y6wEBQne6CXYuudHSQ/Nf6g9NnoJtuz5MdKl+VOY2qELBqJlzv8jIQChFRBxXGEsNBFNkDRlMImMYZqTqVhQcEEK5BU0EqvEnl6/fL7Iu48M7fPX9GQ6qnJjiWRArKrd1/cwgNL9xJsrZbyWF1YrhbvridYf/b5iOjgGQV10sZbzftnzCCEnlhX0keNl4OJCG37oVdlx2qmM1fQfaoeHXpUdp13KuAz/jKgdOoWkki/PSiIEIFObdjAbORk5uekAmdkkGwNmM9LcjDQnm5nkVm9PvZ3yn3slsfbqfbvtQVyWIYBxjRtLb9YK8Xluzvc7pmfH6bhHdcKkJO50COs8TKVTmaZLMu71WqUMOVcIEyUcC28xbChEwQoSUKKqFy4TAB7otcSSYRoehj+oPSZ6ObNswzQ8ND9QO3QaSvl/SYgAXH0+H6btthiOH43SZPtJ4w2cMUrkj3w5GbOMmBY0CzoYk+DJNBjcz5X76Ly++yyZRhnN9JLuqs8pz6AcQ5S57FixVEI+xYb+Tvf4MR1456ZUp5VBLq27DUOG6xd4XoFKYBMKERGYVABe6OXElHEa6VEItcNDLymnjNNID/wHu4lOY3Vh/0QAgGU1ts6jLWk+2ZKREWNpZgzYpYfJPJ0shklo2qS4AtTPyT2fb7x7u5LqY+Y0rfZc+hvjzY/rvk8hp/daxm3YpMtoC34D1Rcd8PxJ9VSV6p1eRWxmiw9FO59uWsMtar3ncK0hs46BCfmrGqAC3uglzPzkx0gfmj+oHUZ6gZ/v+THSJ/5B7dBpeKX4J6EUEEgky2MhXZxmpmm2adJ82dyM5uXP5htQM8ZnasexjcwNyXPYndab/uwLYd/c/k9Lb5e7+fJyBjUA8r+eHYfKp0DD6nBHQ9yLlABxyAezl2JcaM3yu/xaVqlh3DEsofhYMP3mlvpw+YAJjn6hIKLCHQB+6FXYcpnd8KH5Qm2Y6OXFctrdSC/DG2pGp33O/zMiQCCXWE0vDCRLVm6mhUjSrCR/ktEkOp6Jg+m4JEAy1wsIuFFkl1qO+XuPmc0xSCF7sKEmSoQy0CtBgjmhdHvj7nXqI3Ych28M54NpPv4R/ESP9zk3RmWEkkbjyMpup+Ry7lq4/qaIyWLvoECBkxRESADe6CXkfGXHCJ+CL2pt2Ogl5HxlxwifgjdqbeiCgKHk/2eAAABKBChCqLgJAitTGqtm5iaRJkkSebobOq6TFnF/XL2is5u8s+1cu5RsSPBarXp7KbPB2+dXzZP5W9Outym2Hh6u+mKEMt1Pwbn3shBTq1iFn9W0Zv9Ts6iMeiwWS1yo+KjjlTxEAB7pBWZ9513xIfhDrj1GeoHZ33lXfEi+SGuPLhiYZWH/AwIA2AEkiGUEoRTNkg42c/EAlQ7mZLOtsZ1Kaxbyr/dl2zmuVep+SW5GN2XCan/GL3bTJQwugXTfhCCcXjLN7vPO3qfR3M/c3Wc0KCH8QRkpqGuK+1Myk+cftI1UcDzH1e+uH47WwQgR/ugl3bpntzEekh9raoeRXtItZ3Y74yH5s6b26DSlVDn/CwEEAOQyPplOs5Fk5oRsZDOG6RSzubKRk7MoJyNjY2E2ho5iGDIN++rI2B/qtWx23rKN82s4KAHXLjU9pbf5faUcZKIaRk2PzCKyheZtqe9/+XNqmI1wfBF0iSmU1QzU1Iuh83YJjOhGV9LOmoEPX3y5IAH+6CXc+qRpeJh+oHb46CXM+mTTSA/bG2qHVmxs/ukREYBBrxZa8zrbFzPNaWZO5nxxO8CycxLpKNOEJiVSIpp4GdO7Ol5vvCLRu5hLtzvJPt+/Wh+PsiANLwG1WVCNxAsl88rV4c2h1zW1+yNsU82skl7jpIyaUhXi/9gP84pwV9tTsVl9dwgGCn4AnuhFYnyGaaSX4h/UDhu9WI/XMI30gT+oPTrNL/oXQkIC07VtvTA/fuLqi6SVLEqXlU2zEZnZ+UDz1J6MlXFapjL0drd5wx+zyWs9ztsZjv2eT+NW8VnhtWj03D39463NDanKiAYh2Y16a06dpTSayu02vOLWe3fSNlUqYlPnVUqNXbf2rPypLmRswws/4EJaAQO+6CXEdJnleCn+Q+3x0Qv1dDfL8IE/qB26wGDy7H+JBAg44lplx4KkljApEYSLxfjNNCNJovlb0xmHYZyLdtMkt2FDLh28RwSZlJgEwp+f+/SE4L+MVQ88up/rbUP457M9Kb/njpNj5Xrh0MBiF1YasRbTqVItuVD/EUpLphdndTcdHweyGFkOm39LV4IRJQC+6CXE9M6m40PwD7l22OgFcn5nzfCB/6j1NHSBxVBJqf8HBABQYKQoSWFUMUKFWNiSxNTUkuyAstF21HGMiaS9smgyNGEb8xEF26FkHu3NDrcNzfOKSJUA+FXsHXEFX8OnlLukyzHdm9INaVssIWxfUy3JqxhLNagylnt2Q/X0iCCK2oZEAn7o5c28jcvwwH+oHR56eb1uw1I88A/q4dBp/+ofEAAgtzWm2czsPHIjM40xeWajuXwjS0SyIC8nQgSzlGiCQDFClu3Y0NjgjiRmB/lUt+5qEGdSh7rGxpjicxSIaha9kHan7y25lM+s0pMMtTtBYpFsjIqOd4QRPbU0bwjwcdN6mGgaAL7oRW4682X4xA/UDhe9yE1nvgyf+IHaodOwWugvGRIAINdgRuUsyYomizNG2ZwkmWfKyRxw6YwGptXchWGsYUySESd0ll/4nX3Of9TQBCQcJ2u71E2KcCz1PA93kk9i+w1fVNe1odXPL+vWkU7ev1+VT7n35uefsOJoh5xuPHc9gxrC/aTJQ1ZoDfEB/OX7OtSx+OBGAN7oBXr6ZMsIH/gHtcNGL9Lz2y7Dh+Qf1B6dhs//GQAAgCSSjFma0XQ6N2pJNsI8yQ5kUUZums1Mc7LD2MM4zx2UaP9zs0/WhjHfu3rz+6aca/G4DbmkCpTu5MB9BPENR2NzMGpuhVSN9PXftC3Hu0mNzzHr1dgSjl1YpI4x3qdyQ9WbhHlOjWytF/MXYqcE3ugFbnzG3QkP/EHtsdEL3PQM0/DCD6LaoYslMGy8+mUkAEDYEkaUgEjUIYHDDGkyGIm8dEJOmGeOk3lqOo6IZf6uKzv3NR+zgUgOolBhsBi1q1Z3/HXOzWfpzZ+f1eoOPUA9EdH+WiNRvh63d2Um9R4acY9SUBsN2/wjL5MUSPPeeyHhOfjSepnUgYIC/uglynJulhFehn8q1A4fvaDM18U00qX5Qu3QaSn68o8EAMjQzGEnm5CkSTYZjeY6lpuTkSMz34S0GWl2GC3OknRfOlRJRMO6MYyyqxE3kYdYu+nrSu2+Gp+ztTmWWYq/sHu+mJAxnilszBMyootVm23ZjElVaqSxG+LIVtx4DnHkIPdYYon+SJw5J7UiMQDe6IVuuoZulE/FF2qHjV7opivvRvql+YHaodMwW/K/BAEAiSTJjDSaT24zcjMyY5RGMjiQyHZJZGZmDO2QtLNW6lcvbSOETKZ5XxvfzF/dkaXefitkUra8N2V/y/TtjDz2a3fLvEPpXEX8cQm2sTzmSXwfc5+U/CYcXMxdbjK7o6SAkORIvHtlczLiC9RLhQA+6WVxug/dSB/4hkXtsdELzHzl3Ugfhh+oPbpgYVjO/pIAAgDCYsUSCYcK4gmiMbZ2YT4r4yJLMszW3KEdzTownCY3vv5xjbFNyWtPko9l8wlW/mhaEM/5nRvGuRYr7SsVIRP+ONSd7Kbr+Hq3vQba7HbTOtQRULKX6VF4DM6sYJVBcCId7zkSAN7oRW5+hmV44X9Y1B4fvcDP92EZXvgfKmqPTsOXyy8BAgASaZM0zSM3zckOKJvk5WU0JyMnU9NsXjImVVNINM8I5x72fBxPkA6X1eVtSw2Gd65faerfOKoiaHZq5NeOX6NfK90wxH4WYZfHeGSPo+FSqpK9W7PgY+UVMVvLLjJR8q8TCR8Avujl/HyNy/HqIGVqh4tezi/POA2PDlSmdug0s/8HAACQMRochYw0NzGMiU1y81Lj8rLSJDMzv9yMSnROkqEdW81bsUNGOPJF6q6P6N45/JJArN7s47WdVI2PAQ25eo40m6E6hj8zfmHRqrbcqxYp3GC6Pq4xF4So8aazzCgpzKME3ugFbtnHpYRXSainw0YvcNM+LiO88B/sJjrNl6zQDwAAILNJVmRGs0lk8zKb5C5qI5KcnHw58hZlGAdDBxaG6DC2dTh+3946Dpxuz6fGXSxqKSnSURKcn9meXLpYU+K/Y5QYkSOuzxc763SW8pq7qP04yzJfdyacKyFmzJOty4dQrmfvU25IweHFAr7oRXK5LpZiaeAI6ulx0QvkdG2n4WrgCOrx0WmYzZiUn5AAAJEhzSYZ0enmTCYRsrlBmi47I5vNyGnmMc1KrVZL8nWqc8Qnqd1Jg3/ezmgxnq4UNU3etVeNB+s91BNlkF99vOjzpOygbG3Ncv2DxdW6h+LR/eoSa6uOcD+22cJNDUeTSBHOWg9hJQkKLQC+6CXNeuZT8WhBqMfDRS9p1jOfikcbQj0cWjGs5sunSIDAQrNZtDhsGRcWjeMkN0/mWEgHyJ9kc1IxD+08wDC0nRGK4ctmNJSzfEQVRF5D997psA13ql37M1aSalogNYT9XOnr5+qYy9wbJBdKTbBft3xiX3GDOXVdYabvE7y6/ymTi58K1wUfT2dnUwAAQHgGAAAAAADILQAADgAAABKL9V0gioaWj4+SiYqLiYmCf317eHp7e3hvcnZ2bnqOf395eHl+6FX1mrQbLs0P1A4PvapeY3fDQ/MDtUOnvVKzvxASACC3SdOmkZlE2/zzZkTnYUmknRr5EoMZ+TJCZLWhjZTE9vYL2+0lhEpAFlNSMEIISh30pmXX1pjeGaPTnvI1phpbagems+rhW9zz95imMyWNG5hRtzMhKPU3kazgP9U205WdduUBiqSECxce6QVmvDbHoSgYtWGkF5npGpcD/gWj9ug0lJf/jIgAiFkSE7ODc41FZOZLKh3fSvINJDOfNJ2rQ+cAxo3iml7XNLYZ+2od7rtD1fbFW9NTct1aqjwzglsctxuYfj5uu7+f+f+W/q3jbVljVUOvZyik6LvbGDGmGceR9hHya90kxym2AFSJAn7o5cQ80jK8NP+h9jjoVdiUbDlemj+wW+g0y7L6WcQEJjXd0OlFTVJTzhdPTWZJmicdTXFSm83I6jLZjFuVgQ7j+f7wgcm09f0mnZHdk3Kcj0zrMy2+6Up4HI4r/l17n4caKZkvkGmyb1e67Bmv01e459Fo9Iydpm44pMRK+hVFVK1E9vhb8S97orAiTwIXrIM3oIX3AJ7o5d2yZ8fQa/7AbuKg19JLsmPoNV+oPboGYMqr/xgQKI/CqtykaCThIIKSBiPZrjH9gFkcs1OcqAxHg1ZHY84v4k7s9fTJVuta4zXMcpOY0VA23RIF3xMThCbEie3dN9Yx1T/Pzm628flxqOZro73hsLyxYsiIrDODFwapFXf5tA/rMZAfGbpWQFWA9/QB3ugl03KNx3Ap3mFnasNGL1mWZ9wND8nbQm3ohSSN5f8ZQABAwJTmFWouDCooSKOD48Z3wuRpkkSj47KbeZhmreqQpELg0O7eaYrcImVV4r9l5Ua+rql1JOH193YciqGuz2c2X50zjbNj93282WeMF+w7nEbRSat5CMJ0jEVLX9bMNKF5qlpilxJjIY8ncSM+6FXYnHEaieaG2uGglxdThm5YFTfUHl2ChVGxGf8zwAAAjhQHClOlAUkE0kDaGEZzIysz0rFxOnYcj2OwTOvzinXkBGpkdQ4N7Vb6up0UYwfP1obpF6PhTUiTML/G2DTOG25IZa80mi+lR0ZYUX5bDiR1X/9wCZXjwVlezXFTbLg9ZSHO1G2DKLpuySdACap7A17o5eWyb7qj19xQMz56gVuusTt6zQkVtaIPgyAlDOVM/gdQAIBKGd2sbiIkUoclAmZomhKoHAkzL8CcdCzG4Ido+uyTs2y0UlyT1f593VMO0Q3XrSMfUnb3Uux4+8VMTI02JVH9nHqoX+XCIxHruLl1AmWJ3PRpiYj2E6MxXYQfRw6wjxvoBAAAvugl9XKOyyjwhNpw0cvp5RyOMxgO1IpOo7z8cQABAMhs0oRZ7lhIluRERpIR+fISAymDjYysNV1OMi4RHJ4oljqVmUbKjTrdSmtMXTd0XB2WoPm9cehcd2o16nxyNEzHmHnd83pHLfFdzHXXM2XG6x3xlnWvTMYN2ZoWidzC5lLsqOyiXZQNjAIAXui1iDVpNzD8gd3ESi+g62OWgeYnNLX26DRKtTD5WQQMAPD89mqJBh1L0+zkA6YDLJ2bMZOTzcuRlHYYXiwVaaEUEQlFv5yk44HBD4M0GrZS55iRi69t47n/i2dNya8GMEYD3V3uWc2mHOtQiNucSXS6AdGzRHJVSpC94ZgCTsv48x1s7Li3wEpZAP4oVvL3PX0Ejj8PScJuYqSYz91X+ggc/z0kCbuJrhYSJiuZ+ghBRBGAuqkWkUQ8EbcdEaGVHbgWZqeaGhnokHQY5hl0bDT5Z/NHv2kwHBvCUKH3lntyUk46PBqemCRQoJw0jjF7Bx+yx0rYpWB2OBq1g0O9htoPj5UcPx3wymDfIfVcCLh8Ag4D3lnmwy9dDqHasqefSPUh1B47y0rwrd0hVGVP/yLVh1Ab+oBlkJicsYx9JBwJiCDfKMTGoNAEcQryoQmaE4Ggh4779ODYeRjjy03hkXX7v/INZJbsC/xgd957s+i44bhqsHc1egbgRhUaehrycHzNfiqsIOsv9vQCeStP5EoGuhIiE79IuSysggSeSc6om6FqhVD6UzzCM6Fu42Y5tDatumVIKP3hzeaCCTVFL7Atk/9SPkgEQAV2iwQmaK6iSy2VTJ1PmVNDw7Ht2mGIdGEBTfHCc8MiOVEW/ECrlng3Hut6bs2DOvi0K2ED77EpD51WXhfRjplD7AhMaZU+dK0sCrCKTyRJkBDhPToBvnlW7Z+9/dCj9X1Kp6za2IlWgs1En//r0Xq3/86sWjO62gBbXhiPDwEBQABAGhQZgRWPR3IigsrIP9nSVDqolRtilDRpwhfXOjzpffm66WWpd+Yp5EA94s1ZuQnQWyJVAQCNGQBXAQu3b0j+MmRQ+blBMpQeWJ3wguQFMBJ+AB5qxuEHoe9P6rsxUNOiZuw8g+wn6PdTesd/EzVFHywM9ITYiv8RjATSTALUGGUGVQRhPJ8UAriVbhiEyy14/pnGueJ2pHHJGceaQokdGmLv0K3dCACk8VG0x1sNAGKHHIleI0N15HsQOabBVSJ0J3IYwCpIfqwAnwA+uhQW3qmGwRf4/9KuHjKgsXTN+G+c/7GM1dN/jUCopugedtgwDYCdF5qjLGMQIAAVAmykDcvAzOjxikEUEExqtqF0WDELNHXxgogt6bxPbAX1Jp7aPrs/FotHP5N+IEjHgn8zayCDmsQA7OAJguC9J3jMoEMCz4gEbVgWLhABPvpG4W/haXS84qfpbZ+a4itc8JtZeBftHj5s3wgPfWqK7sEClLUCYMx5tZwwAAAAAKTgunJsWgLLOCjNjACQeR7bQvYShLigDPLhTvNPhgOsWahxqIq/AQTxffQB9Tw4hk8sxZIbAhyMWK4SksNWBjkiAaYbQ4UjPgonM7+Fb+MdL9PT5VvFmmJpnAw3s/BruONht6dLtw41RR/YAO1DMoefYcQAEAAAk+Ky6l4sbcIGEAQFRbleQR5As8WQFsfgZI2+TpVO581LLDtG/Oy3bgqQcoFVJj9mM7FYcU2/BmvJcoymCwDrj2zFigLaAxU+WAAe++bBbwEly8foH0J7h9rmu9YUZ+Ec+CWgaOkY3YPzDbX1F9cU3QAgGjKwC0ll5uWEAQAAABAA7rEQgdnyZJY0aZqTGfkB5KWJAig2D9gb+BKcEqyf31TADT+iSLppC4DYb2gj0gMc0IBdjBcH/ev4gwxECV1wRx8JjgD+6lbBbwGlDO6mnvkO/x1sp5pi7FsBm1lAMcej6RnfUN/Nwrmm6AYAmiuwSCaz5QARIAAAAIoAIb4ZQY8GpzNnXZg+2YCXJ0CaeVoHQFZbE8B5ArdFn3sHB5zfUyC4uwzPuL6fMgHoo6zIMZCrLjyb2vAdN/wOo88AVwT+6sbkZuHhHNtL9o74RowTNcXYNyR/84j9mOEle0d8Y8ZCTdE9IADIqFdxWhEw6pgGAABEAACEWRoYAMXHBQIAoIQk2ACMTRwCUFMsAHQSAGLKBkALNWEIABOAMk41AwCApV0EgBu495/yUAku1EKTJpW7J5ClQAS+2ibBHz5578Tf8Y6wo0LUFFvdiNgsvGbf8ZvsHWE0cWqK7gEBgGrWkgXmTH0GAAAIAABAr6xiMCiXOYABYdq27QEgtgWAZMtc4JcDWY8AVg6uAoAsxyl0JABXMrZ/MC1hLVSLC8sRBHJU1oUfQAI+ig6CzRZW0M74TajfUKPFqCmeqoNgs4WteGf8JnXf8KPFqCn6LEyAviecSZlUlgAAIAAAVKZIAEJBWBgYGQFhWI4mAiDeApKpKVhf2QT/TrijVpC/wyjIrDC7cZ0LB/cEuMZvcwYcCgBKXDqy5vmciCdeeR5m/wXxPrSHZ/wRt8jONcVL9DB7s4J4bsbD04+4Rqam6AMywGDFilSc1AMAMBEAESs0AltBfxESmAgKlMshgOpyKgDpRAWQGQCaBYCJwA0/wKoAGm4QBKkEZkRxCoaUAO6mQrG6WSCw2NJZyFLgBrQuF5gA/mnOK3+EIuArttW3/EXcs8qhXsXQc079A/4/lMU7/YTfhB/qVfQCy9CKqb5gAgAgAABIjlsC5HAw4gBiNDbgFCMFyDCs5gJf1ATjDIBI5wGAiQEgE9hVYCWwtNKKN5ETd7eP4BgQ6wqkseCJeaCWpH0hx3cVIh6KtrnNjIj/Ibx8/Qv1E6hPcVOdVTazkIAvPr39+QTqVXQP9AlArZIwm18SAwAABAAAZaKWwZUucmsYDBY+RzIAi80SbjvZZY0+pwroOA8BbeRUtpM74JZdSAmqQsgtx8vPF1RgbYo3k1kBKPkAflkOrM0E/v+EV/8lOmbUXzHzbNubCeL7CR/+lf+OGfUpeg4AyqZFMmxWXC4DAAACAEAEIEKA2SUUxHxJ88ZnBmjsOw8ZQeiL5y0h1AWGxYztcpWCo09YjatpYKBYL4RgBSVADVz2B1a5L2LdRR9tcGqViwTdAY7h3wj+OB7IPJQJpXLwL/7zeq3N9jqMLOfDZ/onVaP/+Z/XK22216EPbA+2xyz5IyIRUSIkEeYAIChKNpHVGCGJZPqTxdBWx046gnUzG26Y2WX2KNT7m1pZjQL+mCogZQLYEP79999/79RG/8X/+f9xEv2m/hvHv/9GXjH66/uu0cVuw0AAlTh58F/AL8R9U5EA/hrn2KYRQNL5K4TeN72XoaDcJrFykm26AGLnVyl6p3/eyxAoNHFJbDKlLAiDREiCSBEJlEZKq0CW41UiTaJGYnrC3OJFXcgXLSmaCdR/dsZ/QrgNdNqdWrYpMP2QzzbPCssaGcc1KZR9B/iac0ugIn57HoSRvwCDC2sikECCC97aJsEvXn1ff/k39l/orMdD4+qbJH5xi/v1V38X3z+uPeSpiRsARNQzGVp4lRgjjJQIEIiOYCASnXWJ+UmRxFik7eTTUy4CMC8F+BJotqYA2BQAWbYDIA0cjmrCUB7gJvbS/xr49k2KwLcnvrSnAH7aat4+qOpwsIIqAxQsRBKe+raJPwJQf49WH6anOmqKrXAVbRYBKL6l5Yfm6fIRNaMbABS1RhgKicIVnyAiEiIAAMACXNMSIsRwaNmL8pKIkQESgC6mwH7AL8GvBA8Al0CRXERCZ8AItsVtOh8MiriwAFxNwbRYhBWnIiHRZYARfFbWEawCWhAB3toO4V/e+R/TZXqGf+VETfHVHYC/3H1fpoftGf7VY2pGqwMwFC5kRBNKEiEhUgIAAKAATVcZaUo1HXgACogCXvV6WqIATPMI8F3gAXQCQAfoAjwAJIugAJJ6wA5ZgwIJyx54vfwlAvwDrMAUBAnKtK9VQBZoLvADvtrOss3m9+egE9yh9uFTU3x1Z9hfPr8POsEd4W+QmqIbAJyowC4WZoESITAlJEABAGAiYE4fMvRocGxRskANdFgCmCwAUFACIGkAkC0A0AJkAKAEgN26IKCHAAQAMgUA1zVcoNsEYsE6F1h5Eiu44KK4FgIuzhXYDE9nZ1MAAEAABwAAAAAAyC0AAA8AAADQnoIBInNxd5V3c3SBeoB3eoR/iWt4gHeMd36CeX2EhHeCeHR+eX0e+w71H17/DqriGf55S01xFh7IzcLr30EneEZ4XqWmaHUA1i1SCA1gg0SERIQAAACUwGyZVboRCZWngAqKBLoJJgJF8wP0H6gZANZGALQAG4yAvIXGOxiMuQDYB+EjEr12ew3QbgpAlj43cBVIBGCxDKACPhsPzGYWAPq/Iwr5HWpfdtLWFFvlOfEWUBj8I0v+68uW1qfoBgBFJeGApSEUwQQFAEBEJACAEMGA2t4Om/mCwavZUrrPPwZFY7IAoD0AiJjGFoB9gF/yAeg6IHQJAoDaEmiRQLMNCLsIAJ4QECFCxY2eCs+wzSIAjPeQF8FT31hxTXE1HrLfAkDxHKySpwfrSmuKbgCQ8xEIwVJCEmEhRCIkTAAAqwtQCGE7IiFtcqXFSQ/7nGWw+z5I+4PpHLIVAATLl4jwFpI2AIRWEQCaAOQANFjur36BQ3tMVLssiwhqoBhQIBApAD45zvL/Qn+eimbJT33ipKFW3CTb/D8Q674rmC7f+tRJZW3gAouZc67445QAAPFKdUDteFUQ0lR56tF0s0YYXe1mPpmVVuaMuzJoPuPmQ+Pt6lzj48bRfwCq4oJw5FwLwIoYBOTW0TtBhEowHa7IdZIq6OZmwGpgxXiMEYIDvTsQg3k5zuJgWf1XK/ookePqPE1Y7w4Cvrm2+L+Q7r2a6dJbAq2m+Mnmlb9gzqkWdN4S6GqKfgCIWWWClYTLjBRHCUGIRAkAEMA2guJ8FCMwCrsqpBkQ35sHZDMC0HtFZwwvSlbGmty0N2xsWwWuCKRMQZI0gU9kFYhjUMtxDPy5IkD2NIIWPwRuhDXoswIe+2Zis9Dk2ptbUD0jPSNSa4qxcMZ+M6XurcnE5zNScU1gqKboBdoMbXMRMRIRgYgAgJUhQZa2ElQBgYr86RQEJU03awFMQGNSAYhO0ypalPy6U64b7eYAwDWgysWUBcCzzyHPPoL91gj0YwJRxUKCigsJ3vom6B+6WKtCFD3z3NSa4RWO2GamybVXaNzvPHeyWlP0QwBEHdAHiynNBhojEhElAACD1hIIItUyxsZ0mwsDADJsEwVYA8A4BUDsM99VZN+QIDoHQJbLzQG0PCcAUkqpBKgHICH4HYzAIYYQQSAkgQNQGVTe6lboZuUx69jhN8EzJienfGg1xdg3T//winPaCgieEeZWaDVFNwCoFwVsYilhEg4MECniiABciGD6FYGIJF8M047mqeX5lpkKiEUnA/4BLoEMUwBQgaMo2cJTobC4wwSAKK9Z+o0PxHsBAOBY4Ou/GUpwBZeiDIU2ebDjL0Q7BAAe+raIP+yiH9IvwVNuq6imGAtHdDPz6jykX4p3+A+tqBBqzegGgIzGTKxbrJtMEAZEiERHAKwhA4SkKwC2jroQswidLABtMiWAOQFrAHS5BQAJAHN5SJxiE7CQEdBFYAPGTMso2B3B/gMA2EUJBBEUhgEGfSEJGJyCAD7qttBmZbGO5kPyFH+rtKYY+0b0Dw/9aD40z1DjzxTXFN0AoGgiMLQiaqhFWDAiUkoEgMEAghoS0A4zsjEbaQc2AMCwbauC3hfQ1RoAJkYBSAGgmFKgiwPoFgF4AogA0AwA1QOwGiDTuQrg2lUAsHCCSFSgsIBArQkDqtUAQiEBvspW4F8e8Rz8sr0jznqoGVvbHNqsHL2PmX6Z3hFnOWpG98AC4ORUwLqQkBStChESEiUiIEWK2i5DIHTSzQQAts9uDEDlDwAF+ApwSnCAd6DfgeeDr7A6AETC9QSrgQDkMoCbdwO4uCjB0wjgCkhAiRGuADeHygB+2la4zcojnr2zgDSekkU1xVO3yv3l6H7s9LvmKVlUU3QDQFbq1cTQqEm4PkYiQEgAAAAoZHkPJiodV9WFnPzLHh+AcQLY8QG2DgFgxQBI6gHkSwCkCVhZX72ASwFoAFDXDQBuASpiuYHIkXSAY8ATPo1xoVBhLFFxAT5pzlv/APK/8emuRxC1w8xzTv0HMO+Ol9vRUItrQzcARDaXBWI2V7qESEQgJmABQKjJox0sbtpIEBkTBjJOMUkTUNx00DSNKp+X0TmNLiPphlf5Q52v8Mf44DaADwcQSZvWhZfuAiPdIGoQ3EBlr5tDuAG4adyXMIjUvEJyIDRAwYLoBj45znObBbL/Z394OtbU7zGznOP+QUjCnf3p3T0DrRVqQx+YADIYS865GtkEEhGYQZkwUj7L5wMQGJeG8aAgj6AzqKhNGQAfyLiZ4A5SvM2YR0HWEAJKio1uArDBvohLfIBYZQ/zWiCH8/4tEjiEdV8AAqwI7B6wclHuIiZW1gU+qs6i3zT7P4Rf3u0n/I+xUNK6FSvVw9U/kL6d8Mtz/Hi92J5rij5gwQSGz59RogQAIPNsSI2CfEE7RACCKpFMcby2gWxW6wDOuQfOM1phtafy93jg7nt02pB5GqeCZ3Oqu5rz0BekICXg194/P66AE5ahri+JCFR2s4L/JijceCODxcLVZwUQAF4Kt8Fm4WFfFdDxhJqxNG6hzcQx8xB+c/sKTc3oBkBGU+CwMW4qioiAAEAAADAWICnHAiHNppnColm+6aUCGNoaAoADAEwGgMhzivUdvqauhDQA0GRVAIcRFQzFRsIzuARExSgUbjgIuhIAvtomyD/s7T4dghbeEbbBQjXF1jciNwunzb0zBGM8w2+NqSm6BwaAqGTCaCisacBDIAQRAQIAAIQbmjKoigosAAiEUSUA0ygKWBoAxoUC4AWuA54ZILVBOQfYF/OyABQVQKdxvZWRHSBrAK5T6wKYNMk/ASxOAIEE3tqm4A+fPnuFgHeEGZma4qubgc3C6/upHGjv8OMaTE3R6gCUTTKeS7wkDAAAAJQBuur4pGk0YmHgFgBQ55AeOSIAFCslYIrbTigAIeu1Aa4pVrHyroDr1VbbJwC5we6L4abwuaUP0hgknCTnq1pYjc2xiOhmkMEK4BWwVGiCixyeec6om1mI00f5dPunqaam+IkOlM0sFE4P7dPTP001NUUf0AL9YtjMs/QUAABAs5AxhqLkkowBIKz7iUUwYJ4bQfkM7Ff3FpkgZJigMJbpm80aMxtL8KEEMKLJjLjY7SB1idyK04UDDFyZhBEGjWkj6YirAvVNG75pzqq/hdLyh1+mv6AQasZPdEbZzEKZ+CV9mv6CmwVqRh+YA7AYdcXV9AQBCABQhVImABW6IA1BAhNVUjLFBsUwTEMAqiQAKQBAlQQBKsGqU9t7L3UKgPjzb3STmp+4mW3KEkkZNyvoqpTJ7Oe0XY4xjuOTvt24bfRigtNz0iSU2AKVSzyu3SDzC1gBfuq2uN/CBzpa/CX5aupSM5S+beWX8Ja0G36TfDW71BTdAJDZkLAINf9TAAAAxhgwqYNADcZC5oIYn5EOkM2A6DAFADMAeQMm4IcjC+gMwCkWtyx73ocRMz/gZtwVMtxsWuXu18Dna9Be38PhgSnoyA8F/BTgxjbe2ibIzczLf5vxl9T+Qm2qnGuMrW1EbGY+ue/k37T5E7ap5FpTdA8kgCjmKAPWLVITw0skCgAAQBBJI6kjwFBgACBb4hQNQJtbgHuCZgsAbCkAUmCKFUFZAQEFA4gyMMUP5xVQVud34Y8fB4N0N8fBGBA73OQH0s4EAQW4YQtemlaU38Knw6cE00/Yzpeo13iqVrjNIrwLPpWD7S/8zpepKbqgnZhSCVOPkSghAMAA4DlLTmawLENExmGWzRK7A+YVdmvbYgdS1v+dBmywjaiqxQeI9NsRTkgFAKli4PrsacjfSo5FjVU3fNC5sKIJX6jRiivi8znMyMACN5ezFpgAPprm0WYW4vAt5ukvdDX1KnaqA36zCE3Bu5i3HxlqakY/AOTsSNDDomyMP0YAACEAoDhaGBwn1VQAIPWmNYAAujCFgCQAtBMMNEh7JZjYQBsBgxVf255N2E/GKBeWJMlJtxYhnyH0BH8D8v/MQe1Tjru44gXpF1gRKj6qzsLNKqwFb/zuL/14KF5qiqfrDN6sQj24F/DPO/RDqaWm6AeA6vw80F4czTMMFYkAUgAE1oDhccWCACNoR8kZgHRiRgAQAMnCjBJGgMUEDSLU1XodM8r3vL7XUEeu9TtdCCXc83ubTI4plxaj0gVMbYEVIfsBCoEIyQUX3qkeIv8KObhXMM/09YKZI6ophq4H0R+hPHJXCJ7lx5s1PdUU/QCglgEWlqZU9VCEEQMAgO0opE6olg0CpEgyVHFBkUVCkiGhAMzqvnujAMchKIlGasS3/2uvKK5EZv6bV6fXdnM7fvj5SZK0AjJpZtiHPlrAE8qYCSQekXATggXUEVAAPsrOcpuVO9bB74a32DpyzVDaDsk/7NH2AuZ8i60vDWqKbgDIogaGwopuEj0iEQAgoiFAaZoEQ0TH5keTksSS3MkXRxNl2E+oVD9wTnDC1wDgMfo51RoR7MtHwYYVTNWxEZVvOfcSSprovquypo3BzWJx356b38dAjBZpeEQ4m4plKigXHvuG4JcA1NZupE/RN9R+vrS0ZpyFY/AlAPb2GuGXEP5C7Welw65X0Q0ARaUMMBuTcEWEI0AEAAAjgaEpTYyCZtO4SYeDTFomnY0pJel3oI0CkDEhS49swg1WgdAud3DBHosACawOAFItgmhwrWy5F8QCdhHJBAne2ubBphUAxvsaYdGlf+H/2iSRzjXFVzcHNxN/ncdIq+ov1D9p6GqKbgDErEwwFJVhQTUOgRCAAADGgFTzJgMIs+z4mDwbY+YmJQF4eQR4ElwVBIBiisCW4AscYOXEVuoXVh4pedMWdAEDgKbOOrNQ+o7cFeAe8wN0egULHjsw8AAD3urm4C++vt+4RD/h/1aqNcXYNwE3E18/Oy7RX/i/lWpN0eoATOFcwsSHGAIgAkAAQJQgRJqTLqrQTkwACoir3bSKAMDiWLB67BdQhxkAHXCBuQa4ZtYqCWsAGrIp1oUrBQDQJJD1idbKA7yeCdAcYEVc4U8bV1AB/upWxGbm12dHJ/kJv0+j1hRf34rYzDxiHVTFN9Q+XbWm6AaAspgG69AtnBPHmBISAABgBEYJNwhiXDadnm7JOHWWAGleAEQJ3gADKwAN3GjlcBWAKQAoTACIKkRbiXBhC0YcaqUxIh/qiwhyww9/uTKIChWe6g7FZubR/yZk/HnA+cVNVt+B2MzcfIeQBV8PuH1qim4ARNSmwCLWDA4jToKEgBAAjAGqzoUhKkmbzzxiNiFfmiBqcQQgJgC4AkCxAQEzACgBUA7QDmFvYFEA6PBO+r8ekhSt3dUl2COGusqwtQJcr7H6y4p0An2Hm3RJwAB+qg7ZZhI2xY+0CP6F9KFpHF1n4S9hKfwoveBPnzRN3AMJQDRmwmiRrOQjEQkGAQBpQFkpCLKSwyILABieCAAwzDMAKVYAsAFAxoLAaA18gSM33lEk2OBGriGLDzRNR9MVw8ExsDKWhbzhE2+k63bGL4AtMEigfJ0K/mkehn8JPewnVM2/0L2+pWbsPG8Afgs19CFU059evxWuGX1AD7aNUUm4mmEiggABAFIdwTUmyCWHESABuWTyIYBqh5kCvhxAIgOiCacDTLGq0fTbf54AAO5AE9LkCFi3WEbrqOS6uHdqcTMAn7VZYihEfXZfNIJCTwHvFQBPZ2dTAABAgAcAAAAAAMgtAAAQAAAAHupisCCGkYONioOFjHR4bnF9gIN+fH17g4eOhI52d4aCdoWHfl4JHkb8Ug5BrL1RH6zWipfiYcQvtUsgafX2Xx9Ezeg5AFBfYsjLnD8JCiIRACAzCgbXMcYBIkSaJ99sXLRoDjORiHbv+TrPcDwUnxTrDXxrZRvO/5Md4h9FWsj5FM7x63H7UOYBaVYIzKN5if49vBZwePNNwSiQLmOeAU9Ypja1U3sRE7wD/ugN0IdaAVnXPkVvl4aoPW5+efxV46UuE2U/LhhJ6+HRCzvJKNUqO9IIkMAhQlI+vxa0EkFExZLM7KyDg5NNyGj382BNx7RD0vNlEmG4NXqzrFwKlsQS20fw+hLZ4UzTtVLKIOM43F6r/z7M8r7XqouFna+pJh1jSsf4dd+NGmikH1sypFd+yBC5tD8skwpMBT7pVdgt9lPaJ97IdhMzvby4KwYq7TfRG9VuodPQnP8PAQAAM9HoMDuQ/JnZzWZGNE3nEcMBI5ZMTaPZZmt0Z7DMUrhLhD0CZFPS9YdaxfB+rO5kP7mdeve9CaAGZKxSs+ptpKZ1vQmtIkP8MWqp3EesGYFirEyFQCmQgd17IhnaCtAFfujNkHcloOCFN9hNTPQO8G+lWIgvxdtMXT66QAtTPSsfjgQA6AFgsjSebIyqXjo1FquMpIPLjV9qsOygY2K92u0nk7r8l0lA8nduz6fm39yy4vzG7L5zDVF0ONv5ff+2h5y2Dr/hYSAbajvfaZ3TZpchy5FPJuwKZRcQht0VtGZtCEhXCsAB+gRZ/I0Anui1ydsVr1Q0wlsStcPGcIZ8aw9IlYHwFb2m9ugGgFAPGFZS/WkIAgCAIths5zG6B4uGyZLOd+ZsTD6KHBG7bMbGMho5TdrujtRZfAVr1MUFY3XZnAel/gtgaN6sjsYJu9m7BqnLuu/KvprdOL+PJfXvcKXol72xbLHwFVrZPRHp6Ch3Y4QIuEcA3ugNyddZv5B+4Ue0idpj5DfgPvb+M+l3/EhE7dAF2phLlv8nAECFqWyy/ixZY6LJ+MbYdCONpRfniCSIQ9JRamz92KDO9HbnOJZVuua6VZnBujFoHYVoua4Ok1JGiiqAoSfmnkdv4p55jlLvIhutUj8B51j1EW+FDwykGnMUoQA3EAD+6M2Czx4va+2X5F/IGruJid48+oi+jN8E/zRu7Ca6gYSe0xmJMKnMT+MQAQCCgPAfbck6umIWYx0JbTzwMbHFGrf7No0wNhzXHDHisr9SFJD9ExtSmhI1wKwhKSPdnM/QHMbRLk2LPswdrImuAwLFb5ZJmRXI0SWhyxEVx5IkiDS8Ai4AfjkO+c10ygdWQdIdahNrdmfxcpxRNtMpPljNhPAvbM+yVv+i06xmP0UKABiZp+2wEYsjBsxms3SWRHaZAcdyqqFkmBIU/9k12sqkWuKpXXTEYZcx4jofis+tFa997msaE9u93CPCOM6bqzYcrvq5g29fqCUIG3bGJI1QYzJCgZqtUMQR4KK8iJSb9R/+6ibpL3Z7P3L5zd3+Im7azo2vbxJvZo69b7H87vYXYa8lGn1Agj5xbvLTAQEAAAAgwohtQgUJC5BNlXxzIABokpsSgAwAmpcGK0ffLkcGjYIap2Lk7ApE4JUdrJW9KIYbib9JQt01k2MQlwFlFTXyieQMAP76RmAz88e+l+CMb/jdV5qcaoqxbwQ2M2+t0xGC4yfU7i0rUY3RDYBsEgmWpuRcRMIBAAAAAMAAPdYkjYCQWY1Kxk8WIIcaCwy0gEwLQkeK22wKgHJH9USyf0THYsC+2DQACQGAWgDQCbPXIn/v2ld8VEbI4ohdBJ4KB/gXfz73yqiFt+t+75ribFzIzcyf117ZTM/wr/tLTdEFAccmT+mAACAAAIBVR1I7Fwro0/M2pvFASQRJZp4CxAig01T8AtG+npHa7yMsU4DOyX+eSJlz4BcRgKR3C9fqhord8NMKAj5YAi6I3uoGYjOz2/0uYPiG7lI31BRf30D+Zk/7qQimd+gupU3N6MJh4WEA4bCcHgEhAQAAgKMllxQrEgBKGUAAgIlEjYs00A7QACDT1gAFtAAwowITgDpk/2UNeuTK/TYBknLpIrHCu2uBK4N/Iz5rUlBVrAA+Wc6om0lITh/psxEdhZpi5Tlj/YL8ewmfkv8ORVxTdKEHh+aKPw4IAgEAQICkmKNlAKbOIokY0omTZxKS5k8AIgOALRsAC0BZAEB1TlyCKCMAAygqqLLbjFcDUMFQU0o6XCkhq8pGkSRYti3/MVXLjdTxCKWqESNUoE45Bh4pzvObSckE+b92kFCoS2MlOa9sJiFWfv6tnSgUaoo+0IMQGErhOS+fBAcAgBkgQAbFig1UQCxMwkm5sqiz/gzAOK4FSvgGbLCLKMCUAiBFTg3MqzUIEn0h19tby+UAjJuhwA+k/OHc4mt+H3Fxxvs8jlcplQxM4EuCH/yNYGUAXikO1G8lI8j/R28UXUStmFm21M0kJOHPz6s36XAVaop+AUANkGAz4Sw/fQIAtB4OANTJARvjIJkwHykoFGp0cUMAg+NxM7ABwIYnTV4WaIA9w/jOU4NFru+yWoY4kw7VLGG4BB0nroSacvsh1nifSDFf66SqEbaQ147tG6FGlAjkWABeGc4oXyoMo/r+6JOCA6NWrBzn1G/FMFner765wKgZveCAXfGzU1YQAABAgEJsTIIyFiFyYgrDWf4kIszHRRuACQKgBJAHoORH2y0LABKIe2uozzu48nW3r506ZW7L3AEW2iPTQTPGmFItsd6rxIrbzan6OWMYfAA7ufhkAQ8eKR5QfxQryL/F13/hqBUvyTn1RzEM+en7Q8JRU/SBSOjBpvJPF4wAABBAKACqllIBMhBWdaWgcuidmQCaM7CSh+oALGNR2Y91mR4QKBCUabwO7n5TQ+51lqqNc0ZmZesUSpTLlXZp7dzTwZ0ZNUGYttrwhC+YHeAYGoE8HjnO2ZtWyRhpS98caoqV5Ky9aZWMIbPvmxtRM/gFADXAgGnO/ykAAIAWRyOhmiMAW5GWOqFIaAObuQqdpooaQZcAbHJ+vKda37+4le70uTyM4XO5BEd53toe0+ksp/6wcT3ifOPgdbpkunKlTbVC4kZDQdul80XmCF4z+wBeebbDHyGKH7q+URI1xdA0aW0mYTl96Dz9D06mpugeJCAqAGyy+hJHCEAAABCIzA6iERkAvxdFlFHMThhFgUgbfM+xBzvNORhrdHPWFoHrgBv4ImbP6Ula421W+nX9MmrZ+r+a8V2sBLK2Pdbyxb+0GBcV5FbAimQBSABeCUb2I7oT58P0A7XDTDFUn/Ed9fvD9B9qRc8B4BgY5dknCSCQAADDogK9pHEY2pMXlrVMOxSZkSOn1zeudIzBaoAjLt8TzOjDKWVWnN5A0VyZXIx3HjP5ic/uE/68Pq0yM1ZhjI4ec2tfzP1WS2461PTCqbTD4hPiZwEeOuIqgDkCAB7p5a17/GXKL9MN9Tuc9HLqPfoy5dP0A/ZV9EKy5uw/gIgJ5EAYdfJBAYTNpsdo7qLhZI3MaLbR9T5hyLo6bfM4tLnBMTMOdt1TmbDTKZ/Ld98zV9fdz5vdzW01Q3aN7V3b8yjH71K6Xkg337msDVTbnVL9EGpwV6yKIIOIL4AELah1B+QxBV7oDXL3mIfx0Hy1ZOp7PPQGuXt4BQ/D04zdE13TCmCyM14+YkQCqpONt6BojjAaj+J7hjLT6cFYGJwPmGE62+HQrfO8WK0ktzaErzqMZ7E7JjIpezPrNlr5VdKYj9KMJ3bjKMTkkg6pZVIzmNBKNMO1RWYco5EhVZIQrCAG0RtDXkdEXEkH0BAnEOGXRwJ+2iYyv4RvwNuyX44fxagpprZR+Ev4OHz1+2H7UYwmLvoMGM6ynwiRAAAQOkmxRFIkEDJthCSWDzxhcUCGhcMOTVHXLf1vKGzI2tCNXu3ZlA2te91kr69rusRswwa7RmOfq9Q6b+Q4lyZlxJqrH6H6+rPlp5mkPDVk4i5KK0lCQABXQgG+2g743wLA8b4p2XP/hO34ETXF0nZW2cz8m/umVM/z1ckjRzVFN0BGTiuAITsXZE9ESAAAGxRibcnAqNHF01NeHGRwLDMRdBraAryLDLIylTzlhRpqKtt5kt2g62ARR53Emg2zTWWq2M1ZQMwg3pW5eppt6XgwhqWKfV95NPpfgg7ZlfViNFeRNZAgkAwAngrn4WYSAC/qJn8o7x+Hb6qoKa7GObiZBKDL2Mkfxvg6vNWaohsAWQ3gyCRXIhIaICFAJAAsgR1dgwGIGA5O3CyxrMgGornZFIAxAWAx+WTIkKSx8OQEBPe71wAPCKmqgXBxiBDqAKApJDqABXFoAUQFJFwWAz4LR+aXAPCi78SXtt+hvhSmck2xVc7JX/yXtZM/DE8t/1pN0Q1AFvUEXiSYUmphIKEBIQAIAAAAKGif1IABUBAAAGhni13ZJG1uVYgC6ChvAiBDg814IG4KdwqN1lGUCcDAgCRVwxZIUGsA5AS8hwVkPATQx0AAXtq28R8BMDtH8aHMtzfHpdUMqW+VbRYBeJy7lD+k+fTGuGJUU3RhB56COAZAuFSNR0FCACIAAKQ0DQeSYgQAAKQOAADBaLh5czt/m43lwkIA2D4EegpgEsC/WHT2qAdIKkA19mVc7iQprEUb0M5xAGGge3t0NnZrbyswHbgJ+pTsA4rFwAW++lbMZhaAL9dR/DLmV4tqlGuKr3HObGYB6KLvml/meSZdiFarKVodgAcDhKQUEj2SIAAAIAAAQAkAyoexJACAYCGzk+1OT40LswgxEYko1WhHUIAWQC0mjBJ8sOcNXEJi9J82fBU02hMguKAzeC44RuL6l+G+XNkVyQduN7iHKIEF3hoH7JcAOMTuxF/aftdkTDHXFF/lgG4mAWiI3Yi/NG8tI7mm6AaQGfUqcJqmhiQiRSICAAAAgABcQrw6BkKzMRycekLnC3mzALNlBwCRFoC8LQMAjlCAbt0HIEoBgAYAqgGpAKxYAiBToOiEHpzh7WPd4NMECf6pJu0fXt6vrQXKP7Fr6lMMXSv2b375PlVQ86dXDdQUrQItWKQprH6SiYgAAFCWHC8ubMeD2jCwNddqGrNcGAIyTtEC7ADIPIUdTRaSeSjAYiXsFGDlYSKH4qtUrSz534mD6D6Zw++yqiCk9mqK5RYvgqodl5nfyNlXX8YqokVFpsAPRCr+CCbtd8yBtIftTwi14eSYDD6B52e8OtAsrSm6sC0YWV7/iYgAAFZWGi+NqrgwVFi5fqB0appGNR14ooaW4XC47ZESxZUpyiSJ0787ybQb3fX2fBYez1oLlpR4+N08ZfMOJTDczQuea2hsJ3hlg0A7JPdKrrdY/SggN3wbu8hVJEHA14jLJAee+SW4jyUfxMv03/FSK1aOFfsHeH/SR5/o9FJTdGFB+Ln6kyASAABszdbJR4piVWprK6PWKAYamSDnf8Ma0EY1Ovg+tp6r2zl1VG+n1nRuOH8TJ9kEWgk4cSLWxRJKK29s7P3aGI+YSzhC8WxgQJsGFJ9tZkHtWsIFtkzsogFPZ2dTAABAAAgAAAAAAMgtAAARAAAAN9iBfiCMd3B/gH97c4OMgoN8dnyEgYh9gnpsbnaDlo2MiYiRgZ5pziqblWb/pwI4fvSaWrimeInOq5sV0v5UAPf80WsvNUUfLLAHGFaqUj9NAADsqhZOgxQCAFmpy6XJNIUZAN16TAW4rciOx3zsSneR+GKx2EgQsQDcFJ9ftDI014QT/SulsNS2/hByexwrd5eIfZYUKZ5dNfJpv1wRo85uEmCaVQKsCJc1HRuGVhAB3snOKpuVafZD+HS3t7gFvtYUQ9uh8ocl5yH88t1vcRX4WlN0DwSAOFUH1qWh4kwJClFCJCIAACaIkgpHCKMAYBSzfckG0HRSAT7g7YAt+EDQrQBmsE4BkB2sKOWB6gH03AIsA1TAhf5DAl8JWFCJcBcUCqJLWQA++lbIP7xiLeKCp/huyjVjKZwnNjMPtZMXZbzlVKElbU3RPZAAomyUsNna4PaJEBBAAgAgBSpL/UCKECDh9mQEAMIwLwp8AkkB0Hz4RbIExARAaKFGsiCrOQi8AgUEetkMADcARxg1cjNgEVEQCEgA/upW5Wbh02c3c9XKO7a+/gtSk66mGPtW6G8BoN9Hi9VI71D7L2i9NUU3AJSnS1i3bmiEBcUYiQBhAgAgMHb4WegAnVSb08NZzJeeA6T5kgC4QTcAiGRCwR2AuQAPkHEFCOYBUIECdB0KPAEAXBUB0E0U2K5CrkBEoiIhAEuAC77aDulfdv2OnavhGbvX2/nUFF/fAd2s3PUeJ/S2O3bn3Kem6AaAaj3AAwuGpmFtREIiQkoAAAAgxmyhAgDIW9kARDtpXBsazb84o+gGAGYAZHEETwA0E6AxZQAEcwl7kgOMgGsDIBigCYB6bwpICuoDVBMji0RVzqBiRVxsCYwK/upWxWbli/cQVskz/L781BRj36r4w+/PoiyaZ9i+rNQU3QBC1jPAYmgqrsQoSERESAQAAAHDfYlJtImQZHR5k2HHTchR0GlLAWqmAAYFYJyT8D8Au20FFNQFA0iObpYCpBQCpL5mgOJ/AJQ5Abj4OBT43UhcnwoKiVsgYLggAh77VvVvASD/ISxKfIba66uJV1McjefALxbfTlnM8NXb11mspugGQFQjwLqhFOLFSIgEkIgAANjQ7RgHAEinxrhs5212IBEgdpiOU+BMQJcBkDFbAk4J/YdTyEB93RLRWICVYWzL2Y4FOHErdYDGpkAastY0VwTWBVGFAF4bJ+MvASDPTnho4R3+A7RfLFdTvJWT5VP4A188zO4v1AdolXoVXbCBdSkqjDUiAQCIABIAABnjsHTRZwOko8HEaDOklhoSEBOjgP6BLOD+C24EkAagAF/QQQGAqOFiTSUpI5AHYD2k2YOoUwECVBEiKlg+mrbx5kT+76Tf7P4d6sVfU1MsVdt4s6n820m/u71Dvdg0NUUfMEBgKF+n0wkAIA1bUmcyCmKt5AwSog67uTDFIMlhAKhFIsaBHjO7SJY2J8VddNv0gwZxaMZovQsgTe9nQFVwAgZErL/ewFhuzCsRNtjgnH3KhUAioJhhrInKCQqOBV4ZVtRf4M+PD7d/WtzUjJlk3tqs4PeLT7c/F0OfWtEHZsEBliWvZ6cJANCcBaEgRUErQUEKBqM6lnxggB0Ljocx0nSQAMCxrBG2MXJ1T8196K5e6fLIgBoc7id/ZB4jgsPuv4NEFIpAOY6GqFmOb1YpVrVmDnZXb7LcZmxcTKBA9JctsPLrmsSvOZ4AXjlG1ivxQeKvbtQxq9Rt3DQj9Qv0+4mfbv91xCv1KroHk4Awk4BFzz4FBAIAQDPYBlF3Y70ogKBlXWwE0kzj/gglTQCouTQAPE4g1QgP/fksdhv+3dxoupT3N37oLqQVmlsdFOETN6XgkNQQlKUMqdxqZI/R9XemBCEbMjgVaX9cAD6aJvnfwraRh1ocP03dVk3diqdrgv8trEFupQuOv66cXlNjdA+0AahHETCF838CBAAAAAg7A4NHHxcBAABllxgRQLcujmPhRrUA+wLAPMM1DqQmoO1UGGvtNky7labaU0azdpdxzJSnktnV2LGk0tLL1Oya2gp3UrfhxrXXygycTYYdnsq20G/hfSE3muMnwn1qiq1tBW1m4X3JN5rbT4Sr1BTdAwuAhgiYlvyzRAQAAABgBYWpjQO3WxVGBiwFRwGQWTpUyLipAogNADot4bkpjmDl6uNiNQAKGih+yWTL17gb3A1ylGaJYvXue2sUtfW0zXwewKH6TxI3pkDkAt7qBmizCCjcwJ1C8Q4/ejk1xdc3QL+F7wZ3CsU7/OjKqSm6AaCWdXBUQp8lIgAAAAAAINROMIgYjtQ8xGyABpTJAWgXBwByfKLVGSB1gIsuwa9Bh+WaH+MIpXSw0DRMqymfGwdirT+VL4800kH+Sf9RWREyDAD+6hZgs/Bt351E8o4wjy2tKca+NfGbe/iOlgjeEd7LWagZ3AAw31TCadb5TwAAAAAAANCcEwBMzWFW7RSv2oLIlwFAc3IB0A0AzIl2yfgq9PC1wEgaDIDQw0Yx/lZWaRiLFaK5T6gHSrDG/XPydSh+NMoUn7mu5SsLCjwAHrq2ud/CPsoLtn+aBRpT2QqxWYRtIzuJ4SdsU4Eao3sgAIhG4BAyZS4/AQIAACCTg0o1lQ6VCUByCE6JBmCK6SCAzFMCoCZsCZ4A6DQIqEQNeAKZ0One8uJU53nH54baALHWX19ODU29mu5KskJ5zW7JNexC6BCXyaq24U0yWAGujF8EXonOKr+EXMhPyh3RNQ00dqoD7keoF/KRspH+aRaoT9EfAExFAASNEl4sGE35aQKCAAAAugiSkCI/DhmQGXBCAQFAUbIGAIiYUIBgAkCHACA1ALoIKJgD3aWutmvd+xr+CI2cslaY6JXc97ry8jXUUgVGqjWTsXI+Vh5WKLBy7C0BHoq2yc0kbBf6qY3pf/jNNvUqjqZtcjMJ60JeuQQ7/Q+/t9TUq+gDAmzilObsIyEhIABABNhGkViSAUBWJJFsgQHQdHEKQG4SAJILZMF7YJjagLjqV+tg8t3t4Xy4btJxNVdPOlvKb6RHO/Vutpbp37G/bRnNe2fhkTNJiup7EoaAyMo4FUkMAL6ZzhK/hbqVh8GJ/zR1qTF2qkO0mYV6QS9NN2q2aeIHQJozgUmcyvxsJCQEAAAZJEcItJMBQAS5kpIxBtDFABjfCQAkAKAMCuhC2iAUKY248o491wwx9L1vSONzH92UzJt15RVlvLZCr9IX+90bS2bfzo1OZGUMEYlfsEUW/qkOiM0ibFu81ZndfnQtImqG07UCNouwjbjLM7v9hM3nAWqKPrAtMLAibbOyjAAJEABA0OmGIoSEk5UAgEAFhZEIALuM28cCyJ8AEGWAgjYgmy8QiKp9HyuZ8ar6Y17uCAY8baTZu/eLNIelqF9tW9dEKzf5usvv2g/4NSZkuEEbA57aVojNwrn6dwLbO9S4HVNTXHXz6Dfr6t8J0fQN/96xBDVFF5hgWanZEUAAQAAAAwDRtDiZIIE1tmREIipZkj+zUOncAhjmsQW0g2dkP0GvpSYTRUkdwOWr8cxN9zqL4Rd5hbRiXEvaD+d8WmIGtxlHXwK3zf8c+IIFPgtn+rfgD+TshGx4Rng3N1KqKdbGhf4l+AOeHVXzDT9uuZVrii5wwFGx9JEQAAAAAABMvByNhUDHOsxQ0Zh8PEDH5QOg8zgVsAJHRgBwiXWaI65/ATe4LTCyRAV6sIwbmSTIILXAmnDqRQQfPgon8W/BD/jZEfAW3YiaYmicBJtZcAHrOwLeohtTU3SBFl4I8Hx6jAAAAAAABkUTyQIAAGkyUQDAWIcLnc4gc1nZgJhcBOAGVANwCoLbsvbyFXxBGYA/WBQRo0AwgFXkECfc4oDUBOtD/USocAEeC9dyswh+QNvBELxDvbtwTE0xNi7FL8EHsO1okm+odzhD1BRdoI0PEghgplgR0TESAAAAAAF2I5oQAIAhAAAAqSQEAGh0fKSV0oEMpchXwQMA3RoMgKQCIFMKgKoIgCRBVFmhCKKlBKFS1CkKHLI+phYMbgEL/vqGYjPzXL93Oy2mb+xnt4swNcVYOBS/ua/vu2ExPWMS3ylC1BTdACDqmXhAQEhQuAp+DAAAoAsENs0oXYAAQgCAiOgo20Yw4M58wDSPAO5ALcAFe5WSFyC9tgJAqsMAJmK4QSmEAOsfqJLweoxnJJ9o3L9ctXM61giZ908h4TWMVADeqbbszSS8B360shr+9CogaoZUNqlsJuGXy6uV1fAv1F4FRE3RDZCpiGqApeSVln9AAABEoQdaj+6OdsVwyyjDUs1a548AmATAuDAGIMtB3veR05FcRgfbrxuwIIesapRDhHURKE2dhagH0ATLYiL3Ki9UGu2JYfJTyNXRdT26y1plNYWy3+BXpJ3sIwnpNVeL5hpneQs+6SW5ezYfk3pPPyrUHiu9hPrI+DKp7xNn1HPRC1rDuKr+EwEAYiZihJUVNgoBnTe77JRJk8YUDZlnpYakWC+L69mhkM9Nd3uzCdIws2n8j7Od1WDU/Xw37TJI+Z9KiO/LeBFKvG8+zQ0/yDT/BiFyvdTIFHG/l2Wt+bqD9Y64pGp7vexP/Nz1yTWuYA3+CCbtW+xPWE0/UDusHHPBO+ZHwtKbm6X1pOgLGGACQ65yrv8BAQBapLKFIJ+sggAAwspZUwkteUOAdiKFMoTxiE4JNcgDdgmBhtaX6XYi3Q2fuvEg4/psjX9rzBVrAiRThRA/cwfY1y7VL/4xtH7G9L2Zf/s4IA08V1cqJSaDW8sBGrdvTBSOKbbQBZ7oVYJrhk9Iq+NvQe2w0qtYL5UZEeVy+xdysZi6PPSCXQ529o9IAICxnYKlXKPEMFEGbd7goun58XjgWcwWADGxALqaC4g3Ex1Cz4HfWLaV9+tLwvEc1GSDNJldWXBlatr7+OXvpNc8l/SzwnwbwsxVz7lxVZBaHVjVRJx2er6yCA5kiq8RBDIA/uglyVu/vJmyFipRD8NLMUm+++ZBXN1ciXpU9IE2YLCcVX8MAAAyZZExjpcUKsTIzkoVtRslpFgBmqkAyaYDIK9jNGfuVWqXkU4v99e6E7tddYUymaQNGRsOgFNmxHHfTE3/vtzWXInN+3dbC0xnpmv5VUbQWqGuKCRXo6Vs3eh/SPqYCplTXZ4I3pD/SfYjbe1B+6La4HE8jN+0yX5krD2kSYtqRqejYmvznwAA0zGbDWse+ScNYJx0Ya7zRdNzJy+VToaEUHpVAJIFoMTUaGzo7hIAXmPHaN9y/a8kIeSkRsMKGq8EQZlSsnhJkJT4SrQq1boVauPOl8HQD6HfR5VWSTzbwXHlzivbd4NdjHArMhsE493JfAse+7bjL+FxeBM+vR/fiPu0a3g1xVh4EDez8Ai4E17ej2+E/bR2TVpT9AELJIYsk4WR4BBEhAQAMCKCDFaWFYUCIDCJEopHgKTpspsUROecGNF6n/Asu04Eq9XZZJbQ0F4ZsfEdkJBtY05zypI0UlRgM4PEX7y4Qx8RXCVgkRTgXgBPZ2dTAADAfQgAAAAAAMgtAAASAAAAOLqFXSJ/fnZ+k5CBi4yNg4CDg4SJIyQhkH+FgX6GhYqLhoWHemp13tq23G/hUtxJl7J8Q+39UU1YM76+LfdLOB1v0qX13wh7PaqJaoou0MJiMdmcBJEgCBAhASAApHIs2QwB6cTpRNNZGXCpaolj1grQcQoA5gJgMqYAthYAg02ROIbKl9AnBKFhVHkhBqdzou62qoCQKcFh6PilBDbga0BlMFBAAf7atvUf4efwUBZteUYYm/fVjK9vW25m4e1wpyxG/40wNtfWFF0gsQJdo8k5LAWRIBBQAgAY7CCkUnLxiIFuiy7MiHig7ZYCwbABFCYB8JXQJgUAQgEwDwEg1QAwgdJnkaqBAXUcEwQawAJuVwXU3gKNBdqDglU4U8AqUGGJLt7qDssfYRna0UnrM/xehpJ+zfj6DtNvYUneCZ22vsPv9emvKbq3MACoJTgsplKbhIJISEgAAFwVGQspojQVAJZF+w2Aat4gACYFwFwAzBkA6BgAWKAMQKMAIBEGoDkDSo7CC9DtJgKgiS5GVgTsi4iACAPLHQD+qd7AbGYh0h9Kb/c/Ypt/dVIMZQ/Tm0UIslMWe/nq7eBXM/qAA5BYDOWSXaaUAAARFGYG4XwJA0XGIKxG1RQxEKq7RQRoZwmAvQDQuQAH8vkFKyq5da7sIiUHME1ihi1pYX4wHVVsWwNoSHOA6ZJBWIooIaJb4znAEnmWpAAe6R1ON5MOUonR2/45E2rDSPAGdDPpYJX0belGW2lt6A3YYNHLXP4TACBJkCHbYUl14Fq0MTUsxLgphViqZdtNAIipKEVizrlESc4Z+Pott3HEvg7xeKgzfyM6USS1+G0MNmbZu2TR43HHZ6/M+lydreW1HSqtqXg2IkZNzcJ1zFkZBaobUafP2yJj0peVOSZ9bAE+6SXJe+zDnEvzo9fF1B4rvQr3iv2Y/bL96YWZ2qELCRb4imfPEgEARFpQQJCAoFBRyM0mkYo0uoMdZqfAtpomt3ndKkjsOhfUDdgACGxuhhrCCWzLPO5J0qifE4vjRsQGqiTsmswWopE7b75G98q0q99godx/lB41W0cslPRmCFY8Yig3QFzKdRvkdRoobgD+6FW5V+THjN72I7oL9Xh46bW4lyKgMBZPX50UovboDUgsrPw/IADANAiRKhbgSC6UpCFp8/I3iyiDHobRUIXClkJVFO8J6q+EUBktD8U1+cQ0Yirp/4sn3c/Ds1heZEcZ5SJtXFHjGGMlrbTBInpGKdFPW8zXwrGMG7AT5WQlmADe6LXBK+PLtMX2FYLdxEqvBd7JX2Zfnv4Ux26iF5OWRbSw/yMBAKqawKKwqHI8nkyEWUOaWNLpfLqoMRno4TE0AtKaBCkYIJpv4NqdFf6VkuxcHxDNkvB3exrHHnvDmLKSwRWfzdLJlbuppGPfUDtUYReMq9yoqIYVfw45BlU8HALKur0kJxVkuKEPfujNomfsK8yPBoTaY6Q3A17hE85vTWSRa49eDD2jaMV5KWnECQBQWZGg9uAkTMezyTaYtabjKN/9B0vujXlGh+Nu3OyTykCS2hcQADcG/L2xV1tlAylfEt9g8a7bG2GcCX/g2x6KTAYNxLl4kyzZSG4ZbXgFhij40Y54P+DoPvlI1SeHiIQ1JeRryAIe+c2ArzM9SPld8k+wXHucDGfBz2kfJP2m+K/jIq126IIehpUQ/0MQSAAAEiIsrdbCvlq0NBzDWcZgsqPxx0ez3OnMmI8d7R0yjEqNMLF73VhXUAKRqCXAyq3stg85u7IhewtGlhDlf8NQoo6rHoV9KX43jZTSxh5XlFakWl4j+ltYVpagjCjDk5u5UQ5+2g7I37xx3+13NP3oxovUmmJpO+Q2CyfW3m5H21c3vkitKfpgFtjEWBr5HwkgAQAMCEfjE1fFlQBUl6MKYskmWah0HgaGFCEeoDkTw4Rf5DYx0jOpBKQd9NgYaiCGriUAKVDlr+EG61SGJvM0IGm2UYeysz7XdGZKFusKVE5RIzAuAH7qVvg/PPl7SA9/3nqfRM0Q+0bEZuHJ/kN6+PEONY+hpugeCADKxgCLkGR8RomQAAEAAJiCiqaswnXDlgHLiCgAmnmYADAPAfAL2LhACX0LIRxLbj1fn3SFzqkvKRAQR+t8vXv6NfR7G5Vww3DnaeEfMh33iYp7KFrlf0RtI4IA3grniM0soJLh7s7Z07su7nNETfE1TqJfAio57e5a3d714pEjaopuAMhKYwlDlp9lFAkAAgAYATiQJgDBKLKbs20DjyVLTZgcMEzTEGC/94kdvhm2pJ5mZrKrA7gK2HgzsfncadJRXB5746vVWqEWX73iYfEiYrFN2+6w4v/oFYUKCRR+6s7gXwJKG77dudf8eL3I4ppi6juEv4T/Bh/v2Gv+vK7IgkarA3AIEyr+YwAIAACAAkJkIzam7jOO5ctZWRAAIuC3VFADBRr5swCYuwVA34BUA5BLkA15w8rzM9AMgCQAsG5YNUoFEalh9S3kpbmAy3OeDW4qUSuyed3MluqSZLGoAJ76DsWPgPIIX//z4ox/dXdl8GlshdviRwAa/se/vDr+V7lrgU+jGwDUixqcwi1Smc8OAAAARAQItMQECM2OzcZdzT4vnbB/7/UAapIUAFPzCuAFmAOAzgFAA4BsBYgSKxplBrAiV3sAkgguthJVEqk8hwJ0moTPvUHk1iyu8KGguAxZVBbKzvKbVkDF0uObe81/TZqa4mg7y29aAWWLr5/cdaAmTaN7HBwOh8zMhMx6ARcGDIVLRf8EAAAAiEa1O3OV212FN5bAUAgxuoaQVQUBQigEAABhAgDZCoCiBEWCKABdB1Bi5QfIDUA73e4UOiEhcsuvhWdwwQdxd60b30Rya0WkaBSfqxtLgRsBVPMv3sm95l+8g1XomQAQxoM4oQ/3NmXHy/1bmVPT8av7yQBU8y9G+1bz763yq9CCxwAGIoVdk0s3PVKDW9lm892BK7741wtM8y/25FvNv5iRo9CGYgCB1Ahk7x//cSnrcPfET83PiAma2rbYj4DaRl73ckn++3hQY0x123QzBFQ38LWXS9n/fLxLa4ru2csOAFE2jcQijCml/pIAAAAAK8E2+r9SMBW7upjxMJhBzLBDMJBMBVCL49AAzpxwFQCWzkTUiQSkAZDlAcGV8xkH3Aw6vh7esVZq0/4041+11e8g3XlgdMzF++Hq50HRh033YxjIImiAlQP+6gbwRwDK/9sz/5L9hdok1BRb3wT6FgCH/3F8yv50GpqaohsAymwC1i1M/U8AAAC6MB7QORiiMo6Pl9smHXhrLhCdMJYCnBKkCwGAAQBd40LeAKcBoGll1H3Y/Mu8UKa5tVIzMRi+OhoqEf2gELM3e94kumQHN6wrwMoJCzcCXtqm9rcALN+3g0n+6nqfF2qKqW+qbloB2LxPJzT8Fe4t59QU3QAoy+kMmOX8nwAAANSKSwlM50oTIEJk9BQP7ztcD2UjBTHMKWj27d7xyBlfkT9hBD4nfQ63ouznIAfmVwvQJBisprXo1yKRv5l2kEFNKcNymc9zSk6oSxKsAGuy2gI3C755hsonzXwf4eH2H2qKn2msftLl+1E+Pf2DmqIbAGQ9YVit/hMBAGQpYHkoGpiuJiKVl0yhES3V2ipA9Byrf8ldbKwAOYkLpq+yKb74lPWb/cKbT6ifQsmEwc02lXqs+35WPJTtkQIlSlJTliGsKzOHcugyT65gJTeVUAuExmARAL6ZxvYHM/6P9Lunf0JTU/xcU/uTHv9L+N3Tn9DUFN2DgASRagnz838AAABlY+QmZ1k+CENDASlYLiEYCPM+Ar5Im/EFd710755Gd/3Wp3GpUYq2ZZrXsOngPcWQojIYQBCsO2bTQjv5zKoYlVpZpsMTyvUyFW6gWAURK5dbAJ4YDu23okwVwPTnYh1qw8dxYH0oKlgBbP9drC61og8WYINwdi4/ZkgAgBkwNk5WVsIijgxBaA9GLY/2aVRZA9glYxf87loZjkP6N4xbmiHNMjqOyWPIuip6KRWAtMrYMrL3NbVuKCnMR4C3K/XKIR7FZcYuaAePeINiZQe9kLNi6R+IoRgA/hlG5HPwI/HT7b8ytWEmmeM/FCCSf3f7UaF26IMB6JOQVELZ8RkhAEAmQ1IztYTAQjJprr0oMsQ6kxW6H/AZNiQbfMoBwt/uGdvmjFaO3NQajtuT5Y8QTqxWvasifVz5tVb+Re++mFlxavugmG5Dt2C9xsLIhiWqo+pe+KkELZZt/AkcAL7pReQt5hXS76YfIdQOO72IvEf+TPnd9BYbU3v0gsBYci7/GSAAAGBDEI8l2yzKBOZjbXSAwW25IY2MXR2khadUBPJ+0n0/YbnJjc3by4+tDRugBAOekyBpJMG0lkUno8TEBv6ng7ONz0KIoXt6hMnyszSlFe4pQ7Ism0LaVenCJ/yI8ixbBicVAf4ItvhH0sek3vAjf8VXa4+TYYV/Jr1EWgz/5K/4Wm3ogwFoY7hU+Z8BAgBUkgmoFAIKwLSACKPOV5Q9YpjGcQkqhtLGunfMqZ1ffU53lRlXpBfh2fPMJpqxHoH6unlf3UwaIMhU+2P65fP1OAme70cNruj6f8qwliCsqZhWbtK8IvviTg0yLFugoQBe6SWV+xI741cPQW1Y+SXVR2dnwq8egtrQBwPQYyillH92AgAEochkJkaOACYMLYIIpbkoqNBMoL7OCrJA5uudX81+dsaU3Y1WtuC1YffhwNc3uxKt3Q11HatS1iSG1/ib4qaxsEvXOH1jX/EspbwJP1You7/zAvjHLTqm1WSd+7LIkPieT374zQSvmI9Jvzn+6blNPTw2ggP7Gfkx6TfHj14Sqd1CFwRMof/HEQCoa5U2tdQuNhLTiah0rPkWT89jTrIbh7bLKcrXqa4ioErBH61f7awdq9Bm36WWTwqheaTsQmopn5WZT97Ffo304k2LcbSBOgbKDfV7SBXElhkyO01MYEGbyEEofgD+ibaCTSs8G/wpqZvCPvqt1hQr0dncphW2Df2U0Eke/aHWFJ2WM/4PEAEAOB5JMpM5fqDj0yQjaZo220ZGvtzchJaO85ghBTFuCkAJRivdFezRy8x6Nkif/b+fLteNySfEp3ziRGojKD/CWtIx3qt/7BhuWBDQfAereqYckP4Y26bF7YA+XCIe+8bkZhEAL+9DqJp3qE0jaoqxcEr+5r86O6Eq3qH2GiNqii7Q95xKyuqnAAAAAACuwiAStRNCY1wNMzpjcU6kQD4pAI3cABACYLWw4rKvg0A8ua7tP5ZdG1YANABW20owpBIFrqbFR3k3B3EDVvw1xOzo4lprNVYQAd76xvSP4A14DrnTPJufjFdqirNwIX4L3oBnJ/eGZ56T8UpN0Q0AtTITztLEODIiAAAAABgMiEjpgIitg0lEVLO5DWDJlBEA5CsATSbBEb4KySIUwJS/2rhhjoVmEkEJpwuGimMOUAQVlwr+6sb0j4AAgfw7ejzDL1NTjH0ztlkEPyDvjg7P8BOmpuiCSdyGHkSFJP8BAUAAAAAYpCAtiiDAEBRlBQIAaEZASDIHGtwO/AGQOsCX0NOAP6gHlIcqVoPbHAIOZRbHIFnW92x2g4hxyqFxM2upVh7VHgMB2gFPZ2dTAADA/QgAAAAAAMgtAAATAAAADCveDyB0fHeAfpCPioaQh4SOh4mHjImCeX2Kg4WJioVzhnh+e/7qhnKzCD6A+8HFfoefsLtmjH1j+VvwAZw7HtzvUHlrik4PJAgZw7MDQoCEAACEicLQAABpZEol2gEXA0jyD5C7EGBoAVhscANfAjIXgPoiAOFm6MiFXAIAXqcmhLJcxUqyyDPjVD/cigVj/UMLAdpciCgi3uqmbrMI7kDboftkvMMm7ldTTH0DuVkEd6CxU38p+6nIv6boAwIcAg8kGFoUhKCSmSBAABABABJEGg5BlBSCAYFLk4sDAEBSWgQAQLcAkPEQACaAEmA8BEAXAGgqAFwM9ivHhIXU8UpwwCUkBL6QRvCehSULFGheQQGDAF7aBvgP9/VnZ/lUvbXY1BRP3RBvFu7rc6f/Jc6vFttbU3QPJEBmNYDbEGBoKMS/IAEACAkAIB+h2ThEAEKG3tS2GwAIXBAAABgF1GkEoBPwNYDFADzAA+cP3T9coNgAoC4MqgNXdK/uzQj6/EAu5D2Z0kELLAhI/uqG4rcAeG3udnwI+x1b337saoqvb8h+CwAvajfzQzrv2L2XQmvWFF3QJ14EmCaDJJ8IAIAAAGBjEzpaHDMAQJxWMgEA0U6U5EZODOaMS3ZOi6QARL4AkKlQINPUKHDdJ58Ic+IKQPJw38yLFcc6h1y5J/SMGRSCa/BLhoQncAEeeiaszcpj7pvwy/QXajuhpjiKJtTNymPvG7/M8BPqrdLtWjO6oA3jqxeMCJAAANgiHgTJ5uNxAxGRM8oQkqkTIi8hZFyPAZwD4LoY3GpwOHuPQc1Wh6PpB8rqpcMHAVbZliZxks4ypXY0r4HcdBQtlfrS8BIgAxURA8INeQB+6UXkZx9upCyGP710Uzvc/CLua2U7pHWmf+6erdSGPhiAxKiq+tMACQAQCeW6CgvaWXM0QiBXytsBCQdlR6ta2aXmFBxFGgtcGcLsRvHlZL81jVCzKeAQGsauF3rCmtrBDAjaGxykAYRxg5JZnR0bgjvptW9Ya/bFSdrOT3+tKb8ehdsf0KX+KIMVwg+H6Qz+6A3Rp7IhovTdpPGnVoz0ZshPJUehLb1N7VUaXZIdjJXkSrGJGIEEAMBFNJqydLIfcQVMGdG2sgMZjImjJLSN8YBkqTdrFv9/NXYp82slXOFjviBfi7W7GQ3aIRz+u0wJADwNyTM3fVEuEoHyYkgtcc8qpTF+t6ZQ4ySts4fE5s7gP5mFGm621l8CKf67A5665vnNJHwsPfJ8OP5F+GiCmmGVzfO/hK+lW50Pt7/wH11TU3QhDomx5Cp/GhABAGyBk4oiJZajgGmzOjJwbmakpA4dkYa0qIAUk0oe8kTZW8jRLk7sromjihiHn4WrQZjMXkuo5jU/H9x46uUKStXqfDEmvr83z7SLtfc26GgiUBZyiXrJsSoGBP7qNupmFgC59ypB9hN+rw9RY4x9G/W3AJB9r2Kid/i9PkRN0Q0gs1okMGRXsydCAAAAiyFi7wLQDnOSzLYLuUu0yPa2LeiDvV7IWEWlFbfpf6IbbMnv5zbv1F4oCyJG6vEaAtazOOeV07sruSWUWovMsfub/G7bl3Prkb8oIqdTulspwg8u3ki2rbeyhcheO7heT6gpRpJV9QM2/898dHK9LqZmdBouVV5OUwIALJ7ajIgm8yR3siURaRKDke/kkxbGbW3kCh0a4zw0BXve1dnpwMu3HXIriPX4ZQcbzINXYzDlSA6rlbMpPcO0xv+Y3/JUb4KF9Jq9DXLwXSKys9tQ43oiX1NabvUvot0lY4FwuXkG/DgAPvkF1m3PdqR9Gv5UqB1eirFyX8OOYvsw/dTUUjt0IxP0KZFgPP8/AQCupgPj/q4KoIw2g7FY9gCrJeOZieoCAT2oATtvs9mkhl0o0083t0RnmZ7XJCohYOmwOXstmXN9nF8blm7+3vRYY/XeqLN8WOoLyeb3IbbjQGRdgvM1IQFHbmaAC5cuvuglrW3GW5i/mf5B7XARTNqXbHam/Wb6p5C4NvQBaRnQvPw/IABAIiRILQoKc/k2oC5ImjMtchxUiaZOEQJW4ASssvQDEFC77Tp5zNlB/08Yx9lYfiecWPr7Rra81zSs/BjB6Q2ycw+fBuEBbsr5jFrupLqI4x7luLH7X55M4HJDgs8FPui1s9vIR9m/bP+FpfZY+A2z14hPuH91o6ZDbegNgLEwxfJ/JABArUpClCpaUNhs0iQysuPSAU6ddlgLqSTtMEUMYDcFAStmYhnz5POwl27gT6KGGxMh4VHcpftkBkY5zleom74cNUlqE5JYx30r6onEOO32cEcSNNu73KVvaRqoj5dhJ8cX8cG5DeaRD/7o5YntlXZlfnQqqBUPvTa/TX4r7dP0H2qPLsjAxtnsdIJAAABI7WjRgMbt5sHQDQgxlhHDU9/X2IzsSUupRnNJGir+7Vxam0fDx5NAUO698ilfSW8PXCkZMavWGDYLKfY/pBT7yn2WE0g3Pm/QalrOTF+nTfx6zgqZQ6GNdTtnPhIb/BIoA/7o5fjLY2+lvAz/haZ2OOklle3dPkp5Gf4LTe3RBQLDl3+CoACA2oEqtwSJTAFAIh0bbu2WiYsXFmJwnttR042oXfDvjo3Nl3BiJteJDlf1NTm//DBd6tt7xX3Tvt6NlrR3cVunTL+V7quSxDUpYlGzeQ1WXBwP11JI1XqAScha8uIXnwRQWdwIvghW1NuVfUz6hf9i29QOH8Ecf72yl/DZJoWmVnQDEPUSMHxVfkEkJAAgAC5zgCErI5KxOHbhsjyRMXVihBgzJR0Jvqv+99oxPdvgRh6bxmMsRmoFRUdq6ZW3IQwMqpWtmU2r98xXo0vbNjvatSU3+bvkGow7cxUiQcEF05rVKsCQxWW4GdwsHknOc5tJ+A/0U3q3//IvmlqxkpzhfoRvjr9U+t6ks6+pKboBEZF1CQyXy58ABQAgNJomtLo9QkdneTq9eCGVpDIoo2a5RnX9r9q17qvSb++f89eYyaz+qHr3Y7fBrWNvRsi/vig76e79seK+moV+7KvD+0kk7T6djyEOT4wtq8C6ID9wm2+TgZsPqwveebbEZuLb/B/po0/U3XBTU+w8W2wz826+l/Th9t/t56am6DRkyx8ZASIAQETHZxuT5MSSqaFi8dIDTF3YmRHHDgacpzXOw9D9MKZgu86lU2O1xygSvw7Tn02Hw+Trl4/ojNG9ppuK89znsOV4W3ImGHNK1SQNk3G1rr1Z0v8YZN0IAeDXurTAAL6pDnObRbhGvAm940fTomY8XfPBZhHuIz3obf9CbSIavbATDBcqPyYACAAAZBlSYyoosUV2g0YamdmBDjQL2GcaFNinJvq/cWfx9yhW+DSnU9rFZMtMvTcpu3Z/3Nemp9fu+XMrJ+ONKe94zR40SKV1b9AKYm4UnduPGWSxwO7eBQHeClfAZhZQSbT7xs5o77qWh5pia1wBm1lAOePdW2d417Q81BStDsAiJEvFHxABAAAAAEQBGpFlx0vnTU2bsUxioACChmwW9QPQLO4B6DQCECX4AQUwRWI60okokhgXAkAjzBqCmIEAa3ADj0XFHwQ14GY48DsNEs4A3urm0C8BhVu5zQw/4Yempvj6JsEvAaWt3HaN+Ak1thE1RRfMYt0oV/QpEQAAWJiAqiBVYcQQIaPS8aOIaZOyQGSkEwNwvYDOASBDEwAXAzyCCfuqX2R9rHZKYXYZAMcaxHq6l0bX3cWQzyqGEeXfxAs+pgALQRxYacCGGADe2ubBZhYQCYB2Oxf8xNYSvZiaYqybg5tZQOmSdlvAN+7DJUZN0Q1ARK0KHIamlD9OAAAAZADaWNJiIBg3ljGdNJudOHFnRgLtUlcHoJtlAHScANAB7AugXQgg8RQdwoQFdQrJujwj+X0NxYgr/oqrRSZ9HfOyON+DJ4KvvQDjV1avpuYKoiVxpwI+ylbVH+G7pZfSKX70ghE1Y2lbVTat8L2Ql1QVf2KDqCm6ESBUK4CjbfmzBAAAIEqOQmeSAGJkXCpjeh4dv2R8C9HMPAXUrABpoAPfgEonCCDQIR2/FiXEw+rt6VRliGcM1K9hsYquG7vl04PysZpjU41QvFDgDwXte4zCBZVc5JdOAF55DuzNJGTLH4Hgn8M4teJomuQ3k9A39BGj5F/YXnNOTdEHDNjAKU3zXxYEBAA4FH0CCdWVJLABh7nk0wAAxp4bQDtwACDBP1gRYGEEBisBgCnxDm6z4bdVG862U3OtdKqTqs2s7g7YxSmFqaPTNYLYzPrQNUdhp8Jii1Z74XYqpGlnABYemc4N/RaS00Pp8KMQNcXTNWdvZmHL+aF0kr/Qhagp+sD0YBeL0qrmf0ICADAxKYBU2AmEABtHS4oX2RJtTQBkISkgEUDcRBAkyVUEkuQKAIQliam8Oz1awkopSjWeJ68SkBNykQChzpOYTk+i/IaJ2E+i22HKdMIqgmJUywdt6nFF5KawShsSDD4bl+RmFlDM4S6lIHjG1terh6kp1so190tAKYO7kAjesfV69TA1RTcAVIsCLE3J8o9ICAAABrBiGLFBGDONnGSYM8CSfEsCrKYGgGlIAdLkVPCDNF2Oc0HCuErSCOJLq74lvzjxxGbQFePxrB+NgICJcFupqib9WVY6hUYti5665bG0s21cFohcAL76VtTfAhpGj5Oy7V0s/0LUFFvhnLqZBdSN7kaqpm/KvQ+ZmqIbgMx6JcGwkvOfAAAAAAFyTGNvFQxEBxfSbM6V01syeqzAXIDrBXsFq4NdwRcrZTHDeVo91HuMlVbnEWp7i0ezt95J4XtEVGIBD+GYhnrDTjW0DSFHEmHskhtq+EVguADe2Q6DX8In+UvrNP+SQ6uNoW7b/iX8Mr1pneFPWLXGaBVsC5b8fwIAAABAqogORgtDY8DWYZw2bocstoUujACmOQUYFF8kcUyTIwAlCH86ZZRrcGqm02XOkKob13u5FZCyI7RyzasywhyJi7QCrvcRqG4EXhm21V9CRvwZuZOkU2vGy7GtbmYhI3+M3MG1z2qN0QtaGMpqxb4gAAQAaIYMhKukkgMszJo1YEw+PkmTmfa4b0cMxo6Gf3bbRP/lyE79o/VyXk2PBE4SpYIUO6RKJtUR9PNJHI6hqGThoRphbIPeisLIpRrGrQE/mOIoSjclblw9YIdaJqg+qg6JzSx8LvhlMPyFT1dTLF0H5GYRPpd8y5PhX/h0jT4gYCcwnPF/IkAAAKyehQgm+daFQSZUMk6mKYIBFgsgZV1nKze5yc2OVSj8dx8aKTar5gCMXlrhWudzAzXK9+eF/N5q2WyobhwNKFRR+bSwHCOwrDyetiQ+CleszSx8hOyU1fDV2NQUR+GqtZmFt+pOu2xfPbWpKVodgJDdFDb/SAQAAQBQAHTYVBpNjQ1QAFQMIxK1KYDvlfhu0D8AnQiACoDMKYA0jKrNC6UhMLwW3VaHT+5vGlVDDb8LonrDNB6Zn/VO7m+NXHUY+ZTAZIEA14pIUAHeCkf8ZhZQEXrUeZneKY2amjE2jolfAipGd125DO/kxk1N0Q0gZsUEsMJNyc8mAIgAAACMAsruAEAgXVi0MG5qsjgzQKcEoFMGgM4DNwOUANjSANoUAzEnUtZQT/ELarFEX1DqkuFjpN6wCM3JSPIlncDHaqdsBEOEygBPZ2dTAADAfQkAAAAAAMgtAAAUAAAAy9U4RyCGf4aFhH2CfoKHcX+Cf4WCiomFg4aIgYGLeoR3emyGdB6KVtTNLDyGX92OZvoX9lGVtF7FTbRt/xHOxLd+RzP+eVQh1xRdaCdEq6vyRJQAABiHMfeVFBNghmE6ZcxwmG9YQbFAsV7s61/RbPD5RtsoiwHB8IUT0o/6X8Ni+LVrjRuEzG4ct5QBAOOgZ9MlQ+ReHZO8CNf6hQMJTG6AcKlQaFDg2HcjnjnG6ovI95+0mv4LS81YWUb2J2T7T1q7UWw1NUUXRCD6nxIgioAEhSKa7xYmJwTjKiHmybLm2cHQTOKUxbLox/XutD3jEX8OeYTXIUy/26D+Qrelev7jxek6MYaTuv9Jq4SgGIXcfV1rmylxgZa7gVvE28R1+UXaiBDkr0FSAH4phtZzyAOVsCp+apoa6jvMJFP7Rcn1SenRgjVNNXUr+mAAEYgqWX0qEaQAlEEA/clkMTcJDJYUi6d2DUcUb4rFnBcvu2rjBCeJpnqujPzABqfCysWuTAUkiVBsLbeM1TDCzZt630/vPpVA9LpCLmXiDZCMarnJFFS3hBfo3gjHjJsE1AiavnlWld/MYb2M1fYjLsVyvcXOs2JtFlY+X0Zv+zfH9ZBcU/TCwsjLn1JKBIBr4zCMOQDbRC2EZQYYl022TtoqguyZm6AWmmIzUFOzNAQS/PUXDYL9X2mzUc2X7xpe/41Tg8z6hakEsZduRUSIu4oFkm3xCcJKWLFmfSYYBRXhyHnegbZwBB7rVsEffrlOB3Tf77ili/M0NePqOyA2C588e0cE9/OZC4jzNDVFF7QXw6//lAAABoByFotEBGiPZxh4wpSLctPMZCyBw7SmQAfOr7KPfeFui9t1o12TTUViLvxOx0bllkkCsDI8DlZTQqXu7ezQWLFykXS2rLJwzglLf/VgMaCwgGMBEp76DthvAWjY9+4I3ve7Zl1QdE1x9W2L3wLQsJ/ODN7nXbcuKGjN6AZArQSsGxqysMKJECkBAGwg4vRUYxBkzmdNYh5Tl2QUkZMXFMgCtgCQrQX8gcwFoDXgLbLsLyUtRk0jM/99aDIXAgDsOtAyEFG5XFpVxYUCEiIOICAC/urmxGYRgLOzk3+Z9zvshUrNUWuKs29S/BYAs7VL8TfzfkfXXGhqoaw1RTeAVC0A64ZCLFcYkQhBAgAIwCGezMKAgRe7+qIkZzgxRgGROWAK4CrgmQLoFKCnoEh4FrpgdaCnAU+342e524b/KWUcQACQuDaN4UaIAQYDagWFVEWECJ76ttlmEQCzbxe6yzzvlIvhb2GoKa6+LfZbAMreI3QPe75TLsZ+wUFrim4AykoEcFgXYrlCQSQiAgkBACPUhB4NEIyPWUbeMhmJAs0/QBIAmQugYwDIyxSgC+hbwgHvLm6GUcDyobwhP1zsAnAATFKOFxAnAAouKpYFIgsKBN7aJvVmFQAv5nH8Mvc7ts6FcaVmTHUr4o8AeLmO7Zf9fNe16HusGd0AyDrgwQJDkxXORyJCpAAAYwQlzgYMQCRuAwAEx3Si4Vg6YeJYRpdDAXQGwLgA6BvouK0AGmrWvx3oKRhWjohJ2ohuEgC7R4MBUAMYAVYOFQYDCBIIGEgMNwFe2lbgZuXfzl3yoYxnyoVwlWuKrW6C/hEAbtcu+dD2M7rWg5eaohuAshqAh20DQyEtQphCMyEhSAAAAdiOtgAgLKUECwBg1mTLKJaa8uTDIbslYS4ACwMAtqbAk/AVQcfCA1AlAHIDIACgDPqFpUEAPgCVAxbUMAMAImhxLAYDrZUjAKtEkADe+sb4D89mnupN8o5un4rlmuLpGxF/eMa+qjfF01ks1xTdAJlVAGcppxMSAAQAAMIQ8kixAYYiHRvFxrj5wpJxghpoviogKwBiQhQ3a7GbBv4viPyCzZRtJT7r+q2vAdTolhSwfKJbC0iU6DsB70eEAt6ZRvZm4eTnxofgn+ulSGsKn2rC/sPJzo6X5Ef2Wq0ZfGBBgL06PQoiQAIACMiroG5kLa3ZYBzNIkWhcQDQNDcdApG0AVBUVoGc99kwvoGQKpdKJSt9PT++hfpcOG7c85mZLdxksqY3R66Re7ZGa4h4H5Soe1dIEGTbBBRUsAA+6SXVR8zDtFeHhJrx0gvUZ+xNtJfhH9TD0AsC49WnFIIIANBcVzKO1tGwEaSo88xsbs6gpZYV06jYHWfVaKiy69N4J804WhOH1q/E8js1Mu/m+9y4WogBqs0PjRDF9Llf5aUMglH+tyTJSLd/lUXHIAkhGUT9GlfoW+LC5Z+w4ioAHuklyGvsw9Uh/kNt2Oml6L54uGrAP6gNXRgwmpfZk0QkQACMVVqOuWoSMJVoNydmTj4cRUOzzHJBMqJjxiQVEyA4gvsq/WPUcufjp4SsBme9UeltNtttp8Vr4LvN8AvfLqz4sUbINFr1NVmIgcQg5GocaQUX0ssIjp9IhB3eA57oVe3blm7Bh+GfBNQOB8F27pbsRnxq/stgqA29YLFuXupPIQAAAAy7pA7LFc2xqlzhxqztfOrkOZElCLlJNgqiysOGCOA4CvhJ/K3FOD0702+lez9lHsINp4w+0lc27Q0VAMpFSPLe0CyhF1vad3N6ZdYelXRgDKUyEWO1M+xU4TVy3AEeGeaJ655urgidBLVhJhkR9zPdVKCTQ83ogoVpvWRS/RKRAACYJqdhUh1kATKzNpk1ppCdsGg0Dek0DpWAMfABNCYGIDPTDV/rGGv3qy6KVlLr49L3JsVtsQgI4IpQi1l4t97EZtcf4hrxlRJXhS1pupFSFFixqLqQ0qq8nw6lAI0AHvnlyet92Jny0cmhNpwUc+TtPexM+eyWEqZmdEEEhuZ/OQQSAAAUJRK1iGOsmM0yB+MyO8hINhY3jQ7j1FGCSGfobID1qqDVvo9JrccxjCli92p4uzP53df/49D6JfEzYmg/lztldY51Oqlj1Rv9w7Gr7yJcVfn1cjw1FkMar8XQuYvFSF90KiAC/uhVlOs9Hq0E+A+1x8ivotxOf0UMvxcmZ4hRG7owLRhNmSv2CyISAACIoKCVfHFMgWRCZpl0NLZ4amfFYZYdaFJvCA5F0amEt+67p6XhpBTctyXEGoxrPXLKTfZWBomoue30Y9mDtHFfZz7/3blx3676qdNW1nIjgRrX1zauqhdUdifgvUibNRU+GVb4xyNergGdHGrGyjDPPx59qaZ1cqgV3QChEjIRhlJKPvsEgQAAgJBa96g0AJ5uahw7HMzckplkTEsydGqDQVMErmDtc6SVVpRQ3VrjNbiUpiqzMMKXH++vHg334JKVlJpdVCscZVfxYbzZ+W+0pFgVLx0RrGPKVrV2NDWL3QfudEkC3ugN+PsjX2X81kFQGz56bfLxmEcYv3Ug1PHQRTsWQrKU/4RIAADsaJpU2B8UIBsSs24sybh8FGP5Sjr+xU7zdilTsBFcxeSf7cf5k+fxxnVVfL0htENvRsoim9nvrfNorXMNGVT14fFaV4pGiVwCy3JkLN9/aLETyw3610joeLMSEwAe6VXQ9UmvUj5sf1A7nPRy4PKkRykftv9QGzpNqVYfGUJQAEDSjImR5pvekhGZWSInJyN3Sf48k6acQhpomsUmUtApJwS+g/+BlcAjGsc13Sj5quY+UW4SRweiIgj8+TrdSc15NmPd9X4OPlJGt7kdXgnh3Oe2k7SYWUWOwHMBIl8FBKZgBd7o5dllbY/ikvxHqx02enl2WduleDQhWu3QaZbC5s8kSEQAZNZmGvkmWy/TzKzmhpzc+Sg3X8jmZuam+YdmnBY6xhCJVudjXW/b7zNSx/qXhn2apA75cJUY8ISO2QNHx0aHhiBTiQvxRPPHaljubA23lStYJSPgGSNuHglOwfABqapwBpFDWAGe6LWI25mOEF7EN6rdxEWvhe6n3YX0IcUnst1Cp+FSyj+AICIAMiLGV3ZrlzTJ5oY0iWxk5GVm5gw4oKQx2RqpGXCZpnPXvXNxdPTHmLRG7Ot8uM7msKUGzLP0XRD+hluv+q08/CQj033sTlN/lCLixseP24ARFO0h8sPDgkAbnwj+6FXhc7cv40OtXzS7iY9eBdx3+wg+1fqnQKs9uiBbGGaMFJMPAXAAgIgqEiEpSCS1yHZmk6YZnWdkxzNs/pGluUnTEOV2xNilnezpadimUWgrxTdT7rwLDiBWUGziBCPesENQ/Yd5E24JzbGoC3NucCfrE4FLR5p9oeKpMM4J7hR+aR4Em0m4lD7r6Ntd1KfrVDNcmgfBptUjGFp23+7h+nQzuabowoIhXKLi8gyCaACArYgL40Hosk0QaYPIGZ9m809xAY0pwzJI0v6XjIsfWuNcEkrU4PSN+ey69D0EuPOQVP8FSEp+IcEeKagxjAkQrYqOP1wEt3uPEaip4xdATEEkqCOt1+hlAJ0B/pkeRjeL0AXflCq+vvqpql0rfKaH0d9Ch15alh9/+qnqRK0p+gEg64CBhRVEESinETEAIMpylBXNDEYWlMNEK6MaAlOxMASAKQCMmNjzuiqGVPNWsMetEbDqgoWEhr//+J3RQAhjDb4ubEJQuxW2tNnBEQHRvWciNQ9+qs7jzYUt4CFVbXmGrfdqxtP1ANycFt9BNj3Dxu6jpugeCABRy0zYxMwQFSSTPg0AwESwsINosgkBAolmhNgBkAy3jQC/cFMGIKkA6ATUyCihSQAyL6QAoBAFX7CgISGsdCVCXB8aALhbBQaKlVqnelC1g+y6TegQSgTRJe+GFizM/QDe6s6Av/T7P5oP3OFfKqvWFFvdGbBZmfe38IFnqJdm1ZqiGwCKpsAmJMQgFE+YEo0EDADCx5YISW4E2nneqWeBEPIVIPiV0LWEq4SuJShA5XTRAKrjd7G5xgI0UYhEIiL1TkY4YiFPAhVXAUuEIKqKhBjYBWpEAB6qHo7+gTPvRbc6ptgdtXY4uh4ONmefz6FbbEdvz2rN6AZAUSsDDIXkxBDg+AkAgEIMWWIgoqHZSMPYQCYD5nmhAnQgd5LYJ+EbsDN48PVa82f0GmFMTty4MVKqx99rDT6Y2PWROBus2JioPyhgQaF/ly6C4mJPCEQqnvoekH/Y53MoH96eaqgpxr6zbtMI74kf5eXd/od6wWhZt6ILs7ALlxMMAABEiBMBACBIHQAQrcFYFCEyB0gDsgNkAoirAKRg4LdAFgrgGdDJdEJN0akINtYRsEOO+0G1BRVYAywqDAECP0gAHsoewpuVLt6d+HLSWwalEGpNcbQ9yDYrU7w78cMJT1UStaboBpAxZwI2o2Ss6PiUCAADECIhGiCJiIRodAeTjQFJ/rQF7IfGACYtQFUQANMLNu/vdN4+vfc7TgTxPZs9ycJzJVKqG5qCYJ856iGCiACDHjnoEQahklwMlYIfnFNlllW0igQeC+f1ZubxZyd+SOUdai7O4tia4iycM5vOI76H+FDyX6jxjcr1GV3QJ25Dgk1Y3iQAAAKiBAAQAEparZKxAQA4RgYAkDOYJumM4cBp5QeGAqIxsZD0eJVAAJBmWNG3IgIJLNJof2Ap2mtBgX4NsBAoIEhAAk9nZ1MAAMD9CQAAAAAAyC0AABUAAADTsUoyIHiCg399g4qGjX6OjISJjYmGeXZ2eX58enyQf4uHhIeH3trm9R9u8x58SvEd/oXOReXVjKVum24Wjnl3/BK8ndelYjVFN4AUGoF105TrIxIREQBA2DgoJwAw2PmiJpoV0UkCoUtnApgmckeAyKToA8kMMDCAqVtsn+zOX6dzf6PgCwLnvHKAERpysCKWCFY0QCyGCkQJ5WIAflkepv6m83+EX97pq+m+tWLmecj6TRf/S/rdu3w16VsrumBglrlUn4gSAEA4JIgpKbk4NmSw2ahmxGSrZsxIOm4bA+j7HeQwI2t7br2W2yG/3rWPda6fgHC5bBhuNiiA1Qmc65XeBGFFLFt+G7iGqxHJMJCJZIYWxz3qDg7ci+7tFf4ptuEvIQ5/5me/JE4jcc0YSrbhLyFOH/O3flGchqgZ/QAwXQAJjiZfNF2SIBEAIFg2lolXQCAgl2whUmCwKVW0iCQAbSfAlYIQYdzQAMszn2waXzqhiWRwGOXPY1ibbnDTgKqAy+V+Qssu+9YRVjqDY6giDFZhEEmhA+h2qusDISECnkkOuM2kEoaW54ev/+4t5tSMm+aA+xFK+LO8P/uD7j4Xaop+AaCcASRYmv+YBAEAAESwDbBXKoBxI4tl8RQkxkzrQbeXpAiYE2AFNypgXAOklrVep8fnEwTvlFQErfqzttEnpDGrrlyjGcUgp/U2hMgtc4vKMIza5IP7W0o1Ab5ZVtG3MhC0PB/9oUCFqCl2nnnyW8hIP/erf+Tgo6boGYDpGxKGFf8/AAAAAQaLOT+SYZidLHfqyFSlFjQFOop0fljlF+blgYfazSSZxNjIpQQGsczLJw1eY+erqz72zUJgR32ibA9LXFFxs4qoKpI4lLA7toM+eBdQeyABvkm20GYSGvDX7bU/HOqJ8dOsoh+hgT/dWf35DzWjF7SDqS6M/yMAAMjIgHGQBNCa5czyTZ7RISlTlcgwkc0/KwxVTjjnGTJum1b3bb1Tp8el2xy7FGeNbr8Nh2ncdqwDQCkh3fxPpJYpkXH0zLvx/ntwwQrJralmESWssCeDsQPDTQC+GVbQp8oEUd9ib9TLrFwPxc6xCj5VZkj6Fvvk7oWyas3oBT2G5uU/AwQAkBBYiqwklzPAxGRsXKeYMyY1a1btMGTTFL4xI1SUZi5Fn+n8cbTUg+d4bUvegXS4Udojx5Ok3RdTeN8p4VWhHFMwUnOklvM6PxDqvrxpLK/utzAc3ZbAOvqbhx+AqS1e6bW4Z+QvlEe/XELUZTHTq3DP8Avlo18pIeqx6IWBaSrGqmnKCAAAJAKBqIqmDG4kw2yuJEzRZI0Ww7APGKakNJ0FkGEWrOJIBRDLT7//53Kwd7OfE+Fu1E5J1JVG0EjVhDjE32ZPg2P5I4njrWa4N99b2RCdDqrx+0rXRwms3VoBjgDKAJ6pzuR/OPL/1BlM//U8n5ripjrMbVqO+T7dCD2ol/nUFF04JEQZ458SBCEBAECtKiAaCyLxMKypJE3DvIP555mRzJQUkGIxBYqNgqJPOWk9NtSlfk+RG4dnTpKgFTNNhrAyVoVsvo5Hc9601pEi9/2mz5eNm59SV4rFgvi2sfqhjNOfmQz6zKI5/YBAAR4LJ8jNLKCY8U7pFN/oduNQU5yFE8RmFlDK9FB6xTu6pieHmsENQDUqgHA2U38iJACAImL0GhMLQITMYWNwOJwYTasnpDMNAIzFymMCGpNnKjkypBvg+m/HojQA4Sb54JhffcI7tzyqcmM5JBO/QociVdSAOoiXaHD3CQwDIt7atsjNLKBQ+i6PxfQTXdU41IyvbovbzAKKwm9xr7ZvdHWjpaboBsisVxIQ+rOnCAAAEtC07+fBABpp5AynG7ITovV6F3hN0dPBLtoyvnmG+/GrnXfbWMbNaXdbB591LOK8kB9/tXzG3rvubhnPXdhlC5eamafpZKRUa/BszFPzr3l6LZFgn3YzlpQoVQF+SeatH6b5fs5i+2eiZswsc9YX3f6f7rl2ollcU3RhQWj5fwQAAAdNZVIlozrmApXDxHweMUsH802NU8xn+uQ8Muo0Y7OHeCDVb3p39nS4zpiuiGZ3n9vNQW+WlOlpf2T2pBnOJdVmUh8nzL39/hreprzf5ubrPn+UKLwSFo0YaltlDU0dgYLnm8DNAT75JYJr7Mvsq5sEUStehlFwjfmY8+qWgqkZvTAQ5Sy7/BMISpHBpMnGI6lBExGRM5D5wGlSLUqj4JwQBeV2tO61vYuShQiJ3SIXf/7eh2i6toRyyw7isXndDWpqfpB55tYdNdtp2W7tzf9mFLISYV4kSMnXyAdcLW0T4FTkZoBFooIbAb7ppejSzS6Mh+G/WA91cZjpBfwt9hHGw/YjLjDYTfTBAbCJRXKV/xlGAEBgGVCrRY5aKNIgCCGdjVRBCOQAyX6MtvuNtEEUCYpGvv8IvZxkIM1FGLXBcw23PTWfMqFBo2mARDmMMTL5TghW0FA2eIzm8EFLvylV3FhWo4QC1ljlViB5KbgFMpAH/ugN6SPpV8qH24+tyG5hpDeL30oGhfLRJ1oV1cOj0yhMsYyXRwYSApBE0zQ1NsXtVWVkp5q+fzTpwnxSWNRmXPbNNkn3iDE15MCB3AJmJQDfmAxZO/1aRhgTsG7uJ4XbTbHdWXl2Ze2hQvKYsEK8sd6/TlLzN4Jx0VWgrBvyjqGI8ZcxBWiKcLnQim4evujNcLekX0mL4f+8UHuc9FrEdaRPSVeHaaE29GEBC8ZS/U8EAlCuIMzU7pJig4OgIgiSiyVFmqkAK6vaDKNlIlVRZEi+tWoY2336aYHsr/SGo8T40q6BJKzzH9NNdntlJ939+j+mw6r3WlrNMmp8NosUwoZLkRiv5Okrg1TGdyR+MdyQQ8Rh3Bw+qs6om0n4bPCj6cCQLY2f6py9mYT3Bn4Uhv/WNLowmxjO1DQ7IiEAdqBoHSsmyAURIWk7Njd5bmY2ZykJzWTWRkWfSdDBZSv93dd1jud9dj/cTxokDHFTlE2Eflnbc687aWimbq549Bs6uOFd+x2s+jK3XdtpkNOkBtDzCVYpYAwQXGcLLP7JznKbWcAvAN+g+IGaYmg7S25mAT8AfIPmB2qKbgCyDnAIk+pnhAAQAQAQQAxVWBZE0ubkLMy61OSUNm9cAOjiMAbQBHwXoAbABJTcCJQFAtwkH43tZwWClfQeJTMaWP1e6VhjNHi7om2wutPkNY97IqCIebAWLgBe6raJ38L/inZ0+EJNsdQdEJtZ+FzRjoov1BRd2BbcsUBIWJk9IQJAAACEIShICwEARFFyUQMA0MGxnLXZfDpv6pSirAZwEfhK6BJ8IABIDVZwGwkNuvhbOc/TiI7REwgl7dzQcyNlObLefh6y/rnO0BK4ILIAHgvn9Gbmvvh3PPANP2FqirFwRW4m9s1/46H4CzUxmjg9GKBkKfqSMAAAAABOihfFAwAAlRmjiFGlAzQAsXgKA41CBwAZFgFINVhdYiRqSZ/T1bNYgeux60cEBqlrcL+wVCsQmClaVbACS+vSOBN2JJuRAXF1Al4rB23T8l76XQvaz5/ws7LBX1O8lcP2w3tRpxY0xzf8rLSopujCgAcBhCnN8icMAAAAGJBCNRECgBQtyAIAAISMwciIocQADSmALg7AnCDXADQAKBpZUOUAAMBN0IYSOpEQ7aABIJD4AnGXiL/I8rChJG9BRWAQFADe6kZmM/Ft768WNP2FOqDJ6xvpzcQ/3ncB00+oLRc1RRcGPMXkehsApgHMfsIAIACAChsNo5kBQB45AgAiwc6tkcxHu6ZOMJcAZB4EwKbAyrsFYJjVa5SbARqNOlgZmZ7M//ldUCUHjHcMGui76cOKNbAIB0nFgjYrTyInywVeyg7Jzcwt/7sSan6Qa4qp7YDczMJb4l0BDF+oKbow4JCSc/0JQggAAABAKIgVlaMGCaJzmeYxC/kSaMbECADpBNDOA1BnrMiAWiL6WLUBiEGqlzgqTLLSPiqtYgKoQhCH4g1wT16MupLrhxW32/kesw5WD210Cf0ByRQAfvlV1He3DwnpV7cyoKaYCVbUz2FfJPxy/BlQp0MXJmF49RMmJABAFLAKi6vmqGSxWEeDbcxH+QebkpZZAWrgW45Zx8jLmntXXf1H8xidRAS1ICa+hY1T6t9NVpRAHLW+yNQur4d9gFhEDgchBhpXXzETs3oM1NtB+wde6QXqa20XJHziP9Q9vAxD9QO9PD/pV0VBTdGFAeuLnlFJGCQAgMqqiTgrICIDmalsiJxOYWFCtuZRk6cZCvDhZMl9tVadTaRIHECwioiPTSuVnfmdRHGirhuq0w1JaNOhCGkwDhQ8E8LufhCsTV4buNxwzklY5eAjZK0Cnlm2g81Cz76PvZjpn/xCU5/ipDmT2SyQ/y9jMfyTX1jqVXQasurlNEgAgMGRtJ22tDguiIiFvAEHzA6YlzKvQxaacdDaJdH+10Wf85PpbZv13xtst2HzTmKpkyT8aQUrs8RW0qB509rw1sIu/6h/W8o9PkPH1y1cKzyVoNCK2atsQ5ysp0IExchxnRKF52YB/tkOg83Cbb/dsn8Zvkk9KqKmuNrmlc3Cm95dP3+Z3tE1PSpETdGFfuA4f5mQCAkAADgSJpvPFxpAZrZImpGTMeAoGiE3UoBKAMk0AKJVfBBNSGG8YxN/ipAECFW+U2g1TC1DlzqI4UaN2PxVQ7wFF3ZemSjbxjgp+a4gIcGiAJ555oLf7ON8Le/emH+yO7luYyaaC/6wD+ex3IvhT3wAR03RxSRYl0U5/zERAQCQnCQFMkYONGk6y4lbFk8ssovToEE0adR5u8EGW+c997jio+FzODuzHBzTONYnYDrCgMr54/MiJ1VkaQJuV63s3lp+Pfq5G9QpV9QWiwGfDPdtJLgQryX1KNRu4Ahe6SXwq7g4hIfhv4XaMNML0Efd7Eh6dHAL9azoNJRqYf+UAACZQdPU4BTyz2YxtY1FVvOtCwOeME3Trja2FWi4o8aFSyFZSTWY2bvZugfb0vLcGOsoO9mRQe1vSw4xcLOet2p1Y938H1/wGlMve6MVvg4a5iERMR0x6ITdCi4OhIFVrTDgawD+6CXVxzA34Vcnarmoy2Gi1wofsS/jN9s/M7VDFyZgXWbZPyEBALCjocgaSLa0A2I06rCL0mUGVUgGmgKN4ApBCV8P6vWcmWwL9xFG+eJs9toq5zX99tZ3U5bYqURq974O9fPHSOVXk/1cHVysqO69L6GbKRyjZWd1WT+bcxeZONFUKiJe6FXDa+zNjA/NfwHkejxc/CrhLeZl2q8OFEBaj4cuZMBQPX82IQAEnCNQHUaaohUIFp9IMqJJTmOWUxG6bRqrBUxS2AEiU3BDYli9cm/Xz+vLElPOmw7b3uNwKtvpcKpeSznO6xSGQBM0/ILYHZnncfXNsaJjMZASlDTiESyFSnpxoSQBogTe6OXt67Ifc351oCBqj5NgUr2d6Wfuzw4SRK3owoDlqz8hAQIoL8LSVDHAYnqWJMLkHR8Th8OIYTKOw14QdAJgCdMNh+Lp68928jn+keSmuGM2pp9uOVj7s3+Mfc355ZyTlAqCWm+5aihh06TGGJv14rAhnQOFSKm7CE4xIXZl0c9rjJvhchhPZ2dTAABAeQoAAAAAAMgtAAAWAAAAVIndzCWMkYSCeH6Bent6e3uAgoGFg4yOdoYiISAiIiQnmIJ4fIWJgYt2/uhV0f0ZXsFl+0OrPT56VfJ2Hz6lXJ2IWjt0WmcsW5aMMCFhkBhlzLo5Wf7lU4ZOpxkyss2bLF92/MxMyeZMTFpQfBFjN/iFEvUjeHaPQnQ8rNH8xf/r0NJy9XTznFQdiMrWCsYj/zZ2s9YiFjv7oslYsUAmDfdZ59+BeJIcCrH6N4JiNVK5SQkokACeObbRZroPN2S+/PMjHfUdZo5t9HPfPMj88Oc/1Ft0MRIWmD07jU9SPIzZTjZwGpEkTTMyRs0VGpEmhzmpDESjSbsM62Wr4tIxUxoFKrwr8pTi4BnffJaER6fZVsqs2vzbaX2dX8d3X8a4QRMKFDmbJyPjHlwzZrFvkkEBiwLrN8P4yFYcvMENNFaxyg1giLgA3igesL+UgYj96M2hZmwUD9jfyoDIfPVwMzWji0OCEJt9SjBIAAA7GibKUhKBAhNGIpLKzMjNCNWcp/9M57wf9xO58k3FRu6VOf229rOPz2RPNGVjjNe64zqTs3JXw6yO7iwcRwk4lvD27+H69yLTfFQUVzo5AsHKoQ4j4OmRAoARGOAHvjkOuM2MX3t+rO7230LNuDkOyM2MX39+rO72tMa+ik7r7MTZMwQDAFQ6FPI6kNzcJETE+JA38EiDqsxJk8ZlDAVBc8fWglK7OX8Z28dvXenAhh3CbvUaG8b8l5cvu4ZQJ3xXCgCyGWakqH4FO7puLmcXC/yCIxRewZYcAxXeQ6sdAb7K5sFmFtwB7gfZ3n8RLu6aYmubg78Fb4D7RrXHT/iLa83ogh4OmSXOEkMIAAgEAACIRxU1AOn4YSJNJPkHIgJJMycDkCYAOAT6CW7XHSvNk84tn4gooYT7y9w/4rrNT0vzpAwACrCbnp4dPK28zxQAPwv4GosBCV6qtuAv4XMdflgaMfyPisZUtYp/CfgFgA960f/wPyhqjC5ow7qwjH8hRAQEAgAGOyuKhQIIsc1s0UKQZOZP0GzelIMFNKdwX9gZ/OoBNevTtr7ZtXE7qVW/j2wTTaL6HEOU5ya9avwKdpfgCSN3s/DzegD2odYBB5DnBh0gAZ7KRnQzC+4A341e9he2ODXG0TYHfrOuvzd62VcVaopuAMoKwGcDBECoZOZLRAgACAAAGFvPAgCTC0MAAJEBAEAEINLZQqUxijRz8kRgZ/gDgUiO+wais1/0m7bC6slqkyoS0hrGsVwfo0TiU3ENkeJNxgZFNH4V/t7cOl4osCUYAJ7KVuWmFfAEgA966fyFzNSrWNoO6I+AFwB80Ennx0LdRh+QsAHnah5HAAGIAAApchYikeZKNgDg0MkHFQAak2cmAIa5BSAJrLwb3ZaVd1ugBHCGVdymr7tMCTl/9RHuQYJE5kpiXk5F0QE3FTEJdVOeG91PhFGiglgBnsq24G/hucY3KeIn1AaamuJqW6W/hesa32rK+Am/QU1N0T2QgIhKAo7lTxCIABAAAJRFJYHZhQZsqWZbBoCIfEsBtFvXAdAh6NK2vkCNzgEvEL12rddVHn7ZhjXYrrBC8z6/BjXmtt1hR1xtN7dRyNt1zO6hPQkyrDxUfnke5DeTkAv/GToLEddZMRM9wG9mIVv9aH03Im70AsnUry4REQAAAIiECjJAihRnhBCRJvknXzKbRwDTMQWy3hS/HGgaANQDRDHk/bLcgs756ZbY7uebeWW+n4krJADq5EK5+RGENalE7V9R44qSEZHXL7CiC7sObCPeWc6hX0I2/HOW/iHUFEPNGbCZhWzp5fT+/LehZvQLAEUtgQFDYXD1E1RCAgAMSWAIMcmEbKCwWQQASCYbgGHcJe4Jk4RyABl2bnsIQLBCntjVAEIlS5Lw+njg5bWWUd93uhQTOYUjy+Gomb/1UVgRF8CxBQYJWrBNnAreSbaJXzD+H/PRv0JHz1szfpYt4peQET/2o3/oE6gZfaAd0IP1hkw9S5iIAAACgaEaLDEJAKOYCgQApBYbARpNKt5Dzo8EWAOYguCP3iC8EsFIoop8SWE4Na9sZOzRbx8e/JJ6fMROSuWnHznbfGsVBCxuZyZWgYRBxgh+Sba4b00SIeVXn1lOjppip1nhNpMQ6Kf96jfT8VFT9BwAGXMm7M0Z/ygJCQAwsIShxJNFDJ1ywKYzEJFOaaylGgxTDQ7IDTbTB8b1CCKRjo5N56ia7t7OYa3mKlHAdMyiQQBUobF6/ini478JdtT6C1aMSKh4X1x4BpwQBfhxBL4ZBuLeXLykH1ebgppi55iKW3PxkjW9iktAzeiFbeMwFT89iAkQCEACXB4IkipoWYicy8YmduoJGQuLTE8vIVCtuYBQICLmimoNd7nKnFUxtWGDDv5f0EBgv2Z/BMf5WZUL5sFYG93fH2rz9Sk2jYVWqXlWRMEItDKabgKFqjAkUAA+6VXBI9tXGEw/iGvDSy9HPDM+zOhM/wTAbqJTVPTZBwERIBA0qewpdgccP+W0oMclOxcve9HJoebXUhVnULytVbt/1hj8ibBbV0/uc7bXpsfnRXUsV4tTr/uJtRuClde+OhAlx+nfmlmZrk5hXaa52WMVb9UnDDybOhKA6Ga4nQDe6LXVZ/KH2ZfpKwi7DSO9Nv/K8DJnMX1FE8J+QxckjELLKh0QJgIAyQ7iLamMbU9t02GQzCfb8ayl03I1FKAFpQjAw0SGXriXVf7/0m/c3xhatYoudXaJI5YxWSHGaeWLQJDuOHjMSp/0W+lwtjJiiW6zaf0bLxWOOVO4aJFYNx1D+UwFnujN8s8te4T9EjyR7T9jojfDP7b8EfYLb7C7oVNIKvkPaCIAhmxuZPPSyY9ecc8As5xIyaZJ/vyRmZHNbFLnu2fq+bdtg6u53dCh+rxVwLymLNhH1mWbCWneD/nQjbdkRhge6yfdoH/fu2+4FYVY52GUYi2XHHwYFlLCzVDqaK0nNwP+CM6ij85P+vvT7Z8a6vcYCc6Aj8pHuvvT03811PvoNDz7TwkAoMloKIlkILmZ0zWU09zMyM2dLDLz0ujiKVs0qRpTea4r7aOh0b/xf1DHa1if+Gttn3fEJ/PRHvVLaf2x91so+ROWhqu3crddi99zURhfQQlrrmYCL11SxTBQgNTMonAbvRD5OzUnAV6qzhE/RDwf43en/PMm5vpC9SqWqnPEZiLieZm/O+WfNzGXxdWr6MIBTMmKVp9oAgCApFhSLCEQITRtI9IBOsVGWXceQZChe1vkuV1kEP5H+dq6J0ZM9Zx6hyNY4pPmf8a16MHU4GaAi9OMm93Gv4dlSNZLlVtnuyHJ7vI9rPIeFWpKGxwZiMxd///ORAAe+1blZuafz15Gz/GOcLU4taYYC1flL/717BVHz/wOf1WtKbqwYBM6l4hUEhESAMBgh4moAwOCZjtLOormS6WNyFg6CxCj5kzwf5sww3bUDrVaXasrLyjjFzYWQXqVXCwxJ5ktMpanEAlAZBcr0D2FwICISKIAltrm2GYWAJp+S3435tdXnN41xVU3KTYzvzl3G1Daj4+7XGhN0QcGtMBiStl8SUSUAAByFbTEpicJ0xeVC+PRMBrW8QiBJCnIlHnQEMupAjIcFJDjOBWgWc9o40kEryHYR1A8w1h8IAUYjkNnpU0paFLcEODn/vLLxQK8uA+LxqiogQHVxQA06e+t6tOsv9d6r3z2hBDsKwgTruynLE6UsmGLiTVH+BoAROfbBydK375wlZGAUbA4HGx2FlcktUipKdM57ukcCTUCFOGX77uEX4/WPIkSYQhqqYMY6055NCi2m19n8W7UyRHU4K/yS2vyd/266t9diQQwBHONrhDj5Dm2Y9XzLx64/qYBFN9fPqQI//zk6mrVkRIwBJBPLzpAYrg1BGGUkNv3rTw1ACzh337cJvzL2ZFvJUuBybSDGK6cz0ZJaeRb308lBjHPjXRKABzfE1H+x/irqrbZk2kQYvD8pBNkBSvFBtmXTn79GW9zp9PiefsPAJrp5djHNn5E62074CDZbmFnmBff2jYIKV0PBdyLgHpW9B+AkIRYnn86AQIAgLYEpZ1EeUi+rz+Sk+NVWBVi1oiotg/htxiB8SuiGTJlyi7QRrTpktkby66hlCnBfd01osP/Wt/vH8up/3UD2QZM5YHZ7leC1xs+SVt+t6nzLNo1HSQRvNB3KJ7nYRScugfBLRX/YWW/JqATPrq2lc0kPLm8lrs3/Hl0Tb2Ko2xb3czClctjefaGP48uqSm6AalSARBeVY8sAUQCAMiI2tsgC0S0EvNZup8CQRHn3bkHaToniFTOysedpVgmR5wj4/z8/D30ufEagE91LkqpO4rDbqj50lFJ49P5CTf+rkvJu0dwhH1suBRYDFCJAL7aRuRvAYUjvHVnsX3Dj4ZCTbG0zSm/BaDh3y33YvtKQ83oBoiGDIBj9Q8AQIAAAMR8jdEAhpieNtq6LXJyqAETgMgASLaNAIVOVlynw31HDlcheMSacdcQCi0j22bckEppPvqyBtKSSusf0WB5DfCV+02fLShwAR6qJtU/wjvHx/qvM/OPfRpD16S6WYT7QLf1X2f72lJTdANR1AOAZVU9CSERIhGw7azKgEExRDaRSGKyaThIk9obBRg6KUByM55G1md47XIFeMLX6Ob6n1BXOwZXxh+xvTPkT0c4JQlSOkHzRjt+OkHECyiAAAFcKXG5IAI+6bW4X9nekHd1e2tgxXYTK70q/5PNgzyr29tWVHv0BgbWhc5nR5wQgBYcgpwmI9tCpOMmN3GpJdm5mCWNKRdUVAPR+duBdfL6LkMkSnMr5Zq82djgTvKaqw6NNfPpBBM1LIBiMCVaQS3NFZxjLKuFH1XCauBimveICCDD4C9FNTIrlywA3uhV1HfyRdy/GY4y9R9GennlI1lHnr+ZpjL1f/RBQgqwC63ZSf4IqAyFSFKxAUJRRSPE3RQjDMIgyGtGGpKoRkRQwEoC6Dr37iCQRXJCoc3pdwc/d2TBjQRGkIYAn9Ae+EGtrcCyAqWC3xvBYqDLCxdNjhBx+58gms6NYLI+ajQ4JkulVhEHigEeCbaUn2QL8nwZji32J1aKFeUr2YE8H2Z522L/RBetBONzFlEipREANeE6mTQPIAW1RkvsOJbqTCCHeQwGVA3F34Q1JrNjGpmG6dqQyotgJvsqjHI1XzdGozVp1UsQwH5ym6cp6LQNdBOdoICOe3KDqyhQo1UEfnGUOP2lilIs+ERemR5ub1YevW/L/N3x431LtaZ4mR5mbWZ+/V7L/N3x531LuV5FN6CohESKMGTycmQpJQAARGKJBMvAUNZp/ilMmEC0YXGUjIa0xVcjt16dsa3k4rtdBLH7PVu/375QdmlkUsz4WSHsVthbym7pLLNSYi4h4eeTcGG9WbQiiMHYe+wjQVqgciB6B3UBPgvn8C8BSNah/eb5/oZ60gZrirNxDv8SAE3bab/cvqGetL6m6GKARwJs0mwqIhoAQAAAAARJImiKhGCcrA0AEAFAZCWD7bIjgMgM0OYBSEGb+0BnEDStoJghv0bfUBNknSLYIcduANKkYMH2YoL1iwLB9kYSAE9nZ1MAAED5CgAAAAAAyC0AABcAAADJZoGlIHR5f36AjnuDh4WLg4puc3+KhnZ+g3t5eYqIi4KKj4WC/vrm5Y8AUM6nsnl+/8JOak0x9W3THwEg865s3u8fk1ZTdCGwNlMKkfoMAEAEALDseJZ8YAAya+xciAnphNiBQEZuAWkDumwpkKSgMqMniSAj+HdKRcVxJVxXDr4+xNXkUrIFN6WJ188qYIuEWw3kVVGCBCQ+ys7Azcwv7q86M/1Za01K2yHczLz63NWZ4cdarSm6AZEBZDYVFc2ExgfgCIAAYhtBOLQhCZmmFy0c5Uyk1AMXY1CiD+BiCfgHdlhBnrxPvPcF2Oeiv6abEuuYve1Zb+wihTIdt0TQRpOWYcLNSr+ECQZEJQz4BTAA/tnOwM3EnfanerT3n61aUxxtB2Az85p9rw7t+WOt1hTdQGYCslIzNORMtEZBmoAgEQAA3OuLACCieUwgj2fumRMsAzIDOvFcgC4AVHgYQa4TCBKOmfURBzgVYMphA/aWvw0rlxZVJsiqBQcCUzazx2Mpfp1Ui4tPgYCdwFQkCl7azuDNIrwD9+rQnd5mjzVjqjvAf7jj36uap6eZmqKLgHQrAIZSqsJQoiARGSQEAIQUCgAnF0/GACCFApi1GcOaL+RlJkF/WfsKxKSgb1DCPal5LZiSNwDhXCMuef8I+ckUjaiTY8scGA3gc8NeBBDY6QBuHRAAWSeAi4QELr7a5vBm5uW58bvn+IZ9gCRLsWZcbXNwM3Pz3AU8xzf0AyRZJjVFp5DkVYVUkJAoAQAikmRcOpu2eCARwizJmHJAgbbLDDD5Wd4mfoGRiLf0lPj9oFHIAVYPJd2wgFjKkUVODvcZkOoIKKbxXcgfN4Z2dKHFmBaBwKVS8EQkXRgAXunl0NeuO1J+2Z5yALuFj16F/Ig4RPlwvOUiwW6iC8GGKTNBpVEwJZSJEHg9CCexTo4wR1DUUo2TZCfYebRott1wOmLq+pBlmmBWenvTbivONE62x1Xdc/xkd683fBVC2PHThMRGQZW+8VqHDIJrlsmAbL9vGB3kfaR76CJ9PhERgULOwDVI15jOCpEhAz7pRfZz10OkX5SbRX2PlWAifO+xI+V3wxfqHrqIxOpqJoQkidFTEBqFVcxBLXC8k6/NRmLJ4rFmF6hJgkY4YhUG6c338GOKmmGgNry6+pcb8JwaFefV6tDyEUVbTX4HrtwGmeSJnrGkGxfylIAIqgJfIUKeMZhWwJBDDz7ozQQfiYcqgOkJtcfCbyb8TLywAtjxTwG1B9eQCOtqVp8CpBFBrjhLiZXaRijZpGXFbBQWZBxN7aKY7lZhBhpzkt+lExQglIO7rElMwmvN7kLDLC0hiKeySNC2f558lbMQ6uEoA4BoZ2Nslv8jFozkIdX4i2SsLJMn8CHA/b+KCiQSXugNMs/InWi/FG9FUruFiV4r84zckfKb4i0WQLbb0MXAGCpZNT+AoAGCqpYKQlIbo8IwY9Hi8W3nxuXFPLEwjfuKAPWygpENSQWmU3XPXPiuvv5xNzT9kwY0E17JrbNdEGNACKaEpoB9X0q+pk4ywgS3YX4og09mCEhWk/qAhBuB9Uy6E1AAPikOue8zPkj7vYmQ66LYSVaI76d+WA0aqkKT60LRZRbWaGY8lw8gQAIAgJLCZAKHsizHZtErt6TByTWLZPymKDVGhONyIADtRGG34Ws9TxWmbniOuNcKuRP2QYKD6o63V5LvSQkmIV6Dg+brcfeja/zgaujheKIRbQMxUJ+gUcW1HMsoAt4IzhCfj7ipIjr+az3UhpHhAH1dYseK6PgXqPVRG7oAYzPLSl4GKQEAQqJB8RGxIEYUimi02zKmZudLLV4cac6WbaGBSCGr4bUmwLhOAmGvFGK583BHbsr1/5Z8zn6vRocBOGpCr7wWESjFZg3x7vcTDe2b9Aese+6DzQ/BByvyl6sxFKyoN6YeygAe+Q2U76sfIvwybfXE9htGfgPlZ5874nfDUU9sN0YXPbDN/kgIRgCiIUEjwKAoiiei5HVhnjE1WdJsmp0wSIM2IsEX9/5Wdt6fdL/e0aC/L7rj98gkhcCquVpGXbN7/Lx4G1ojJ9dyN+dYbaSmNQaITFiHrLyV4xhR7UOsdwMY8HOzAL55HuQ35+7vXl00x9vWGtSMm+dB/h/Y+3uqi3Z621rDmqLTtlSTCfETAhBCu8Syp5ddJZlnZObPSUs2M8mf19zMJKIioI3xK/6N/pXybt6/7DLcI/Ap7oNDs8C22fg1/4y/h19zMpU6jUjNABBp7XYxPmEREakNOSsiCUZ7IcLqRrddj51/PdMoAN4KV8RmFoDl2SsPznxLVBltTfEVzsvNJIDIfa88OL6SrGHN6LTJMuNEiIgAEAEAhJAuleTLn0SaVJNKOpABEJImXTx1YIBmFJ04r2CMvGPeKla0cm3cGVtPjrmIEnwvDr24UANwBAhwhFDgwhgE3grn9WYWgOw5VaPzfidP1kjNGBsn3aYVgM3aq0ZPP8nUmtEqSHCbBAyVMDKFAUJEIiICACACiMcFWCKs8xgABCFqyji18zgPKbgDbE0BCtgSoAYYaRzKHPEs4HqASCTZp4CNoIV/AgPQQYKEK4BKgAUFEV7aDtkffvvvzX1Q3u/Uz24y1xRL2yH7IwC03966BOn9TvucplJN0YUWuG0BkotApRKlRBMAAAojcQBBGDaaZABAgYmIjIyMfB0gxrLVwD0hZriCE9JMyPA3wL4JA6wjasEkexZYFQCXr0EaVMsb3ES5tKQCRsR1WSA0RH0W3Ag+ug7AXz7WkfvftOc79VesrxlL2TaxWQVAvY/c/Sa836m/ibhUU3QhwHMtAABDJojC1Yl+IgNh6a0rAFXVT6MAgCAgVEY6aOCpJ2UKhTYPICwAYAe+RCWhFvAHqEepIMdRUK0UaBoAaDa5eTT2hz3KyDS5kb/EzD6JiwJPXmFQYbdEBkfIckkQRQAeus6Qf7nTs5NfxnzrqVRDNcVRdkhuNo/9DvlD89RzqfqaohuQGUBEzZjNn2iIA4AdM+IQSDGO6VZGpElGOrDAtA/IroCUBUWAFPA+rJldJGvHhu+WExl8WH9knmt8W1mCmzO437F3+7QiN38gE/fFshREFhq/F0lcBosV8QRwJrBYbEE2Av6p5rm/7Ff7wSL56oOpKaayAdqs3Ff7Tuyl8g21T0xN0WUDs2L2TwQAIgAACIrq1IAVlJZGZmE0TOcz+adBweAmQMdxAtoxYZX/zwl6jyfL286tQGu3dTo5MG1Sv8b5pnjhJncybIA7sk1Hk6qwIhcd/6r8AkTemQbBZrNf9R2X6OmiF2qKpWqmblb2q3kTLjF9w156oabostg2tfwJAAARCQDFqnIA2C6KJ5lZY8swjfbUi4N2XARJQV0Mq4PbwbfgpTsy/fga/E4k69Zbc9K8SOsf44teNvSD+TpsO2Ga503dfviYCDhGjtwpp/YHRCysQgU+ipbWX97t2tttwDssaoqnamP95b1Ye+tGvKN3UFN0TWKwbirFzawkAgCRAACR5AIsIBqoAeVZu8PZbLo7j0GjklkKRH6BPwSQKYCetEQgFVD1mdmuxuq8hENXgyByxFsGusRY7Kq4Gjuv7aiaK/ZAwb/hmhxTE3aGD/rti110R4BsAb6pRsHmPBtOl2bCfmpiuWZMXQt+s/kG9nYjSOcZahPLNUU3VAAqwIrkim0mIgRTAOqxjVHvBASePbIwf+CTFqiYhpnAMBaQGwUKzwluVtK87k1mCUANpKAIiHUGBE/+ZnVL3sJnRdCCNTAiVicqU1ChilgkGEQUtV6QAH6qFuTmvKbvlQadZ9gcoKZ4uhbc5ryynyqjzjNsDlBTdCMTEA3AsmTcfEQCRAAAV2OQ3VJE0GRsojSWRQNjJhAmoEmBTKU6hl+5SZCRiNRvA4KOVq228pp8xuGlhAKSAoMJgCNuXME6wsr6PTgAO4kIOgZrYZGaMga+2sbkH95oe7VBbN/we3mR1hRb25T4w+ftNJcmznf4vbyExprRtZgeQ0NBGTZPEEQACQAQBFEsQ7wwWWwFBl4wXNJQbTFAOgEDTwI2BW2wEywUMBPLz4jHqKOKVajNHmovCTgAsIJz/nILvOfUKbcNPwP4eiUgJQIX3onmlD/c7b5bx0D406c1KNeMpWlA/uGp/W4dg9D+wvbpVghRTdHVwiSiqskhPkOcAADxpCQgdJhcSQXIBRGWb5+O5jEt6QIUDNLUithpMECcKonDM1fisWY20A4oQQ1znMqpQgSQBuaEvopYn9s5ij6lmbfAsHYVFTuthHA/gC8DzrgMBMoNK8sCHulVyK/YHZmfhgN2Eye9HPcZeZDxy/ADtUenKWeKfSKKCMCU2SQzbWKSSM1nMdDBpdYDnxQL08PpiCY7uN+2DEJkN3VMaZS0dMacqkcH+3KvZcWxnZVWUYLkjk4QgJKfbXHb2/jAzvg3LqsS2Wl9Bnnd1egYnoxRxJXHFPj9t4OxuBpu2IGTAP7oReF16cOUT/wXELXDSC/K3HdzI+2FH6jjR9cKWLtia5WdiBIIgkSYL0yqhGxAU4YNMT5vsJEm7TwjMxcUUEzt6xyAqMCRSN/TaMrK8hwZzF/Ym73flaU19g2hBibl5wYqHAAgmk2r3HMQjNljFGjVVSTpTq9W9WTcRarF6kI9oAW3MTofrQCsHAA+6FXDS9LDtJfmz4TdxEMvl70k3Uz5pfkHtUPXLGD97E9ER9CJ5xRBoFrlRuBT6TA621zIHQsqcqYUQdAIum8RbEzdR0+/4a4VZKrPQ9R6le7AY4jN1veP1GmjpJWxd7opZ17No4msanzunDVG3IC0BqGdUyv8qr8UkKWywNpFVuAJPuhV1WvSYnwqvqh2Ewu9in1NOkz51YFQG7okYBOqOP+JQApAKSVFe1VxqYK0XxRUp8qmMaQxcDaJRlbsMIkIM9XOExvTqrXm/0rGkv/rTmYhX94BoRIfmc7rrnLXACFSFukhCw4op92/mq8HQzFh6LcvN/THPQeaRSVdN9yajAK1b6IuIir6GF8BvjnOKpuFN96f8bunv1Abra5m3Bxn+d98/n768bvbv7CNVqsVXS32AEP1MzyBBACYLbGKVSosKkjkMyvuMnVcMwbHR8yXtPMtu6DjPCJdsu9vZBnAGy3/2o/xyOc+4VE2bJhOdmGs6fKrS36na7mlEI/nVjU6xGAoMrtsJG2xMVyzd21qQLwEx9VmkLo1w3s+qraVP7z5u8uzE/yE9NuG1ZqxU52xNiv38O7qroKvflthtaboRiRE1GSA4VK0fEkEAgBASIVwlqCIgVhYrBkTkpFEZAdVm8VREcPegvBbLaXh/Re3hsZxiuyN/Z5BBcahRJ3JSManSwPI4uQOV22FG+Ru8aEKbREpKJYIX6YBjKqtwg0Afqrm+T/Cf0MPo5P8RPhoB42pa47/I/xHvJm94ifCRztENUUXDgjL5lKyA0AUAKDaKDYmgqQ0LtIBh9MsFipdKiSdUzSQYRohSbnZU6pOtsl0h++dI0Q0FeZBSTp83777iSOcDwZHG9bjs4YsbON4g+yiH/SyPrhxAvyYEi9wL3ADF09nZ1MAAEB5CwAAAAAAyC0AABgAAADp+yR5IIaFhYeEf4GAhIt8g4SEj6Cjlo1/gXx0gnlyfnp1fImIfrrmrD8CSpJu0ir5hr+lppi6Jq3NIqAkeaddkp9Qt9QUXUgOLJVhzj4AgAgAEBUKImWFDot7yRYQOj4d7TB/5izIpqFsAhpJDiOqQ9q2h0cYuaODhwxQ4ywKopnTxAu0+vUzvfGpiuLacPBI/VFuJzSU/bbeXlqXJ1HttIIbMwUsih1cKgX+qebUzcybfy/pU/PnzZuprU8xdE2qm4U3/27Ch5Z//Lg007um6MMCiGRmkZUPACUEoLLizoIqKiKxeAAOq3jEkTCplIqoGg1rRepwh2Cq65hNvyDeFk8VETqkfhmOh5MSREf+Q6ullxLhoS+HxtQ69warIa482XwXfLDrB4jujS5GEC0AnkkmyS/O8PyVUAz/NR21/sVNMkH+sIb7q4SiH53mUesbWgUkdlbyPxKgCEDEcYuILGsgZiaZx+vH9TTMw2LmKa8VIhlrBMCpmwfae4mnIk8VVrBfdhrIkL8Pu7YEGiQKsDJ9neJGo4ywHYw4nZIR970qbpQtIjIJDOxrsLg7JBzbCSZ4BV45DtFmFp5L+GteWv1vrdaKleSQ/C2cF/A3vLTun7VaMzod7Go5Y0QjAEno+LEdzU49y9R8pk4dF0RnYsDBAapLMoBKsykgGNeACzuBmlG+D7Vb5JzexTXG/I4XBzeQsLLjb4ndNIrPKmOyc2MV/UluJIZUEiIwsM7APSRAFxhU+MsngmghAd5JtsBmusYfzfDRmTPsYU1jZjkkfjHH7zd89GTZhrWm6AKGdcXYp0IIMAEAgmIIWjLhaIRaDLOmjwnTbWQzlkljHoBI5QrwABtZSQwtY5Pm6XCT9YsHDb51se55xHA635v2P59CDSGlZNfyiUI17o27R0TjkFHBAPpZeME/uOzAjUWmAl45DuGv6+KHhM8OspZripnlAG5m9u3341dHoK1aU3QBw3r25SEASACAnJIgWkCz47LrphhGRscNvDgxYEgykyZFgE4OcEueDcmvrNEV1T7bHTW8yHX4KLM/bomvhyQ6Tk/nDUkUaqBhSFDT+2Z0I5EJKQYMHI6OAXbmFyZoKQDeabbxZmbf/i/lYfsXvKh1K26eA7iZhGcLP8LDLv8tav0VXYgkHaufIlECAERKc0Gg4ngCTKO1MKKZi0zMyEzSirwcKYCamA1AYViXcTNdom20wgWgzsi0e9q8jteV6dXzMaSl8NUK0t7UgcsKB3pLQMSO7yHiGAk0IOZxdyDtTgA+ilbpZuXb3A/pZaafUBe1ptiZDsBm5d7eN+Flhq9FrSk6LbJkCy5IGKQARHtSpEnGcCxpk8hJG9k0Z6DSSDvdKZc1BgCzIQDoFGC/9HNaivdOauyl54IwaomVuHwZ4vx9qQ6guJItGMGL0Nx/Yz5LG34YrytLGBQXLm00AHGCBZ5pDtBmYW6fj/BLC/8dvDE3fpp5+Jt9+3yE3zR/oYtrdTI6beeXJVGQAACziO2GkiaVNC+kwYT8g0mkzciIsdxcIQDRJH/kcHCb+TTWF5RYg9okJx634XeCRCmcBbkl+7w1H5Bfyi50OCipdm3O2yXmLcNyxBb1Ig/HMFC4TOXZow9hRb5ZzuLNLDw5/fj09M+aOhg3y1m8mYVroI/46em/NTWj02MBsMzylwQBAgIgDEIDAAAOYpKpC2lONJETeRYyczLG0sGMKbOJxjZFALSUwQYKiu9aG75+2q9raPhlCmW35eSeexVzO/tN4aYAcBnm/AdrR+3veoLVXZbKsYQM8GODAEF+CQ43483JFADeSVbBZjrzDxI/DP9D5wC14idZAZuJlf8/8aODQucQakan21qA5/wDBJEAyIQAADAkTceWZ6QkGosjJ43sdCuvGSLJCK+yQb93faJyB22zrU6knqpkf3uFdn5Zk8UVeKUPWOl4xMux5tFYNGcMA1bcFViqlaeNnMi1DfQBfujNh5+pD8m/m37AbmLiN5f5SvyEX6b/UBs67bKwC6UB4gCAAWYxiqYxL6llFueGpO1AcjOrzZw42cDJCFplFkpkcDhDvN3olHl2qzqS1PnKMgRSAvA43LobZI5pdIea1Zr+pLGBeRmRqM0PiJUb7/4bIL7vfnBDIqu2IcKgNq2JrwF+6B0IvlM/0n5z/EGdHxO/A/ZP6ifar94cakZXYGHIrwo9QYAIAEgWohBR5lpWQTk3LxlFI4SQjZhlaBPJYEiKPk5cl1PZg5cUBIAYqg6tqh2FGlJI1gbvp38rgYSs5s199ea1Ko+Oz95QMKw9kR9t9GMFGUK2n1YZdoaLiP4KwCf3IwPeaQ6JX8Ld8af/5U7/wl+0eo2fZov8xR7/T//LXf6HX0Wrn6ILlnVbAsz5TxgMAKgzsEMIGjaOOQoGCAlTcOjkYx2sBpHmTndhqwGIHiPTIbnlWg7HMdsdCk2rlW8OCRDurGTtQkhD1AxhP6XRkfomRLyM5gHRgjs5lagFY4cWaoQsVhu+SbbQjz4jQeov2zfChfoPM8k2+tGzYUj3qzsy9Ey9RhcWYRaaLYlROhI1C4OSHaRQQcIOsvmHHTMtO8/rcKFD2rGQQW3+vjluO3zNej2eXzarm6flIaca3bRHMb8N7yadE1237t7LqpJVU64Zn4TnFqMCLyhZIngMp+ByqbTU6QlMrF0fN3f3rQwqZbAMAP5pVsH3/eKD1A/bCB+1I5fmkNu094sHkj9MA7l2xAW00rCwnD+ln0IFCtQcSQIllRNhpDFfNDh+NTgaVST5mRfHDG1ljG6/zx3V9//N54tHan6uXhAkRnN2Y6LhN6Yb/f5oCeDkJglhMotFJRDE9LE9UKzTMWP14rHhmVq37sTRvSlEjz+cZh3IL9/Bwmfehbu7ix25PGX5cA2VpBqw2lk+mlbpZhJ8AddHXn1HCXWmNhxNK3jTCn5Azk9efXcLi9qh08h4/X+aBHnpwMZnNDfIm2JOWuRPc9PcNKMdDpPh0HkaAl4KFBQrBUniPCkNHa5N9+mASA0873bZ1zDNp5QggxsBCVTjuU7/LCFmr9Dxz4mouzrK58NrvHKTegOnY2FNZEr6xHpjl+C1UXXPUTcO22q97ktzUr5dnGkeYSCIFWYAHqoO2I/gDmp/QZsDd+3wUx3QTSt4QD4vevaE2qPTyOfq/5OQkdfpYb7BJFomLZExWUamjDRyJmQkSZaNrcthWoqAFQuaJjVuJufVlYCIqWKxxGCMt6WqfMKvAnjmoDRELP5UUyp90u13KqZNcPjNTmz2l8rhe9UwkpjiS87tiIKcMS3VgByhiKZUVSQIs2isOW5iBdcTfrrm5WYWfIE/D+HCHRa14ehaFZtF8AGx73jgQG3oYhascym5iD8+AYsgHieNhhhD1Ck0M5GRpNroLDdmDY2GeUSc87zvqq+2NQCI9HPZGJ6rdXEVK6psp2c+BJyEyF8HqfMWKMMPqvFZNKD5B8lKu6fPY3xSB9bjHOBY4CWEkRNQgmi84/OFQEeOEQsi3okO2WYRPMDvx/Si/OCu2xiqtsUfwRv4fhs+KD94a4pO68vyZcQJADCbxbiIjDQ3bZIvmSclGtUBJiRAk4k7mkISASiwG3m3df6WvOg6HtCvyZhP1gzTcXe/aNTmts7vuBFhIjJ6xajZvJwgLgKt2rdKQMIFqRBJYGGYpKUWAb7K5uUvwRfI96Cn/IWfifxqiq1tQm5mwRfwu8kPXfoJP5G3pugCB6wbq8+QxUQAgAAA4aA5i4cQZI6z0BQ5uRMSEOOnMK6AnhfUBAAFD4BqPtFxbwDUSZhPpNJaNTSeX997MK07qt+zMH/sBHuDf1UckEbwDFxAizKghQUsJDSJAD7KtvBmYl7/XvKl+mctrSmOti24mZjXvod6qX60qMU1RR+wgOQ2GJTmdGJRIgEAZCtCiAAHRZIBI4dBLBoaAEDRVpwB4P4+WU0OFzdusBE5AFA1DYmAhzQ5dbBhK7ig2r3GS3hw3e2u7pa7+XBYO1SAsgOZilUA/HEKhQLe6ibYZhJ8AN4HveQn/DU1xdc3ED+CD+D7oBP8RbhQU3QDAFmHU8JmKj8yQAAAjGQDzotMhGyiRqHyTwpR0BiwADBgFGAKnhyAuQAAAOmwoAuvyr1LEJZVC9qyvwWPBz/1dz2rVkhUBBwDHCeIbawIdsAWFb7aRnQzCe4A70NcRD95zIUiaoqtbUB/sV9/b/Ii+uYxF46oKboHBADqGTiVMPOSyWNAAACZ4ogCVUCQhQoAIKLbEAyAgdMEAGluAgANgBncgDoDIAC0HefIQXSctrpUK1BueA1VZH+CYGWjfsUsO5XQOq+HKsnh5qBWNCpYEfzwngV+qlbEj+AEeF/Sh+hfJBLSaoqra15vJsEF+D6ED9G/iKk1o3sLAoCogwcsZGLPZhgJAADRBKowYGMMAnCtQgDGgAAAWG2GAvzBKXTiGdws+8f/1zOv3xl1aT1T3Q2kFY1zuAWaHEcLW5BuFZI8ahWp0FYCK4KKPn0sfgrn9GYSvAHaTv1NeH4lqzXF0zivNxP7VTt0vym+yDWjF9hwGyTMZfUSAUACAACZFXcZHC0xbgBIw5IxAAhFdtwAowaKBLVFKNAc7eA7NUuGyiic0B/hvfALpi8QALooJMZCGQlUmi1BRwUIfon0ARUF/uoWejMJPgB1VzXx/RP+kFpTfH0LtpnYr2rv6IL4/ml+htSaohsA5EzCupAsmp8IAUgAADBg24smQCNnvEInDDzWAulAMyMAJcKvgBw3u3XQ8FBGMn3O3BImRAVEzk1YxPbb1OmIvBWASwJtpo4NrTEag8FscsmRnDwCxUAAvsrm2G/Otb47+dP8/kR4+ZhcU2xtk/gP+2U77vxpvt957suPyTVFHzAJWskmNONUsgQBMAEAJOrCKAgUhBEkAMBrZ2uGAGEgKWACBbgH7AZy0aSkFZlaLHFBUm5eN8dAalCeEwTa3uAfsVrgBmh+JAnI+QEJyUiGYgCeylbp5rwX86Az3OHnULWmuMpW8Gbl3+4HixGeoebQW1N0gQzWGcs5AcE0YQIAGGQEdbwoGloYnChjmGVoIKkGFTFFDcAd1kueAP9Ca9sqqLHOFNeNmcQPULpHAUCWEmHABMuKVNwrrc6TgE9aLgUBRyj9UQl+2s6xzco3rt3uPsz7aVVfU0x1Z9lf/uE+Tvcw3A6rWk3RDQCpEYyGMueEND0RAAYEcg9XsUCS09zIyDefzp8xQqALcwvASgB0yzIoyAnsHUhVY9ZHcR/H80UoARKdKQOEi+GC6xggilwEedg5RpOiJjC4CpZjQ5bgMioAHvu2zWYRAIfvmD7c5x3qOVsENUPs2zKbRQA4PMeMn57zHeo58lxTdBoKqzQTJPp0BEJGkwGb5kinLhUGgyRtogMMdKHaNCGZGgQ/4BaQlAMgTabglQhVMYADEaDJQJ1PAgwCPNMnkBNQ+ZhgoHLFFDIuqyQGVaqrP41nrMU4x0SGPX1l4EZZC0Se+s7F3wLQ8O1m/aW1t6+wLLmm2PrOpN8CSP4eo/7SytNXWC60pugCg8XQkEGCMCAaPxIRgBXFbjTXktR0dPuF3HwZ2cHM7DRTRcwtADMAmFsAowAjAOgEmGa6CQqcpoACACSevwU6B4CEgtlOcq/F673dPollZRi8XiNAir7jxiXqhZ8HCyIBT2dnUwAAQAEMAAAAAADILQAAGQAAADH2JUQic3t3f4l9gHiDiJWHg4J2dXh8hHV1cWxraW9ufnh7eoR3ez475/qPALhtu9H9Mn/e1oZqirVzcty0AuDlPEb3afhq1Pqa0SpAMG1CsgUAIkQkJEIA4pEgDnZEYSEYDNPieTrMC8vjNDYqreVqVqRPBJMyC+BvsG4JCtAz2DJ4YlJlAgBAjwlAsz/sIeGiqlAhDqCHygXeCufdZhYAN+t0CMr9Lr8gajXja5xzvwSgzXo6mXLe5RfEVG1i1RABiAocUlaWOCIRRgRgWDEgCbkHEYZpt2U/TWJcXAGQVwA6by2gXwEj8JqCHOx75xMcK6DMgPiDSgBy3FIAmib+1pnoF8CBPUCyQMUdcBl45SIdkQAe+ybkH/7hXu74YXiGmjGJa8ZZOJKbRQAc9uObPw3PUDMmcU3RBSZYERKqxohEhAkgcAYCO41VyRA4RCf1sqyxNC7mzxkBJFMAiMllAPQdxD3gabAP6Ce6nZkGNOUD9b/bXG4HDi1mRLeA6QhrKoGICgUiBhGXAT6qxtZfzjB3Oz+E8hZbz7WmWLqm1l/uoR8zP4Ty1quP3DWjC7Qx/ByzCSkBAFpCRG0lnE9GNhltk0FjId3MWSJAOy6HqdCxvwNfiR2s+vRaODQ3snGlaEXjobxYYZs7P+ALicCkwidLaeSLGwyhyXsoMWYMi1JdpIUluRBkXFQ+6bXQTy4/xOI4Bth/xkqwSv7k2guxuNtTK8Cej16w2ERXnwQRwUQggcLKmQiDlGbVISPEooV04/mTj0imF9XxaRamDgNaHSufgdWLa/LkysKafn9PvfOY3eYcCx1AajY8syd+pjeeqkQrX2W7qA80Zv7P60eeaOwnsiXQ9QkMiffTG0SWC4fRAZ5Jzqq/hTXqR+2d8A6esdfjpTln/xHGVh50jq95UV/RBQJhC59YIkIARgKWESJIZAkJSaU0Zkzc0YDSOZ/3TwFplgScUY9xaixrxq6+HzXC2vwSymFIAobmcbrZkyuvvauxoP1MPCSofN3VdIAy2RTdRqBPXO0VF7I7rAAKvtpWiD/C/4p3HNM7/I+RmjG1rRKbRfhcwR3H3O8I34yTmqILTHDAFT9LCQAkAACADGGRi5JCRMePZacj5vN5zAdMAKKTmgLgOAoMkE4pgF/Xiy69AHCaqS8T/S6+ToLM2hxOjV28+agkNEexnxr5iyc7R+8QEwdMSdExgMwFVwA++ibVzcJn913Jl+Dp1hVTU3x9U3KzCADTOUa8BM9Qbw0PNUX3wAIgGzKxsMLYn4iIAABg52nGBFJQGI0WgKCkDhZApyqANlMCMnhNAhZ7M1ED9N0a0DxYefpe4bbuHDUi4PYjNwrFsqeNTOJnIkpYefBksXDBMAC+ec4pf4TL8kP7MOKf+KwQNcVNdE7dLMKZ8U/5MPyJ2wc0cZplVV5ixAQAiCaykUaGwYxJkT/mY23bzjKWPUBeIhLoYZdVE9ang9VfbuAcbc2s8cW+zvQG4FwP6zh/3vnXNEXdt0MrYFmNA+PQKm0jXoqCGhWACPO/EVHCFYCJefSWAF75DdSfyBcpv2veaqj3sRKcsX5HX1gNzfCG+j16wWJqdjpBEFEipJiCHDIaKEguFw+1kNN5RjMzpyZJDJCdGtt29hXjIAzds0lYwoiVJJXB5pYaTt5jyTElLtewRLOZ2S6gjsf2p+bjdP1Uvacbpzb5/0dk+QFqdykHYoVdh8eLuau+S1gmkAB+OR5OblYYvw+Xt9u6hrA2zCQPJzcbxvfF5Sce6xrC2tALk8u80B8/EaAQjIqCtCCMJTKaSoeL8s+buZDOmt1hnNdWwzBKx4Oh+eWjZatxk388uj7RacraNWOv3N6HMsBT8Hz/vOL7Z01+mbKx+bA0vk3b5rsX53Fsq+QFhsJyU9xy/wQJprfAfNUajCjUT+z9wBoCBb55zsLNhTOjne43Y3kbaTVjJzqLNxf2jA79L215G6k1o9MmJDopRhAxUQIAzBqZTQcnTViy0FgqSdNlJHKSyj+5nCQq8qYjlaaRtFHrtKS7EHSfB4BIyQxbYM166cadYuKzy4Q1cVMCCMmHlK4fvLKx/pD2HvCgsJIVRCsD6ipF9CAXyt8+AF6qtszmfNtnN/yyPUNNK9cUT9Wq2Wze7XMMv2zvsKnlmqLTLT0gZZ0zgkAkQiIAQIxkE47kwyAAgBCTwnhbF2WEhUhOOnlRMyJNMkcTJkU6NdZ2M16hpV+Q9IdoX5kOq5eWEwJBSFUQAFSgjLMd9AmhgZH7gA+cYr0uYDEMYGAJsQQA3nnOos350r6z/FLGF7Wm+JnOgH/gTfvO8qGMJ6lUU3RJDG5JQJ5PUEgJEwAgUCIMZSIKkqvA0WgaAUcsDKARg7MBtkxaOqSZYj2yuApcK59GbsW1Mnvvffs5q25uja5XvxXqZlAJB46ZX3KlFbmxrCm+IqYkDVAQIICFixX9WGHSBH6qtvBmE+M61N/N+62wtGYsVdtws/FxHerv9vOtsLRmdLq1gIpXhIJIhDQBABL52gABBnAgIhvpgBkDZGaiIpE/zchsRtDthjs/fiMPqgSAQ6XlzTC2NCAEqQZ3AFbhhlvUVPd7WXMA60REqDUPBRcMJqS0bQP++ubpH+5xLtLvkmeEBbqa8RXO0c3CPc5TBSTPCKk1RS+IDUeppElIiEQpAQCAaGBMPCmuMCloRJQSUxyXSZLkBZABIpBtqxHY+awm+hcwndRqwPCf3FodzT0Ee0Gj7d4mZfVJa/qiYGUZcCuDCsoiQoNRIAIe++bcZmHP++kWpP0Mv51qsKY4CyfMb+689o4YpPOM/W6vDasx+iwIIBiaTBYuhISPiQAAJYSkQNA0UjkkwDYOSL4Jb18AWBTAUwIYJoAdqxmYA4w/6JhHWZF2IOw9AXQ3BQh4CoAAlgSWG7iUgAEulwiigsgAqwBeGyfTL157721Qau+YpAdh01xTrI1z6RevfU5bRKm9Y78uvU1zTcEFtJmmWAgIh9OIRCkAQYFsS4hILIwhmr+RREsNUFVCpzFB/UcFpEPngnwEcjMAMQVgnwxgAvQyTQDGLQ1uMCYAAP4/gIIjiRhZ3D7oFDAGIggrilQDfrrO683Z03dwaVrEB4fa4So7a/5yp/fgMuyIL8RCbeA0hC4zgRAz6fERBIsiajhVxLLzZySNSEIZlJM5kNAWkmRbAF+AfZsAmldAhDkA7QTAP6CkoT03Lr8CAEAbU24ElbGxYtePnX7yQ55t3bsCg20gnKqMgTql/OGG2BMwXyqpThsAHvvOpM3Cyu4dPD0jcREPNcVYeCZuFla6D3h6RuIiFmqKXkCY0GUWSibAiY6BHCTFMWAgaKkKzJYkM8seIBJKqukMu5iIAkCNBi6QIvtbABMAsAkABSplwAVA09mNFITABCu6ohpCwQjIdhdcw80/odcmEbAAPgvPps3CbZ+D5ukZ8SdTM87Cs+k3t30Omts74o9MzegFpBRgiiABG0DEJ0Qg5GgjNIHsNAtCEqgkHWUzB+LEK3d6L3PG+kzfAIrxeQEciNh7ANIUBGCHSQFqAACQaq6bxSW4cZx3Ih5gwF9XHRm4tya3DZQB/voedJuF3b8dw49nnvsqvFJTjH0P+M3C7t+O6euZF30Nr9QUnTbhMiEI8DElQK+SFVQwkMkHLhBtks2XmS83QZAokQQlgJ0ASDPOBfySUotbsEOlwN3P+TRy3DVQMFjJKJGgjkh1TgZBrEj3VnIQIy4e+w7db07fD7V3e+dF1tQUZ+Gh/83q+6H2bu88+8BSM3gNGDt0jUgAI9FpRMIqDKlANlLRUlSiIaQ5yfRAUoFoW9pyRIgnoF8BQMjtQgCACQBoQAsVCTXu2hgUECFJBAgqIoVhMXEhKQMqBQse+87VzcIyz06K3p6ROl5qirHvfP9NyfcgentHfFypKXoNaJsCJSEyQBifCCDF0zJSjaFI4wh0pMLSecOQ0J2Wzgmy7T4FAJEXcDuopwqYQkKTAQnSU+QUDEIFxWBkF1SeMBCJEUuSsCwMAB77ztbNws1zkB3v8K/oU1OMhWfrbw7Pjux4hn9FlZqiJyNIgLoNuiUhQiHFeAQEIHeEsElLSXEfFDhfo9UIgSwXJSQA5EvBjngAfIEVkKiQNJsgABWoW6AsBgaJKC40JcPnYTFUW1aBCx77zsbNwhLPQXa8I/GF1BRn4Zn0myOeHdnxjMTJp6botAkwSQigCOM4AhDt1HGdRzSisykMJBuSnAwpVN4wf5WRqBjKygr9fvj7hIAYTqFYBogC7BfkR0DgiXZ7GgASFggLgiDAcC9UY0VcqBcWXP7qzrk/HJ6D7HhHYpWaYuw76zcLh+cgO96ROKhSU/QC0gZPkEAkHE+AJKqYg9CyIHktbsiGXA1tkjPQaCOkIiKSBksYZwDtooBTfCIxM9IRF1AD4HIKFy49SQ5DuvyhRPgEVy3gsET9XMWaasAAvsoe0H+ZfAeL7R37aUvNuNoekJuVKd6D1faOSTqw1Iw+QA8Im0BGs38iAqBoQhHLcoWbA2zjAIMp0RNjUSKJIZpWRLsHFRBJTAzgx+4LOb+PGLyAyJUkkFyTfRt8d78Ai3UFF2GiBsTYircbFPiILCFJtQ0LVRpulK5P8EMLnsrOsc0iPAbeyGb3E3Ff7qsprrZz7LdwSXgbql2/Efdp/WtGFxBpY+VHJAwwEcgbAdSIptIwKZqOFzrKqF5l4NH4vBQlTSMabj7Gx8X/mROyjAY28CY3B6SRGELVAKpB52+ddI6Ry+EOcABTWAkqipvzTFigGCgAfokeVH9D9r14md0f+Vev4mZ6QNnMiPx/8TK7rwT5Vp/RB7QAWia7VMcYRECg1IQ4EyiST45mUwnAdh1Eo85UzbBFgaeyJtF4D0uKyfc/vNz1xqqDGpbabOiUgVUoIAAa6nY178GtCeH2uN1FhSrKorELEVy6RBqx0IECfqrOos2Kp//Gy/YT/kitKaaus2iz8fTteDj1Geog3jVFH9AOEMbO2PkEQYBAAgDgctwYhIocr0PbACKuKkC5iyJScguiOQycy2MVE/ZvKDwWVqo3ZI0DrVzmIcvmzkNk51bwegHdfqMQ61t3cetiBfAP3MYEVvTkBgK+ad6Q+yvE0oPL7U8iaoqj6A3QZguF5Rurt2/IBTI1Rc9BAqhiY8/ZU0wAgCFKjEECq1pZDcFwssxsRDPya4hmApRQ/EsFX6jZYDUwNZdGx6ffiMX4msI9QTtjBel2WsTLhybezyIRq0u+MT/+yQros24kjaC9oojbV0QCS0gR4rP0awKe2rbpX3p6T5cImmckMohcU1x12/QPLT17uwj2fEYio9Zqij6gBQZmvjoRESERAADZUWSDk/qSFA0QwlmAAZrN/jBs64DS1+D9Vm2Oy/EwllII4Db7cdk130djOt0p5cY4UdOa2J+ID+PTi7RYB1gRgYsFR7goBb7qtuBmpfOcqsHtGXGsV1BTXH1bYLNQnL1y8Lyf4ceJqqCm6AGmD7cNQIqWik8IAAIiAgArCAGs6ZbkW5yWTBiEhAAAB3vadnFoo/dE8mXYIPdYlSsAcCOtuk/IdmDjS4LX/hxWFsAIl8ZXUAoAOFLdSEKPlafggkS1AE9nZ1MAAEB9DAAAAAAAyC0AABoAAABFoXCFH390iIyKg4WMg4aLg3R/jIeIhXuCjIiNg4mNioSKiJPe6ubNH3r+7JXNPM8IM7JWU3x98+43Ndx7VXO+7/AziFZT9IJJNgmv+ESEgBIBgFSADNBa6+WG0oWIJJ3OIVnMUsPMjOklGbOIUkS+cN+gY1PSThXmQkD8Fcox8PlXQZG8VE2Z5UNUtmWrOJcAqKz1yXJC7ltWhMWAasBwgTIA3upG7jd3Xqcezfz3DbVWV1NchZPuN3vqe71G01NVrabotJnwSgMiQiJCAgCITqdtRgwwirwuLVqRRi7aSJPs0m3MKY1R41yEY0kiqkH7jmeLzlVtAIc6jfoMvM6U5Y5J6v2CCAzoANQAoM2A6A4iFAaIAgCe6lbMZhEAzTz1GJ3nW+y1tKaY+lb0b34zTz1Gt7fYabmm6HTbABSrDDg+nQAASi5uMMKWFUQ7GNlOOXCazJYsNr1k0Twsyj895bQmkkVTCN+hHkAwcsJ9DRFEp015r3CdSwNbAeV4IjQYQz66GgBoYVWDYN0YRRKEQI0r7zxUJlEBLmHigloA3tom42biGc5TPZrPnwg7h5hWU3x9E/4XTz7v6tF+/oTfGcSiUFN0eicBLlUZn0YAAGjOYtgGgIBMyDcYSQyTscylMiNjUiNz6jw3LLIgaAgIYOAZywBWDehfECOMwOqWpNmNgnuqv6j0noiS1ubeTKzvTXfsOW5oVfd2LgK1IOJIZjz8CpOkAov4nwp+2ubwtwDQ3G/zMgrP/84itaYY6wZiM/jt/la/UZ7/Qz3L1Jqi020DKCvFcZkGAADgZDITgBEQQG3XjP1JceNEpoy8mJpxLMcwkhAz4/rQdl7Wgceox1pJL3yP1EA4ouRsLKkqCGLWEHg2fpswBqkYXrsdfV7p+uicYgRKCnH4kG7q3qm8JgO4pAk+qs7xP8Il5SN9CP5bVWuKpesct5mETdJL+KX45wu1mqIbELVMALsyH58GAAAAKC6SIwIp2g5jHovyWYo2yZdEQkiVURGqgrAiMQAVJCw3SDUptMn6zNf4ajuXLXoatuNAwcxu0T5VrKmsudXguI4lBOJMIW7JrbK2+V2hnbMFdlaZAN6ZztibWfgEPSVK/lBriqHqwPrF4/9TORrzH1odKTrdloBKfTYNCABQQhQIBQAEnoU0kcbEiIFko7Tjxk82+YSmmOeMDbheqnqZtUWElYBNMFj5pbPe627rsflR0vlbo0emIWjvPsEgiOH1W9RP6/5RKMbXF8ATMhiZ5aY6SlGjCwxizgA+mrbQZhE+Fp+2BW0/YbPS1BQ/1SHaLDzpf2pFx49smpqi020BkIorTk9ESAQA6LMgABwGAoajGD+L1biJy6fTk6eaLUTzSRJCxg4mK6jTlcFz4bBtoyTOYbY/f3z+8RzSAIAknMpqsxVT91iAQ0K99u4pCiFabXHdveNRt7YrR44dBGohTrzPIAdVBN6pDrnNysq+m+V3T1/V1BRP1yr4w579N/3vnr6hVlNTdAF5sJdy9YAIEAEAAmGAYuHmeMmxmW5ppyNjoKcrXZzmphAimAV1GMUhibcKsdrHSbtfPsPqrJ/Qw+jfhulsbRitv5FYRiNCLFQjEsWcO49yy8t+CDnbmogcxiqYQs774goAnqnOqpvNbZ5d6H43vKGm+LkOlM155XuqB8MNtaILEMZC85cpDgBwUFpalEaUUFhHE5G4iHYjY+IU83U0XzRzGEQjgxAFyVw8VEL//jNp0Pbv7DU9kEIdj+uvMmKQ8msS9l7BQUrHXWPVSPZDmql3HY8nlMUuIoBfQAxYQJeIBSuSmF4XjgDeiR6y/5EAkOcQPt2eSuKa4md60P6Xn+eQfjmeiqQ1RRcTYCzNOvuECQCAcOZkEkGpgzBma8iubuUtPZvubL64K5HKzNAy3OQ4yP85+4xF199gY3tbKBqIeQzrC2srCcqNTcVxIjmaZFeYn952XJdwhOdCcLsRWyBGQwj8DG8EkWOxEGCEbiFlm6wuHqrOWpstAIxnr4Fae1MhaE3xdB3yfwWA8e41UEvv0CoErSm6mA2YUsmcM4KgSIAIACBKpZSiQgUEJh8xjLFj6zS1ZcppwUJSGQLiVrbpKMOpMq1+CEz0rsEtuq7IrHzz3DgjyJUlxlh8NUmCWzEMxAfypC1bEYxJQ5CAhdiGzoU7nQXe6rbpH36+Hb/s8Aw10+XcmuLr22KbiZfvxm9O/Qk101FTdJEshmZZR0IAAAIiAECEqFxoGxcojURFt0tFQj4Riwwtq9HYZoxj/M+hE0LnoWCqlfPfCqQeMeOKxKHuwrSrISCA8ClVyK2s72GZEw2Qh8pAAr7aDtlfXvEf0qLVZ9jfySxWU2xtB/SP8FF4SItSn2F/N+ewmqJTVM4LS1AIEAAiAEC0meYZyWjpDSFpY7LcgUZFGOtAIlsQlFvB22PblQhq/an9u3/nVjNl0775+vSMe5WmGBJysTTCVyVEvZkdXzaUAWEC7IRTANo5gAKGHxJ+qs7Azebz76jppS3P6HrnJenVFFfZAf7L5/+uppfWP6Pr9SHJqym6IWcDZJTShGd1QgIIMAEAmF6HDlDSQIihCXIzZo0oTTvOLAeNoatku+EGwvQRmQoq5RFLxzi/uv/Gxqfj/0+/tj9td7Kdt1HaM6vSsqTCphWi5GcBt8VucL8YIKAUeL3xRsQYAF6aDtFm86T3qOUy8jtsvV0znKpDYnPhbeGutkvrnmFzIAeuKboiIRhZWekERYQAEwAg2iIatRHN0WKiJiZNjdFIXgMxTVKx/WisSJIkoCoieZ6oRbLrnkDwoeiOiVxLqEFx4LOF62OyHZXQHNha7dbULxYngzrnswXNXAG4LDDVQj58XQQ1CF6KHuT+QXgH7qrL6J/RW2ZqxtN0jv8Hnvh3nYe2PqN7zujWjK42wMhLXlhBjAknAJRsPCBUQNzR4tCOtMPcjq8QRLovmQdpB5rLWcgjOyaa5gIDwvdw6E3i9cFRhYqyBa62N+zHTrX5s74I1RyHJlbBKgKrU7QQcVQp5GErbKM7ue0rtEhI4Adeqh4Em1V4BN5YzPoTfs1fU0xdD8DNKrwdDxaz/4Z6Lm3N4DQupeSMoJAIQSQAIswnjcUoIcg3xeEUF0eaXfZMp8dnM5ospAtD1EijKYUvibBCzO4/xqbZCjuOxMW49QNAyTbk6Fts647Av4+IqJoYk1PoSYIvgHQtANx8HnJQVCiFLPqOnsoO4WYWHoEP6VPKf6HWdTXF1XYIN5sj3kP50DzD1klrik5RVvKiCZEAICIAQIj8UzucTzfayB/5svPKnzdLIiNpRgwkDYoXRUhG12liWgkFy17hasUkhXb+GVutUdwGgAaamZ1H2iYPCfJKw/YMf6OAjWiCThkwMBAAXprOwl/COfKrzsWM/8Kv6bM+xVN1Fv4W9oEeeTzs+I1wqFev0WnT5lXBSIggAQDCwvaRDLuANH/GAGkHTDrQisUZo7RRzc2IBiFJkiRmr+4AQFk9VEAAAg5MrPHUzk80ieZSqCM23ptMz4FVMZnp0LbP7aF7AgpyIJtnp2L6umBRAF5Z3gj/W1iZfFjN/Gfd1mv8NA8jfwtn0g+rXf/Cbnv1M3oBYfyZIKEgQEoAgCoNso4Km1OZliD5lnRRBlOYzpwvypQsTpmHWpAD0ozSBMingP+O+3Jzz03dUGJ839ATNt67feXVMp/k1955v/d/07cwfA+h7rbsi4Cr2IRfRG7aYMXNEeOYe8x9spAA/nnO8ZuFzvfgl+kvtOSr19iJHlB+0/gffNrxj+Srz+A0VZ6zRJgiEgAg6Wze2ShrrM0/YNIkcvIGND1hlDHgWE42K5lHndqx1XEMc8EoJpUji/0OpRca2qHchqiWgNqEic8GHq8dSusnbYDx/HCpo18gVL06Sla7jz0RnV+wS2AQwOqD1OlDAP5ZHsZvFuE09OFy+r/QS9KrzxhqHuJ/C7ukl/Bw6r+wS9Kvz+gFluGsmgRRYkwAAIkwHlIFoqk0jTTaJmP5liQhd7LxkXRYGnQahtCgvFJnvEul7p38eXqv56fNtmPa1/h6UmjTIrfhDWDyKSXhvJc/Q54v9066ovDRB/lo3IBQdkqKAEYAJj+m1Ag3AF5Zzqubsy72B6vmq0ZaM2aas+pmZV28L1at+1HT1W30oYeAwczrhYgoYSIAgOQqqv5tLgmkcjgbholo0AwqpCBSO4mxmilN2vuc2ZU42y/hRQctBkiJNfwyxyFeAFRhkFRbcxlrcruuz6jsPWyPTVkCfdEvqIzgfURcUYAPuJ9z4LYAvlnO8b+F+whfvOz4ldy3eoed5hz3W3g28MXDif+k9Fmf0Spgk+GKnwwAIWICAMQDF2NC1M2KwgJlzGFuDhvGxQWLyzHDMLTZJA3j2x2ovXz83PZ210xhV0Ire2VxSzyp4rFZBbDTTn7QHln171Dy81jn287rTg23swRAcyxuxsINnrDFyMDtkAd+Wc6qvzkX94teC38ymurOeoub51D5w7k4L1Yj/cioVL+6jS4By6avNgmJEBMAoNwcFZZqGlU0CIPZUEYM3pMuaqRT1nS+0GyISNtEGr+wb0tCpEnMFby3nSJn3/Z5m+n1YFrzrP/p+/vHc9rzgPFfP6UQcNRQONTYFIAGCaAS+AUiZFryZH//uuUZcQH+ac5xm4U17A8+jfQXdk73dTVunnPqZmGO58GHkf5USXf1KroEEuOXDQgFMUgAgAhJUUSYV/KoSkR0dlJjfIZEu9TCkgW169ghx6RDkAiMqq7+4T/9/X6lecla++L8XbRi5UU/PUen8J1132VwGd/j6XMzrKY1F0AqUJ/wBUDIg2P05t5+lsm+FQDeWc6Tf1nZ/eLT9odat2KnOc/9Ays/Nz5tb9Sa0WnKUvEFcUQkAgDEvOMGrXNjFOni6JQDDrBMZnZxTuS2A2hkDDrYur1zSocEO1Vvn2d8LTGuhoxxcLpe4TXE5ojgPNSuq5ZeO4AHa4ghhVgeowYGq+H6MkDlGKJPgoVKgG43GLk6ZAB+Sd4Isbmwj/ABX1+oGTfLGxC/hXPkD3zjf776KboCC7cGoBhbSSIIGhMAIAty0QoCYkFYVrRqCYViRkEgZE8nhskwJBvkkqFVzkf2idIOwur87m2ky0YIze2aYzf3U++zpI4j1mOr4/S+NQWwRnZDuMMTCcfKG/saAmIKGFUDEgK/HiorC/RruBn+ic6BzeZszo1Pww/6muJnOg//srb7jU/DD1pN0Wld5jmfYBwTACAa6aB8y45RaYxbH8+NHFHpZOPSydIYeOKiNB9I0kZoLTy76lJ69o1Z7aBzGM/nPA9ATKWZsrsVy6RdS4VGLNma44/GeJCpMwKXm/z6kltJBGxagCJLXBRgoa+4t9ykLJoA/nkOuc3Zx/vGh+EbRFpT/DyH3D+whnPoPk3vINKa0YqhFJqrBU+YAABJx4XlaOs0qSwM2GwyOWOpwcXt0qfsOO+OQxZVwnJOuxHE6Gc+Y+8zTouzn0aYbuSotc+n74WXKRe6a717n5eKhXzBBFIR6Vy8eF8YSiizunclx6LhIobUtkgTHvcGhAu2gZ3CvpjT+qUCT2dnUwAAQP0MAAAAAADILQAAGwAAAJgCft4gj4SJfo+DeoWBjYV8gYSAgoSFk46DeoSEg4aKfXiGd36+Wc6TmwvvHD54mO6ww9Q93DTnuX85w73jYZe3VihZ1hRdhIFN2JXoghERkQAARVJpKBUUJhEmxa0YWjI7NlrISxeaTk+dkDOWZKT5pSJJU1ylSt/yXWYIiJTr3BsPaXrEEEP9Mx/JlV8umsQT2S/H+4gDlRwbJbpNiihgWc1gBjXpwGs7s7Kw+hhYrmPODJ5ZHlI2m5O9N16e4QfqNnaaB/i/nOx98OHpC3UbnTZ2pjJCIqIEAIhRTNTIzZ80wtRxywzO23SWmzMcv2iAgWTSiEkZ2RA1amNzHSEb7t77JWlxN1l/plKnhvSHSb1j+kbi5EEqLDQYKuYK/0MwKJgjA0Un4jXe1EHEBLgHt5MpL2iUAB56zojNytreD34Z6RtWqus1dp5z+C99u9/43SxfCdJpTdHpVkogxDN2giBEogCAUjta6ABbAoiIpbILwwk6Voty50mSpLOFGjhz0WBmNr8/Dp9TLKGs7gQ01DqHYKmZdte2/etzLUXvNnPtTIbkTmjHm/qhlTK7IuBXap7iBrBvBFC5oA6DgUkGfqoO5eb8m/1Qfxneoa5qNcXO9SDerJzNvdP9MsPbatrVFJ2mlOUyIRICIgCAcDdvcLgoIybl5cRYJ8hqMtCUCUuNX5xmDLvBUOOCMTTz25DfL6G/QNr6DtxaVmvdZlMoAaU+h7q9udj2vjyki5o6+95aAR8qXSKj44UCFQMC/nkeDn8Ln4FeLE78ZzXp1634eR6Ofwv3kR707vhnm/TranTBpLQtq4eYJgAAieJ4FEUK8iUrI0akIi8z8kTmYIY0GU4+PkmTVIaIiPrTl2tlo3/3/WInm+bz851vcL5255mSzAepEL4YUcu7w1Lx25FOdfq3kQpvpmHHeNwMAh6hIGEhsjU0A6i7Ywwi7AAeis6Dzcq33W+8jPG1TuOaYmg6DzYr3/bsxA9z/1incU3RBUMY5rOSoCAICSQAgKJxhVIYqoyiLU6SmE67wzR/Rrokm6pOHaJDk6jwD8SkbYNNa56P466BVxr5jzq+6L5RrrEmmUeng3U3t0TfFKru+l1khbACaiIAYHoWCgKYWLHSBX6qDuhm827vHQ/bO3xqTfF0HdDN5t3eO162d/jUmqLTdj5JCIoEEgAgyDee3FTaDmhqpoxsRpuRmyS5GfkiM5o/xMAyVGMwvSXW/7Gszra3GZI7Gh5ttbc/0ngVwomvkXEuz02fGIHp0ht4AK59e8BFwWAhJCTujSIAHnoeIP6yZ/uDD6P9hJWOaoqj5zzxlz3fb3xq8xuWvmZw6UnYlqeMMGECACSR1OwgkEIriGLz+aSZxRnpDDkZUzbNXZwblRZJ2zHzm5SJ0C65kV6UuPuF4lol+u7KTK0eB19Hr5CWFFrWb8iGTsmvyciDSZyygG6JxgTJyIAMirqHhf8rAt6ZzoPN5h73Q/1d80auKX6qs+AvZ7Pv1N81b+SaomuBML58OSERAEAlQDkfiScFKZEgiUgMJlMl+U4sJEvHPBK7xSELGSUaByzliL3HuDF/SDDUVUaIyl3V8Ws7xmYsbZCo8fga7k4oshQoZIJV6GvyXAltkNZ04EiCgCiLieGSBb55HkSbzbO5bzzs+UWrKXaiB8Dm3OO948Meb1JFTdFpY0JzMzZAREwAgGBwQixaEktlLJm6JCMnJ1Oak5ORm7+D0VRmfjuYFJMyQkgibd9+/G1u7o/iqI2MvqUF+xNi/vuLtDudxtSmvzXe6XwwYUk+1dpQ4xLAF0OuvVBQNvqhr9CpAADjAZSALlBZAd6JHgR/ecbnxofv+EJNsRM9iDabfbh3fHq3L+KaotNWaCmKTFCQEIAAABAdyWy243KEqZY9vZBmLZmajQ4uGSAjJydNJs/LjMqJphH6N/z64cD+DV7L2bdRRSe+IE3omzqO645VJjVdZxQdV6aQaxHAh4E294/I+klqQj95X8CPhDY7MQMees6hf+Ae7oMPwzdUck1xFJ0F/8A93gcfpndYck3RaV5OiQgAkAAAEbFt3GbavHSU5uXIzZeZ5E8iaTTfgonZgbT7zpmR4xg6jG2szdyNadVN2ddcemdvbeicLRuvPfJ3jINVaYgpDTHWO9FO7NAokrKNBrJZWBG5oYUI3onOon+5r907HoYn1BQ/0xmwOfu1e8fL8IaaotOmnmUUEIEEAIiRLVNNEtncJG8eeWlkLklC5B94suzkkZFmc5K8bBKNaAaJ+dTXpq0CEXn1tnTjmK7fDtRSWq3QdNeIQ76u/tl0utvdcWyPAjNVE2uFSDr5cS7cQCEBbT+sjhIA3mnOE5vNHL/brJ+mn7DkmuLmeQBtNmf73XQfZvmhFMmaotP4UpWJkEACAAQPXFfoWIY45YmT05lGjIuMxsAD50S+bR107JBqE3UxyPB4jbHVHKO/GOW1+uMzOjvKxHn+i2+CXPGFHPW1WgYlELejlos7GzNgP5HkMoHLeygovl608zkAnqq2xV++a++OS/MOlVxT/FxnwGZlv37v6JX4VifXFJ02YVdnQBAgJgAAchZJI2MySW4kGeR2SeexaCxnFtmB5M8Ny0qbjTTSopuzrt2XFCBq3nNOdR66s7otWWo9quH7NpKmyAjLVxs7X7iqY+FN2x/wGpSWBacE8tZUVApQLwDeec7BzcJ+eT94KO0fat2GT3QW/mHf7i8+lPYPtdGLBFO+0EJEwQQAKQtcTLsRhI2aGE2LG9F0gGGz4zMzBweSLs6WbaIxjtq4vZ1Z0x3Z8097jFej3kkstZE1AhPKyqc79Sjnt4ogQUFiOrmNeRux+HIECnhgwImwLowA14/1owdc3nnOc5uFublfrIYf1HqNn+cct1mY2+fFZfhBq9foChhpnn2MQQIAJBEN4lIkqmjUaRBOD8Mo/8i4WUaGJCdH7M2ZBxlbvB/Tf2/tlWGFXFyNw25P//f1lu4yj5HYfI3sGrpVGZ/XMtL3TpbpaJXgMNV1J9WgCTdo3wuRigGE1h8y4zYG3lnOE5szt/dNtzrusKhzcfM8wG/O2jw3Lif/QE3RaVvmDCmOIAEAxPz4ki7HKMnmbxciMmaJpZYdOUlExrgdbIwNDo7acSFRzezC+dj/7IzXGPolCl5VpRV9Ny5Swyf/8nTGTyC54USk8TX61bEmkXNkdPSJo7iJ4BOMoaAGEtjOkwznCH553ij3LzX8OxbHbZuja8bK88a4f6DGf8fi9rTO6WtGp301R8FjTAAAjczURiS5MXA6+bjmdDCyEzIGjrSRzRufk06YlJEbLEQEacsDFsTrbp4v3dENs1m7TgkVPqVZ5jbbe3aiRuHv9J+Zui+kkAlDiSgSh3bgBlhfxzFKi7jrDkPsu39YoxJQ3T4rmCK9NNWNnv6ZzhH/iDnMg989HagZR9UZsDlz6Dt+9yxPkldTtGLKw/qPCQAw7LLQYTx0HOdmngeMpaQZGblNZWYnGxe7TcYOahwGrZrfGHKf0aL3nryvr+GYev0YQqbElURCXClbDngczJgcd0rJXuYSh8CUYucIaHOnMwo5CwhrGyxGE8ME9z9WvOAO1ShxRGeT3QKeqR5Q/mUO7RB+N9zWak3xVG2jzWYf+qkAhnfYtVpTdFp/JceJJgAArgg5iy29sGh6SWYXyxlomk0jMprbLsnJ12QkiDaaikf0vJFr+vZ/j6TR9vW3x3bWPp+eZ6idjjffTJsWBmkE7XF3VaqrFIWAii0SChYqcAXQLwErSMiD9fIzIl7KtuFm8+TtKP3v9nmirymWsgO4Wdjzs7f1YPoa6WuKTjOTvIgJEQFRAEC0Sebc1MTijMzmz9fIiDSJJk0NOHBesrjQBYmppoZndaqhcYnN+WicueLyCXSuh8I21/lxBsqXIOf17iD3rYlmgWC5EPkLg4ERICAYGJAAnkkeJP8xztV+0Jue6GrGTfMA+Y+xX+4Hq+mgqxWtkjCYV1mYHiQCoDQeKmzgOl4lRxhnCstxGtMh02hYtDjOMpg6Bp6ZNM6xYX563LrZbQ5j91XHCKklGUa2ZrJVmTXyeJtJHY/0HBbD6VBI1BEAuJUMAwbXzdtG2cuAyrvQsiKuyT4APpq2wT9wLmsn/mI8g6RrTbE0bYF/xLpsi/gpegbT14xOQ5lXp5EREQGg0cWSBbNmF2JpyUK2OUnDMpMyRxNiynGYDtFOMu7Tpsf6r7y08nv7j/XiOWRjY/WK8wHA7UeZWlPMQCmzwF3P8y0JpnBjkggchgGJleNOoHgyEBRwwcqFuuIAPqoO0Gbz5v3Ugtp4k7qasVRtE5vNm/XTAZT2JN1qii4IG7aXnKUYMQEAwjSvHHJTrFJWUq8o2gWLp3NkmHzCdpEmGwaviKHxaVvMfKbM/lnv9mTcoyqPmDq+a1tdbusN0/SvbrcM/3p1F4AGgF3vwwUaCLQ4IjKSlSBhUCCZvJohZwF+qg7pP/Bt5sHL9gyfXFM8XYf0X97tXHiY7lDJNUWvBazLMnsZpAQAoO0qxTGpcu14pGleNpJmRjMyBpI/b2I2m5c5YZaKiEjMoq2MJ+la0p3azyonbsNRb7coYLRGzR0b+rzeg+j5Esd8gposBJZwEQIuRPunCklMSo6BFZHZfmQvb8caAN6JzuN/4Fzbd7xMb6gpdqbzeHPmtb7Tf5jjTZlSTdFpm1dqNEAkIgIA6HBi6uSptVRe5nSGRZlphsU5yWgwXRxTzk71wPPjjk+LtmGedDJ+efOOs9k8/MKoM4/3UisxgFWyW7XE7lajOv9IXI0uIS4BmtrcYFdX+J3DhQQYgoMGFRQEbmrnX8ZPA97a5ugf3m3byb8Z9ztCWk3x1U2yP3zbs1N/MzzDR03RackyEVSiIAAAIAEAQvOyORkyssYnMUpzB6rZqMyGZTKnJ3bO3GE0juPQahsimEexMY7y4sRcOhQ/a3uL6tLxbr7/CCmpKykQTMnlH+HOB5aVzjf44EaI9DQ8VGAAHqoO0GbhvbYePOz5g7SmOLq2wWbhubbfeJl+ENcUnfasjKMJAABIAABEzu4kZLYROZ1ns2lG5MufMZxnNCLGd6AhBk4SRjRECTGObw51X6Wpj5FLuTwtxyafGOMfEU6RGemKUzu01idmKhKX3aDhEqGCuSABIoIKXorO4s3Cvn1eXFr7CytZ61UsTWfgZuVc3Dcurf2Elqo1RadbNsHnJZAEECQAQB13lYBoXigqLE2SnDCfaWZEdsohaXRJLDFgJyyVP92TjpOOpdG8/cynqTsyoxr/1g2nmaXuZ+zt1yqU/4/QynqNwAwlVuTX415rLBd7gg9uxsUIi2W5wgBemg7AH86mP+RfxvkLn66mWKoOiN/sm/lQfzPmX/jSWlN0gRj2y5iAEAAAkQAA8RCXQ4Aw3tQSlmchXzbaeSSEfNq8lETaKFVvQUGCdn6eHkHnfR+ZNB3Vsn3+xDSDidQxU+tEbdmX6k0tO9wGf7OGaQDgnwlEBL55HlR+c7L7oX4Y9x9avYqh6Dz3m5Oel+7DvH9C0+o1Oo2V5EvBCSAmAAC9SttoxHTM0shbOickZnmNzA5gqQxDMw0yCqmYXedidruphjcDamxADBRFswZpP9v9NjJMBSS/nNXKEkxuqPQTsLo884WKFdECt7GBRQS/PHZTCE9nZ1MAAMB2DQAAAAAAyC0AABwAAABQ7leXIYaAhoeGhoWAe5QdISGWgIaKg4SEf4V8ioeBgoiDhX+Mkf55HkB/2TfvTX4Ybqh7GIoeQJtzb94dl+kJNaNLwoSRlUzBKSOiRACAMEhEsGkQcZhcoaLpYGSTzLHIi3RxMtoyjcNK0qEROdfJCs5BaZ5QiJsRmRvq/DlzhUKmzSh3VeiuMw5FKS2q1p9vOh/ABIAwjVXpa+PmMQLAOwsS+OCdHU/X25wJPprO8ZuVY8+NT2d+I6SrKZaqs9wflj03fjnzGz5dTdEFWsMUZwsn0zAmTAAAhRhMSFJSNJlYOcIAQ9MzYYFlpsdhzGAyxjhUS5sdNJMJ6CYCuAGHfrkh3gRs/rgmep8Yz60RjDJR0nAEAARAgRwEAIBkoQQMYyFFkLgI4HItIAc+ih4Av/nG98Vi3//CLlpNsTSdh794xv/Fat7/wi5a3YoukBMmWyqzfKIEAIhLRONlO5JIkExSUI4GiJjYEM1mc4Yp09zIkNTg37o7WMvddbyV7E1aYfqqnHwXAk+gh9Q3GOV7xnQbFHLExYDhrYCcLojhcFKwfiypaUeitTCFHwELH5A6Ax6aDskfnsvnQ9/xJAZriqdpG/3ivtxfLObzf2j6mqIrwIT1Sv4nQAQAaClwThEhRRMRJ6WzjpmQpGOxIAnTGdmJER1YVEv7yetk5nTv4Imyp4GBkt9LNqaSK8r+MXmXPt4KYXo6XjslnxtehjtZecoXzt+v/fyBRc2NCeG3EHqgkIfEXhhkIv55HkCblufi/7H0ORV6INcUR88D4Ef4XuCPpYeHHclNnDbJqn8CCQAQw+ZlLNX57ihtRVZukhfJPJJI50tZeumBDUUlSTZByHYu7WzxsV68Eig6dkfUhl27ESV6VsYHYdbMZ3s3LWObz8eWZBTYdxacGBrwE62FWBMrHPOQYYpIiycGvnMB3qke4DetcG3gh6X3IdKaYqd6UNlMwjnyi9XTf6gpugAtc1XxgmkCAQAgKeKUoFyVG1KMSJIm2RCDYwPpdNq8nKkLoxozNsmQeGr1a6sd/vYPEnrbK+QIVEiKMvFdyfZe/p8JSJZVIYn1czlWSAMYC+F7CLwG997496qCVaY4kqcPbY5wowR+ura435z0PHb/4dn+QhXMNcVUtkr+Zs++2+xenn7CoqboArS0qFz9CRAAACgWDUNZIWEajyZbmFROKoZmiSkHTBJJVmWKQZNMAg6AygnsThoTEVTd+Gb+x7RPlPLHRDeFHkomENE9vBmqUGby4VgTfxfBLt7QW+u98vlwlYKLJEuOryACPrrOcptVAGi/XfNwypdQqimusm20WQXA9B/Ny/YOTVpTdCNEAjIqmebz5QkAAAAAhiBH2dHeJcWWLh7f4ZJIF2WzOePCuJu606bDSve9n8VcVXpvvyyheh0y12eMeNTIvlDHjUov/QK4WYBiiL3WiiHWCBk/Fglp9QoiQhtEtgB+yg7AZmEf3ltbPkxfqCmetgO0WdiHd9eWT9O3CDVFN0RIhEhZZS6r5QgAAAAAQJaGAoqOuUpFQ07TUe6A0cij0zy1giEx1M7thkf3TX7WuaxW+BAO5Tn7aemObev0ROvla7OMjBEnlCQNCalTFeNSgJIVDfpBM09hMQGWqg7FHwHlJLv9+tD8hEVNcXVty80qoJTomK9PzTcsaoo+Dts2uwFahvLmDwAgAgAIMVCUFNlPvq+o1+TplknyLg2CuCUHLSVnC7Wl41hpszRE99zeRWi1993kfnKFWVyrNnuPsW67rpi7Yb3rMme/S2Eop1J7nTy1BKtjd9Qq98MKVmxvUJcl3rwp1S5iOCXhSCgALPHPf/Yu88//0VU4BAqCUkFrWdjE4Vui8KarSAkk9XN6cpf6OTO5LsQgCAUaKxD8opGYsChVZmb7/NZMNAAs+e/9z7vkv3efj3RGEMCyZjHFfElbSK7JdbDSyiedUgHaec6izSQAbc+Hy37+J+b6K5aiA7yZBKDt/uGyn//DUuuv6DNBSx4ijQ3rbPkYARIRAECB1/uDNTfKSUOr1abWmhVNJFBSGCGfTC4ceIDMKeTrLCfSpInUVWtVp+dbu3G/XX3roReVr2kezFb+ZcMsrt1vM46Nkt3G6ewJI7qxjbzPAWvzFp2hn8vS0kfwJXATtCf5IAMeig7Rb55r+6t4aPcfcr2KoegA/Wa/dj9K/6HtP6T1GV0Jlo29GiMASAQAKMJBcRDNK8CxOiJC7uBGdmhs3tw0nErGdDKXSEnq2RojfJ2oHCZxsxPls7GE81Zc6Y4Te8OglllmXwBoAuRHvYkPHduo8HdF7cb6CFqJPOT+ZrI3D555Hk5uztl8t+QyfU3UFDvRQ+Q/cDbPrrlsTxM1oxtJJJKoEmYpmWioOBImAECCLDoBxeHo0NG4wVNnF4wbuMm4CcOwGhZGxvHYhHjwV/c2tKwOXG0xKaNKhZZKp+y6lhSlJMiT2kGff5M0SrsjkAOkwBH6h6MOHWUZBPwFB1HiAiOQNWIMXprOoM358v3Qf5rpGeH6qymeqkO42TzjfVg+zfSMcP1qik67mguT8YgTACCiA8fCrIuyImLKNFtp/owYps3G1KR5uuxshjBPpCIijQ2HiXDJQ/Laax3v7k6XufbY25VXRgFyIGm8SHsFRJQgYVt47ocFj7/w46EbhUs+X5FHqvIWLIsbIFTK6h4j/skegH/YL+4dH3Z5SzXVNcXVdkD/8Gz23fDhtHf4qaa6pui0CZ0pRkSECJAAANJ4Lu20xZJsujkxJjQvgy5meqAZ83zZvMXDNJIgQxvi35Os7+rum5WkOt+WtV2h0/f0PJHf43Tj9LamjZZlU/5H2VDF3tJSgVKGI8KNWBtYUKhoLxLe2ibZb/6LteOX2b5hvZox1k2w3/zbvuOXud/hS3ZN0enW9IBZcT4lAgSQAAB1U1FRw0BUIeBg8kVmU2Wj2cg2MyebkczEQkjGlsodZjJvIorMBDnUu82be90gNZg7NeJdSh1pfAc+iMbQu1GPyHB54XCDofHI05i4iDdT7gL5PwK4AxJeyg7wZuEdzl6Lme0roFTXFFvbitjMfMO+12Lm+AkbULLWFJ1uk4A8U0kmIgoAALkgWQhCLNsGbBnLWEi0TZYtswPkyK9pRowSY2mIPkUn3Eci0zwcz+EQpTferxEnzHo1s8HGZKiHUkSP28oTJl/+i/eV0qNkIKIABTZK3AxcEgK1iiyeyg7pZuG7eHbT6k5fXk0xtR3S37wX+2663ONL0taMLiBYl/wZCZIgEiUAQBw7hoNILAKRaD4aJgaZOTFfnOaFUc4UhqqRSmG7iO5Nnuyw7rxMT2IQ1gjDOZbWNpT6Graj76nWoGMo9/UcvcdGUDZMZ0DfGnSwBXDBsKhKRTAWPrrOoH8QADfn4HLcUFMcZWfQ5vzb++DhdkNN0emWAMyzBUlQMCESACAJisLQoQwgQljnXO0icxlLMpiakUROTpomeZnJ5ONys9P7UgJMAtoqHT8rnnsyu8/OemgV7TiSb+1Jq55rdq2MSWYuc7uKPOrEpwggIlCundKw6o3BRWXc33pWAN7ZHsCbzb2dh8cvx1Pm0dUUQ91Z+of7su88Pu32lvnSuabotEk2zxImxAAAQCekdcx8kailBEsymk0aaT6JRu64gbUpovzxXhD9dOM4N2+5Euu/Mk+/7Tl5+9ospa7g9ef/m79YXFVXl2ScnyAmSSaHhMUcRBUMBglYyQW+6ubkZhEAXlsHn054a4OzcE2x9U3K3/zX5lF8usNbu+zWFJ12w1fwhISEBACIypCzg6lLIsmMcQPTJCNrytTUjKWXPeA8Fg+wOGki6ULamFMHJ2AE2YwKbBc1e6gredMSe/mU47BQtl//69dZPl+b69hZqsEwL1ADoHqQqHkD6QYBA4guKkgBKCI+yrbAZmVd9kP/YY635HSuGVvbJNus7Jf9sHya5x1qsq5mdLolAVmWhYgIIyYAQOXKgQhkGQgiYrtIhrOYRzRdKjMjm3RJoxli6VF2aHR6BKtYveXAOXidJszZXoUOQsw/2mHSq3dqXe2qq3fXiPWloewENvPkKTfJ3gjSUEViMSBCJRgJdAb+ylbZZgsAt2thdXtGmLlIa4qb7Tz5l7VdBw/HU+aRa4ouYNiMZT6mhCABAMjHoiBQUOy0NqYuHk6cThs6cT6FmCgvN4wyUGKchqhxCgAWQOXV06t0Rd0uW06Jmbvv9NRZ716zURdwBTb967bdMCCMKTtk5BUYq+wSBhVE6wCWcQFe2s7R3+wXZ6d/ee6vFGnNcOrO0d/s23PoX777K1laU3RaN2dqoRQQIAAAiKbNmI1FYtHCkqUXT2dGIpYk2YiY52tKl9WMNKKpaPHkCBpgKi2q5N+xywzmzffHKXT7Qh0/HAgA1JS4ctb2M33jYpRH0cuHwJ9y9x8FbpncKZCxIk0A3trm2Gbm3zw718vwF37mk2uMr26S/eLf3DvXy/ATfpZTa4pOu8ly/hQQIAAAEE3Hpal5aBfnjE/TKbu45NTUysuYZeTLRtIQkRClJh+IKFXzCHG/hm3/OU23tfdS1yi5BsKegKoCwXqC6sYShIjZrCo+0pXGtQL1+sj+eqVA4+zU1cfK20UYAL7aVukv3vF7WF62v7CoKba6ebppeTf3y/Jyzl9o1KvotJkl408BASQAgFomo7MxptOaJwNmo2nIzIicyDOKyByfzSdJpGONhulVY0GaKYJb7+81xHJOqx5lSteQxpiU0FGmixUUHKQBCdWebINYQ0yilQ8+4upEE6LDJdSCXdYKSJAAnsoOwI/wHeCLRycGJ9FktW2jzSR8BvjiYfofkkSj02ayXD8xIoAEAAjGZyNzOI+5edLchVNpzCSLFqbnMTZApzvQ3DYi0ihJpMbTKAyTgIn7HMWz4TntxWK0ktz2K9IECQCmDiBIqqLAssqkprUKRFOCtDO6WIOsYyYcZ8nK+TQvsKBCBZ66zoLfvMN749L8RNhCqzXFVXYINgtP/ty4NH/hL2oTp81c/gWJiAAADPOPkozpJJqklkxZeVlJNkI7aYAQEQOR0SRDiGhjXAWYhYIarWNIP7b7v4aeaWcUBV1fs2nIHfsS2XZRfu4I6BqzZYmSioJtZ5U675jUWIuAMGCBKAEeqs4Qv3nH78GH4R/UGEfXIbGZeYbvwafS/khKNUUXmE2bUDU/SUlEBABoiUcbFSJQmFSYTHMVlS4x8GBqUeeLFizO5g40BkzTJm0b0rtp7esrbTwc0ek1rf5M56ipBSAVL0rsphfPfpR/nZeGRsbfukZFVhkxUmSrM2LuiEiCgf2Qdka5ACIG7q5CAl6KzhG/+bLnxcOYP2HXSWXNWJrOEL958/fFZfoX9nBTU7SKZXfYJL/K/gQASFCQiGEVJ6I5DMkhWxfvnUwdh3mMZNK4NIIOUjqmTiHDP5qN+695M9Z7HPKlOMN+P0vtFPaf3vTy6X/rueJvTIkEtWXIBoyrwCz+PPRaIvKQmmBcf8NrBhYLEYmf4dl0ulOITABPZ2dTAADA+g0AAAAAAMgtAAAdAAAAgNQejSGEgIN/dnJ8gHx8enyGfHtzeIOFhX6CgoF8hoZ+d4Z6doK+qc4om/MP67D8rsU31Iyd60DdbP5h7dWD5Ak1RRdsYJMsL2U6UgIANAIlwrIbqpIIoo6KMDF5Kv/CkiAvFhomz4xKVQgxU4NW7sVkrJBpTjda+7JrZ90bDPqjoCGEJAgl2HxjUWsfXhWG35JdiE4VLBlkGFlGVjnsdoA2dRFQDGe7iAT+2R7g/vLl98Gn6SlJXFMMdefJPzz5s+PTTk/J1BR9WIAY7OY8L0gRASIBADAFeTe3q4pS0xQqEhegZMkK43k8FhMzRmMh2kZaSVRlJgCwGQuUX8+9yjOm7d9s9SbQ6xgjkRgoITuftaY3FM4qAwGOXguAna0cEoVyYVmBbKhQAP7qtthmEYA25+Ay9jvUZF1NMfatit8C4ObseBjzHWpKutYUnTbzXCUKAACAAAARJkXGPManTaWRTdKczHwx4IAkyfiMyJBNI29QkJGEpNn+wYXSZkqKkYL1mT2SmN559Dkf3hfyu5dWezZ8MRkqR8GgcmIHbe3gF2sb8oqVZ+XcLLQBXvpW4W++i7bT/6a0t0TmtKZ4ClfgZua77DvLb0r7SkrfmqLTZi5ZSWQIAAAIAADInFtYHha3ETKzOfkiNy/NyMkm09Hp1NINIiRBpJ/7UZRhYQR9e9d0yt3pXRgj1RDcsUsrwusRMMmJ7r0675tC18q3Av8BBTIWWYDMAApAAt7qRniz8F7THZ/Gfoef+cxpTTH2Ddlvvmux49MY71Azn7nVFJ3WzTxLhAwAABAAAKLNzUxHyyOluQ25abMiJosmmu04+SePCBQUkQOLhEkQNBSTg6tt9Zd1aAxUAObz1Dh+LcnQmSV7urhhWZ3wJlpwI27AKACeClfxZhYAL+eO3+z7LSWNa4qrcAVvWgHw8tz4zfQjRaspukBiyvOEGAAAiAAAQZEigJxLLklRxSPEOIsNpxdNmWZlzDCopOPA5pqH9wfbUJ83dpnHe8fr5pz2Mdxe6ZiavL5/D9cDWDwuZBG5IBDgYgA++g6J3/zD2sm/zOdbilZTHIWHxGbmHc5O98t8vqWoNUWndVOW/IgAAEAEAKAdnE82ipw5nbrM9CyjbTTSDnRAxJIcoY150Po6+gDYGgTqa/zlqJ7lxrp9lulm8tSucH3Vi9mB2M71Ux2SAbGnU0ybgoSurBTrIzGBCsMCfqoOic3mtfuh/2WPZ1hqTTGVHZCbldfsO/0ve75DpdYUrRjK1U2ISIQJALDr6vpyGhZRSdN8GRnaiJFsMuAU261p1UhiyN+IjAzMgqPUirkv5Eeqa9ZJNhsHBNJISsI2r3Orjm2wws9cWCQkOSApOOYGYpIgLCLy8MMC94MRqADe2gbgjwAwn3utoMx3+MlyTfHVDcFmEQBma68VlfkNP0mtKboWGNNcjnJAACABAMK0AoMRRY14GIzX9Yjc6aysKRO0tEN8lCzgmETbBLPjrtkpTMnM5/kXTo9pRMVzm23v6hYmN973eZ8VRB0ldPJbOSMk+oVQQUcVVqFG3vqG5G/e2vfelxnnHVu7RlpTfIVjYrPwxXd6X0Hxjq1dQ03RjYwEILMuTF59QAAAAACYSAkEMHKjRiOv5jFKpmVmTliq+MuOnsVELTYobNwYUqZpOk3vsnGn2bxS2+xu/lxlZAjPZ+DelCqtDMI2b5nIhE9IrOAGIOMYAN4K54nNLKDsuEv9b85+l1FTnI0T4JeAsuMu9b878x3bQk3RjQwAqBSmufwBAQAAACA2HraNkV3SYGzM1nFTQ5ams5WGBhmaP7WxC8EMwmincnsNk/qmuzIjEzNx6QJVHG6zZR0bpDsabj/L3zw6ZhKSPUVooXj4C6IL/upGdDMLQOO3K9eHeb6homaIfSO8mQWg/Nu19WWfd6ioKboAbetnS4gBAQAIAJApCKgFkloiJTYhHS2eMJsnkZnTGHCASGeNFkQV0c2e+Jg/GqU44mpN13HNF1MJoRoIxXZenYUfDk9bjSMvoBVu1ad2+4koXuR/iYvFBZ76VuFmEQCzd1euD2M/tRBpTbH0bZO/+dJzlPXTOO9yC5FrRpcEa10qOR8TERIBAMQADoOa0A6i0WKNJBvz8Rmm5rM4yc1NRWkaQSMdDDzC2b6e9Gn8AIxYvffTlHofai4oB6x68hdehVZZdzCegCoANcsvKkyc6mAq7uxrhh0obkCUUMACHvvG+LcAJPe97SOa+x0+aoqxcIp/C0Dy7G0fwdjvUKtQU/QBBrBSGFvykhIBgAAAAFXbSkpKkgtQmhUmgYFQOBrNFZrs+Of/Mt78uL7B1iZIwMqEubXz6ZDRTrNVZ2E+q5vylSja6bVwBwJXgACcoARyFr0jSTeQCBChAN7qJuFv/vQc8/pln2/sBjXF2TfCm1kAaO/jXL+Z9zcmm7hmcG2ANSWvzlACAAABAEC+qJFwYEmEYeY8djCeRiXNyG7NOso0DlVj4yQKvmZDSmmDrDWzIWnG+Wr0XFkCqgD5R6X6e0IXfUnckvwnTcvu7juSLLHuCDhCAf7qBnCz8OXv3vkAfCNETfH1DeBm4c3fveOBeIefRE3RlQHWaC70IAAAAAAAaKYlNAiIEwbJIJ8yVo1FyYQt09yxGVMyUDkjQIJWp0Rw6n35whAysY5MqdM0Wiq1+tYzXFdUOpX1ekz/rYtKMmG1Gah5hQve6ibxHwEou3fl+t2zvGOrUVN8dRNwswiA6T4dF3iOd2w1aoquBNYmWaGbSAQAIAAAKI0FpTYCRQmjCNPj5NpNSHMzJg3QpmlTItCqVtA/HrVhRbMRtmpFfZwyBOxdVXMisjdwpWbm7fcYAsMtsGItANLCxT0MxAVe2g7JzSIAj/uOl+/zLQE1xdF2hvsjAI77wcv3fkJN0Q2EAIiqTa7+AAESACBalh0k24GqknE95KVLLWoT4wZi/PgGKhJp2traBW6XflWnw3nqPD1r983sUU7XOhKg4pfRamZyN04Hv/KbN7KU8YNT7fLNOHZiTYguU7SqKeBngYtxAZ7aVsBm4TNr73ihcb6VILmmuNrm8Wbhs/N0vsy4vwKpNUWXAGuac/4JACQCAFDtUeGQgEhWmM+HtLlJznwwTI1o5rKL84SKSDelzArQOYJ4Dd1+jJmQ/YR4YCjjNszPz2yqcDBhd+8MJTBWvz4aHo+D1pNiQ11CnzqBx7VRU2wM94g7MACeyubxZhYAbs+H3+zzF2oKTVbbPP0tABzP3bSAff+F2srUGN1ISAg4ssnrLxEgAQBADYRQoiTDUCTZkjvKnze+MZaOxFQRx6PzxqwYjUyHFXzPJu3DDn6E9eiOOy/djyuck/tZYGKp8wpSDZUkjAOnOHiDhG6wQ0X34hzRFoqSJIoKFAQk3tom8GYRAGb33vEAc7/DR03x1Q3xZhEAZvfe+QD2N3zUFJ1uBeDq5QQAAkAAxRyAkIwRMfnUsbSDejJpRl42yUkSISIj22z+9+/D2r6L4hfTWvUdL54tfaM/GKhKztTpkMsQ6eCGWrzKK4znoeZwhwxKhE4i2hkZ0C8JBhYXPspWic3Ck9130wO9518JTUrbCvmHO917y4Xe41tGTdHptgCUFeePBAAAAADHi6IgwICVaHbUfNOLZs03z6Ydn9HcJG0bImnmAF9H0NKKB1Z9n6q4tRx7a6jpxe5WRUFeVEtgN7o6nioAFg2oPRAgzeQpfyo/0z2FoaUxKDmFlcPNAt7aJtgfAWjz7Fy/2e0dFjXFVzdim0UAONy7cv1uz2+oBDVFV8IatyVArvJHAgABAGAA5IiTiKjZOLkgSpIBG5AIctJkNi1Zsp3Q9pzG4bmIlKvh19CKI+/5LdVtJtTWIbtMMiZrlVpTJsWb5wgCrOYG6uli2JeRhZYWgRV3AVncLAve2ibZHwHg5j7K9bu7vGO/eGuKr26C/hYAju9pucCZ39hv1BSdbiVAzi5jQkAAABBXtA4kQOAQTcYvMjFZyGrkJAOmuZm5GaQkaSvCaZItQWZXd0X+9WuRCdWkDN1O42mi04FYwrSzYI0Q70w30P00fgG9zRl5KTWx9oBwO+EmCFz+6gZwswhAw7cbyyfeMWnUFF/dAPwWAObvMdZfjG9MGjVFp9sSUNV/AgAAAEDyVZQADKGRCGwZ5ZdMJ5WN/FMmaRdmQtOFiIwBa/RT2dTqndozY4RyiLjUHcuDsUtiD1IrUGSBO8QVghqTEV5ZIyMHkcQztgWuNQPB/hAAXtpW0WYRAPNvV5Zf7vkVTE3x1K0Qm0UATO+uLL+5xxfXmqILsNblaiYPEAAAAGgO7XLEtCDHcCuNxnz88ORkISIsGjCdNJGQNFpYZdAK7m3jhtJ0vB3O9a7R0W2vUhMjtVhyLr3Ut3XFOwuUYoTOYVS6uXXCdXsGn83BJ1Sx4oaIFfwitgDe6gbwjwBov71zNbO8Y6tKQjXFVzfGvwVA+56O1ezxja1aoabotPoGEQAglVJ/gAAAAMBCEkEBgiyskbtpXFa0Sd6ivNniKZM2zWxT0lD/+dwlHxtGK7/ARNNQuvWZkiwGCqNGTvlZqB3yEiOl2DBWiJiEl2ZFTXj34xnkc7NGRUJbHosFAt7q5thvAYUj7vhl+4aPmuLrm2S/hV8Od+X63Z7v8AuoKTqt/unjLRIAXgr9AQCAAABtLPw3wJKwhUmREaFt0nHjxiX5UhoWdSZm0+0Xh5WVBVQMpHuPtF5IT7D5dzX5U1v/aY1aDLfWWNAlxsYTUGe7YgiZNZONI1BuwqIBC/7pDonfvJtvV5ZfnucLNcXYN8F+82++3Vx/89zf8FFTdLo1ADmbzRAAAAAAIMlhFBAADsEVwfTJ051Px1L55OVkaNrEhOr4icq5VD4Y/UTqNUprl79zw0ioS062d/A9xOEygmCi5uKfTwLU0sYNzTsp8gKbTLEK/urG+Dd/fk5Lj+b+xqSiT0GtKca+Kd3MAsD83psWM+93TDp6JKopuhIYt3pAoeplBAQIAABSVXECIABoToolHwEApNAQ7WAGmbI6HZbq2P5INz5y71a7Q/SzCp04z6smWvhAKpx9+wuf/gx3XPmITsfGsXOQD1O0Yj8P0K8RpU9gIhIhwAW++iblZhGAzb+3/GZuz3KZmmIrnBC/BWD77h2/gru9y2V3TdHptjagUPgTAgIAAACSiUYIhJBwDYLB/Q5qnjmgDo6ubL6cnJQkSUNGtmnDQ7q9S6pSyJump9U2NWeNHd/e7cEbNOCoDHVpQy9Y3skTb17eNcAlcHFBH37q5sEfATC7D9fv7vbGXTO8vhHdLAJQ9ux1gdPeofLWFK24tYBKfSIiAgAAAAqKwyhggMAicn09LJvVkBxty+3ibFtmaUS2xrf1GHfEcGzFRIRsGswDqAMS1CV1dE6kZoj0pWn9dFxxWtZ9rIy+SkC88ULkgj5+6rbEZhFQzOBpeqDd3pqy1Ayxb0JvFgEw+/a2h5nzHX5TVlRTdHoSFQBgeUZTAgAAANSNBBhDQPtc4rBkPrTAhMHsqHnZZrBQM4vTOVYH47q7buZ/NF8yd+/J6cLxqFX+eOdYJ0O02ynHJYjH2HaIYhmhQ2bH90dMuAQqOVYCl8YAT2dnUwAAwHoOAAAAAADILQAAHgAAAKSpir8ggn+GeoCAen5+e4GEi4aOgYV+eHaKe4N/fX96g4iCfn9++oZ4MwuA27Nrr9+V/SWIaoqxb6k3swC4Pcd4/a6Mb6gFopqi060DQAqbLTgRAAAAAJJNLohiAMAKhctnzYnZPJZeqJyBRUqaQSUZOenZWht7z7CjSPHZ2AgQrk/Ifq0uYXVOmw5FaZxDHUEnn8CaEQs3hN3zYxs3xOhnR+DSYtYR/vqm4rcAMP/3zkfAT2wl1BhP3wTcLLz5fzouw7cANQWnWy2AlEXlNEkAAAAAdFsJAExgZEtn96dhmJMRGdGMnMky5klFTpOIkHj0hy06Y5xUY2PxOGj1xRWD3yixjJUmiEHMu88W2Gq/MV4WVYiFq1dPK6Sr2LlBYCivpB/AAv7qBnSzCADTt3cs6LRv+MnUFGPfkP3mT+/euaB7fMNPdtcUnVZfBwDI5UKnAAAAAChgDNgBB4JszqKVRJa0A5mPmkFEjmjzWbJrT0oX21DTfbPn94s1zKbsus29c9q5bQv9nG1w82m6Z1fsHGObEvtjE5yyZW1LSSTnGKziew1UzT6nEzgCnvrm8GYRAM132h5oe5eSxTVjLByKzSIA2ve0vYLpHVuTLK0pOt0WAFkK/QMAAAAgkRS1BEgIQEyM6HzaPrKzNP/AE7MJkmo2xM1oq7tw4Cfjk9/4FLZcvFhXytxrWp1+6uoMCjYqaBJckWCQAvJPEmHspuH+scCSBRf++ibkZhZQOOBufnw48xu7Qk0xFg70ZhZQHHE3Pz7t+Y1do6bodFsbsMo+AQAAAACkyURsABwaiBrMazIxaSxv5Gv+kCFkZjRS0gy60PSne+K+FdYqSW2HSjASHFa5h+Lz/fn1OaovDLIWHQa3Q2vkfwc/CDiWfCBc61ykegbXAj4Ll/63ADjee8tvps13qCmCmuIsXPrNLADcPHvHL1PGO/wUQU3R6dYCFCvzKREAAAAAyDvqwECALTPb2thiLB1lRJhCYgIypBEZshGT3RlDOYTeGG0hTTkb9EtaV2E1kR+pnqqNjW/Kne01DAlZXDVfCJ8N4KaU8iLFSnBXCIgAngrn5G8BxRzuDZ9geEJN8RTOi83MO/xH+vzdHO8i1BSdbg1ArvKYiAABAACIV2CQCEECCZM3FqYu02lpU52YIyPRJmLAEA/X5llV7JZsiLnpTdemlP8j5UNDIcwXqXPsZm2fJVpn1HMgECXWEJ+xZ5wbQ0oxELEBRBee6ibgZhGAtt+Rrpcy3+WJmmLsG7PfAtDm35XrQ5rf2M1ETdHpSWoCAPxxIkAAAADyGAEkI5CDywYXcjKzQtouHnBRmpmmoZqSkZRWIzvku93v61WpU2tzdWy8RhVdY53nQXmWTM7EytxaeHbVMPLF7vZX7ieTi4UB1m3jRgu++ubgbwEk+3el/3S3d5Fsqimuwjn4WwDK/l1Zfrnbu8S1puhKYKw/508EiAgAUBqVI8IhMUM0gWESE2K7jJxZxpKIdKBZFUBJsyXDKX6NTt2O5bmqjuEZu2kSYvk9S9LjPNe6AjKYNEAy6sVb1QhVheuXlpBEA7gBbnTBRQG+CifgZhaA+Hbl9Zs93tW8NcXWOMK/BJQk3LXXb/Z8Vw9RU7SKBWP1dQCAlKo+EREACAAAiqo0lAyIiMIJGxuwQUIXnIbrJc2cptyVPsjn3c4TQRE25wtIhqSMbfvRh0xeliQVggAAakGsY1PD0VEZDKx9n5uvgR8LJCS++obEbwHYfHvnClr7Jm5UU1x9Q+K3gJKBp+0CxbuCmqJV2sC4LQHCHtKClAgQAAAkBvODZJawFUkUlRAQAJWQAKddrZe5ynqZedz7eknN1qBQDoSI1uy2TfL7UruXhNHwooNXb6buRr1JZpzNkshJjU+pgwrTdiO9wBEPuKJB4QI+2rbAbwGFOe7K45fhCzXFUbdFbGbhn+GtXL8ZvhXUFF2Atil0eXoCAACQJysqQgGYKgwkpCtTPOVoP1+0eL6QmWEUk6Yicbht+dFdco7OYtvZnVbqobHppmLUZF82Rdgo7XRR/UbQb1/yhlUHpr63sua9qTUnGOxrLW6PlQZkIitMAgC+yubRj/DL4eP0H+75L/ansagprrZ54kf4ZPg6y6fjX2ztJqKm6EZGSAAVhqLs/wEAACSxjZIAha5gHebX6VTE1KNFS2Wmw6zzUBQdL5EAZVCLE0/IVIT8R72s0iEW/2M575od82e/6K2Jbkar1Njx5simLpSJPurKJtyCUIq1wYLN3B9dS2L5GmAV3tpG6EcAaP7XWX6X/MT+kNaMrW3AffPL73H7pfiL/cmgUFN0DWiH0azkTxkDAAAQS7JCV0YimaS2wtjkCzGVtBanudlk69imtKDMFAwD6JQA/ha7GD9REakcALduWdX67Jxb5axZks3M1zgrIatYiH4fai1EdQmEZHXDrqhbLUTgx08ETwA+ug65X8Ivg6/dvzT/rKkplq4D/pfwTfBxug/NnzU1RR+GBKYnTP4pnQAAACkfr4KkTDSlTbgpamQqFCQVJBLcinEotqC0BPBOPxtXb/qudZtzv1pKGs9WfhtsduBw4PfvftJNe+fbXDi9cc5N+SxF7KsS2iNphUifz9f9xtHzfvQ38fIpyLb3j0+hHwwAvtom0Wblz9du5t9tz1ATUVN8dSOwWQXAfJ22CrZ3qEnUFF0gMTRnYzoGBAAIWkprR+MxXEjERmfpRKOayy7EknDIgsnYdGkkY3qRAHMRuknI9zpOn48jb91nZsjUuu/FscuF5HTeRIqMwNW3gr5RqV4zn0vAqD4RAqmX4Jm/uMEAnsoO0WblS/eOD8/5DbVNxDXFUXaO+8Ob7oMPz/PVOuKaog8JiIWhLCtRLIhESAkAIEkhc+btIBcNFYaFClBS3MkGxJzTaDHj1LFDDGn2BiLjmnPV7B2PFb0cDTcuu5v/30k7X0NqZQCTZsF8GsVUcKJgvwCSgzkkQG6hSCQQcDgKaoRIAJ66VojNyj/uB5c2v+Ff6DqVa4qrbB79EQCO+8FDO9/wL3ydyjVFp12yix4BAAABAACTjjUi0pxZxhJz2crfMNnAMUqbzWmSS34q2og4JtAAX27j0VXSg+jNG+S+ZmsprTjPd+xHs9ns+kgIErgs/kHATnMdDLo3AB0w8QsQAH6qtsBm5dmsHZ/u+x0quaYYus4Sf9k35+DDfd4WuWZ0WheW5IcACAARAGDYuE/HdVG0WyMvM9JIs5Vv8tyMJFvRJL9sQoOoho+Ecy8SgUCTzHidNzRn7cxq5konQnTDCGpn0rOVr0qJB8BPWYXnL4AVMcF34AgSEn66ttlf7qt/x2r7hppMTTGVbYm/7Ff/jsv2DDWFmqLTbTaAfH4IAAAABAAICEtOVgGhAUGEyUTGPNKEHIsT+TIa8w4OQ9LMRN9rxIX+rDRMv04tu1qU470Sr2uJt/GGo1HtLCtmn/caBDcDR1Yk3Qj00MV3QQAeeh6km5V3+zxYjfEXdpuOaoql6AGxOe/Fs2M1fENvdTVFp1t6oJTzJQoCgAkAEBZGCxW6HIRIISB3OOy+XViYmHZ68XxayDDw2NyAy7ZwaOPt+BzZZ+NPFrWsYmtxW1mQ8Ter9dzzmcoK/d9pqbYdTSkgoElAFVek3sgAysXwiUBP4NZ1++oa9wJeyg7pH97NOVr9tM8XfU3xtB3Q37ybfTfqL/t8SeeawWkol0wURwIAEQAAomlkDsdnREiSbP5ms7JJmhPJ2IDZQTkxGTpvl8EQtCmEpb5KjQ7B741R/d3TjNOLdhns9vW9rNqrYw3PyATmHFwjreJmocIB7g0MIuQDEAGeurbgZuXP90P8zXh+w6fVDKtsFf8RAOb3If6mvb+hSkM1RafbFqBWFcKJkEAAAHAaYGQAB0jYHBfzhkjzxsvJi2yaNJLIzJ9NM5LWedOCuFgeoiD3/w16E5K2bH2N1mkG+SmNoZbP+EczHQtB4lVZ4K/TIxReAYAD5d4ALPRduAp+Cr7KttkfAeDwHHy69zd81BRX2zb7wzc8O3659zdsATVFF9hdtyQgdMkxESEAAAAAEjZBSBAW1gklF0ZoJJNL4CAMAKFo5C3uZD0pax5N/TUqX7UQBeKyPL8YQuP2mNOY7n+59YB+XUpfmd29hZAAGjWcekzK3SsYSvi5++bIWQA+ug7wZmG/9tz0v8z9I5ma4ig7gJuF/eq56X8z549kaopO67IsGiVJAgAAAAAIHTXZ6IJmRP5Is3Kj0bSSyNexhAFCpSnSQHk2wI9m8hpiRjY/PZ/gvklufkyfj7efivLB8gtJ89Povp0/qTZojl3MnVLaJhja2QqTjhGALB56HoB/eDf/i8scf6FS61UcRefhZuEd/xcPe/6FT61X0WmdzVVMIwAIAADBQGeN8UmoNMO4pZJs0s6XShYvWXbCcNLA85wB52m0BLIQEcJ/FNpJtLbXYr3WeZjeplTBnBoEGKJkOpbdd6WtsTDSi0k3vV4RtfuzyssAFPRwIwBems7gPwLA8X7oP5znT6jUmuKpOqSblX+8b9YP53zDkmuKTpv8mEIAAIgAANHIy5NDE2g2X2YrI7eRZCYWIp0tKxoFIWIbmxHlIPJWTGMiTjaFrFNz9+aWqY9wOoRDYoPfcfubdNsyE2WdIDVovpRQywHrcQuAIlQSAL66VtlmFQA39yH/ps1vqKgZW9mK2KwCwM196H7Txjs0aoquAMm6lDKXKEgEAQBIAICkRBChIhprMkFxmRBHeUtlk8i00AwRy3SxmNMIRPaEyjp3jThiK7IvmVnx10/0uGjaUcYUtt/XfLKSZnEiZ79uNXsaJVcemET6uKQI7XZx0YLTHnrOgz/82fOxfBrnL/zV4NxkFJ0Df3jT87L+Mva/sKtFEzc6bbMZhIwQhDQCgMPE+XSSsjg3JEstnXY6M41qOkBEyMwm+Sxk08Yo1MGYj/kNuntN7ZZWGOGfxxA/GxLhA5//Tc+yw3rdnfOmpltWgNwHSEXNC3mwKhL2jhsRLBB35zbWyaugCR56zuPNebfvjpftHZq4ZixF5+DmPOOzm162b6ikNUUXkGNj5zFJhoSIBABEHcSEw2hYFTYnHzVpvNS0iO07mphj0dRJMggV4bSX1RolR0FnLaMbRgnOmVVCvVf/eVemcYwpVwC1CPQfcUxuQp6R+vzYBmD/AuIC1B+UAIZjbgWO6wPeqQ74v9xXZyd+2OUHxzXGT7XN/+W+nIf4aY4fkoqaostCi02qc4hkgAAAAAAAUam5LNlxFSchIpLMTmjbNEmTZB4GThEShPTrNt8NndIXTF9LZKcmSccvqqXXOhzmdN33jz86ZDfd4fvLf3QfoaIUwglwg/ZI7HgPAJo13M6+ylbAXwFovHf8sr1DRU2xla2APwLguB/8ZrZvqNK4pugKrGVKJaXimAQREAAAANDSrBoFEQdBPJJQiK2z5p+O3MhYnDFdi90yzrFLmwyZLsfC46A0JwukFgSayfK3nAfduxQ67k3/IzbUwqekcrpJsChh3Am1jcFfdNi8BQMRT2dnUwAAwPoOAAAAAADILQAAHwAAAIrtH5IgfoB+hoB5g4J9hIKEiIR/hIOAgX9/gYV5io6PkYSAhH/e6lbwHwEwnzv1d/N+hkpfU3x18/S3ADA/h+530zdU+pqiC0jWzVWOlIgIJABANEgikO0slg8irtWEzDGZNcto5ESalyFUiDRE65OyM2GioMnv1pgae9vcju/Puk5rxgsEaXy+P+dFnF72ozSKcG4A7AZUJqDwzFUgKiCwuADe2kbmjwB4be30v4z9DmutKZ66OfGH/2rtyvKbcT+hpui0SbZWGAkAAJAAAMFsyrHMwYyMgQcH6TCZ50qzrWV1mLsktShfCJElIurbP49R/WndIbtn3h75b1tcI2rbrsckIxhubqRbxsgiKoRTGVRkecAqnQ50lKfCgE5qDisWAD66trnNyj3uOz609iZNa4qlbJX8wz0+O37R3mTkmqJVgGAznMuJGSABgAQACBIJTCJITZBlVuhCtti2G8rimJOkA23SRjTRukEQMVERKsIqdk1+S1Lq/dRQoxoFmgkDsozYHM1/nh/7bmasDborYYrEhQR4NaI6B7gRIoMjAH6qDugf3sv7xkvbP6G2jq6mGKrOgM3KfXluvMzzlazWFF0wsWzyJyGCAAAkAECQqA3lcjyeVNRSQuVhF9LhhCVjYxnZymaE+eIMSZJGRpsmxD+NY9w4n9ZqGHE7VPE1d+/q7M61rW8/h+JrmvLHsgSHcy+E/3SS40bgxkKRMX+T4Q5wGSAAnqrm6R/e7drxmzR/Qk1IrSmurjnxl+diPyy/Kd6hJkzN4LRuVllJCQoAgAQAoAMnXSRyQps3GDtoGhnZiTFKM5bBfMGpji+KqVoajWh6CliDktIs36fJmddZGRDs6Kp0uzHvUJi9G1ln64e7GHHdh4BEsYOdIJ2nY5teFQCIAgD+mQ6sP+z5flN/GfMHaoqhatvarOzpvam/a75QU3QaqpJxTCUDACQAQDTGmzUqnZrMs4tH+ZImpjuQSJq/SXW12jJthYp05XYWowLiA2dLrJkNsjGqGXzHsCwTzidXnNU6kaSB+e8qP9AproCrb9wCEFCwRYK1IKwAnsrmyT88Q9vJvxv3O4S0pnja5rk/PEPbK4Nx3khrik6blDNVnggkAEBEs9kmkdmm5Iuc0bCREUk2Xwx0/PikYUKzQxIhSehvD0X+alblkjzGbsz/+dqL104ZZt97PXVPmK57XIk7oBEeCyfYIsmm/gVErE3mmVJLIl5h4EhEoprgIgI+ug74zcqdzYPfPM/XRM34yc7wfzj52om/O+dtkWuKrgXJlBeVs5FAAgAUFCTJgRGOKFoFkjBKBphnERlqYTFijHbQ7Lc/ha+K4KkcLtPb6Hkc85Nvy6eoIafcc/eK1SBVmGOESncW2ZdNZyrUzCY/gxyrGShTICqzwj5cCwPLAJYIPrq2+c3Kmz+7nV/m+CLXFEvZFr9ZefJ/d/KH4Q01RTdEBJBZl4wyP0wTAAABAIAlRguQ6lbiSA2z5Ewvmm42X75OFUHCFIs6ADx0B9OrPp894cDxBN3xW5iAmhkNejF3/brZmDKNVbebJa0AIMVBwgyydEdAr7Gr440yQQJ+urbJ3zz5/9gue/+Fj5riKltFm0X45HSbHoaf8FFTdIGNNJe8WkoCACAAAJRjMREAOBcWKBrRwTHjs1mREUsvWTK2NEytkrXi6dwJGv5ZX3i+pnVrMbkyNNWoTSMkW7CyZOqfJ0NKpaZJZAH0M0UqsYyVLbkKUdPFauMC7lHsYu4mdgD+yQ65P3zjd+g/bF9B1BQ/2yH3m3d8d5YPZ34FU1N0IwVIkZn1MMznXxAAAAAAAAxyTGPsWdjR0OBIDC7dhi7J0KaHcaTRyv+4+hLHMcv046ZNm8YxxJzBVY73r6lb5VS8aU1KKqvZKmGxYtDL7DEU5RGLRUy4Gfl1V0wX8sMuIgoA3urm0Wbmt99t1N+M+RN+YFNN8fVNgs3Mb9/drL+x3+EHRk3RDQgQZC2EsWpOMwIIkAAALjFWxyCqYzpZY1LIiEgtaTY7wOWEmu+WcxRVJRFn5Z4m8i/FpRRdYNEQi6tpbV4dbbqbyh9dndc93AYNsOB3Oki4K8isOBdvJBXwEEYeBYUE/upW4WYWfhbuWv9y5jdC1BRj3wrczMLPwt1YPpz5jhA1RRcgTcnySZ4IEAAA5IvswFhWaYua0oiYkJGRxHSFzGV12LUTyq4Ghx+bmtijPJn6rvOJHduJYMr9He7QOZSHFyUyqdQLMQLrkzY149/1/jE8Z/kUBRBnRVzvppWQIrkGqwgRBRcBAh7r5uBvASi9u9E/PM87QqKaYupbJX4LQOndteXled6Ia4puSAGQqS5M/icAAAIAAFIsyCiERqHA8WS7sUajSb58t9jOIQvqIjSSWaw4PR1/JqPV6ntxLP9r+7tPLL9HtvGtKxdS/tisIeW7qVy3FFasyj2cMX3c3Lw5b/p5wi7IIhoBFv76ZuyXALh5bvvxMuY31BpqiqlvADazAHB8jn19mPOrCjVFFxi9WwlgZ8tEAAAAAACCXBhFkpsUjSebjAWAjBBhtPOM2SiSwdRAcuT8tt2G3d/WPDf5ZJ9uGg7VPYhNtZ05MMUdZOLIQWEbj8zO6piIFfeaguuT7V1GF+FY8AEe+4Z0MwsoDvB4ri/3/IZqqCnGwiHdzAJKA9w915cz3qGaa4puiISAEDVDOQ/PEgAAAQDADoCjsTOlO0iTtMgcP2F8zsBzDALN2Iy5BbsjsGpxm0mZ0vDorvPfhjpJ9XuLq66xY4+G3Thsyv6/PDGSJjGHBAHGnOs8Ls8wAiU1IooOoQBe+lbJzSL8LR/Dh+kNNcMpXOE2i4BCS0fxYXiXyDVFN6QAKUU93RaAM/UTAQAAAGSu6uCGNro6IOJ4FGEAME/GhhO3kw4bXZi5MpAT8pp3c1hhjRvv21l4zT//nf+cc4Rrh2mKsdxsRCqT+FuczplUQzSLajDJWV01um4W5dZyoUBRAJ76JsFmEVBKtCuPVfNEVFNMfZPot4CilaO8Hpp3iaBmdA8JAQkyo27y50+ISAQAQORNVxWloQAXR+hIcleez0Wgq1WT2yj/t5LQSBDQ6N2dhM1v64ovjLU2T07X7fw3KfFoNj/sBveP5Sr+DJ3e2yEyohyyBH2EgthlcGEEMCABHtq2yT8C0Pbf8cAbaoqlbpX4IwBt/11z4Qk1RauA0XKXADb/ExIRAKC4kFyKbAUtSkSSWlwHEQIhAQ6wmrddcphqMK4DG0g5yzenNz9PtK7693XXMi2Nrd9kNWwmEmK4+am/Ne2OsKMbpL6PK8MxCKQcwZOwY5qUSxU7FQOJSEAEvokeVDeLcBr40v+y/UG9ipvoQXWzCLvEh+6X6QfqNbokSPPsNCMECQAQiUckR7OcHUSdbMwoWRiTE1npQCONoMNmXBlTMcSh3dtO4uv0aOdG+vQPdaS/fdwGG5/4xG0T6x/nU9Qj1nQNqQVmYZHHjVg5rEAEqNMEggmqtXFZAF6atri/PON742H4ho+a4mnaIjcLz/jceBn7L1SimqILi7ELsdlEEwBIAIBQLsxHySUcRIviSi4ihmNNJaRtTt7UfJmR5nRGRZNYXGE5o42h9EvGyBJig9wJnV6LqrRlZFP872XU/TKPiBb9Pr+Qz8IoRrgRxwXH4CbwN+IYQADeeR4gN+cZ7x0vTz9QU+g8D5C/ecb9wYfn8w+5XkUXyENaf84nYkQgAQBINHIoVEiRg1wiCcOJERMiL/JFI5mQ18gG0bREEvGRZTxzdZz4i+fiZ/oWX9bnCKHU5I0QRvga1xebgoKTSYgLVEPApLiCwn+44LPy3ACQcwywcGYKYgHeic5y/8C+eXe7XpovupriZzpD/gP79t7NvBre6GuKTuOFPT0ICIDQzKbjNDRfRlaajXFJM9JOPh1THJssd1xQzYCx1ToFlC6SipvT67OOet/13qdWzd894zu1DLFdNA0vCez2xtSbqiKctj6ycQWlLUXBirBWxGsgN+BAJAgWAjsCElYA3oke4v4R98V+cJmeaDXFzvQQ94/YL/aDy3Sj1hRdYJfhlxkSIYEEAECuHY2EsTzNRcWKJobjpge1abXp4kwZx0Y7LIkyA5d494W7XbORlx7DWo2WnelGin0Np9eUy26bvWUzeGLvbXVrFKjywBPAWlidQUEUr8yAM55pHuL+Y9/eOxbbgZox0zzE/WOc7X6wOg7UjE7rLzWLCSAmAIDohIgpptnMzJg1m9kkTSMzjbwpxkDzJ6Ymkc1t02g0JGxeKW5hbZD92n2fO+W+3DlOz3/p8ZoGQTzs820aAt3J2maAXRbTOAgJseINe8todOF/oFx3WDJMb4KSx+oUS6Mb+OLUAT56DvA/xnOxDj5Nd2hqTXHUHOJ/jOfiLHyYTmhqzei0qTP2CScAQDTNmJDmZJOmGUbNaf7MaO7EvGUyMzqQ3GZzs5GKRpNI0rRt9j/Vcgio9WatSbFvUnz+NpTaUJ1fPk7XyQZ1V02t2Q2U8j4JEyL8jcKVdMY6FxKCKKxXiVyANvr7SG3cgK2/8MgdUAC+eR4A/3I2+651v7y9oaa4eR4Am3M29651v7x9yWI1o9NwWbH4MQEAkgi58kmySeaEnIzcJG1ERkZWTCEjJzPJTtNCjWM7k6HZs+kZDvRfHxl7t90d3+9dW4rc8Ohub7cppPAZXy8n6uXctFtTHjGt3am2IofBdCDPA3E1rEI1PWjFEVURCqu4CGJLaC5WFt55HiD+gbW5d7w8PRHUjJ3nAWKzWZt3x8uJP8w1o9PwOc+ORAkAENUJaWYzmpc2MnNTA6RNkw6k2STSfB1NoxKjDul39bEnp9emU7m1ToWDB7fbbcf9J+O05/N9bT49rruLue3ka0UJnJy9L17ITv2sIGmJnsldEvAcE01eo1TmdCLLrlgF4yLCJJefbbb1qAB+qlbgX56L9+Bl+IYlqimmrnn8l/fiPfgwvMOWRDWj01IuZyEIECACAIQOGIkumM4hHZfNyJfMIyYlA08hkkgyFhYjkiQxSrQBbEu04jO+U1Jg9KN5+sBjH/NZf3Vf3l8IN3zNFmNMTK25ban5u/75rb1FvqjRAP3g/skH/cwBDCoWnQDemc5ym1V4X+CNi/QDNcVPdUhuVuFzQTcu/EBN0WlYzR4KAAASACAhmxh4vNw0iSQzmy8jbbSDA03yJiYRORkXO85zWoNIF+LKn53tZLaOh1SEQZDK/xXrnQhxjMkst9asoffPEZ5hKNPLL+ux8U5BtxgMrMiJ3AisC2AXsaxSAT56tsnNItwv4IvVSH/ho17F0bPN/WXf/jdWw0/4qCk6HeVcsYREBIgAADqdv9FstiJJcpJlZcgmaeXEgNGkeUvSRERSbWNOWgZNxTrh8/b07OZCebG+8Ly5XlN8r2iWMKurdapzfS0PH0eqb7YgGeLRARUFRDBwiPUu+CufwMXV9knnBz66DuFfnst3J324faGmWLoO4F++q3cnfbi9oaZoFVjBXCquzhIREQAgmgvCwHI8DcOoiezSebHrLVOHxaFZmNu5ezStsXnyQTjUmiwbuJwOKT6H7Gf8RLO/2v//x/j0SEySfNVIEkgkVEtgiIkKsRPmSGNQRMstcS2IBAwMDABPZ2dTAADAdg8AAAAAAMgtAAAgAAAAPIKdyx+MhY6WjYyAiHmAhIR/gYOKjIiDjY5/fYKFiIqNhX6LXqoO0Gbzju+OX27f0KgplqoDtDnv5tsJn27PsKgpOkWzYZVlnwAAEW02cjNymsiXptIkM7LZATIjf0RGM/JUBWWKzgVJgWsv+VPPsXI4mzwnDboIql78rawSY3LYy9eU6GYlItFW5IPEWZy0umML9ZiRgRsI3CzDEIGJczm6OTFikRTaRFR8jNhgRAMeqs6qm81rvl3x8vSGmuKoOqNszme+o3h5ekNN0Y2MJDPUAslQ6FX5MQEAQgxBIUCNgIjOLGqSkZGGnEW5OemYYm46SvLHiBrZIuJRt+6jnesxV9vf+3+rqx2v+W0oSPEeRx1AdSLYusbXUZHsJ4AkuCgi8daV48OAqiqDRcBQVilxWagAXpq20T/wD+fQ/XKPd6jENeOp2kKbCwDztVN/ufczfNKaogumR15qhfJPAAAHjuIE0XJhwhEiEfItykyzaUIkMfWW/2m8eVqc7/u+tzS0f5/8FBvY4/+zY7f2kmg8Faj3abKpEyNeakjCl2GT/TbeovQ9DaRVKCQh3sqMPP2mD680WBLC/AiGa2UNvYLpAn55HlL/ZY73Ib0MN+Ka8RI9pG7OGt+d8NLGk9BUM7qEmB7Dkm/+JwBAPCwMKSoOW4qzUoJIKWky1smzSTKWZptmdBwPHdLWkLHuLlwOZQ59z2fiRLGX3ssqHvte69VJAJKSfK0pO8IID3YDqX0Nh2hVkhkMHUG7GuoaUc3f6W0ja7cGYv0txcKFEagKo64x1d9cr1XkAP5pzhKbRbiP+BBebj9QV+PnOUv8YR//h/Dy9IW6FqxYL3NR9SQJBwAM7UIWp4V5M01DTLmZcnPypoyJw4FkK6/5JRGJRJUm0UVBMe48pbrmgy6uzQzFNpvppXcniG7DHkmwmxzOpE6ykFviqci1RGar5ew0TAQIKpKOhcAKZAC2JCHgGn/r02XKe/kbAT6KttFv3s374pd7/IQm120cTdtoM/Ns3he/3PMnLLl+Rhf0sF6WQmWWiMAAgDARxozJgjBwGIlEyM3t1FTSJJlOMpJmZshrShrRkVPl7lNrQ7jjkEMpYvt8rmx+bW64U+IPZa7N1NuGvQ+PFifdL6Pb1eT/T+x0MfxIaFKLCllWsHLgZlhqYEef7DEC3okOyT/sF+fGL9M/5BrjKNoi/vBcnJvwy/QXmlxTdKGdMLKMPSZBAgQAAGEEIPmWomg0RpAIwsiELtZsMlssxzyNhjEdpTNGHKyS/LF+pg96yLeqn8x1b+rJwgjnveJ6Vl+6ad7spmy5mTbMbBhdWZzVaKyOTzfHYkWmgWkwfAD+ac6Sm4Wz/R483P4h1xQ/z1lyswjPFn549UZotGJYylq+oGBCAgAMHcf1ZDVNYxYHCwNMpwPNy8nMqMxs25xxzLAwzxEZbDxcEZ257R/Md9tbZOgRe8MIOuycOmJ3ZnKUl62cESiTBIDnErhWOByMXhlWsKKFtvSVxMpbCW4H9BdYS4C42lgZPpoOyM3KPew38cP0Ez59TbE0bRN/uYd9J36YvuHT1xRdEox9kr8BEREBAMJIaRQF2CCHDkn+5V3QeQiZiwdMFaHVRE8CrBJ503HF+drnWg3zLp93ckiPfmDyR35lMjDKH8ryWigl+YH6g3aJKiIA2mYuVhaXhSEdI56ZHuT+Mod3xy/b1yKtKW6qB8jNpo3vjl+2r7VcU7TKAGGUpSoTkSABjAgAjaA0IhGGYT5GGGgWlx1k6G77wvGwTSKtQ+SgjyGpsT/obWXGwWL3R8PSD+t6qZXiSbUC4KZlNLgGxF8QYzI7QcjVdsr6RKdwAdv3EovC4tp00UcW/nnO09/08XuIvzR/ULdiKTrLNitz8z7EX4qf0MQ1Racps6ckSIQJADCTPlcai8OCjHSeLr2wdDKblqSLtGn+5k2dt+0yGEcMcfiL/RTZSf4Of4u5u0F1A9tsSb8A+ps6pmfujqYv1ua1dbO5O/Q95kFNpaCC6pIk174CgWqB9Pbgq3sBnlnO83844/viYfhnra9XcbOc4zcLZ3w/4sPwz1pfn6ILDqT5pxNhAgCAAoVZmKvCSs5VUWlzY5SVSJsdIDLuoqPGOi3d6am7ZzoV9k1Gx/O9qeY2KK3/7w+MG4ax8VDYqSlSz82SPNco0QhBdT+iCo5hFzW2KLH7zUCAr26gZLWFddIC/nnO8puVPX8fLbwMf6g1xc9zlvvFPX4f4WHO/6S2/oouCJhLfipoQAADAIBaLIWBS46HKblIU6TJ2PhW5ETeojSN0TAdc6AM0+htGrPVX+6GK9fYhtLOKrW1XT9CHYp6AU4NMYVmg8oKjzJuvOpyez8QuJmcLQLAQSACtRqIAF6aDvBm812unfphe4em1hRL0wHcrHzb+6Z+OP6HRqPTlLPqJAkBEQAgIonxOVk5yZRRzcaSyIwlGckyebOlOjUmXxiHJokyLqvR7WRx6aI/c9S7K87KOTxTunFZn2faW9tcrZRGUJpUEAD1DgGXeyOuDIkbX54zbbYcAbYKVMNgL55pznG/Ode+l/Bw/IP6jJvnLLmZONe/n/Bw9n+on6JT9KyiRIyQiAAAmDre1CRJpnMzIpbFgLkZOTnSaDbNGzBRLFJMATl1sR7bvVuGmNuYVu3HjtGkyr4eT2eXQw2dy9/9hh4mUnmsAKGCMLRXN9JiKvchT6ueG+oYgPRjCZIBBn0D/lkehL+F/RJ+6A3/w07UFDfNQ+gP8+p70dn+jKgpOk3GMjWbIVECAAzbk3QckSRjUxSTZcc3zRcZ+bKZkiQzzfZO3aapdGreyW4QD7aP2+W6qM+DteUXw5mubr+dlcRuX8w77WWuAbcbr3g0wnW7GAY2bILipEA1SCmcVUyaZwhmq7K4wLJyR1oFfkkeIDezcG3hh9XtDfY8zCznic3M2b4fLscfar1Fp+GS8ZgyChIAYDqScbPcjGwkMiJHdlFGZuTkdCAGSNLs4EAa8zQN45TQhjudh9eNn95wY9q/K+RrR2fHFyG1xjb5v4oRcjW8DkNAHcLU6XBRvDZrbqjjjSiUSQ03QltwIKYFFyuajFPhczhyb0jeqc7iXwLA6/+DD09/Juozfq4zdDMJAK//Lz48/ZmoT9ELCRtjy5hKOgEAwAHKNw2bY44qIMkmETmLkzRzgGSgQ6P8ORHZJmkjIkGc7M37wjBJKXdHL0Syfql61ueNRUMavdLoYMvqe/fmzdKbkkaixMNXitWwEdG2TSwgdCGhIoJggWtgZ7kAXqoOxWbi3j4vfrnvP5Nan7FUHYrNzL29H+Ivz/1jkutVdFrYmcJTxAQAiKYyYmJFJE1zIl9EZoeRkWSmjcz883GaYUraMamGgsyaekPMIEvibzjE+6m7nLOsfJH6vVYpJ72lB79glxsRhwvZd+dGfdFZRUbApFhxFJzKYUWQg1uhCwv+Wc6D36zL/6WtnuMvfNRX/Czn0WZmv/w/2uo5/4WK+hedUpaFstOYAACSeZqZIyOnbeTkRiQDjXxhqibNXDJh4R7rehXXcbKVG3zZcVdj2w28ri2zZbsvIISGey9iXx27V09TvnZNnjfa16WIU6k97rLiGuQVwShpPZ5oWPl0wUjcjDbUURryDhxUYk3+Wc4Tm5lne3+4vJ//Q5PrU/ws54nNzLPZP/LD+/0/NK3+ii4WwrCs+AwTRiQAgIIkORLFgWwl34gmebmjxRlJU83IyJiHsZmGNIMmuhCR2+f7vCWG19w+eZeBt43MVSbi1JGQUO1WGOkMUBUf7kCIKYzhv9tiBRd2y4yYSYQbuWOWN2GSokDeRLx/Mf8DvnnOKr85m/s1w8t+/kNfr2LnOcNvFvbt/Zrh5dz/0NUUrRhnTJIMgUQIEgBgG9ubnY5J5qOoxRl5+aNNGtkBMrIYAjVHEwxfoStkG3fjbD57jlM3fzRrTwqBPZtfPx0/LVuALJuTavdmywV2dlgZbDNSgRLxnl2Am3Z5ajYQEx6KDvnNyjN+Dy7bX+iZmuIlesDerJzxe3CZ/izUFJ2GcvaRCCQCAIguyDAcpAPm5WQkSb7cpEnTJM0aP4Uki0MmoyTNUK6kqNiWX/+zlnBqtc/97P6ZRuHWTzVb/6fgOcHYK4QkFrlEJICBH3Zt7HIh2uVxmJUHN8JPeJoGHnoOyM3C2pwXv+zzLyytphh6DojNwtqeF7/s8xeWrl5Fp+EzEZglQQASAEAzsnlJtmkaWTExX1P5IyTZ3JiQkTEhicUV8yi2Jo1OypV7MR7dKTFJ71ujZ/Y16hQ7bWWHblHLvF2+mHoLXA2oV18cCo74WzA8CypWxAf1BmrkAD7bCL55zuM/ggvwPLjs84dcU9w85/FmFVyA743L3n94rik6TVnyImZIkgASACCJSPPSnGZELMlIcyKbP1OEfGlOSAeS5jcwDVOGqLH9VzffmZt72/+/arUU7fCaImLzFpXszYcKkZRA4qxRo0RHkUhBFCgoE5Yi4VOWWvB0lWBggTJZLixuhAJ+WR7gNpt2uR5cznkHoWa8LA9wf+mX88VlP3+CJBU1o9P2UgR7wZgAAKQZOUnmEEnkpAPNTlGmzJBNKjJlZuTlZHNJg6St3tcQ5ofG6c+BUO0mKbyG52P1MqvYmFx7D6bTG1fEF1u/tqXK4SDYnWOBcpPSP3OkWDdBQqDiIspNJAiCCiYZhFsLPorOgn/EvNwXVtsdKmqGTfQg+Q/0y/1gNb0R1wxOw1VJ/wkAMBzF7jzRYLKMTpYXickzc9pGpG1eriHDpOMgTavqcsTndLw2/H/g7PV/Q7i+N5bwg1vHar3u4bE2113dyqjI7h3WDmpkx/3Ewn0ZbqiRjofiWEb2jko23fgfC0a5MLd2XOUXfVITfknOgf+YV2cnvxwHasVLcg79A+vqPOSXk968mtEFZFh/JQI+0QkAEIQmQaBGxNFEKCWzJDMr/2w6Z0A5mdLc0CRS0kgkIirF6U7tA+Ng/DYtq9Iw3egYS20YX0t6vY+HG5ogUEAEhAaCXw6oGvQSBPhI6JwOL6cnjlmM1Tl+beLIwg3gY48N7Ytl5G8E/kje0P4PsnfHyzHM0roePpI3DP4RZO9NebndZrk29ALWZNmTYCKiAQAKwohsiChUUrSEbLokSefRpLL5pxBjycaQWolN+Hbqj5FJndcmxVLuPzNLtHEy6VxcQXaWQydct0bfZpGuuDv8hVLwdSrK69sAoIsSaT2hM21+W3At7+8uMA8xD/5ZDonNORfnxmWHb1hazfhZDonNORfnxuWEn7C0mtEFSLO8ZCSINEgAADlOPHAslpAD4SRNM5NmpTHYpAacx3GQdhzGlJYOfvH/fsZjjNJEyZkaY8OBnhKj8Um9uqrl1V1i63Y18e8OWG3Y2dogAusWhpHUOwHCQIWlOhTnAV6KztDNeTdzxy/P8Q5VFNcUS9EZ+g+8m77jl3u8QxXDNUWn+TMpT5EIAJFk5hqX0yQjnyTNye0AkT8n8klyQjab2YWxY5thHBia23H6t255zBzzz3mowUj5tN3wEP0V6t3Dht/zl1ksMTS7VBkVO2m2sIAC0jVxFTW/GqpylfWkBstFAAqGpcHqEQFPZ2dTAADA8g8AAAAAAMgtAAAhAAAATfYNuB+OgIeEg4WOh4CFkoeGhX9+eH2Ti42Sj36AgYSDg4SNvjkeIDcLc3w/9L7jD7V+xU3yALlZmOP7ofc3/9DqNTodK8aniIiYAACapJmNbDVJkozcJFVJ0maT7EDzS5I0X1aSZkS1gSZpVTPDOrZy6/Cnu52uSnyJMsgktDcwXvd7+HeeoUVnGxDihOqwKyUVwRXCevPbhRGQe4Y1kf9DsKIC2hGrsf8HH27jF4c7AD56tojNyp3fN92n6Rs+te7iKFolNit3tj90v5nlL3xqTdEpepYlFjEmAEB0lJck0WbkVKQ507nGVyqi6RQGzhgg+bJawZVJeQ27L+qXf/SzJd/JVVa/v3435a7y+tQek1x0y6WQd0H/gspq/a5VWAkbT4IVDkDEcIHSQjTKYhstnknOkb9Z4//hZbQ/1PoVM8k5YrOwxu9l+TDaP+T6FF1gMoxfQVAkIkwAgCDFoELHaWqtadSIJOZJNn9GJTJqCgeyP27bZTzoalU5E3FKzN2Ou22mVXv/82747388tdnf+geT7aqtTC89smkBVjVFWG6QYR9NFoXaWOMPLCNZjHD5hDGcCrAinlkeIP4wr98PFnf7GpLWXcgsDxB/mNefF4tn+TFMfUYXgWWTTLJTCEAnAABYocNoJMkkcsSSbLJEc+Y0kWTkyM0IqahsRbQeyvyIrVn2273lcyqcUoJthNsawYh2Jdy0dCnnOHX6t5tkOPCYxo21uhFp51P8ImYQwI0MCayYy+cLxiwA3onOsn9gv7p34ocZ32g1xc50lv5lv7pv4ocZf0jTmqJTSKiUnBc0ESABAgCAiMjLNiPNyGakySxHc0KX6rKnTseSfJGvxaQ+55sWyq1GrFQwWqhbMqaj8pm9Xnn6QW5r+C59qpQy3TF5Yxrjb7wR9hHD0FiRS4AfABRMUtH6YGji8gO+SR5A/4gzPDc+TM9Q6WrGTfIA+pczPDc+THeotFrRaZ0ty8TwmAAAkTTGIjPNJgzzZOQbqIgkqyE7+cC5kadyUppqahTXBjdxfu1Q+6DE7n8dS62e/+NTyQPTJbv+j27cY+RwWn/yp/Y/ZqnxGOnU4v4tAF1uxFTIgA7uhTCBUaLh78YKvlke4jabuXkerFp8h6Wvq/GyPJz/B9rmuXFp+UZXKzoNWVa0JDmdAADDEYsyWhFJ5HUgnWJmkiMiJW/cQFNzOjRz1ViUmUf2mB1XvHb/K9dDqrbTqW647+5UVojr/Elknir1uL9AV/eWsI4bnPupgGfaJQG7n4SLbkiaaveNEkAWBrbUMb6NLyRpvcvqA95JHiL/MrfvS6uav7AM1hQ7yUPkX/r2fWjV8C8sfU3RtQnLyM75dEIiAEAYS8QScUtSqFSO4WC+daTSMDWRlzGpKQ0dh0KKOQWSChQ1plEHGY0U6+BkOrQe7MTwCabTyUOuOQA8Xn7tAzI5qf+YJUK4OaHEHbyqLgpB6hRvbIHvpKSdCPD5AL5JzvK/+bL/I39q/gegq0/xs5whf/Nm/0f+pYX/6OpWdAUEhs9OyBJIAIDa5YQSQSyIJBGJJ0JhMGduenpJ5/MsraSrxTYZgtiSiO6jX39TbZA638LrmPrc/dm8PLyzirjG/6kxqXbZMEMVtypCkSG5Ea8RCdknFyiwUcUECXcOvnnOgc3Cuvxe6sOZP4SG+oyd5wz8w7z8HrqXM37wUK/BBWNZZ6txZEggAQCwGhHspKZcoDQkGTUjUgspaWNJHsukVWk7atLYXbevo3XrXwM8ceN0FbMvwz9TCguA+iD+UM+MavRy8Si3EkLn+nYD7Uw/i09PG7VElocE1qiYFfkp+aoeA55pHkKbRXhf8EN/Od6CxHUPM89DxG/hvsWX7uFu/wSS1qvoApZhWQp/dkoAgNKGicSbKEfclBJEDGeDGdOL04wunUhyyTANx+x2JeXb1BvGd7VlteOqcetznd6rF/dksHExTX36KDV1EEXlWOxTYUhyzBy+AhLhmQth10GkomKAuFtYyZNKIgUENTWBaHmT6YYIvnkeJP9Q2/vF5Xv+SBN1K3aeB4jNQt8+Dy7f+YNad9ELDEPJrjD7CQAgkRYYREBBchFl82crNKbQbHOaNgsVgxiQ58q2bL9INtZNO8G45r2yTxzOJPlbPsJjtdNYcZTH0nn+w2lSBPQnKQ7xWbJgQQEDvLEiEoGBWt2hKEXF4/3qOFY0pfwivlkeIv4I54gPLre3mXoHn+YB8Fu4Nvjhcrd/ZupVdFp/9hBEsSAAIGkqM9KkSdokb0n+nCaZma1kmJeZDKc4tRHZZmTzQPConU/qvv6ffk7czanzSr5N1j1gsvAoS27X8vV9JldX47ZreDQQgwndUdzka4B2RQKTCAkFCdojuez1o+CXKgDeWc4qm5Vn2F/iy3GHOtLqO/w0Z5TN5h72Bx+On9AjraZolXYChjnPMmIIAEAMAEi03tzcqKARkYNEcZDBcQs5TsP+MEfnLliPGUM7iJD7rBXOjaa/0NDbHmtFPSeRuaVGJARQPa9+uDyacUhzEqEqVoypOkoUWOGr+hZ8sPbTQKSTRGUv3pnOEZuVs/lvupenH6gphqaz4C9n8+90H25fqCm6gGEyOZskBAEAEAEA+aJINBpR1GGTbGLRyElkxCymWiZEx4VhWI+DqA5dh/7O1kNdnu1MvdFl0N+7b1+d5Grw6mUuhe7IJSU0/UDff0umYedA/K0QV+6y0SXkgL5FYK2EAh6atvEfnmv3jQ/TH3KN8TMdgD+cq/3Bh+kfchOnuVIXzIgCBACA0IHrgdKFcNIsIq/NLkqndmqaf+qyc3IyTNM8D8cuRJqBureZObDxj0fa7duOsIRt2HTkBsdwYwl2BY7ULlFUyzw6kkNpGB/cO8KDVUshwVQgf3gKYBchAF5ZzimbhbN9PupHC6I2uTRn+c3C2T4f3WcLoja6gGXPCj0xQgkAAAAoIsWErKQ0EbqOxBZxZ5QZ0iU5S6Y1f9OIVrX4AoKKxMaHmjb3d+0ckW67VSsynBDaXt/ph6RhDSuFj7rq5ycdq8hw8oMdooQJEHccDQD3CN5pHiA3i/CM8MHL9s9MTfHznCd+C/cBvtRP238zNUXXQrQYZhl7JggkIAAAUMLGoKAOW68jkibpxNjW5kReNDqMzHtlXCaxtS+1IGTu3vPUmab3I0bbUTBLmCopHavYFN6EysgR/0rLWMr9fQpGHZIboEWBSYL8AigArwAs/mnOgz/CewNfXIa/UFFT/DTnwWZl3/4vLtNfWNQUndZVxdlJiIhhAgBEksS2nDGR0WzTWV6azS6T5gnRZMB0UU5uZOSNkqSSBKKMHGwgQr3J08b3/vv50O00YskgKt335sNseeEEJZlz53dZy7pxlrLGqJu3YUwHDbcKORVRyUCYF/q6R054gVkBQJi63XL9pjIAnmkeIDeLcF3ii9X2B3U2XpoH+M3KuvxfXI4/qCl6AQebLHM9lpiIAAABpPmgNNKIJCUiNAfGj5LMqUmaI7r0lEk2Lx2lkW0ibZOQnm4KK1ab/2wf45fhts7d5ElgdQzhDp3iGt9vMIfgagYl45h49Sz+P1jZEUgjXlfgZnkvKkGvT0IFYkhUZAIZ8l5ZHrQ3s7CN8MPiDv8R16f4ac7wv5nj92H19BOatD6j0/b5KGNMAIDZIhsVIiPNSJY0b55/bJ6INGmSMWDOOJGbMzFSDYkmEf/IfjEte6ePfxuXsPu+uRlHXXHsjucSo+vX6Fe28XTszv3yUgQCS5PtIr8LqEG5ASOAktogea3gaN19FHDlOBXisd9NAL5ZHiI2m7Z5H+LD8A1LrRU7y4PEZjM334NL8xOWXFN0GpYV/6cEAIjp2dZkXBg1STMGzsiYd8B5g6mR24FEZqbMXbDPIdFdPTWcSOX5Us/t7tia+2yu2NR+9/u+PIeFqPiE8WmxKoFLIOXz/lfy9XmwS2uwrIgcq/RZuVamsj7i/eeoEaorDJWsGwLHKajxlFULfknOk//AurhvPGxPdXKtuFnOkX/Zt8+DD8cPcl2NLjBY18uTfEoAgDBRWCo7WjnqRFIYJu1g4so0M/LlZVM5U7Pp4qmJNObVVChSARvAVbXKwMOUmHnBvlDeXOoTNZ5fP7tlhcnKcI/9hlFCWof/Jnq4FCQlgVjEElYV72we4ZkoVlFWvCvibs5Ekub4HwH+ic6S/4h9cx9wu5HWjKfpgPgH7uHdDdzusKgV3QgBgawn5hdNgoSINAIQoyU0QE0Twpg1Hcxo3syiDJMNjjO1aaODDI1djP8c2XzDiZ0P/y3bWHj9axwKc6vV3zkG7RHKiq4EhLMGVl1lJ2yCaArYmQQRCxWxHmcF5WZgBYgeeh4k/xXeGR6snu5QybVCKHqI+0fCJ/HB4l1PqKgVneZXBQUJASJFAhGRZHa2IEmnM9I0T/42QpN0mYEuFc1mVOnccWbgFu9n+vGdsUp0bHttrlq/pmJWa7fkt/lD8uHt2THCSkxCaqgJZ9aq3O/ATrKAiJvwf+r2dOBUIEBABF55Hmb/S9+snXS5xxO5Zqw8D7P/pW3OIVye7cahVvQBAQjW84wUCgpGoiMBXEUjLjsIHKvd5ERSNKgsB1HFwxiusISmSloxIj/aSuv4h5VZcl4gyojAbcNv6u/vYiuzmwNSkIKywLgcWaWLP6CnIRBws9CJ0kgCbkwFMmXFgcRCBd55HmD/ILgDnIPLe75Ra4qd5wH2D4I7wDl4eO8ncs1oFSDYVDlDQUE8JgBAURBxPCkeRiyVHLFiXJymaVxMh3HbtDBK8mezGRFpSkT0C5maI2okicS69/vQVMdWUyzZoRA3/K/Dq1yKMYp4BR8St55BkUB/2QfijRBVyFsU+DnFhPUzB55pzqHNebf3jU+3pwE146U5j/6Be7vf+HS8jagZXRBjLeUviSgmAIAj8UiopFg0FsuKqiCRoVnzAfNyh4QknRYyjDASkkkkVBs0rE3HA1Vmd7mtZtTt+vdY05Dc2euazqZjL61o/a3VuCQZWoTcOHNBT2as/M1i4QP+DcDNfHImkBUA/lnOkJvNffE/uGzf0KgZQ80hudncl/+Dy/YOi1rRKjnMYD9fLkhAYkIAEjGSwgh2kpPFRLKaFmt7SxY7DiLtlDFDUjgTjxrrfem9XQfbzSj2wzi8bfR2b0DvmUbkkFwn9o9aGqzd/eHUlejxGbhR/Fw+kX8Lsp4EKEBMI3AZpsBRTgXeaR5Am83K9oful68fqCl+nvNgs3Ly81A/vf0g1xRdYLAvtfxEEiQAQEY0DBMKiIZZgpSEnGwzkgq5aUZmmpGXRqMiKwLCqxOPlZm6wel3a7Lh/6kkan9X1+B8Pyn5IX4pwz9x6bq3bsTCqAhDTl/EjRY2Txs3858iUYHayHCPsOsaEACeeR6gm3Nf3Tfxw9sbasbM8wDdbPar+yZ+eHtDzeiCFWN8NZ4EJwBAjIBQiibFUHEYZjON8Uwdv/TCUvkbHfZE5hFJKBU4g/3H1saUnTeOLzu926Ae62f6M4VxX0s2ZW/ccykRAouxpF57rUs2/9kOyXS2lvBIX/PI7eLaICHKMMAFxosIt73u+6Te+wRPZ2dTAACAZhAAAAAAAMgtAAAiAAAAIuxfLyeLgoWMlYeHgIl/kYuFi4uLlouKh46FioaCHh0gHx0eHSIhnpkgJCL+ec6jzTnjfeNljje6mvHznCf+gTW8By/DF7VmdAkS1tmKnckYEwCgHKtLcdgobSgWaRBGIxnf6NScZMpGdtqknGhGI0Ir4n5khFFXGskNtWVt2Cj8l0qo/wxgaiPZ3l726rpX1O3sp7ux1F4Txwf8sojrypXJnUEaAjfnCGc8ILrhHMAdQUKm0xQR3mnOKf9Ay78bi+kdllwzfppz/D8w82fHarZ3qHQ1RdfAYDznEzMJYwIAFCdZBgc4uSIIkyRZHhqSNMmQTmHOejETI9FGitQ3HGSFtpImX+mQSz3nkL15YWINmeZEAGEYPYPMXGYnbjbAjnaquUiqTAAAcFAV9E3DEuwIUO6fE36sLP6pDpTNBYD5s5MvezwFu6gphq5t5S//cO9KXO39FiLXjG6QgKyCYpUapoIUiQgBCARFDfdIxAE6TNNlpkzFFDNCoimLKSgqMDjBPHQu/RNv/a++2G7vNtGrhWDjp1EZQ6L6ZnZ13XDn6bD86rhmYATWDACGSHC0AmDNw6oUMpByRJYLSQX+ec4R/8A+PgcfZnpimdSKn+gcuTlneHZ82OWJZawZXaCF4Q/xTwCA5kBGRAPCwnjVkHZc0jQjXchoNmLKxSGpeRQd1RPrDLHr+LpxUtZrSHX5Ja39pjWj29pbqcZMdaeWMnUy9X5Hjyew3+HmDabjhNh85tQVJpK8cDFbOfFKzq2IIgRCOAp5Kd7fIZ55HlD+pW/2gw9PT6gpZp4H1H/p437w4Zlvbq3oAonJqkyU/RMAIBIJmpAdrQOCsEkRMhOzJNJIk4xkwLHb6UKbkWp45/V62TDNemHX4Z+cOiKHyojUkKLVG6pvH18b2u+Io04kFFiDLROgKiOgfwSlrjxCGM1O26PR20D/WLM2xu3Ku11utqhGGNIE22BzOebm5tkIvmnOk//Ane03+Xc73aRqrZhpHuD/ESs7u5J/t92kumZ0JQTW2euCLNEJAFAkFEGNICiXUkeDEJ0gFjWVq02T6aUWCiLaOt+mjba2yx2E3+TeWN68pt/rr9xGrZfk/1XPO+3OGvenipuag6gAAMJrmx+ggr51AQHiUF2SAQE+GPmim/j6iP0A3mnOcpvNfbnfWJ19I9e12HnOKv+yX+y7ZnXGG2qKLhjG5OdZKKQAB4DyxOOBFdatxULXakmkaRLSSnInl524OGzfVSQZB+ms3ZvH9yMfUIBRyWwux7C74/Cq2Tp8fiXHTLbzp7YJKGXwTDFp5VlhJwdsiAGQsd0EYP3wCzB8rW5bQEpU3qMAXlke5P4Rbbsf4oenr2q5pphpHiD+o7b7Tvz0dqvVaopOUb6o6ARBkSgCQFNJY2Heii47JxBppM1LJk0xWRyNXCxqoqDARM0S3ZnNeZhGApR41Jy0SId9ZlwlDyay+V/dkQQ4KVlWPh8gIy0SX4Td+QPVwMjcfEUCl7TC39h0YQHeWc6jf+AZ9h0fzviiqyl+mnPoH9jz/ZbypzPe6GpGFwysq9fEcCJKAIB4JAzCIBIiyYopmuQF09NLL5nnJbWgzejiiDCMirHb0bNIArX8OdBrt01t03K61f9eX3QgtANfT5ynb9tYHX7kzHWCwwREKQsrdgJ9n9BOnUTBwKispKAI3CQfUnJZOT6atsFf9u268fD0Ez5qiqVpC25W7u3Z8fL0EypqRqdt9UgGRDgCAEIs0jDMxkAHkpEkcjIzc0hy80X+JCMnkZcmWVlhHkWjPau2/8fQf+3LjJQiH44ts7LN71/FBsF9/J86lcf0ht7EfbA2DD84BxHQeaQEJESoBQjheMPCLgCeeR5Em5UznIf6y/Y2eHU1Zp4Hic3m5Osm/2bHr8GtKTpNxmZ0GekAgAhpNmY5A2RnBojFzY3IjnJy8udlk0WxWN40ptF5zKjDYPvJnT/tmL4jJek+dD456J9erOdQ+yvb+hrU17qvxzE8/a7DsfMaX4PbmARK1uhPxk2nFjUJPnhlMIuwk1ZuvTuivol4BvgAPkneAPzA9v/x6NnCUN2GyfIG4Bds/x+v7kkM1q3oSotluKwVI0mRBgCAhHBBsv2NgGjgHJ4ey5QTo8aw2QE0O1iYM3UaGoPoKKKv7MzfdB5fxrsyrbo1GlwnV1FISwr8+6+6AuQqvAe5Okgg14aTXnyWyPLZRf7+IhDzwMpPEjYHcCTBLofqKGWrJn45HiI3M+vi/bH2eYhaP8XM8SCxmZmX74fV8/6PVq/RaSu0YhMJEmICAGQMDccvbB+dJ4uJRGYse4n5gEvRfPlykuaTQNtIxXzenmWFfSsXPfL60sYGKTyzuNMeboypne91bgqwWiBGK/xZ7hnRwi+isHlbo08giFYncOKDNQFuPjvCQgZ+WR5Q/zC374PFc/8QlfUWL8sD6h/a9n6weu8ftHqNTtsslxmRIBEmAMAsOjh+tpguI42maWbzD5ibmTYbObPIkE0HjpBGE2kSqfaX69ydy/Zmo+8EYzST0THz9f34B3S+jH7HZuDrI0KIRAVti0htNe5QkfviW8gXOGdpDPhlgApu5m+mvRoy3lsBnlkehv4I5xY+eDh+TGp9xc3yEPgjnBfwweX4M6l1G12TA+yl/HSiBAAIwlwQSwpRLhqA40mNs2RSoxk5wSwZG+VlNElaTaE2zUiSrLtMiWm2nbHKrHGOWghCNra6YbtP6vZ2SVmfXyQmo65ukBDqbkW1sH5Tlq/BhIwxCnVJVMtlILeLu00bM/NOAH45HoKbTbv6H/Ra/LGWa8ZL8hDYLMJ+iR86xZ+tXK/RNWAYfp7KiRIAQE2lzS0xKXQ0ih3NSEyIjKRJRjLPykmH0MFM7A25Rpw4hV0nKxPc47sOrmG0qWIuFKWRzid1rnfDk6Pd7TD7cKQKiPxWsLNiVOPZalu4Kj21w0V+QGUZzEpETf433FBaNAAees7jPzzj++DhDj+hrtO0bsVQdB5vFu7N++LhWf7CrtNpvYpOo7xSSVJMCQCAZDBfTrokzW0ayXTOQDIyMyTZrKRpRm7+7nsYRs0uSUJTzEXLJIvuotf2z+R2zKRWaNV95dT53yv/aNXTZTJikogoQyjl8Y8BElIXGI7ZERVCtEMw6Wkwyieuh4UBV71IIUWUy4pMpzbeSc7hzWZe7Q8eZvpxStQ6K36WM/QfWNfOjoftRw01RRcM7C9algkDJABAhEjMqFIdjSRKE5pFGhMS45N5RF4zk4XMfNm0Uk2aRur6TXh+E3tO9jYURvJaOvjjdSqCcxgp1emZCuIMaS2/qF5LyFBf6SQK+ey9kWgtp2+Ie5qvL45YgQq6BOzf4IAAXknegPiXPj47Vnf6WhusS8XL8nD0j+ibe8flLm9rfV0qOm1MziQzEwIDSgCAjGjHpZKskJNp6aUTOTmZ2cmTGLByk6Qxi4W8VCKamPU53fhUc28I1kwPwZnaVE13jxuHvWn011WaJcaQ+x8QL7GvC0SiAR3PAKC5KExB/13EYXcTAiBZAxYsCmoF/lkOiX9gv3p2LIZvCLkujZ/mgPgHztVzYzF9Q0jrQdFlAOtylYflJIhEAIAg4RCC4iixWMz5MDo9PjemJgIsndG8NJU2h0L8QrB0/hR1krJXuGJuxBhfp/eVWGGD1HFzrXH3NNxTYTTe/ooSA2BlcDwz/Q6AQ0AAzwMRA8igFsBzyCG5qdwcHloO1b/04Tx42fsbKrVWHC0Hyl/mcB68zP0TQqsHo9N2rmZsJEoAgESXzJOMpk2SJvkz2sxmZCNvClFN8zd/Ojau0YpUQjSP7TF71913y+HGdeXndG4rsaTTmz/lOTpAbBl15lWenS8jjimxX9/NyFW2GeIhg/4jcp1b2MCtjH5UuIZ6q9p4IQz2VEubCl5Z3gj6B9bVvpN709NaqxUvzRuizVlX6yYvZntbazWjC1iG7EXIDE+JkJQkBQFhgeJGMUWbk1UZqWh20RLGDEzDDtV4yNSftbvX/0oh/JGuarLbwG9q2oBhw9/E9G6D87/sALBmXDfASH60FJfl3CBDPhJIwEiVJBULLLV//PwZBi6KARd+WR7iNmdu7geL4Q+tpphZHuQ2K2vcX6xm+6Kr1+i0/TI74khgVmnObMBU2qRJxuKlBszItLCkkVZe82UjL1mSJmnSJJLS/Q9PP88j1tDL93o3F+5X3rpJboXl87IXzw2Z7KvqWuNFulyfDaDQoPo+mOn6B9bYCuwCRMi7wr4Asrf4c1srPnagQgKeWc4Tf1lXz4PVGT8ki7oVM815crOyLp8XlzP+kNataBVgWX/FjkgEEgAgSTTFy+XmCCFhMrGWaZduNivDOHbbPE3JkmiahlSLjidzbUf/cyWtNdMb896N7sgK/8Pp3H21n0oDGzOfEG85HlcZWU8JUBNX2zR3qjWVjHGOSIhuuO/crBVyALZZHsS/BaDL/0XnPf5D/RQ7zQP4twB8+X+o3uM/Q72KPjK0CGsyGAqdfQIABAAASUE3rJISdTzildAluDkhVNeNIBaotMrUDDLUArswXnVUIpq47ZphvWZCnC+fyVWUoMSPbqpGCYqOzL3aqXYbh5UyEkSrhxHs9vwVwQg+xwBNAgAc8+/1z+8x/15+eeVnQAIAsKx4YS4a1RllagtNFkQs8e9l9nOJf68ffuUzw8ECB/FiCEY84igvgiAQBDTv763y27y/d4qvMoKDJcfzDeUSJIpN4438jdINjBoALPHv9cx3iX+vZ77yMRxsaimHiUz6JjmShlmUHnlCBTzt2z2fqP3+x6Ma6WBQYqSZEEaZVay0Qm1L1jlFPPOHMrdP/Xs3+8pPOxzEpYUtOIx8P4KlqZTi3hABLPPP9/hZ5p/v0ZU3AA4Sy5KJGd973n3KLYbVDQA89S9m9kb1L/bkVUiQwYhbLY0nxV1WK1MnJLKPL27qp48ALPnv9Ze75L+Xz6+8ANiglWwkVyjfr1DIjlc7bseBYAgA2jkehJtJv5Eh9IlQM36SB+CPfiND6JOgpugDrXbOAREcsuTGX2YEAACBVCfF49HCNGxpTa2qqcSgqaUl1oKKY0lhRDnLsigVaSPVkDSMdEvGpbYR/J3/H3X0Pg0rTIl9uTwyyh7lyiFgTFNhLUI1bUNSANRRUon+2U2mJ5VkIq2WMtoVtVrfgz9u5cb4TN2FDU5FMJ6dzI6IGIFprQB2OR4EP/pvCIXlIfhn1tWKm+Q8/tZ/yyj0VxOZ1JrRR0ZoEZnawy40+4dgBAAAVVrlEqXeXE3MaKpOIu7kaoWxchhNJEWzGJlpfjMS6bxJWk2agpPgnGOfvZLx7TanukLMjik6SSMsI3yeVUVuzTxnz/g3JjXIRcWn78a1bYtG4aZu8ICY2WMMMCYHw3tN1CovT+w+iLW6LAA87++19vvEv9far1ImcFAFyamAaJS/kSCmbrZjOPyIABTz7+VvbjH/nv/2VUrC4G5UUnHU8nJTcMJ1Oqa87eRd/DWKACzz7/HRz2b+1c/9U8RwMJlOrNVKDjdvykhfj59N2Ts+IQJPZ2dTAADA4BAAAAAAAMgtAAAjAAAApXMkZx+UjomTk5KKgn+Ef4qFf4WNio2EhoWKfYWBfYGKiYKF2lkexJtJQGGOH+urAzFYM36aB/GP8M3wV5ZXJ2KwZnQt5DCUs3+WAAIQixeUHREoaIqGhEFMWvJbAz2YNNmSYTaxNWllGjsMWUUZHVNf6rgtk4bmreyC7yv3q2k0KOQ7LvFrRioHVpiaJpleho3uPCRl3ZRW4GB8P83W11Ebb0JvJRDmNw2nUuUmrQxc+wI167gFP/6ZzoHNwr19H7z8+EOtKX6mc2izcF88Dx6+flBrilZsUlY6+5EAAhBjFrJ1XBo37JIxvXiA6U43M42lmyPJWJJGNENbkaRiaRxuCVfGE2cR/e16Da2SWUrK+kGEGjwOKFskXD2pDRyJuoGgSO2jwClziUesGF8Z3wzrj2x2dziryi/GvY4qSCSpBi0KagS+WR4kN2ffPDcW2xetZtwsD5KbzdncNxan/aGvGZ3G2S8/AQBi1rHBdB/5I3OpJCszaf7MgUSbzYymAzZz1LkLY1ISOaXsyXj2Rnv1c3r1uFI0lHM2pzXR4nYXrWeH45sv9vLtWhvEO0qzQeS3lw+U1aY+09AjfTAkd1wcEy54tVBZlxFFix+NAL5ZHiD+42z3nXI58Unq1Yyb5QHiH7G29yFdTnyS+rWi0/CScflEEwAgGltyO64Z2SZJZDNCkubLnzY7nRP5mpu57TBUhqBDh7Yt8lqlP5vuXU0de7es8XH+7Fk9KI7sJtxw33a/YrPHxrErgkgFcwUf0nhEmnDS6tBLdzKjP3ifKALHGcUkGAGVkPnJr91+Yis/AH5Z3gj4j3bx7OjNsm3Trza8LG9I/iPa9t5pvZ3epLuaotNwWfI/JQBA6HgyT5KE+bKWWjA/laWm7OJTEdmx7dBxC9ZjNER8Z2O7pOiTPXVATKsEz5rbV2SB1jrxXVqiPumU+oYSrThjNwHBRfMuyVDjzdZUhwU33r2f+uUixJpNMqYoccUVt8fKWLbf7Tvo9WitCF5Z3gj5j6jxPujtcJPWWqGyvBHyP2pzH/S2pyS1ZnCaslKFwT8mAEBGhkbSNCOyzZdms/LyBqBppJEzNTtAkm6fkqHj9sjQ+DNsEHntytlvuub6rxFFhIIm5Aw/cn2E0CD0v4bsLcXldPJBAwBcRwAAq7jBTIyrK1eteCVK07PPlk4oZeSmd3I5hrWN7rcXppoKvlkeJDdnXdw3Fs/5QzqoGUPNebQ55+K+sbjHT2jpqKbomgFhyLgsauJHQAQAiLcELYREUTyMKdSsybYtyaLOGpbkLIqhGYpOmiR5VrnRjs3pHMFt42S9JcdA1DRPnsA94ef7Y9KTGqgOy+FEblMA5Qg6zfBnAKMi5OEc+W4FrBsKrAJRDtJX/ZsDvlke4H7zbv8Xi93+odanGFrOEr95Lr4Xi93+hVDrU3QtQIjPpSgeGAAQAADKrTqMtNRJYSQScZAUTcT48U4sWjI9k6bM71/3u1/X3DNt2c9dISVm+YZ1hfqo4/NKvF5XQzsDGvIkhet04ypUEhiKFBjZDwPGQoiw5R4dA4BuWoCbBX5Jzll/WJv/ozyk9B+1pnhJzll/hH0Lf8rVFIjcaBUJxhRlwvjNDBAASACApFgJzUmBLcVjAVl8YL24Pzgek4zpkEijmJt2flVAKhI5NiZs1dOrYQX3GQOyAF9vlosLHMoT7Johf56ijlKPsqEQ3TAAgHZaCBn4g1X4ArhZAQI+erbhZuG5fF+8zPEXlq6m2HkO0W/2y+/Fyxz/0OpWdIkE1uW1OgFBApQAADtBEFUQOiyMFEXjpDQyZ00ypqaVFbnSNk1Ftf5b24Z9IiyN/9z2uu59ZFvue5F3L+rhjNHhkcfhYZWnAjnkc4kAd0psBrwNA2N7A7McNBJWG0xhwbKAigG+ec5ym8262m9cbj+oNcVNc5bbbOa1dePynH9oNUYrWqr8JyIiAgAMyRZpzJkWM8w5uQMss0ymkJGV2Yx8oUic5oKi0BgvDH+jEHoPEeRUHCk7v2321B/tRCp51MPUvLWBsns3+u+5w8zlNQy8tj+MWYTvN4wGNYJgTZWAOpAAfonO2X9Zw7wJn8r8YlhNMRRt8385w7wJn8r8Ccs0VFN0CcMwNC8zYvKUAABRQiuMJGE7iDsqOk5PjmR6tnR0yTI6ZR6HYdSOYbestpeSZFBkWr3sTMmnO0r9PLvdXUzSTaVlF7PA9qaDs9rxfQy1IjJnOE2qG0QL+SFMzyIgrouKFRmoJGAscBEBvlkeAn+F5wK+WNztz6quXsXN8hD6KzwX8MXiHn9WdfUpWqVHwvCKZ4IjISEBAOLNpQoVaS6hrHhgk26mLeNiLae0w5ypw1A9JC0N/8puav9uaa3M6zGMjI4etUPnBC6mHBAHR9vk3hGEhArpnhjiapG4USOjAP7dWDmFDuAZsRYSUBmYAH5JHuT/sDb3i8t9/qPVVTGTPMBtVs7mfnC59x+6eo1OwyteUggCBIgAABnEsANks5UK6cQkBkzkbzZIJs8ZlzlNh1k1TUxxGaFfjqVD/fWan4abCZljw2v7cHCzrITgVHerr78JKQFjl5U9FZgCQmmEt7lk5RUL3GXCmgSorCyeWc6j35zL5yM/3Pcf4vqMneUs2Cycy/cjPzzPG+obuqDVZxiWS7VESoAIAIBVSEg03hJPJJwMMY+xzMzFy2Q0ksWNvJilw9xKm+aZRAv7v5ZbDz+qbjNGqeszO69D2Ph9fmsv2WI1+TwwjUkWSrSDO+AY8B4R+KoLfqMNKotEoUPT/1gA3nkeAJuFld0v3YdyvvZ19Ro7zwPoLyudBx/a/NrX19notEl2VVIiwgQACOl4iTRpyGbkyci/tCQRZh1ITJgwfqxbxw+m4zNEIuaRpNvOjyseS2jmXsy2oRl7PZE2O6rdZfb6Yksxa/7pc7giOWk40M9xys6dgx4lpJCssiC1jWKJxAr2bg717snU978AnnkeRv7Lvlk7Hoa3ta6mmHkeRmwW1mZ/8WHOH2t9vUarWEhmmdcTo4QJAOAgWlCUS2NR552mQTwspsexw8Kw0IXBvMyQec6aMavMRqtxPnPqFrdJ/YaWxE5infxakbVtClCHl1Dnv9YENrwyjJoE5s3kDzbBwusoVbIkMDcpYEAhDfKsdhzp0QoA/knO481mju+Dhxa+oelqxk9yHv9lju+DlxG+oelqRadtXg7xJwCANAZWmkRm5ETSDmSgkZGt7DDDZCLSxdmMENnQ4jn/P/0ZJ757V3/1rFphJbcPQjlgTWseVy6Qm+eZvyn3d/BdG7Fx+xNlkPaZZN88F38xy9RSQDqdRShq5CMqMfCbDrTU9L/cmcwA/nkeoJuF/dr/guYHrWYMPefZb+5r/wOaP3Q1g9M6+5F+AgDMRJrNmzpMWhVpXl4jkjSrOc2M/JGTmSubimhDBL1yJzF/xpd9zxM95HzWu2lVm8c0Qz+eCrt7G7sKU+O7AzEIxzhNtiYOxibpYv0X8e/UDCo3eUZ77xwc2M0M2xoYpSoKXikeJH/pvECIxfQPrR6Kl+IB4pfOC4RYTH9o9VR0Wl+upk8EAJgWcpLJzGPalDmR15ycJDMjBkza7GBeNlOSzYvIENWkVdvujzSmW9Ot1PJH5llqeGem6dLmwMo+4/dW56xSW2MtAAhlSNX1xChmEMMrkbz2WUQdD0FCyB85yoAagkIBnQGeSR4gN5Nwbuknrt2IWk+Km+U8sZmEa0s/cbX9Q6tno2tgh+H/8oAAAI5HJYIwdJBQcgE6zBw/aGJE2rxsRmMexko6atXIcluk8hgtsZRRPtGKo/YDqX4x1JTrZTp3EF7/aM82KDce+YWrlZBRIMU5xVMi8UbCprgd72BQwwQ7efBbwQELvlnOcZuhZ0uItXsTtWbsLGfJzdB9ixBXz+3o6sHoNHyu/pEAANMRg2PzyiaprJw8qbw0IzcZMCvNHDCSxSnS6kxD2LieSPXl9OumTDPb77rzlRs1l+2X1tR1uqaRYsn03V8ERUnqoOIgXMoNcn3uH7sa00CZGiR5eDUEXqX8uhSEgXszYKygZeEJ3lm2+U2rPUNI96uNwqKm2Fm2+Z8t+yHdr47ioVEPik4h+dklDgAAQMhtI4k2f45lZeYMnImQzdTM4QD9zcX0f1uhH9HojVPGTDkfqGfn49ubO+GSkUa5ywrxvs5fV9KWfsEUXKnAD6QPni8oBhVCwICnHINtGditYmGtokb+Wc5zv4TzAn5YDf9CpdWKoeYc+Uu4LuCH1fAvVLpawWkuxB4xBGOAAADR7GBSISKbly/NGU5h/Fw1JBkxYGY6V4xDNemQGLWq0w3r/qNjo1FaU1ctVmYUW55IKdId7YgC3WFfGCsM9M8i5fZQDP0jJayRxHX/xxKHD7LoBLd40CkBrgILvknOk5tZWAk/4sPxExq1YSV5UP0lLAs/8sv2H2pGqwyYNMIll5RwhEAiAECV2QhjhTXNrLdkN2Rty5J5NS8cOg0MJGIkkWoXFFxw7jYswchaAdkdsVr5i1PN5xdTawiw68hnjO0e8ZDKrf8aFq5UTQrcqG7ClIQ1FQdRYqvCelEAnlnOKZuZe/v+WLX2R9pqxcxyTtnM3Nv3x6qV/6S1puiagGVYSvWYIQQCIgBICgM7CMAKsaJkSvOny+Q2ImI0ogtkSGS3DHvV0Sthva/wh1FqlSH+NagVeGWQYz5k8jOve9yO46afU6k/IBTfGci5G6FG4KgEJAwokUM70QbeWc6CzcTavj/xozuQqqtXsbOchZuJtX1+4odT/lOt9Rqdthm7IAqyiEgAgJDTDHnZjEgiaSR5uVPQwWgyMQZOOk40LyNN0tCmaVtvynjMsrdhrPBmWrkH1j3n9PM6BdLICvVp4QTDMTp1awkZWWkDUMwBMABeKB4Aw+JaWU7ElgJemg7ZZuYb7xe/zPQXflLq161Ymg7ZZuEb7xe/jPQvQsVijU6bXGbPiAiJABCRk5vVZLycjMxoB0wyIlMkNdBkns3JiMx8kSSJiFRKTOnBLa+MeCs1jD9KGndfep36eJ06BzGp6Q77UnVljD/+29yMJzoqKHKEXxKjSIqY/IKgQLEqIlgSpoYcggB+ad4QbCZm/n949Z1onXb1M16aNwSbiZn/H16e5b9tWutTdAHDxuRMWEYlJQIAgIiiDhTYikSCUHGpHM1XGWmSP6M5GbmRtk0qG6mq7de11+v9NiJk5hij7FZTOTytQ6PWW0IuJd8U9POlm8xrUYRtQ0kSmCKtPdwjwIDuJTr/BCnXmMSNUkHABd5pztLNJOxb+OHVHUjq1Wf8PGfoZmFu/hcv23/URqcp59k4ESUAQEZ0QUa+KPlyk6UWMV1TDjh1HhmLcyZmTutiM5KxJpIL7Y36iexxXI2VFLseu1N/fMQmmX6msYQwNJKv5Xi78daO6zjKJGPDhhNKQSMXC2SRsxJ0hIKBoHDt4z1+WR7ObxbhM/KH1fHfPjXFy/Jw/rfwHunH2k325Uan9VUubGIMAyQAQDCWzYxZviRvFnmLMtsmkU3yD9hsZORlm3YgESFN5qHUY5uzXtymH6Pxp+iVryI1RCD9RXTqGR8lm0sLrIAmo6hBYg3gOXwmSsDtxiNQeEnwSlYAfsAvwoW3bgcAT2dnUwAAwGARAAAAAADILQAAJAAAAIDQJosggoGCeoyEhIiPiIKIhoKGgHt6gXiChoKCf3d+gnqCgX7+Sc4Rv4VnoA+PfjFU1BQ/yTliswjPQD8uX/9DRRMXYITUcplGQZAAAIEIokQcrxKEsYgjTZqTpG1OMj6j+XPdvGJNehq2B6gwVvQ82V5W32Vzw5rukJ2RQc5MG7vdazjZsdfpX493GzRyw74a4peG1hUrF4P9GPy9oA+fCYDBsUAEnlkegJtFOK/gh9Xti1obZpYH4G/m1f/icsp/UrVmdBrySj4xRAJEAICMaLNtU4MxlpPmkzQ3kpy8bLR5A5XbxYkOQ2k0twJiH6WkFIsNkIldeKdsDu29Cc38Mim5RChHGrVk8krqpnjzm4pSS4jlqWhhcUSGn22smQhrCtjF+WYA/mnOkn+E9wa+jMvwFyq5pthpznJ/2Df/y3gY/oUl1xSdFpZlbGKEgkgEABDNzWmGduLWyk3TAfKamWRmk0jTNr9pGqZZMYwtNQMN5FhwF82eb1l3FR4x43aaFZaX5+T61HX4u8IIZa7IbuKK5U6qCFQ0adsCe6o8ON4SwMj0hm42Ad55HgC/2Tffg5fiH/r6DJ3nAbBZ2Dfvg5fW/kjvmtFpg3M2JghCQRAAABIyNTPG0snHIsTkGWk2miY5zTGQ5mQMJNVWZEMzGnReN2uXzGnQKjK+GrT16ghcDwis86fIbqySItGIYZ5eUlKQk2Cg3WtbEVrgMwNwv1QB/knOkZtZeC7hj95J39B2/Q87yXnul3Bd4o/eKf9CRrdeo9M6e12IIAhjAgAkwySfzOhwLCQyMgYYIIkYnyeJkJNPNvLSQFttym66SrKpUaa/MnE15Pwfqewa76t/xAaJ/P+uOMVNvTWiI0TQMIgQqYmwgqt5kgc0BHajCyvPUOQqWyQRBybbBiWvlQD+Wc4Rm1m4X8Afvdn+wraSXD/jZzlLbBbhfgFfdIafsFXk+opOG6vmONKYAABCbhONzIy85mUTab40J0QrJso3QB4NpSIbJTuUMXftzVnWUZ3Oha9yJhNSfW2orfFa5JiXdvP1Drd0hmGQmhUkyd8A6oW1KYzOqNBmBEwMmOj8yakmGgNeWR4kfrMu7her+/xzeKt1Gy/NA2gzcy7uD6v7/HN4a/UaXUAwZFcSWSSKCQAQTco1CcLAYZiLiqltJOlSyTCRRDZiGmWBYR7RttQ+3fE4JailbJnPHo1QwvhOtNKz1NONQmgKkFAftQpq7D2wVayCv7oMgH03Qo5uEHEHuqj81iX5cVs+SR5UNgvr4nlxOeePUa0YSR5SfzMvng8Pz/sP6iu6ILUZ2TmMJZkREwAgjMiJKGHMUSdb7Oi4GEbkJHmSHJlpkjm3nRYyNMggIXbDWMd53LfLcsKG+S/Rqe7byli/+r1MEvWJ5FqkICyPugKV9iC4QcIJzQPAfUVQwQEARMaNhQsFHcBskrkAvnnOwz+ci/aSP537h6SorsbNcx78Zt+el/hpv/9RNKG6KjoN2VKrpzgBADSaGQNE0siXdnEsRO7URdNNki7MMicfcPG00DGdYj9Ea7O4nO71Xem56U2F71/wS9sYsnwfrvpl3SXsAJO4ISwcoUE9eKHRqdL+gIBqrQH9vUig6naERF0+ri7G/a9RLg+5vgSeKR5ObBZhH+CPvs9NCzXFTPFw4o+wD/BH7z3/W6gpOoXkGT8SoAkAkBhlZSSyMqSZ2fz5M7JNspovI1PmAFOzk/eTd+9HdY17Z6ajW+HKhsOxfWj+Z+0+vjh9hRXr17TqiOIG/aJxdXmJPWgBUZaBBbBB0Pyiowz8PUIifbOteQbI8T9in6kA3knOoj+c8XuJv5zxFypqxs5yhtgsnOH9iL+Z4ycscb1Gp/XlCiMwCSkBAKLpMq1EoiFZJnM6cnIiYtalIn+adICInCaJtkpjcjJT3ljqlOebTH502ipqdb8+rHCmNeUT3BG23xsdimGSSEANIXyYBbmuJW8fAEAnARVYLvjtx17lDl5JHlQ3q7AyfIkPtz+oq3GTnOM3Ky37X+LDM/2ERp2NTuulKkyhRGBGSgCAkGw/ZiE6W9RsYtlpNslGThJNksw0zcvIHR8NkSaREGGCp3SdChll2q1z4kSMJKsDctjg2q4qbSjX+4dI4siASq7OcIwQjm5XaE9DcCoAAHJowAJVBAtOtet7fQB+Oc7zm00b/kdzOX6grsZLcp7bnDn+Ny63L9SKLpDJllVcYkRBIkwAACkMYooYEgXJRZ1lhnRsFAZHIWOJpSaf0HHpQuRIqyI2NpsnR8OLxjZFj2wH9Oa32im91trQPINQL1LGmHybtzKoZ4DTv7Ak9/NRNgY3+hOGANTp4l6Qoa0VjzSSAH5ZzqL/OBf7Tv1UvFFripflLPpHnIuz031qnmg1o9Mmq0M8RSIAgJDmJBmpbMaAoflomj8zQ2Xm5EsXLB6wkUwTTUsSPmsNp/vXse/VdNzTFPcu42qAjFVLvrTjP4vdIxN2buKLfeloAf6h/A9uDtZybWIpcCzI3hwJ7BIjrCBuTgDeeR7A/8DavDv1l+OJXDN+nvP0H9g390795W5vkrWm6HRrAHIpukGYAE4AAJJBIoQI2CjpLMmR0UxJkiST0g7HJePyMtJUNC9f+8XxxwViulYM8uuTWSa1txrWOX3OJzoxp8Zyln3zga/tw+MqiJisAZoWWAWxMQCgRwHU4Ca44axo5HmOAH5ZznOblTk8j9Z9mOUf6VxTzDTnyH9Zw77TfRje6GuKLmBZv+gJQggABAEAANexMAwDKHSxYrnpiIxGO2BzTB9fdHI6brKkaKRUC9knN8LrF1P5/Fq5NfGs224YHyVYhjBp4gayh8PH4TaUOlaJQst9eIZdsJQA/gGACTJuuLEjXpke4H6zxu/FpzP/JEi7ehUv03nyD2v8Hnw67UeCtNYUvUiLdfmUSgAAIQEAEBUkEkV2EE8K1SQzyUgjZ4CQZsg2Ly+XBhESjbgRMtlzW+z1sloda53Hhkd67B+179r3chdLnDivfYQDGvlb7n7iMSK53AS+BPw1UCkA/nkOiL/sw33Tf5jtB7WmOHq2wR/OcD/0H2b7CZHmuhWd1s/KyAIAKAAAJEaD4xqR7XQaMpeS2VSTyMwmBsjIZtPJkwYRmkRI0hxio7ZO9Hn3Pcx4TZH61B+9kjx7KaPMTq3TuUNHgqejk4VT7iKLoGBKQr4TWBLREgDeWc5Yf+jj/eKy57/wSetT/Cxn1M1KH/cHl33+IqTWregDrACss0WzSwAAJQBApaA0QERwEOAgKgdhiMjiQUiMdOCkIqEhjajXF7mheZ4k99a1dZu3KbVf985nmlICSTEq4deS29mRW6wGOWYHFC+DK+MAFhPEG309AD47JB+oxY2+ac7xm83K3of4mz2+SOtq3DznlM1mpecm/maPH7SaotN69iUTJACQCAAgIjJFpSHNtExmmuTPJsJs4DbNTZPJKyIiIUJjlcbpeKovYi++rdcK62vYm9nNEu+vsY1VKlOK2w0Zbpgg4p+B+h6sKAc8id8CAvhRLQDeac6Q/3K2365Z3W6oGTvPGfIf2LffjsvtCzVFp1sLECo5e0FAAIkAAE42hNCBDKGlRJshTVPZpaYuOD7rbNasmuKAzUil7/vldmubhedr5FF/3++P9XXzFWJjkB+tEgJSoknB2ST1L/Q/lrarShoWn2hf5Jy0WY4rc2YABZdjTPoA/nkOwObsm/ume9npHZZcM4aiA/Av97jv9C+nvcPOqbGm6LTJq8QmIpAAAEH+jJbczKnNSDI61VJdtJBY9pRJNk1ZdiShaUSbJmlz2f6mzP6IZ/OSmYXb/KX5i2Ox+rE0H+PWrnyWRgCRpPxnLD1Dyz5j+UR0TFH5hSsODCAhEdlOCT6UOgC+WR4gN2du3huX7Q11Lm6WB8h/YG7uHZeTvlAzukBgE2KrGSMCiAkAEAniQVgYDYIqLLZwkka2EZnZyhdpXmPAcbJpqUiSMN43WrHyvtlPCivimjJbRVIzWaVy7Ep1ytXpHCQ146nGu6KBjtaKMCKeSCQ+yYaJiwUiFib/fGY2hVEV3mnOon/gbL6b/sPTF2qKneYs8Q+c8bnpPzy9kWtGp3WhmboZAMQEAEjItkmu/DnJpMy2STZtujgjm2QHzE2SZDCZrEkQkjQazScEGa3+6I0bQx6tdIe7/+81lGRVY2iP3AFIE8aXGe6NCjpIK7p8TvPJAgBxQLy4eQi4ln63eT8xD16aVtFm843fwWL7hk+uGUvVKrHZ/MO3Y7G9Q6XWFK0yILhtAjj7iIBAAgAELfHA2FYYKTEqAofRUtsBIQiELmReSBdN46I7oY6fg2Vy6PqbJuE4VsOXdaxfkurpSVVjp/SmDvn+nyHRdOmXtmEeLzrxycExuulm81hERrDCoAm+ec4Tmwv7SDcuxxtqxU50Dm0unCPudA+3L9QUndbZ8xICAgECIgQgSUMacrSRDChJR9lU5li2SfNNGcHSOXnVSkNTrJ427Rsmr2scJyVpu1XDxy+GKcbtVD7vsqUd6bC5IwIBPqceEVEEJUxRgMNXAQsC6xOhDR56Dom/wnvgh+7h9hMWNcXQc0hutvAecMfl9hMqaU3RBSS7/BkyAAAgAgAkhYkAhQ4a5FLlcyGJNm02I5E3tfmkO5wgnUgkooz/ZglEuNNj4+nj7HeOnYNWWY8DmUBpXA+UG2tqtP5PhzyR8JMEeVHMmIA78m5CsAWoVzvoA15JHuQ2mzV+L93qGX6IuV7jJXmA/AfW+Nz0q2f4Et+aotOdAM6WURIRSACAgJqIQ4GF5Yhm5himjbwkI/IkcuY5JW/AJLKDOv/VYFpXbO1u3Nng3s2r90fp9uqn077zDT2ehtdWo1zOn+yustaDGxB9/rWISSc3gBc3gISClut/Hhg+irbx5pyLf0dve4ZFzViatujm7Bf/jt7xDhU1RafbHAA5u4QSRABAAgAQKcqCMAQhhKPykSTZjGjzR0Jo2kbEQIeZmc2a/x5BD/nb2E45HGpIE73YIKjJYKyCG1XTpsPLTRadrulYFcm+6R24CShgDeh3oLo2vQcrAn5pHqD/IPTreAv18vaGWvHSPEA3F/p1eAvd5R3eUDN6gWX9Rc8EA6IRAEkxAmIWhIomSTLSbJaMVORGIs1pPhmSNC3Q39V0fSr9lS2rmhStRwz1f4e06H6ambYIEhBNQRZsX6QxVnV41oCs35cBgVLdCl0AM0g1qlpg4XbYFCHLKlweeg7AZtMuvhsvz/SOGLXi6DmAf+kX/42Xp59ITdSMHsCGrVI5LlQigUQEJHKBQgC7jKZMaDJlYWiJKQwoEYXq//HbpplWPTcPQuQSEF7rEoJqIrKjjut/t2MuljrvFEQANUmH4XYjYznQCauopU4ooBcVBuwzhcpgMQJiCpwAXag+irbRX87Fe5Mfbt9QUVMcTdvoL+vivckPxzd81BRdB4BbEmD5dCIikAAASphIlDghRKOEhZYgUAQZ29FskoGMJjmRlxs73dGL99C9ju4LU2Ojbf1jndqzqB8A7v/X/6lb+r3phLXTIAqFFX7TBtzOj7iCgSN2Uy8G8haKpgRPZ2dTAADA3BEAAAAAAMgtAAAlAAAAGmGDKR+Bio6EjIN+gYKHhYGDhYSIi42LgYuFj4+XkIiGhoCGPopW6Wbhu/xeug/TT6io1/iZtuFm5bt6b7qX6Qdqik63BMAu6WhAgBIAAJJVAAaoAytwUs74gQfOnDBqmJAxISfpAJHKSUgic0x/pudxenu5lL1RYpmNv6m+O1XOFFn1M2vJUlIpN0bFZDpmjZ+bA27DSgJYAKTdDLC4vB+wYRITvmkehJtVeDb4kC9fP1C3ofM8gP+yb/6HenmnP6Q1RaeNVbWcSiJMAIBoZDMiU77IjFES7YQBB6A51YEsbjA9YJPqLJIkrVhrZZrlde+bza7XpcYb3bLY44bwPxKnb5D3PyRsGmCkTlxcM3SRm/cqr9lguDH7YxWrfddCvKDavbdKRSGhimkpTDIA/ijekP9HMHw3HkZ9WuvrUHgUb8j/YzC8Ox5a97ToawWn23YBVilhswmTJABAEIu1gwAEyCKXvAhJNsjJVt5Ac5oRObKZGZEmQ/eN3Grc7/3X1xjRMtpLfatxHENuPkbEiKAMBF8xs4BPdr1Ud6vMVkzyBlGFB9jcn9H3vAR+3FwbAdokaDna9y5bg7tBAl4Z3oDcXHgu+AF3vpHrfqwUb0D+K1wbftB59g3sW3RaX+WPRGkAQIYkO9KMWLyU6UglS6eykqYx0GxGTtphJJNGhohIA93mLFatY0SfZVSlYQERrPaJzDf9mpRdKA0RghQvIeUbzU3fFGSMY+RDqyB9uQ1AIwyfoICtD5w6dCTXbt2IAd5ZDtHmPJffg8twh8xaXYeb5ZDYrNwX34uHmX5Q6zVaZQDWhUn2BSEIEYwA4FBhNIhGgliefCRc9nDcnsWF2TjWtMlOnDiY0aAxaowam1OJHpEepYFx5rs6OrmOj9n5psHYSvnqYwzr7tN6vadt0M3FvW395orhOKSBnspwAX0raIFhjHPk/4p3oboAHnoO+b/s9rt1Fjv9REirGUPRofKXZf8bnZ1+wk9Yqym6AmAdXl6GIiSQEICSCpMIoy6XOhIqVCTEiZyFSiKiabqDyBlIXg60oTp2ytH/UE5jDSRIXXEnPISV6fUrm/oS91YuWakKswkahippdyRIiZ1QsfK5XQQAtMcUROAjLCzxBhV+Sc4p/4h7eHasdnirS401wyU5p/zlDN9DvOz0p06tV9HpNgMIXS0pAAAkAAA4DAEIARQhckzPF04918Q8ulQ0MpJOIW+ypOV1ApG9WRrBekb7hflW+fTbh2++oRh1xMMr5y6okEdYkTQb2oJcJXrZ+JYCG9MPCweULGrUTwCeSc6gf8Tc7jdeZvqSLtQUM8kZ9A/Mi/3Gyx5P0sVa0Wn9+owgKIEEAEiyBjU3G2kzczMacidkxJKM3GyzkydJEk0yJ9LIgbajZ8E4JyO+jjdSHCWlv8gkaslbE4Amxsix+z1IWuMW9LQ+p1bWZZN/SjDLfoAxjcAN2BbWLyMK1Bb+abbJf8TJ3oNfjjtUaq2Yec4o/7LSd/DLcSPXhk63SWDByzQhjQBIWawsI8BGw8RJZo3RYConzcnO0yRpzBh4WQMuJRc3G+15ON8QGqYfdabm7AtY1+ftK59syO/d2yNR6yorQJaYrGAXjjm9HXLWVUNKDFbACoigWLtbbjDkGCAPHnq24T8I7y3ccbm9Q12oKWais8TmwrWFOy7H20JN0elJIioAIFtlQkRESBQJeBRiDAIAO3TqTDaaTOc1zcwTcqMyZIwN08zM3Od4kfFHw/Y+Wvpp+CS+ttEu85cl+E1CyqQ5RhzLNyi13p9gezf7afAF/slE7w7Uulb3h0iEooLxv1jTDAgIfmkewP/AunxvrE76khZripnmPN2cdfneuJz2Jl2oGZ1uOQCs5stkQABBAgBEE4qAbCwjoum4TI3mT/JnMxqpTpmTTZo3Hy2VY5g9rtuVv3tDGYn6jken8ASRPC5JGQPmvYnLGBI+/rGfrqSZUpSnMskOFMsibr/ACD8kCT2CAhNsnwwqAV5ZHgR/6VfPS3w45QetrsbK8iD4S796HvLLaT+k4rqNTttSPgkCRCQCAGTEbDYuTSQip2nzpRFJbgwkaZOcjGgsxHwAodlERLRT/s13Y0anX3z/qylHLr6QelrFa6DuKizb39Z8skq9rZDYSHu1CieqKv4x4WMnC1sxhQww8Z+dDF5pzhOb06+9N5jhja5mzDRn0WZlXvseMNMPWp2NTrcsILSSLCPCREQAACJZsjYhSApE0lkXS7o4KbF05ObKLpFm5WWnkFTc3/v95kbZuxv1bLGJfJIRX0tNDaybbIAY+b05osDGSixxds7iTszQNfzsuHYaWPlxw3siiCpYRdZzCn1P3lkOuc1p2+/BouR3+DVaXY2d5ZD7K6wtfLFq8RtqjVpno9eCsckrNgkinQAAcjQh4aijJgicI19GNmnISEVkaiT5SqSRZkRKh24/Pm2pWpv5Y5IZmQa1xj9/a8bhVRgnVywfqOOyYsGfV1HB7YysSmr5QuSm6runRAJfuS3cBIbOoh2SAT5JzvObU/l5iL80h7jV9XCSnOc3p4bzED81b+JWB6MV21wWXQoSngAAA4vZr2pMujAOA03SRDbJy5QTOSIzmxkTFyoJOo2vZvutd4N/jLxlOoTFnvn2awQAFaTOiaJ0249bLIMAUn3BBQm3cFvQ+msBE0TYJ0iLZaEwcDPQl/TP7BYNEd5ZtvHmnOvPg4fmD62m2Fm28b+CB+DZ8dA8kWsFp9sM8CqTJVKQAAAOo2EYCQECENEkm431dOVErpzsuDZJG/nzZSYhzUjGtMJm0uFtdtz0TF7ehjS7yXEezUK5L9so7UhQsJQVsmvNhGm+4IeYgk3f2RHGQqk3XOIL0o17BYiFOQPRmlC7fCJ+Sd4A/BGurX/I/uoP1GfMLA/Hm1W4tv4i+6tvqN/Q6TYLsAySFpoCRDASEJE0QEI2lpOIbDabm5uZzVsqY5iZnTS5jMxhmhemYJQMM5/doDWaG2fSG2lToS5l+sAGOV9myI3A1CBzMwBV4JCIxlB0x+kSr4n8gWpRXCJs4nV/mNgGrDByjIod5CECfjnOkptFuG/gR/4w/TNrdS5ejrPcZhHuI374MOM/czLUr2jFdnaSEoATIDAwLg7DosG40Gmep8teelFGksNSjcy0nTBxkiaSSNsIp0trsk5O7/380brf8mLjNaU+aj7+X2G3rcgwtRlYvU84VZz9utldw/OvoFrxxgG8AnQJPh+sDSXgh190OBLWfkAF/lnOsD/Cd6Mv/Ye7/oO6Kn6WM2yzCJ8tv/Qvz/iHtG6j050FSr5akAEiTAAAySVEbEwVCDkaycShnNy5MNc0X16SNE0zk4hFchOZ+OYMDVG68WBsTXzLb74v1vwEVYConMvYjoYG5493CSA1qF1yuel+6x6tuOZUCXw3+c8ckMAX4fVbsEKK69hZAV5JzpF/hGfgj/rL8A/qZKwk58g/wjPAj+6X4Qe1VnTBwros+QsGgEACACjhSCwITPI4kBIZMZiM7HCUbZKZ2+aYOhsgo6UiGqwtq2g1ure40gaPm99xbFAHSoqaKkXqs2sc+lVkFSkXi5Hf3FC7FMZ6oeDBlTesA6uP30YV7zLkAb5ZHoSbRXg28oFn+gtLqxkvy8PAZhGejb7g9odaKzrd0gNKLnRBQQKSTmRlRRhCwBZJdPHYaC3NdnwqMvPlbySZeXnZJJttEm3vK8QpbaPgKV5Lb//7Qox7aolFff8im17sdXkGC/yic34HFcuuxEGgvQ6ZgsQHRP9RsRNwoVjljupG0Dw1UKKCawCeSc6hP6zx/7A65Z9VraZ4Wc6jzSrsI3yxOP6sanVsdLolAVYJPSUiEJFAUmTQkjEixE5q3CyGs9YyEUlk5U/TJJpNU9EkXw3HxtO9UT6+trlKZvaPOJ04NqgiU9ROyRf4r21rMs0vpuDGUn+ZEMM4ws+XnrQV2qciVBLscvrWLQV8uFABfjnOW5tNy98Xi+mEpa/DYSY5Z/2l5e+LxfQMS1cbOq0zWR8mQSJBSgCAJGJrxmBEkmRobm6+AfINJDPN5u8oss1mZGaYaFBmqIiIxnZxGWPH4/94PvUSjSNuPa66/X1BoTQauAihAQBvhe/Fa4352wz1+w2vae+4qNOOKRBAVwfY2OlABLJMAkZd5SaG1yb+ac6gf8SX7TsWpzuhJpyOa8PPcwb9y5edHYunZ9iE9bWi023TA0JJzyT9hATIJ1OEhTESiuriRvNyc3MiMmKgmZGTbXapzKQiI82IaTo6woMcvgyE3cimRkwxjgHOjX0DYDDSpCR11WhTsQRGTTsB37mCl5AVKAfipAqsgUckilQYiZonBVa0Kcw2F5hCAp5JHg7+5WzPjsu/eIKkh9owszwc/ANze25c/uVnIPpa0QvkmmWpCjE84YgA7IJItA6ao24Oo1VOZfNnNdvI5sUymdZbMy+Mc4ZBtONFPJb0xX6XcJ3O06/fCT40/+iUV0j9xVikAw8WUlRGzKR3yQPQn+RthLovk14A2tSw68qPDq9JWNbNrQkip7kxpdHDODETk9EmggF+Sc6Rf+nb56F+mH5I17oWK8sD3D/QN/tNftn5SzqtKTqtC7s+ShwTACARNvLSdFHzN3/MljS/DNn82cY8J2ssm5EzxYQQhdD36rq26sSXGuGCMJR1Uznql3fbzrejc8tqkfYuJGI0iSGpwSNl3p8F2P1jtnP/N8c2XySA2H9IMBDg3rhQffg1djh2KDtpV7qeOc7ym83avA9WyRutrsNMclb5y9w8Ly6pvUnjWtFpZvmjTIQJABBpjI+Q0YalWsuapUvNRXZxM5edpM3M4jwhx7HT0DHHnAPW+c1rSd+drpt1XE9knRqSP5/SyIbB8GjQsl6nrlcN/UnaoymzoqtRVEMiSgAUdwQuJPWqqw0rY63y+Np6xPgWnlnOkZtFOHP44WWnP5K2PuOmOUv8A3P4b7xsb6gZnW4t4JxnVBISSAAAks0poDSAMg6kaZ3YSMKSLp0TaWdJ0qbZzAGbRJpkTny2RkNLXK/NZr+OOg/rTt9SGsoJLOMCqJCQb/2OUYMPPA4t0w0ZLWh9faX2UW4gAjAHKCBIJCf4fQ0zO1reac6Qm1VYG36pi+Mv7EJ9iqHngNiswr7hh7qafsKuRXUrOu0rWSZkiCkBABIxls6UtGleNl9GmmbTzNzmREZO02xjioMNRCMaoS7AMThjWqZhIqXTBxpmp+/jxoMDuwLlZmak+t5IezRo3/Ul2KaYuNGf1Hp1BF/pApAoXFaBm5R7g4tSAF5JHiQ2q7Bl8GX5NP2h1W28JA+gzenZe7N+OukfWo3RaTtnSwiGiCQJABBpyIs0TdJo/rSV0SSazZfmpnJylqSL86dd0NScCp1efD4Nsa697z4+mbCrb6XaWp+pH8zLBeAaqRn3BoF+apBqxM15DxQ2gg86gL4BIoMCxuULwIc+XinOcZtFuDbwI78c/6B+xUnxALdZhGfEj/xy+4N6i1aRy2JYVeXIEOAEAJAKAhKOkkOJIAymgc3WrctkOWTcOo9Na+rQgTIuZbcexw4z/naAjKjhsxyYMsax+bAASUQ903dK7rWOZALZX4RcTbjBk1rFik1EoEwIgSM4jN8Jkv0bHcfLPABPZ2dTAABAURIAAAAAAMgtAAAmAAAAOUYblCWDi5AdIB0dHCAgJCKTjoeDjomEhYePgoyKg4+EjoqOjo2Lh46CHhkeRvwRtg19uBxfpHUPE8Ub4TarkA19xJfbD9SGTsMVHw8BAEgAgK0ixpuJxHDhpC6Vr0s3L01NHBc7nkDNWZC5Q4aq7jHmkbvu5r3lUEM6asbpuJtGKcBOOt5e6TwKFImswm0fmL86nGw89C2m+m8AK2NQgyWIj4Qt2AIfVrOgkS5+KR7Afzjb/8PLu/xDrbeQKc7jzcLavh8+fMc/5FrRab5mM0EoQCABAGZzE0YWt4tzRkMLSbp0Tm5uhqT5bJ+bv+MiaWM9Jq2+29ybaumeYBLcfj8j3+kz9bm6LTe+G2t0fs0n8oKCj2Y0gGce7SWSr/+Q4WJybGTwY9hAuaVDAnBAgZi2JUzeySALtikOxR++a++PzvRfnVpT3BSH7C/f1fuhM33VybWizwwH7T6txWMAl4qfImEAAAiULqrkQjJKV1FpqZvLqluC0kQ5KMgHTY6E8UiSEA5CrHAcQ5lCGf6X1w7H563zGJPsugfnLvLhi2LDOpbOAJhUK44S3QoMrGxIqFHcaat8pf7cRzZbMVg5O1AgsR4dt7ExHO3vcc6fo/09z7mKmHGwCp0lNUm9tjHywce41goc7e9l4lu0v5fZV2kCONiZeCXZEAqieEpDbjRjrUEzACTrz6v/JuvPq39VEgCDKlQpZTyYk07Svm5Zkj8BLOfPlv9Z0p+j/srrGQQjcQ8ocDbKq0ise0+naios7c+rf5v255NfeRMGwdSxGQVwYro5bgi1/OwFDO3vefI7tL+X2UfWIPijhWVOHRELilGjVcJ9tU11NQAE8e/llzeIf69/OVpzpAwBDr6QxBGVfXFvuK06icPwABzvL+aXPd7fu19eGWYYnGzK3GUiMzGloQQz7ufgL3KSbRN/AiT3z//vN7l//n+/0oERINhxA12SmanVTXimhy8VrT5C8RbaGc7rzcrZPh96z/RFXO+wM5zXm5Vz8X7ovb2h7kOfESY3IhPrzgLy1YwoYQIABHZS1P1JYS5IKlWssEXRaEAkjNtR4oq5ICl54s3xmB0qsGpqk5Mkhzi12OnXDh/pZDLP/aN17DoZ8NyFKp2rG8pjYIcqwkN2Xz6yYvoaiXC9bUTh+PwZF3Aj0C68SFHu7p7dFxI+Kc6DzUK7uH/qZc4f1PqGleIc2Mzj4oFavcz5h2qvotM6m1ePERMAIDOJzFkSou1Ydvvl20eiEyZGvpx8GSmZyWSZDRkVEU0kp/PEEyNY0/eIXMubN+LumQZ1RITacPWPwDGC9gqeOgS5IpXJ3wSNU6eEBa/BTYcpK+c2dlFAsVs7Kbw7t8f59NbG5qQA/inOos30yT+IR99NoaJ+iqHjDPjRPYeIR9+NYVE/o2skhJDQm2kiogQAYBR1IojgOGEsTAq1kyLSENMW5ovS12S8bm9MU/8jRSqb+Pcpa9bcq45Mt5j/YvpVqebZ66ly+t5sTS3XXYUKTF3xb6vu3No6B8mta2rtYTIy/AKwWFCsjM/GyK0APgkeIn60Z0T4MMsPqt0VL8OD6EdXYsKHmf6Q7floFRYYv0wTBgkAEMcxGceiQaim0mCbY7YwZB47LAyDRdulQxLtkK9HcMi84f4OxswscWi1+0HH2aMOuXXTWm51no6PbQsnlJhGozuC0mwpwV0NVsRk5eKtMoFC4DXAcjrrxtfpjQG+ec7hzcy7/T582PMPrX7G0HMofvFtvxef9vgXKq3+RqdNXpU0IVECAERw2ZhpySkXRV6k2UVyljWMJCebN3BkkJcTkUGSRCRNaObGF2dWDRuGcdthGc/zm3zEW/lfvrcapZqSOuG8oh07VyuQ2kLaS+kX5TvUIJJpqHMY460bQocqsQQBBb8Ox9Be9xwBfkkeQH9om/0jf5jzD0P1M16S8+gPtT0v+dOc/zBUV6PTFLrgdEoDAkR2XDPnydQBLJWRkR0gERPHIscwyaZ5OeniwuLQNDImYxrCfTZ4ZUZuQfIa6ieXW5+WMJML08Z8K9rf2ejhGG/h9dmbr+Q1W5dgV3pc9G/U+dsCamTYoQcKK3T8JBxdhBZeCR4Em9Mvno+yOqFhmu1reBkegJvTL76Xsto2huwmWjFcypMBjTggsC1dzPIyLk7MnRciyWYMNCUj27w2J11cnIZhHI1NSq+rjN6uxxG/zk1600kfVUZ823IMou3jxfGZ3sWSRPx6kpvixEpWUAAmA6oxkhWRAsFVwX/c2AQbTfhRcwBeSR7A/8Ac7xu/HBvDao+V5QH8H3Pcd+JvTjwYViu6kBPSenmVJMYjAEAATkSDpCxQ0EzSZg3HZuPkb3MaeZFkSJMQodFOZZJy605yn6FkYd09vUd7zBqYhPw5Fc8aurPHjRgpCaNFKFv66b/fVOjrhagVyEBjWbplHUJEyAM3dIARs24EninOcX85w/vh5Q4Hrb7HTHGO+wfO8DzklzvcpMn6hq4BLXpZT5EQwQAAkiKBFIkqIpfYCJojq9nYPhmbzszo+GxabBQvKJCkODtRwVjcYGSsc2wcjCr3VURiMnifs3+K65YcCEITbA2J8CyjUaUkjDdNtxPGfhe/QKHIspD3N+qwe0VX4uYAHlq2iH85F+fGw47P0Gu1ZgwtW8Q/4lzsOx52foZeJ4ua0WmTy1FQiEDEBABIRE5eGl0ujTRJ85LcnMhI06mznKSRJAPm5sQAOZEmkWa0aJfj3aU+3Ey3Wzo/OoT/G/Rey+wPvDvVFrkRa69cNn/d2NtO13UmFacDeweIvLwSCix8xU1HkgsaZaafHeLusD6+WQ7QX+7L8xJ/83VDfY+V5Ry5OeviPMRfvr5QMzqty3KWRiSQEAAai2aRnVzu4nYhLycz0qUliYkZOQNtmqPympK2tF0ftK7R6iM7Upp++/f1attb2oBPuP+Tz6zuM6v7gv74bw4PkP2/0X2zJ+Ez5xju6qAaEDnSCRq/6UCpUbgBnlnOE3+Yw3nwcM8/DNZryCzniT/0YT14ufcfhupWdFpfnVEhwpgAAElltJnLBBkRy2ojJ8nUbDZnchlJNi+SNEkzJg4Wyvaz/i1tap/DycPZQ3393orkXMo52+KG128NHarz2fzkRt52yPFsH6rKzemAr7zcDKv4BNyTVSTIYEi4Y1c+KGsDPz43chh+Oc7CzcK8eH88PNObdK7vMJOcgZuVc/G+eHn6Q1czOq3zks2IhJBiCQDImMW4iGxHMnKTYUQsZHOkmYuXjvG5kS6VmzabLAoTKSFEpqe3Vfz5hOsfdlZDSnUoZG+6yLUbwpd9XDsM6WCCteTFwvSzGqe3pqBA39BFA1ZJwB1++MQ8GT+/7FsC3gE+Kc5zm4Vn8/6Ey0l/pK3uYuU4x/3lbJ+H8HD8oNUKrokA5tkJJcYJAKCWlkTyccKAWCRQINFxY06OkzWWzGfTw25mF4vbNeR8tpzq3cnbzakd7v3V6d/Eat0/sIvpvGCVkZaWtBxMxi4WyqPFqduvBFDiy/fQoI9gQaVkMb7AwJ+3E75ZzuE/7OP34OHOf+rSVp9iZzlL/7KP/4OX033VpbVeo9OcrzCxGBMAIJnPx01LM5omizIyFmtz8uUlGRmTy8k3fjTJuDQuzJ0GHRM9Qff09zFG3dwNvTqZXtuq/07HP7ekNmCsmCneWLnvz/kQhyS4SrImGf8cPDVeuBJET27uQmAEXNgtZODGmxpPjjECXknOE5uFuf0/rO74Q/LXO8wkZ8Bv1sX74XL8J3V1G502WZZsYkRICQCQEQYHQ+RLRk0nZptGJBMGY9K4dJQOdjbw2BQjSSMbbaMaDdN+kZTdHT07NEz5tEirX4Hc7EEqajhBHxR03UQteekCSH8iub1GDAKsKQEKEm8jhJy3q9E6OewFfhkeJP6yb/4Xi5OeGKz38TI8SGwW4drAD6tdvhiq99Fpr8qyxARiQgIJ80lWC7OYwZIpF+XLl42M3BzNNjPPJDnNVjMlkkbVCCHP9Lz+8b2+9g0AtTLChmPKfkt4qJnBnxVHZnYwf6Drs9/NCr+0KS/ibyBVl/wiLlgbZH9Y6MRhIm628Sf1O25dGpAIAF45DtTNyhzvD78p5UZf7+Ml2Vb+Msf9xe9aeaOr89BFYhiKVpkcIlGQkEAYRssJRyMhKnKWKaNtRPOapGnTpXLGhaGlo4wDUpSdTRY3MUIcUdY8GHL3PrFcZKnMm2TtjWRj5/tsKZGR/mr1DSgpyUCwQn4/MQd/gFW6WxKoZExoKWlHaLfzKi76AD5JHkB/6OP8CL+Zzz9rs6I+YyU5DzYrc1wPfrPn21pfv6HTxp6TLGmQAABJZWdjl+ZJNs3m5Q4gNzIyM0WujLR5A5Auu1G6EBqVNh67X/ztflf6nV0h1brp+u35vtJ+gttz5//32f3fN6m/+ovTxZBTHgAdcevI6JRFwQVQdkKiUj0CoWkngFb1blPv1AreSQ7Jzcq6vF/0ZvqGSldvsZMckn+YV/eHxSx/oenqNTpNWfIzPE4AgGiSJ5WI2dSm+TIMmJObL1O2aRJ5E/NNS+Zoh9G0q+zqQcG1hX4+XqtqjDfd9ZOdvbmB5i5m1kKE64fRfRH7JjWOUjbFITXB7Wd3vlDhTp0UQobEQgQ1wCqrKC7rn5GO7brBJLcivhjeQNmssP0/rO7wZFT/w0fxEL/ZsPlePBw31A6d1vn5mSARYcJg6dT4NiHyMtLcjPzpdE6Sk8jJiEhzUzk5uUE6lpUdNgmNiFB0T3frwZyESxGS6KU/hddz8IdWpT6U7+puVgsWxErhNZUaPbxvJsiHEGWeEKFeeYerjAgFhUqWsWIzPvc1SiJpB6wCHikeQptFOLf4EV5GvElGdk+cHA+izcLc/B9eRvmHWueiaxAmDPO5jAkpJYCg0RK6bNNAtBTXzbPZfMsoaRfnZCw9dUmS2JbWftYiQ+Y0elq9yj5fhM897wPiG4C81Wt9bFnSqPuZxDuckhB0h6JmtE+tBTfFwV14P6bVRlhQGW1Mihtc/Vnjgm2KAJ5JHuL/COsSvuD4h7Rm/CQPoM0irCv4glP+hSWtq9EVYBkuq8tEKREAzoUKg8ChyVNQM93ElkjDPKRLlsocjFnY2qFpiDULG6Fzbp7luelLVn0RTs7JaTW1p9O3fimOU4nAh18HpRgEe1MG803NhDb4YP06d+xpQy2KHrC610rgtVfIyeypBL5JttEvYY3wp3y6/QufqGbsLFtoM9OG/6f88vQTKupQ9AI7hmWpzhAJghISBYoEGQ4ds9RcWuLC5OniRsYi0Q6zS+XuLMo4GYck4b89NoZtL51wlfPpcLe0F18MG2Mtr5/urb3K/TrafNhWxoNg1BIEr3XXCTpSV1BxhOw3y06EehqlaJwAzDF4/xHgQgGeObb4H+F3BX88RP9Qa8NMssX/4r36frzwh1YrugYOybw8jQQTEgCgqVg4YkQikkw8EgmR5IhFU6aSJo3lMHYWzGMl+W6ocU2p9TM5Z5qT06Z+3/u/eq0T/6vMuJ5q4y9Oj2yo9lJKfVDrOUBRax5xZqKgL8AqCdQhoKCbjAAfMS8DT2dnUwAAQMkSAAAAAADILQAAJwAAAMoME1YeiouOjoqGhIWLlIWLh5GHhoaDhZuPgYSOjIaBeIqOvhjewNrMQkb9sbj9QR0NL8UD3G/hzOUnrt6+UDt0GvLZT8QoAQCeX+MiHTfc3nB8dqJsjB/IQNAcZvkG1LHzwjhVk8JXP1G57zvjuKhOQIxhNMTY/ocN5ivvKmas841YB9TJqfMubYdbhtmrOwmvtMcclRvv26jiruIiW8D8YiNPMSQ1cjNScCACHgnekPwjnDn8sfr6QV8rVoaHo81Kz/4fl68f9HU0dFpf8uWRGCUAQETGuCTJmGqWEUmy1NQkI42mOUlGRmbewANkGTCj4zIbTZIkVGZ1r1lHNPXf35S1fcFor50KhUuKtV7VEkTgvkaufUurpGQtbHxRaKsf3ILkWFc4gJtg5YDSwC2DFNKqObZTAJ45zoLf3Bfvj9Uz/KmSjusubpIzcLOwb78Pl2f8UyXNdTY6HazoaiaRUgIAiNgYF0uZNuWUC82bzsvITRhI/lzNNh3MyJemQiMiBdbBmsawpBd0x0w2IXZMWSsfgNRnfIFOrJIJmbs52nh8DgQYmg4F5beLVBJM4Qb24BW2ABeszsAup9MtIJy/3izZbAV++c2iP+zj/+OheWOW6n3MBGfAH+EZ4Y+H4kZvX0WrgEyGomzOsxIxSACASLQ5lhQLTJKSilBs6mzLYVGzPdJpnnVsqqYp3JByYGIpg5zuSAjnZPik2BrxfdD3M+q+7cw88x4JVlCK4oibOUAVxCRe+V9sYYB6x6NYfqd3GjoSIphUNxnjaO25u3ogcWd5XjnOoc0s3C/gh9Wz/UdXV+MlOQt+s2+/H5dn+5FwOlR30QW0GMosz1LCmAAAskhyvCkRqjhXiJJodlyeJUmbGdkkczGGhZbGasNNkrER1n1yJnfpl1CueZqy6fOJhP58WKH+7sYKjMrBmzpqAzUFzxNXp8eNErJk4t5HqFNBQeImPHHK0XI7wKcAfhkeAJv52fwQi2f5h2H1DS/DA+DXs/0RvWf7j3lQX9FpyLI/QGQJAJBIchbLTZPMiGZkyMmTzWtkZDZvIPkm5nZK27bF0LbmUXCNGv/c3rLipmzHpt/q3JaigsfSF+L/vx766cqs7NsgCvTTBtKlzw8lYs2F1wxiQl+3AnZ6CTlf3o9180eeKc6B38zN/5M/3O0Hg7VhpjgHfjM3/0/+dPvBYK3oNJRVeWJEOAEAkjaPJGYiSSOSjMyBZNvMkGRzJ59nmjKkC2Nb1aU223PW6m1fmnq610ir/ZbJqJiEyuX/j3S97WK7pOZPvX0ofeKIjNZ+YrpB4oiNjimMWwAFKNhF4Ia7eSXR+Ru++B1GbmZlQ4jLnZ7IdXic/A6gzaxtoxCXpyfU8aPTXElRmUoCUJQAADt3ZSNqLDr5uCSCJCOm5jZTlx1TZiRThTkZM+s+JdUXt0OZMut8DKNHWF2gvNwZkbITaGp/kTxS4mb8GddZMR/A9vSXtAch6Bj/LVncK4oKgTsNANBOPdCWzKUL3kkegpvTru4b1T/fUFErbpKHwObU1XOj+vMTFjVFHyAdAJtazYjGlAAActWLQywuTFBCS7QRq5IkRBiNBIZsvow0kjSSSKIOXPlAlQDJnnxazbuaj1E2B023PpKRK4Z5xpdj5PYey6yLMRFXvmyp/csm8HLGfufbJsqmw7VFKWpJEhV9YNVJL7r7Cr5JHqD/iLV5bsLD2ztU4ppxczxI/zHm5j2Eh2f/DI1a0WnIyrnQR0oAgIg4H58uyohmZC6THSAvN4n80WZK5Ys2XyzMhnFsZIyIeGTXQetW0xWirm0uXwQTudbPPehKDelAaeiF1vBY29waGWqWAChHdYX6chuBkWIlZn7zRrPzde7doy6rpsTo3jDAx/9HpHnqog9eKc7yv5nj92suxw9avcXKcchvFvrm+Q2X6UeNVhu6gExhqvopIQ0ACFVExHaEJLIs4dmwkacLcpqZMc+fWfB+VxYosFXeREaE60Z40wsa0nmT9tY1DMhyb3qGbOQzXgUHj9HeTyraUZAJTZebutwc5DJuOIYVFTrBuqBoWN76HIyv4i4A/kgepmxmIRl/WO30H33dxk1zlvst7Ek+XHb4h65eowtIhq/LCUYCAwAUEDhKQFlNYczB8QUZNRxrjJc5YJpMJHvpvh0SY5qpbYfXXnbqr/FPKjUtUye9djPQjr9Dj8I8RkAqBE5BTQn/jzHcec5G23MTN+04Hg6szOL20no4hgsAZhCBWK/V+QP6AX4pDvnNIlwb/Agfdn5D7fBSHPK/hH3DP+HDzv+gfkOXgSTEZtmMRoqIQBHCRjQMCWOFsVRBDGcTzKTLLNGpudLX693pcpTDfoHtobDNcvda2R/7YtzurS8eaYMyyirtWQwQPy2TUeT8e1ZyelEmc6t53SoyCniyk4sKjhCRGEiM5UAFbTehC34pznObVfhs8MVi+meYehUzxXnur3Df4IvFyD+GqM/otGULPUXCAAAQ5sNhupDOWNQ0WVZOslhmZNOcyJhCh7n5MjJzMzMyMmWbtuX/5Pd83dcgTCkvS6Nrb7puatnVqZ7+33QoN+wnUua/Zl84BZONV41+vXuc3bGO/302wuJA67Bd/pWI5xQIyOOXD/J+bxIeOd5A3SxCBvjhssMX6j+MHG+gblYY/heXE/4hrrPRNRIYyupDyE8EQBKECQUk5YriOBJNmjNusIQMSZrNnXTuMGs0Tc/5tWgi+GWXDv2s+ce695MDAGXFqDWbqP26Gpcg7dLXkeqwG64G8bYi8RJPYD0NiAqMwgo8C0pcWBlwJ2xLmAhoRQA+KR5U/ghbop/4cPIT6n94Oc5zf4Qr0Ud+uPMb6j50JSYRWq2fCDERAEUJkIlFOgFJgTxtNhxMB0N0sgmNxu1/5e3N+XR+g2j++TcZnWLH1a5ruFiBDUPb6N1OOfnDe8kfig5gMQ0EgJTBkc/coH/jijcONG7MCiKBKQggx1/F4RyH/7CWBX4pDrnNpGeESPlw+6dM/YuX4pD7pWtESPpw5x9l6nfoCgwMy6ykExEmAEBScRBLRIgEyeVrOx4kImfcUUa6OEcny4g4djjMQ4fCqNHlubRNt8H0aD86KUQGziPWx//3fV6rAtglxRLqqy8hHI7xo5d8PWREPpF1I/GiSUIEGZKGlaNRXMVmPgnO8b90bhGxmm5kex5WhrPcZta+RYjV9kRs/0XXIGGu5HRBAHCQknphJOFQyRYrgolmpGl2GKOYt6NckdE5HZJMnQatfOZg7aWzcGpPZrt7rDBWtAoD3tbCjt6YSWmtmomZ1ogd1bvCiCsu/ufVyMKSJ1zk8Ado1fEi3DxugTlaEVgeGR4kN5P2LUKsvv6g3sNI8SD5W1hb+OPy9YX6HboSJJucTSd8Ikp2JhbgIEyJIsedJBaZ5++o8/GaLblpVJuIRqo3/dggDqW0OYXtx3dp3XCA2K7JDTFGsVGJIOxTpGoYcyUTG/777SxwLVk6CiQ6gX5FydhlDOgw5WQHBmom4NsFDqMCvknO4c2MXr0/Vk8nJElkt7CTnKO/iKvnx+rdWnCS2G5Dp43lTP7HBEA0lqQRkUpiMB3IpIyQ2zRzQkKSZIQM+XNz8vKlEjSRtuv2O84b7HSk6FcllTrr4KY8gLPa4ZlLDCdeDs7sUJaRs8GZfXNxQfMRensw6s+zdaobPqSUqqZ0459X8OvfpjBCpv890/VLZPx0WxO5eJNhbwR+Gc6jzSzcM/7xafuC3cTMcQ5sZuGe9MOn7QdqB1ass6uGSWJCTAAMLM6ZpmW70AxjNH+SdMA0Nye3kyRZMXEHLak0ok2LuhlrN+fX1KSZ1CHTsAunjtNfWI2aPOVCDZ4FEg2JL+V/++f9N8kQGk3BcTxGFMSYDBa72hpav8LaQaQ4cKaKcHPqypocTPiEHB4ZzhGbmX3z/eRP2x9a7XBSnEW/9N5ASP5l+o9WMzpt6k9BgEQAgJi1OZlJkg6Sl2Yay5U5S/OSZmROIbMyckxhLJqSIRptq+OvJhCJKOXr6VhLLlUvOzVkpPmlb/22eYZ+73ELDfJ/7CiccBtTlOFGDM9otfjrFYcDLreL5u7LAP4YHg5+KRtCLJ7+Qb3Dx/AG4JeyRUTv7Q+13kPXGCzDJf8pgQQAUJKxUSRiFSeiQW6eJNvmRFZENnJkjHk81jAE+x/pVP9vCn9M3fD5po7jM05SLoZ7V2BMAP+o6/yxljh49nbyvfF+xWVCDEgZfuEGXP7Da4zgHLAmrPgi3GO73O3JJt5JDonfggugfly++yesONe1uEnOEL8EJ8D8sXqf/2Hp6jNaMWf8pykBADIMQweL3bSLCwvTgAMn+abzJJqGJH+HLiy0Q03tkNoUX49WdpPTZWP9Wpyu2Uc380tBBkVa9XOOyzkj9+JlH+v4+SbV0fKch0GM3FkQTwckR2OHZo0RXBRSdBNMLCl7um3VGgF+Gc7DzcLa/h9enuWHNFzfMFOcw5v52f4Qrz6LSMP2VHRaZ7OXiYgkAQBmYbDjjWWIJDtlNm1G5uL8mXmD0SQ3m2bmj9w0QxoipBUpeeuzo9OpT/a23KQY7yt1flS7vVw4ptZaussO2vPPWMOrcXDkfkONcv3KwIzcs6GByjWCFcHFgqBHGTgo3g7aAJ5ZzrPfrM374cMz/Vejq08xs5xnm5m++X98eKZ/6nT1Gp2G7IydEQIMAADR+YRYmM5tmnRxMp+a5mTk5JtHB8yM5iUyknmx4ziKouOegbL5Wz1NKWh5uWtlnvobv2b/467f9GWbpob8aqBHff0gfpumKwlvoiJK7VAKhtaRBU8CBnbzqRwvPjnOcb852+/HpfmPvm7jJTlD/OZs3x+X1v5jsF5Fl2BhP39iAMQAANCs0IFjRBOBE0SSpmfJ8nG22xm5SUaz1bycJMkM2ayqNDg7UkFeQ6gN41xGWtGdx8koG/GMs1qSSQDhN9n1opRKz+yGZ8GNHuxBjDFl9AH6w80CQ1fuE2QBfhkeAr/Zt89PevTZaNHVT/FSPAj+cLbPT3p4+m/R1VXRhQXDq9MAACBIAAAFRJICpUlxRaNKEtODW1uNRrq4CcPQudGRRL5cXh3LM548PB8PhZCJ0zdvvAeogohyehBLtOLt99ciNmMSBMlbtx8UN2LH4khPUzMAfhkeQH+EZ4Q/YfUOf2j1K2aK88RfzvB/uDzj0yCdqG/owiasw1J+FlCQAAIFVrMikcCUSoQZOso1YCSzHPNsM5KpuWlIUpK50O9EqL3Z/3dGpoYGhd7ky8/rqCsjlIo7dayoc7Ym1yec38ZhJgz7pnRA9XEqr7YEUKSsJBYfXKotbBinsppyn6JGPjnOo80kbkARgln+wN6Gk+Q82kziAgohdBdB/RWdpmjF8xPhSIggITt1oVMjjcxl5ebPHSB/bpJMcVIqm9G0kZimZCFDWpJ0N7emlikgMyHGFkGu2150XwHNiFBs8J+SRG5YgtdmPl5xhhUIUgX6j/0yTuvoVLTiz43sfes/9gOqoeG+sgIWgvuSwz0WC09nZ1MAAMBEEwAAAAAAyC0AACgAAAAe7IM9JY2Nf32Gkh4hHyAnKSqampCXjI+FhYeDhYh8hYWLhH95bWZsaWd+OR7g/tAv9he9u/yhr1/xkjzAbRb65f6h92x/aPUveoFkk6vqRBSPILBCEUmTEoSBFRowm9Mkc0JmpNmMbOQt1UhSmRlNRaRCh90i8r6X79nbnE/snYT3XzY/Lp7CdR4nNt8Yt5PSXeucx4SJhicXyolrZMDHyko3R+JrmiEtworAwrxrH9UkBQKQkADeCN5A3SxCLP6kD9uXdKh+h5HiYfxvIRb+pA+n/JFe1H/oClhsinGeLgmDBBCUGM+HxAOHSU5IoTIsZNOYtQNmZJOFjCXSzuWlkQpRDRu+nQozQWnU0Yv3VRQSVlhhyeoAUYMLU4KdT9Ek6tgoZJ27gVOmG9qXXQaqLcTeT6YQRDhG97QbUOhi3xeaBAB+Gc4Tm4WW/x9enuknhFrfsFKcJzYLlf8fPt3pH2r9jV4Y0vasPACAEgAgUJBRxmkvblSCcqTDyMgnbV5CjoSJSdKmLZKuRodWM9Ip9uIf2p9R72dqaH9Pwy5Ey1w/ICP5jW1QEtqX1wFt8TWz+AVo64DzeyPgAAfytnlOddgfvhgepm5mJSdI+uiJhPobG8VD6i8lR0j6dIf/ULfRaXu1HAFRAgBkLhWjLZHOjJd2SfMnOVOIjGUW8uVFEm1EQ26kadCIpEINvfh95tQk1Z4lvJ+uySrhWhlu7flKMCXQwGpLDM3sV7x6lR8JCYp24bUDU8DiNJWb93qa2wKeGR4Am+mxP6R89m4Mvch1FzfHA3Az6bEISZ/u8heyyHUdOoUuRZclQKIEAEiS6Rib54nBJMlGZNMp5IvIzMqfky/kLV64jyfeJFPnjD1nmtZrkL5yZ2GXH3ypuFMEnaqrAYBBrG/KmroN1PKKob+5JfgECOzgi+BmIaEPzdbj4J6RvfXaARYJHs5+6Z0z4uq3yEL9jJHg4Wwz6Z4z4fJOfxbqd+gXRFItRJnVStkf2sC66HMkCpAoAQAimKjR0LtGb+pySyQsiyQ7UTsRM4lsNqNJOt00ieT67znllaV3JJh4slarUTbG3JTZ3yh+qa168mFaQ2jLvOlweNqnQQwQ6XfsVLDLWPcc5agxuNCR/gHjfbbuohUBLO3v7eg/S/t7O/KqBCEAMAjkmOR2GqM2Mmr8aykCDOuvft5/gWH91eb/T2UmAwDncLKRMBJYVZRIznGsmCUCFO3v9Zxn0f5e5n0VcWgZAFhSHcScVMjUydwjDLm2ACzr7532Lu3vtc4f+cWA4FphUizIzPe2tk/jqt34p+4CDO3v9ZcO7e/1lyPfB2wIftqLhtEsr55lMUK6hSf9nJDPHYhi/50PDO3v8dc7vL/HXx8ZgCuPW5ABrrrv6wv0ZDXQpUO0Qz/0g/QpgUxDhQD85q/2pT/6q/92lSbJCR5KGaBbgjARTWUAnzbf2Sxj5a8soxwnicjcmAa6Wc7Bzcw/rh8ve/zHdIv1pNhZztJfAsAxfrqPPm9hOmU9Kfrow4o5ECOsC/H/JwIAKCDS1LaiuTAWJiW5SjYZYo46ueKgKaqm6LxLpraynYpWjh3z2zHycPbd56WT8EyXlRbL5M8jGpJb4VvQ+WQ20ofalzUdy/nvO5lyY0bdjJuv7MvU0mrYhZOQMQ327v5H7vZyOyTsCioAXhkOuR+dI0Ks3VwN9WysFIfcZtI+IuLq5uqoJ0VXQFjr8vU/AACApiDiHFI0DAXxgkQsJHK7eJTkz0iyyeT5B05kRtKmEXS/iHZClOS1ran3QKhjTMmk6czOxr9RTOVrvXFfK/9pbdr8CVvQTISAJDUnBf5CkuJO3oFiX/ru33jPKzWcNtFMtdqcZpSqDLx0UwlN7dTsSJy9Rp4pHkCbSecGEau3f0jroZgpHgCbSeeGEGufCPVgdMHCkNVc/TMAAACFJOWzTCpqJYk8cSVN88qo0WyeCYZNqukYY9P2Xl3oKNO9ca6b3L5WGN2jXl/YooylDmNAOSeoIR9AEtXIv9jjtubrhvHPJswONnRvyreqrMtM2JRNdnWPuq03cLVhiAGssb3PbI/xAL5JHgY3i/AkeokPd/8XdqvWjJ3kYfCP8CR6iS/38hd2q9aMTkNWqJCi+BMAIDQvDXlJycgYOIYDHejUyGYzkrxsmpk2DGPbhWYytESjowjrOXl6SbUR+/7r9nDs5FwJWxrIjsFuLch72GsEYid1zF6/bfy+Zfu3tHF7iP3x1OERiKI6CrmT91suXijTxaOGryGVc+RVayVeOd4I+CNsG/ih989/rYB6UqwcbwT8EbYtfuj8+SeZejI6rS+rT4woAQAijXTBQIf5RdpsXoY0s/lzksiNqfkrM6QDziNJMkJLRizoMnYPlfmI9v3yQUjwS6vB0Oh7tH61SJk0jsSuoeHja4h3deb5Wpn47xDELsPJm25wA0iLOe5xJQPcdTxvTZLdAJ45HoK/hT2TH6u/+A/q2NhI3iixWYTk9GH14x9qzeg0FLqmEikSJQDA1sHB8WkqiSYnL4lOuTDMaTYyYlKSjh8/QDPmadgsO+nUaJ0VirygcDZymp12ysn2anu0pGa+THw12mQ3OB2gcUAEIKcy1aS94+8TZY49/v2az6h3P90MWKFgnMxKIBkhHmWnvLcAPukdgJtJ5yUROrevBfsLK715uJm1XzKi7yZrakWnKTR/TBQkAECShIFjeraokSzkEplLR3agkXZi0iQjm8wWRnMNs0n19cu1t9N4xFkdreydUBs2rn4ImWwc1GayLKBhYRcX40BdKy21L6yGIKTsTaF2CNHd7z2DbVZYAbHQq4mC6tMRW175DcjvffMiPjsIta7Fym9A/uzbG+LT8EW1f6HTkOVMHRkRUSIAkmwybkyM0iQzM8nNS9p8zUvT3Nhhks1N8ucYHdWY7kZtHx2i7TLxtZWNLDcTzn7u4T8+SgDM+pxPdZGdlyUARJNTBZehHaI5m70+cn5CYhABk05WHgXr5vkn2MXIBAueSc7Szcy6/H68bP9Q62fMJGfxb+bF9+Nlu5Hr/+gCNg2zhY5MEKQUgChRx6IoUWdxl1A1Esk4sdSiZefXxZJFx9E0VNoYKrKUkf3ud9fpv2q699Z9JF33c29Jht5r3rOmBj+BFzJWEW6qhqOHDWLeUSjqtSLQqQRbwsB6k2FVHVjvk1KwCgAeGR5G/ta+RYjOHf8s1HtYGR4gNrOwXdCPzu0P6jt0BYQ1ZM9ZZIQxAQCSgng8CkElKxYnQTPbtIuTdFF2mWqnxWFMm2pkXJNgvcYbcroJD/MkOu9SuiuUIarrGFJwKJfkjvHiSgBjWkUwPKc1qELWKPSBHkpuYq08sLD8Pe57DS/wCf5ZznKbTd9+D5jhG5Zat/GznOX+0jbfC2b4C3WR61Z0Whf2R0lxAgDoWO7URkYTkTFAZr7c3GazC43IyGySIy9vmCaRptmIaCtcuUz3iQw28yeuCKcT+dzZqNvzWUzZFaU4+X7VIAqWtFrqnJYwY3o9XTiA8SSgogNChKyrgmUY8mGy6xpeWc5am1Pb78Fl5reFmnGzHPL/QNv+Oy6zfsOuqSl6AWOdn79gIkoAgLJICVVFS8u4uaVedm7+bDRJoxnZSBKZs4l5A0YqQqjQhdMRn4E8pHmL9Dz0tb9Mf30ubjIc7HQc0XODhiTlfwC39Fdi94e/hHDf6xugzsJfxBOAQsWAjFbUiiR2MdoCHprOw83mubh3VO/9DnU/VdYUR9M5+Jf38t9R3b6h7ss1o9Px5rIBAIASAEAj4+KiwTQRAyTNSuVEVjMGTNNUDCBqLCc3MAdUc6wA9ZG7j99RveMY7ovj680q7zSUlj21bwYGtGuIWGPAbjNEqcsEW1CvHSATAJX0ixKYFz6KDuBm815/bvSmZ6hbaa1Yig7wZvNev2/0pneoa7lmdNrOM2QFidIYhLHtt9M0SZosSTuPNDdfNpUhZPMim5vZ7LJj8gEypIpqnbit7j3BsZWOv2xNmz7KUNei8yysZo5x/GpwGwT6qYU/yIg3oQBo3wjbBZCnUrHwQ1jRtfLIRqASRAB+ulbFbwF/APhwVcNf+FtqiqlrRfzhu/7tPDqjfUNdlWuKTreR4EcpBQOiAACAXNAOVZmossyO6OYwz2CkclM5ETKiBtpGkiE3I9nlTDZjr5ZWvtXey32c/MesV8Jkls/sXuZtQ37fypW/JqtHNiT3YRUdbAF1Fwh81CZ4DmAFRQYVCaYB3okeAr8E/ALCD7zPn1Vqxs/0INjMAt4B4aPgvf9ZpWa0CiRsm2UUSgERBgAUFBRFgzBKJcmKxtIsZpVt24+2ZZi7aKD506YZeUkShfPXTPzr567nvkbptv/N57sNQcU65BuXS5xev/lrSu8JTpn6K11Ddtl0FAW67i1gg7Y3UdcDrGBiP/hFVgQ3D77KtsQvAX+A9IDgJ9StWgfFVrYiN7PgC+R/0EvlX6i0Jk7rK8ZCHIEgEQIAQidPRxvNWaKRkTYjL6ODadIYZU4+Ee24gXe4g8EhCOx5Kny9tr6uBzHfO7NEeWTylPfjZBQ36Nzru4YVjYSCcLdlXD19hdKWwmYqdlOCog9GMGwBbIFPAJ7qtvRmFhAJAN5cq9K+WlVBTTH1belfAorX4c21KuNHC1VUU3S6DT1k7MgOiAAAAADI+bQ4NMIEHSWnDRD5F6Jt5DRvgMEQQjJAC+PDP61w/PfmaGyfa9v4p1U+WyaWdzEzycZBaz5JaajjMvXGsUqUSqCSjseoLYKBXzBUfAD+yd4A/xbe13gH5/zYqjXFUPZwulmE9zXewdlfW7Wm6CIgrfOPj0REAIBQEQIDQBiJRKQxnDibp5m5OW3JCBAdSAv6n2j2AwNEtWPX4H++H6wrjNRqyGZ4hDIOhdp4d2un3+LGiXxWiqwgrlC0TQEDN+hSaOMYwSAB3uoO2Gbhvf7tYIxvqEtS1xRf3YH4I/gC/gfN8A51La0puhjgEQApWRkpIQCEAACACaIllQHAapQYCAAUDwRExHB8q8lSCQqmsQAHPhzggebuN3wyjom+kZKbIepyQw8S9d5goZAYZCwsEF0kAN7atvRmC4gQEC7AM9R9aoqtbkv+FRAg4H8Az1D3qSm6yACnqJRlJCIEACAAAAhUFCmRCmNIYPl4lTk+XxJq3FIoRH4AkR+AAGgAP8gCffFH4AbN5Wgg6rglEeekWIGFSAFfcrEwDd7q5uVm5bn+HDLJO9S7cFapKb66Oflb8AHyHgTJN9SDKzWjCwHeNuBHIgAAAAgQAMDUESQAB4kqFgCAQlegJkUa0liYGA2gMWHUghvlpMZ8T09v9hu8yCtK/nOwatd4emqaoI6EioEEJkQpAJ765sUfwRdgX8RFcWtH1IyrcE5sZr7r905eFG/tiJqiCwseE7AMSykjIAAAAEgAAFtQUAsLQGpqDgUApgBCZCRJpoz5lBsLVaDmAUAbADO44Uibal1vcTMRKBlDNLP1tBwhKkSnQEWFAT76VsAfwQdgHvIiejpMck2xFK6AzSL4AsxD7PF0mOWaogsJTiGmGA0IASIgAgAgIE6sxgAQkTQbqYGnDJUOZFIDiMwA0CkI4IAJfAOBT7ABJBWAksZ1kBW4pzBSBNGOsQU/CBQkLERPZ2dTAADAyBMAAAAAAMgtAAApAAAAa9t2aCFqbnRwdXmGfoaDeYB9eoB1d299g4mCdHBxgYiNiI+IjIm++ubYZhEAXt8PecXbYaGmOAsHcjPzXz+HvIreoR7c0prRxQY4YQijpgERIQEiAAAylGYRAFWYmqCz6bk8ZpGTLg2opQogydcAiyeAuZQSFmAOAAAoAagAyACaIgWiRSUVBQsSERcD0xcBnvq22B8B8Pp9sAqetuKaYiyck5tFAHhtP1gVz1DX0pqiCwEeCzBkJj8gQopIAACrFrHk8wCAw+QCAwCOBQAWRZhNTyYUsDAVoAXQOfCVyLgPRAK2QABNNwsFA6hDmwKCFfwlkaBIIFiJhQgRFQM+6s7hzcp9+S2shttETXH0ncd/uC+eQ7hMT7O4puj0WIAQbHJdAiKiFAAAguQKAQCI5oHIZkQiI/JvCU0iGs03eVaAgljYj4BNmMCWaDMFwAGAeQZAzipQPoEAoAlACjQDM0q4D9WAB0WCCFJNuAhICeWVBN7ats1f7uvPwiV4hj2l5ZpiqzvQf9mv3Qer5A57eGs1RRcSnEIQkh8QJaIEAABjhzkwBqJpdh4ZbeRrRWSk+akoYhBA5BXQCV9CmX7QAffEruVnLcjkBslVietFSxjHnEwsbRIWwQBuxADBBelGDyje2g7kX+5xX4RP0TP8g7+uZnx123Kz8oz3IfwSPcM/qGo1RRcCPCTAWMUVESAkwgQAUC0CZ0GAEIKWOgJggEiAaJ5IRTRfhiQFyGYGsjzwNQtPoJO/bgs2hobbYToZEMaqogVKArMyoXREHgQBCFgFDQTOUAA+2h5wfznX7kV/iZ4+bIM1xVH3gN6s7Ff3wSV6emNsfU3R6aEEhGMJL0iElBIBkPIzmDcAoBBpkq1s5MSSvEwtIiLP0hoFgJqALoAJgDFCXp1Cmk1bu8mIz3Z1LYFdWpFoMjEPd28pbQyUgIvKEqEH1WpTIXItRrQAXrrOys3mHZ/D9btatlNqXKwNT9kZvTnvZj+sv8tuh6+upuj0kICEWKtEfwIUjQZFBgAcRTOazWlGbkYyMAQ0u+zQEAWg64K+w3a0Oly3QEfWKI8VPfnEYQdLWBkQMkF1CCgHvjjaOVREQlj0ebbGpf9oTGJKSXwoitRQJAbubapAbldQFSR+Cg/TZua+dnap+6W830n7RjJwTTEVHqRfPNfOEbrflPBNtG9Yzeh0awFKycJhJKQUJ0AkJRkEoIhBzCMnMpNOvpA2m8waQi3dSChuQKNgwAl14OoAnNE9s89ACzeCKax/Jth0aQnSdQfwBKDAgGQABeEWFAguVCJz1DtAGACe+s6a37ybf2f5pf28rY1Gaoqp76z+LXy2cMcv7f3Wao0GNUWnWy2AWliOT0hpsHpTPhUgKQYQjcyFZmQzpmZMSgRtulRetlodSn3cm4IBcvjxnnBeHaT2HzcDX6IxADVKM2jIHFccoFQBkNEQUQQpee25USQQfiDaXlSkaHGL1cJNcAlAAV7atsAf+rgfvKTzluniQ03x1K3CzcIZ94MPZb5lvnLBNYMPHCDg4LYAmIVtCH96BAEKEBlunscyEk3REABTlNoBIZggDAH4wwFCpoKjX9sotgzqnniifADcQPXp1ssn1ACFTgEegEGPAIAlgYtIhIFbUPoMFcJRgWr0xRiFBHfxTC4D3tom8Wblvqgdl/2+Q80VDNaMr24C/+G+qB2X832GmmvR1xRdtGFNlUlOMBJSOgFQAYkkQCDH+unUJBY0u8MBRNiMRloLMxAtQKqmACzd3Vx0hZG7jRRvAVAuhd9jAKNIBaZhkG0AoBBFuLi0LKhCBGpY6Ee5weJGAL7aJuFmZW3ajl/afoaaW1VfU2xtE+APc+wHv7TxDDW3anrXFJ1uJUCuKgiiIyIBAJJvqrEkR+I2EG1GUmQHIiLAlMsspIpmDH5enx/sr1n/78165bmuu50HEiBlCpylTMo4nA/82wJC6gwK7zfBIkVVQQCF6Bq3ibRSwFpR5HsF/urmxGbhF2uvx6C93+GLizXFVzcnNwsfa6/XqH3f4YuLNUWnTZRXFQQgJIwJAMAsxkVGm3vSwKEiJGlMnkGj2mTpAbMNBKmwVkSaZiDc9Ctl/d7DQK4zZb8lVkDq66smKWBFZVdvajB7AiFVeIqvN0HEMIgYuKiwNqL6EAEe6s7TP7z23hteQZtPLdSy4JriqDvP/vDae2/4DMZ5auHHQk3RDUA1AW4zAF9lECCllAAAFCBqGCyDFS0xIgkAAhOjSTKqzSQkfMkBqA0g4t1p51jJPwOvbryCBBgpTPnEujh2Xilt78EG4p5gQKVCgjBQ4XIjSFcQLf7qDsRmEYCy9+CXUd5hXyhSVzPGvm35mz/7juI3u7yj1y8Qt2ZwYRNuMwEsppSFECMSERIAwDaEQZCIACCTlpRsXAAAkE7MTOZpmqEThiHhGwBZLAAzADYBhJayOuIWrpAjwA02qd+l7JIy2qRzdxRsUGMkGT8gXiBGkFxwW5wB3toOzGbzjc/BL80dtsWt1RRL3Tm52ezjveh/09xa1lpN0Q3ATAA8CeYzARDKVBYQIRFFAIAEmBwxkAGHn2MAIIY4MYtsg0lhBnwFmOFr+DJuI6LXrDpDA7iEIFl54R59Taam4wcRKH756D+IEqUggMgg/kABXtrOsr/sw3cED9kzqX3Waoqt7kBuVuEzwCN5yJ7Rm+vAWk3RhQVPQlTqAIAly1lAREQgAgAAcKcRqSEAq7Q2yAC2o3FVsk0zrswdjCYB/4Ib0HkAwBSuw49f8D9AueRkipJdMCgjMtQXSGQ5AZ1EBH6QIFVJAgb+6rbkZhX+Ax3FC8/omhI1xdi3Lf4IKGZ8FA/DM2yZmqILC54imwgA2GdAIhECQgAAgM1soZEERKwKACAFeWNmjUUPGH+HAlhtCahEBZOgUOiSw12FUExPNvKLcaz+BIKbp/NJvCIBCioCg4Sfigseuh4ONlv4Jtx1Os0z1X1pTfGTvQH5V/gkuOt0Snum3pdrii60Em6zACulHLOEEwAAY0klTAUCGwJaIhYA4ChdyImpWdMDvCaZkcGH91EvZEEdIUR9JR5RoEtQ4op9YoaVNdwJBbrXKOiHjsB2QCTxywyDErFEKCqKRbAEAB56DoLNIlwWH26Kn7Cr1GvsTGfDzSrsiW6eND+21BR9YEAbDEVb+CMEIWECAMgKGmAp6ORAkkwszcK8AoJI4Nrk0KQwDO61dh8LVAS4yky2s+Zp0ss2gqZAup4HAIoSqgaDk2Zt17qdqFnykQY31hqXgnHm1gQvl2uAiEjol3nav8oAnlnOoz/CdqUvGH5sqdu4ac4Rf4T9Ql50hq8t9Rp9YFkWDEXLouqMkCgBAAKhTNE0LieL4iElRKKRatI8RsQR63lrGhmkuhZkqRfXAniGnLs7h9oh9couknPrtnq63Hm83bAApJbmXRIkcY2QF/B59L5GIcp7QFHr80ZAf4FCxXJzrL3hvY3NhQR+aR4M/wor5weV9PUiLuo2Zp4HMpstbBnd6EhfLyI1RS+QDDd8ZBIQAAkAIBwJbaTAJcjR0dSYm55evKylZ8wl7YJoKk0zlstJvs5iObGRA+XOTJ6Pp5IAs2GYLJB+7mKJ63T6OFVCiOoKFI3PDXun2EVMQUmP/BKgi+tOPdA9o2gDvgonld8CSiqH1MnefsyxqSm2xpGymQWUVXZKp3r6EWampugGIIp6AkMlGVfjAABABAAAgaLqRAQIhrOsyImh/ImEZnEogDewF0Coi0NTfVLQvbWlszKXDVILAIRUyQavlub4HE4CfoG2fty1B9BXEUHEMgB+6lbVzSqgkvBIer1nyuFLTTHVraibVUAlwSXFRedO3QO+1BTdADLrRQJDllUyJgAAIAIAAMbBiywAZEzPcmVMx8RsBLq4NQDJH65gHaILiJ4dghvtJgkQKTbMygH/oR4lq3/Ui7aRRpkC9A1WBEEEPsoeRv4VvoIO4UPytErNuNrOo80qfAXuhA/FM/xVUU3RDRA1JcC5LIwjwoRIgAgAAKA2FgUAwDBTWGDgtKW5mWkApADEhACDd3Qi0vYD968ILC8iyTxl0E89AEU4NYsgWTNA6Az0HVEBOEYiAhAnIAAeqs4pm5Uz310/f5e89Zta0pqxdJ3lNiv7/Pb2GzVvryYpaU3RxSRYNmWFPyACAGATK+oZBZIyhTQykrQJE9NQHRelDenQliBMbVlxugamZGp9OR93ptDYBJXhuOeIMStFuGcDAdCAIA1kyMBicHBfGMxO1yoFVgZcGoHJBKOISwE+OR60f63hh1i7yVqtKVaSB61ftPH/sfYma7Wm6DTVQv+JCAlkRIyMRjpg3tj4WTYqI5k42RRjQjZJ2zKk8+JoGIw17Cb2DcFLolk2SBpN7vzP+HtMvo07/5MD2J7sKPbWcV0aCG7gXyTY6+zGKecmrPJeWriEbaAzx8gv3UAWxmsOAajBCi4q/vjN2B9JPxGvHnKe1Ho4vAwH6lfsT8RXn+g8yfUwdNqy/D9NBKIWIs2I3AnzuWqzOhtwIBmaRohUDBgV81BJI+p2k3Sn76bOzTVC/f0igsgVy3mD/dh69QKo55BPsLE2R2Hqek6utkfcQGzekTqdNwifwLpFO4+2H7q3KXFzQNqVYORsUEBAcoNUQKIAvkkOwNc2fkj+6EHnWq0NO8s2+N42H5I/epNzUevJ6DT/jwkQACCjzTaSSRPzkilbJZthwqSBpJkWzYwyjWuxnzoGzSR17E3o+Oh3b7i+jk0xjfZqp8QXU9286uH97t2c0/B4Hty+Pl4s49OsJcNwG292RkniIB6BFOv3sxWymIwa/c+E7RqwAB75HUSboT1n1o3F8T8a0VquHS6CN+A2QxmYGL3jv61aO3QxGTDz8p8REQCgIBqItEsxkaYAIuMitsVunJRz8nyeNhJrQ3IwhyZD59m8vPzs99Rc5vQLlWYhEITkdHNGR+z2Fqk7adB45ax0Sx35ATX2q4krGx+5EFPyduHmQeH9sKQEZHXORufP1ueDm1AAnggeUr6VBAm/9RDUipfhDPGjLYOE33oQ6rLotM5e0WNKAIB7jmajBdvvoNnpvCDmyaLMLj1hwMHpxVMXR2TDMtVZZ0lAy6iZur08NUcyVcaixJJvuCfcVFnTt3QcqZ1OxaoAzI3wKkedy+t77c1KRA3dls0eESXnrXgtZOT8gsuUgGCwPn8MAB7pHeI2ky6LRFs1/+3raoeT3kF+M+kxkCiX5p99g3V06DQs1ccEERMAYKo4bDG7PHdxkpmREel8qUWdd5lldWBpKmLf9bTbt2Oatp1EHCeiG1+uDTTKtHJta5KRNIggLym76cdHSI95rWRMjNoKiMLB26qvsZQr6HNaAD/pBqIAN3BJuDEwmTVeb7IAPhnOqL+ezQvxUPxB7bBSnFF/nnFHfDQcBlj0NaPTlFxVM0wQiAkAEAzmLL5/NjZPG9kl2cVdlLdo0TIDjYX886DtmCmaZJwl5dqpK8rjPM8cu0Lwg4mGGsjGP6zb2jufqL52mIv7sWP0MxgrG73Yl1ELdYqQs729gJd9Sp6eAizkVu81n0sp0Y5PZ2dTAADATBQAAAAAAMgtAAAqAAAAnCNt+SGMkIhwgIJufoFydG1qc3Z8fYB+enJ8eYeBf3OVjJB6iYHeWba53zxyvbrzm31+LNSKnWab2yzszFc9v9vzz0LN6DS+lKMkjAkAEJ2NE1NPTI20WZU7kIjcnOykgSfp4pxIMh72Q5qkEmtS/QvwzO9aHX+7T6ymW+4uIw5GTbG5JP9rvTb97g3Tm3FX0tkA1Th+S+Qcy8gZfvWL0Ck0E1E6dlAQGCwfvxiSxy+qGf6ZVojNpjJxut6j9n4rHp9qip9qhdicytLe9R6N9624oZrRaZRFaxFwfEoAABEZkjQzI39eOtcQSf6BDJC7sCAlEgsd5jGpMVTJonjxq9B24x8d4+9Uk5LK2jMBpQGUlFzahrJ4qQ55xxRRVgBAGYAC0O0D4C5JpX6NL7sIg59su95YVLKgjyB7Fg8XYcRrCD7KBugvy2Z7tS3PW/vIsJpxlI3QX5ZNe7WL8HxqT4Zqik6j4icYT0iJEDSaMYy0qXQgWaFCNt9AMydmsw05pixO40g7hg4WyAVf+4HrAs94TRtk9/pJKVg+S+0SXiOpND36wfj+/o8Co1hcgAMgMC4UPgShBulcGB9xkrKpRSv4ci3DFe8IFiQeC4d+M7OntleIxnyHmksoja4p1sZp/Oax7akQTX8R5hK0mqIbACqAoVkIJSEgIsIUAWBIiBBeFDKhSWYbUgaaZEVGiw1FeBK6aYB2a0LNuB0ZkHtdtznjBb4l2dTGmKO+1QmiAC6WCwkXCRKBJRgAvtrOij+88e9YtPQM/VtdHFwztrYz+g+v/werkZ6h/k4Xja4ZXZAwNJUsQhDpPwIwdjypV5wKZBGdMJeQNncaZOq40QYtDSgVIPMSJgGKA6hebkQ9M6gRboCTIllNPG8TBBTDgNZKpIB0Q+JB8N5kUa+DhF8kVa4CaxexRkG3AhU+2h5G/3L8P3gZjiepGV/fOb1Zefw7eJnuUJ+kpujCBkwBY6B0pNMTWZiQICkRIsshtoyzOJLU+FOZ2g6LzDEOjTHtkw0OA3kAxDEAUQAKqgzHp/0BDM0vAGkUAXAdQBQkggmuRPEgheRZxCsqP8mIgr4bTIj0wq1xvWaBlBhtBHABHvsOy2ZhF89BcLzD70NTM8bCw7RZOHofBLdnqOc1NUUfELABQ4EwIDjihBgxkMMoAUYoI8AADkoYlwrJYO4ggHGG7TNCANkJAaDFJnYc6MrctgBwT4uQFCCzDIaKigvFpaKgFrAw9EmGhB1ULgCeyh5wm82M76BTPMP2yRfXFFfbA/4vM76DTvEM+wdCaU3RByZAD5NLRbkE+BMhgCCEBrKyZDJAICFiYEMSCx1HiRoS/FrRD7jgasCXsC0ygGs/mvvcBOZFRI1oCPAFfoBOWgTCoArRpWWCtD7qdISbOa+YYDRQ0l1JVG4YIgB+uh4Umy2MCXcEtd6hHwCdWGvGUPZw/FcoFtwR1Pr2ANKJtWb0AQcwUMJLEuQMiY4TgsBVaIwJY3MlQoQkXG4hAMyNnOIFZPFicnzUwLkDxAJgEzc6Boz3aREHkG4sizoDnLOChhKRGnErQn7p3UxoW6FYLCtcTF+E6Lt4l77qJhW+2s7rv8z9PaROcUd4LtSKre2c3qz0+z2kRfGO8EyoGb3AMBQuJamJjjQSEDTyBonCRBrQaETaGD/lQBChRl2nCBQp6QB/ALYo4AeidYEorUoFADQTMKxulswNko1YKLhcg+QCESFGgiFqhQRBWAo7DAC+ys6bvyx9D7LmGeFFV6kZW9s5vVlZ/h1kzTv8i65SU/SC6RkKGJqJMaT0SAQAxamoCVqKLRoaYp5OMbOoXcmCBlBGQCADiE4IAMwAvMAzAqg5jNtmgIGuailA528GfLAQkQRUPy4GRZuyoMJFalurL8AwAD7aHjR/cfMcVMHTeVVaUyxtD7rNSpj/oAreviM1ox8A1APoYcLCJVFGmCIlBEBDJQIiajZYiAD15o4DAJ0mELS5CECm4RjAAzpGAMygi+Rygb5Kr15ZjSDuYCBAvKxnoXupgjvDDjvaQUM0DAD++s6mP0z9DnrBM/yvTGqKsfBs2ixMfw86zTP8j3dqRh/QAm2YAkwBbECIFEckIJFDIZZcFQuMAfdNpUgmYbStFLSLffyAMAlAjsLingDKDHZUYMSyk0K3pwAWAdkGVASshctlwEWsFZEB3urOxc3K0u+gVzzDP6xSU3x9Z+NmYfl70GveoZ6y1IzuwfQAsg7YYGGSsCFSJKQJARCzQwFJnYTBYHCTYSBU0uYJBPTTescugnRhAnADpw6AAqP7j4vEDzgygB7GYwCeBKwAAmSRt1DoS8KyOohcCjUiAR66HmKbjfMcQq86TqlyrZjaHjB/CfEeQid7hj6lyjWjHwKgnkALpli4JCyE9Dgi6KbKgO1SZACDs1yxEdBYTACO7ACgGkDmApxbQg8AaCo8V5pGYQGVT55+VfAkBFyQMXkKmNw8CRSDFNMi8VqXGpZ1LbynRip+id448h+ECLiTiI5FUCtmpjdK/APwH1KUHadEUCv6gBYYGIoqAzAj/AkBUECVSqCAIBmoDELSQC4EE6QLCGQ/B+0ZSN2AnQAoBxzzGAGkw9zC7w3ueL658WDbKpD4EBR68V5XWVH2vuAS13hrDbSykCv4hJbrE2+UOxABHnoehv8VqoA7pRf7HfaMd224id4I+hf02ykdbucirhl9wAEMDJsSKCNLPwEAMI4AOFTyhYENIIIq2ZwNaNUigPhoKVl9688AWBcgsYGrnESoBYCcBSJI2zUooeTyUgDgCaCQNZ6pjVWlUeOILE6tlDRwCgGLbUgVuz8a/AZ+ut5Qbi5sOx8stmfYZ1FTTGUP15stbAcPVtsz7IeLmqILA4ZwIcBgiJieAAACUBAWJ+UAEfOODQMR+dMplOphYQzFSKU+V7gJMg0jgE9OiWWR/U1FLSzYLK8A3Ni5oshOdof9XGj+wb0Y1XX//xc4jsKoJiQkEjhVoIRWe4OFD16qttFmpey70y6Wb6h9WRNazRi6zqA/RPpuykX39TuZsWuKPrBgwNwAlR5lIkwAgDSgIQzOknWPjCy05Y4DIBr3sG1hVOxiHKWbxg7br2EhNw9FBVRH00jOc4fQSBy5WUDQiqVgInMylHlgxnNeuX/BPa+kgChCRCJBoNwnFL5pziqbFeJ9cdn+XPRaq1exEx0qmw1137hMPx5AotUUfWATFkwm5TxBEAGACQAQhFVeAEpEUoWSDKnCuC1kZRgXW1SqYzz29zhH36X1Lr4RXBZeo7uWebTn3r95L7V+x1lIu2Rllwm4axImx1P41tsSmsanSGDtYAgXnoke5P+CPjs+vP04T9QUO9V58i/ovePD21cOUFN0DyYBzACMTC3iJQAAEAEAAsjbEqjkhjEAUnyONiC6VVSQCoBUw34w16AHkGug6phUGlvNV08T5S8Min6bM7eeZx1htotu85Hhh1Gp7PkWVuaD440A/nnOk38I8b1YvctP+Bealus1VqKHW39BPDcevunHuVZrip4BoBGGajU7QEAYAECxh2QUVasdAtFJAw901AIZF4YAtbA/ASDN1AOMMJu9WXHD2g/VLXD9A9ZE2ff2283rVsqVPVzyEOOMW7q7Jd44MGnEL+YqfgGRhSDABH6JHuB/Ac+LX57tz+WRvr5ipnqA3ywg7he/vMs/l0dyow9oAYlNKWFKzjKARBEAoLAiL4MjkA8BITmQ4xFjQWUnRongxy5FANyEXw5MPSBgBmoAALFUDiLlp20rFkm/IdJXdt0IaTbuMdjD8cEpLCrwNQMBlAI7pgIeSd6A3yxCDHzpPv35cY6ot/hZHoCbRSgMfOk//YX/Yc+JehX9ABAnJdiBuar4GSFRQgC6OpGBFdkJCMCFaVKxBYAsDIupgGidgG28m6PTYU06wEtQs9hhlsp4ZupRZwmJjJAkh1MDCXAtRNiT2923IQaxoN2sPgvgC7uCErlcd9cX3RMLXCReqibhH8rcN+mX4yfCHEpNMXMdcJsVYfad8On46ktRU/SHSBA5A0AdwBAuV0+AKAYAGB3AS+pSEZgaj2QE1KIMY4C0bHbGohYSAHFNsgatnlY81FG+TnQut/OpOMpkbAXOS8EpxX2ZmxbKxpXBYYm6cnWEdQxwHTNQMTDcPhxxIQEeilbIzYLP+ynB7SfsAxegXsVNdcBvVujnLsHTjwcmQE3RByZBwjqTL58AEQIA0kxlLKzSwY4tGQiL6mRDJGzZjKXG0IAw8rLnxsX3piIbnuUyTt9sI4PpjBRsmqphYvXlJgfids+nFpxFDCUedAOROs65T3EMIP4CKBSIA+gCHooO8G+o7yH+5vgLOifqU/xUZ/BmwbTnIf5u+3NeqCn6AaCoAxLWYcFPEwFKAAAFAhKgGKqRJFBLsjI2RGOiaVKiERzBPQnQLg4CSOgXlraAYXa88WjUeh5Cu+82kF8uUssN6mXaumEZkk8eioBqRYZ4Ab5ZtthmgfH9SJ2Z79Fhn/ofbp5t/Quz+T6LxQz/az5Muf6K/gFg5+cZTdMAAADEATEQAMLdpllSKxUxnRGXD7pwwfTUNpmatzGMglCKsouoGtaxoEAuF5xn8eAmr71TNU/DAem74+94yP/v31PuJzpU4fZkld6K7Zj9OMZaPD2CJNIVg21DbGxFkLgEXFiFO02FcqMnnmkeIDcT8P6UX+7z52Usrd+w85xHmwn4fspv3vvHy1C1Z9EL2kld8WmiOAAgyIxAiN4iCCltZBeaOZssM8lmFRWvRoGY7YYbZP5Hmv///TeWN2PysDaQsUdKnQC8rV2mjn9TIqlT4mijvhqPN/lV7usvrKgN0fTvZsL6PlQDE3xyXKCJMdtgzXeLDwC+2s7jzSz8F99ta7DLT+y/llUPNcXWdg5tWgGlSU8nc9pfbJ0W1Rxbn9ENgDxWgqOSrH6KkQAACDGkfBMMEBkiyZgYS49tPTnNCJHsYEJSlBkEEBNM+BFlAQDy1y4giw3f8laWlfCF0aijybH3AxAFjSas0cAmGIsgasGuKjQ7pwbrJB24e/HBMqixkrCO1wVe6h6gvwRA3l3yu11+7JcLqymWvgfxZuIT32343ck/9rWaogvTw20cgJCUjEvBKSFAAAAQCmQllRhaAGBFi2TAAEbGh8W7GbF6dbQZ7YBXAd8MSug/uLgBV4FHjGaAV6CS6gfIX+jpcgBPABJcMiuK08dybBOQ8FOwAB77tsWPAGj/x+13Y/+F2kKHc01xFm6bTSsAtP/jLL+b7S9uPdtwrCm6ATBpDuDBglJJxWPBBAACAEAAJMLVa5AQ4HKrTQIAoAPOY6qxLR7MbZqSAtCt0dfo08IrIMcBkMi15t2vdBYJeR0LMVQJUjYFx27uHwB0QcWQ4Eh+nTOh1fcFZPFX19ECngrPsM0kAJn9NvKncX7qWrxpVFNcjYdsMwmAZt+N/Jvhm1E5armm6AYgy3oAh6WBEivElABAAACIBokSl1gxEsZitmjRZJHnsCgJsOwkAGgAGLYfAWgCgE2AxlSOABLHAMoBdORHGJQQkB4jcF7NAcaHAbwlaOca12eAf9H30w5IT2dnUwAAwMwUAAAAAADILQAAKwAAACW8TYsgiI2Eh4uGfod/eoJ7en16fH2BhX6MdnZ3fIWHkIF6eHIems7xm0n4OH0FusnFsjQpVWe5X8Jb+SX83oMu5koTFzZgyErO1RdEIgAAMASV4pESFDeIWTo9NhY5O9vKzTbQjFNBcQj1bTTeXuLpyugwctHocIie0/0WaknrNTtjLpvQ4daHxSLYARUovab1dOuNBLYtI+h/RrbYNl77uGpDkhztrXIYwBoAPhkeBD/KhRLn8vaj2Uq9j5nkPNxMylYh59En6S371BS9YLFwnoueWMIUANCc4qy2Ud3KoCsiIrLZJfPmW3W0SNvNuN++bisCMqyTIAj5vYyanMEoA7IAdUJQNxjEuLDZIemGgLQSZLEdPfLr7eKETf3j05olhlVkODV56K0Kp5RcFadysE8Ayy9GgcKN/ijOhN+xP5J+efoPteHkOAy/lQQRv/okqBm9YJKNlVz99ACAZoQBgkRJRQLVkDt1wKFoaMRJMUeIpoHpbMbh6KEzxYif0ByT7olAlM1dda2II40VXQ4Q9YtwNugrqfc3uOdbMiQOPLWj/2fRnSpMcsEYlsA6FSG59mIqjn+3nSPcLBAAPunl+VcjXypg+wf1MNwMc+RHaX8i/t6bQz0ZvSCxyVX19AAAMGUqg52PJ8IQJeM77OJFTgycEEmSfyEZm1URgyX7LN/J/LRSbTgbQd76fFP2Ln7SgAFTeuVclTQNw5SAO32On6m9t+dyV7u36jYjrtBX7jn39e4fy2DO5AkiRY2LO/DcHKEO/hhWw5fikBi/2f5BbThJtjKfihMyf+uNUDP6BYBpwABT5RX7MwQAgKFeAIirKkKWYlm8URiEGAfH7I3bR4hKv9iDhLzSctP07l0dK5meSYc7fb4h2/8Y8WZnHb+4kSiTbJvq06p3PEsyvTbKjfbt3SCYfNbCWSJ+Ta76CAw3d+E6jRunQ2OdgMeEBF455pSnqiK65kcbqUetcGnm7I/Cf2iZH50oh1Az+kAb2sDU8/yfAAAASMHgrFFqAKu0aq4iZcAVXTbD9pa22dmUrVnxCcWaMWpywE79HX5MWkJMZdPSOZ8CMIOy3HpX9265/WjIAK6/DSFwktX06Yp8Vlgdj5KgroXr1gJHnSGW0BbwywQAvqkmsj+g34vV8KeOmuKoGti/CP1frKY/Z0JN0R8AzQlArRIBmCzL/xgJACCQAKkcGwBDrbkBwLw4V0DHru6kPHOZm5pX5m5W9qfsqt2If3nhirGF7Y3W3qghMNJ9L5dhrHj/4cZcPltrLAS27GG1fb8EVGLl+uSIwTGgjgsBHgvHym/hW3DXyYZ3hA9IQk1xFk753wIKHe4WwfAO/wE01BTdgwHIqAXgFglYyYW9nAIAAACCFGXuiy/ZAMJSPEkADJaTb0gSYNiPMVWz2EmFKKVET2Mvuv9low4liXFBDUrBCtHfJUOTCJTzjWvRss7zMo5KCD0pkm6CwJcMXAJUdoiwApoAfurOkH8EFAfetVzxTNAzr9QUU98h8UdAceCj1Sp4uoPKUlN0wSGw86p+iiBAAAAgZQRZvw2gmmv5IrfXuWcBOkE6cAgQVXGAizgG4FMGyFhTyQN8yoIQWIu1jBVaAdF82o/kncm0fiuuYGKYqqEmuZhhIiYZDCPiBvwCBLQhAr7KzuA/AsDtsyPb5x3qfijXFFvbGfyHf/Psmmrvb6j7wVBTdAOQUU/gMCyYnxghiAAAgBAolSMApHnLw2hhaHDRtkI0ppibAGAugE4BQBM40+RY3Baajd/EndDmwbQH0EBBCNp2rV27Q7AerriBkCx8AeB34QYU7icCnsoO6V/2i3cHZT7Db/kKaoqr7ZBtVtZ235WctfsdYTtVXFN0DwwAMwI8sGARZtYnmBBQJACkqjh1bYWQLgAAY66YWBYAiiSDAYBuZgDMAwAyFAATYEtANQCSQkG3BdDltIIBuGkKBgC3XCvBcRz+/gWYCJoSCI4AAD4L7oSYJaBSiP7qtuRmFbwB/kMskmeETS81xdi3qv8I3oDvQlM8I2y6qRndW1iAjNkJPNAGCzMQm3SGRISIAGANgCEwhfOSAEMYLwAAgPuSAwDA1kUArAHQAiDrFfhE9gEdAZAFABUAeglA6wiASESS4uOeBwoEUeHC/S6AIgHJRRYLJJ66DuBmZd8+O6rkHfagFdcUV9kB2KyczX5QFe/Qq9Ka0QWbOKALS86fHYkAANiAnRslX2OIiPHjFwgxGpdboLlZADKPAOQPvgSovAArAlsBODd4Pi43AN0SwGK1gGAFRC1rkTKLqwbpgyxyaJiQVUIaiEhQoMYILgwWfmneQNmswjD4kBbHV9NLnY2j6DyxWenmf0iLE37CNt3UFL3AgaH4XF3SEwBgDKwKIzwVRGkQjWF2IElmGg0wjMOswK8jWCUAKgDYAtxlJA7FbZZLQoNKvdAkGQZYI3PWmfIGaiJMsGUdRg74rgQGAiMFYqmLCwzPiMNCDQCeiR7gNouQoJfyy/EHNcVNdZ7cLEIcH9Ivxw/UFH1g2yAD02LmZ0xSogQAKNciE2CKFmuSABR1X74kZCCJRQDH4E4BwBqAdgLADOByswqusgI0AeB3oVXfzTLTcfgs/JEq6tgrVkhfDSIaJeDZgJqHAa0VRKK1izAnAj6atuFvIYIf4qftLzRqiqVrG25mIdCDT9tfaNKaoj8AxHQJgHoA63ZZ8+WUKAAAdBGMMSFeDSBgUClG2Bq6JAXgAyYBILIAqAoAeycsboZJoJqVAiA3CG+M0iBwayLflq5LboqMWu9BpOwZX6NMMUD7RlYGdtD8kcFwYQD+eQ6IX8JAXnzY/oeQa8bLdJ7fzELgFy/HP6Q1Rf8BoE9MiynVT4wAAgAAAJRAAA6LVUUBvBBRRQQrHmcrWG01AbjRsgFACoAJAGaA1eMDp8kfPcSoNzKttq/ZMm+1lPLdv0HO5n0jMayGO8VHGiVZ/w3McJvwC8BnR+5JBJ5pDrnNLCTwLWjH/zKTWlPcRIfcZhZS/FZEt/8yEzVFzwggNKlgSlPm6ikBIgBAMBWDFV0yAzSmzJCpDcxbMzaSAfnkvgUDCdQUgJr1kE90rriybkNM7O50xumPkJtvA0DpiGOowfblaK/cMTkrG4N8LXxOKQgttgFWQBhWbge0AJ5ZHiI3k9A2+7G4y19wgcfacPM8SG4mYdb0x+Xd/gUVeKyr0QfmABJmKVrOMhoTACBAEiAFpaWhAIzDMNmgVAiTYbVANe3oQG72NoRu8Y77d2BUhqWgJAEkf8hmxmI3Anv+059TeHhvFh2Xu5R4WUVngEDbjjW1ATXBh0i1IorB00eCBhk++c0HP9EXcbnHWzX2N4wE54OfmT6Ih3v+qZbrO/QMgOMMrJ9zhjE9AQCEJbAVl10iCDLGj5+8BMIUMgQqbZARvVHIZlt/eRnqio5xZB8xkkEGSgAkmT4U3nEKOwqw36vUgLqJeyoP1Zfc0MaFwGAFr3EGzYgVskrHu8GcfyMems6AH8rvt1pwj38RspTUzxiazoDNRPn9VglO+xfqVFEC9Sl6QQZTVSqfEp4AAFBnERGmSnSTy2KRjGjTphlTjsuVGhkyD+v9oB2HSF5XKYiLxbkqLnA6n5pT9bBR1xmfFUEB1QSOAjT6fzc3ss5ACsoAIgyyhX6E5ccvUxi4SKZFWGFgIubdE3UOAN7atvFm4Yv9FDDSN8K7aaBcdE1x9J0jv3na82rpdyP+ueBAV6+iC9qBoTRF2UggAAAkAECWIlJcShUBLCKNmEcqBjtxFMF+d9wXyhYJG6RzD3LQYR4CcEEQXHofkOZtHjYtdbqzpg3qoU/K6pxwC4NrCxnijRLe6oZ0s/KFH9Pvsmf4uRm6mmLsm7JNyxf12Ol3Of4LNTcrHjVxA4AmwBTWyLmZABFAJAIARJB7R0oiAMnAGx3MMDM9X1a2CJNFECvLBriVAeC5X9vFDmJCCCgYALoMMFEGXCoAoLYvAFltvoJI4SawEAKQLvQAnvq2xG9+f3ZPF/mdA/2i1K+muApX5Rev36+vS/CXA/9AZRjVq+gGgEq1CjYbM2QVEUBEQiIAABKAtOcNODSnST5dKjMzI3cWIGIgDQWNBQ0AKn9xMxTkLYAcATAKsFToLJziclPMANyUdWNCEtxAAIvBgEhVoQLeCrfcZhZA5LubVim/6x6sm9HVFF/jlvsUUAG+jkvL/+oerJV6Fd0ASE0DHBYthiJNAABCxEgEBBgIqEQARsl8qSmnppEzYJoBNHexAGAGgAmA6gwAcwFQJgBSDQBlQIwJAABktd4BP5IBNCk2DPCnANFAlgsuqjsPBHABHvu202/hr/AYHk5+h3rRbJarGWfhVtks/P4dOzwcz9h65yo1RTcAlNMBDuGmKCMxAaL0mAwICGUnCDQ5unI6r/NsjE8GnhiACZMaQIgjAO/BLgaAZCwAZsUnCzQB6vUtwFSAd4kdLgGc4jAEgM1KgkQLCXbkYSALTQXWHdix6nApqCwgAh77DspvAYWOxwyXXd+hPgD+qxlm4UHZzMI/6LjLw67vsBe8mvFqRhc44BBuKAwm4QZ4oiNRgMDYdT3oDELE9gsLnU9tIl+aAiakWQDkCEAtwbQsAGYA6BHwS/BLoEkAGADQKcMORvDBShXAPs8LAQAuXNSIGsFAkSwurqIwHrdkNLl2WFBBAL76zqTfAkoSd8942f27rv8G/dUUZ+FW28zCX+LxFy+zvmPr69+Rzrg1gxsAsjKd8BRAHWC0WDhxAxyRxgRsBKDGMQgAwDwMAI2r2r2vJy+ajfJPGEEyA6BrACgWAVBsAkDMBcABABZTADoNAZAAQOPHtWsEAxDdLQ0AEEFlsKKBxf1RXRgwfGKQbhK0cBECAP76tttv4StwR2d071D7cr+a4izcar+Fr8Pd0JvdO9S+3K+m6AaALOvgtFgMIZEwQYwxHgFQbaCPRRhM2mJKSUbKDgEsRD4AKg8ANQFgGAqACQDMAcA6ADCPAN4HAIA0uCgvgAIA+v4HELFEhWpxgz7bJlAV54FWnxXixQ43DgqxAr4KD+NmFgDKf3fHVavvmj70V1Osjav1U/hLeX3jpdV/sXUejKZeRRdoYbGYDIK0IACATomAQYCCOtZXS4h48045PYslMZ8yZ2BADgtjAOgGAD0GQM0DAMwFoDPQmF1kJwC4l9wIuQkAEQBpTQEouC4DWlAQCLhgFoEBXuoecptFQFHp2HqzezvXbc0Q+86U3wKKAo+nxezfoS9dfzWjCxwwtDCYEZwIkRBHAqUQ2oEcSy4qY3rZRmZezrHVLJYaCsA0jwBRAgcFEAsA0BGfCD84q6UTAAoXdJSIIrJvIEovU0DlRiwILqgSl5tci1EFiBcMnvrO+d/CH9wdvdR9XXqd+GuKq/Cs/y38wN2tSsvbBa//mqIbABQ1cFgMGaeSkJCQEgDAiGiEazQQlUwwfjU4volFSyeUEPkBIDMAbAkA5hEANQDADHgSRyjAYDcAqmEx4eiuXzbgxy6iUrEgwqgIwLIAT2dnUwAAwEwVAAAAAADILQAALAAAAIoBcoQgfHZ0bnJ1anB+fHx3hYOEhoeFkpGKjZOOho6JgImBi4qeyh5Kf4WvoN2Onba+Y2tZJ1hN8bQ9PG5W4ae0m7E316f1qym6AQnKKhihyxmnJhFSooQEDBTbFFcZR5C5fjqZqNO52VM0YLW4HABIKgDKALkAICmtLOAqgM/V94GEHwCkiw8GV9qwl0ITgMWKkEkYwBIhuiCerdVAX0AAvsoecJvNX9+x9bZ3+GeWmuJqe8D85avvODrbM+y5pabogm1j14YMCZZERIQUIAAytmTHHA/BGvkndKvBrObNc0OA/AC4WAKgKABUxQCQggoAawAFrNz1KgAVWqRfAyBdjR3mKJ/oKfywQGODwkWfYXiF4YURAH7KHub+8tV/FJ3j7ZRPTfG0Pcz95a532Ra3Z93hn5rBBdvC0CIkHIRNEsRIiAAAAFRgc5kVCxHSscGENCPJyDewBjKZhUIBzACwJQBYA7YMeBKU4JkaAKA0acFugJ2z6xrOxmw6jilAhQj4KywDxAsMrCRensrOu7/s/u3oTc9Qz5ia4md7ONusdP93LGb/dC6vpugGgLIGrAsxiaHMkQgpEQAAQiZJFIyIB4QxSUU6QAI0O0EAugAT8BwwBzeDByjA2wCDffkcC8DfFex3Ik2OFcAAqwBTElhuIkLFhWUOBBeeqd4I/SuMgge9sX6dp1czbq43wv4Kq+CO3l7fzunVFF1wCGzCpQIhJUaEKQECAIZoQc8GbDQc39hM0ohIBgwQkTsCOBXsStgXAKYC/QXkcAAuXlAFHN5mRfAcoNLpHFQRFlLfEuBaogjXBQI/hnUFHAGeys6nzebUcwiX6Rn2grfSmnG1nYt/2es+eJjeoT4IK9cU3QCoVQFD4TLlkiCIiCgBADCAtHQMJnRRzigkzY7PPzVFetxNUcAJmBP9BdBxHgowJ+Q4zBc9mkyw5IwmiH52KDidWgtQV4S1c4IElwUiXGQsiwg+6h7Qm5Vv7gcPw9ObxtKaYul7wPzhPfvBw/b0pjM1RTeANAOwQVcFISUkBEgEAAARGRUPIQAhsnGFNjNnWbkRiGTisBCkxerCPQFLIgBoAAghfthlXYhBJkEuypms2ylgcVkHgBbXxYIKvtrOxL+c9hystmeoF72mptjqDuNm5bT74HI8Q73oNTVFFxYcYskxPBICQAgAAAhElkxhDAsUYnq8aBJigE632gEDQEcAHAG4CoBkEYAADxLvM+emCAZEZS8rgKvldE4jyTLvnTeGYrFcAW+Bv1QWFN6ZHhKbLWzFO1alf+uTpaYYqh6Qmy1snXdcyuOtT3etKboHEwB1ABu75DeIgBIAIJDSjAybpBCFgJGWQTQGsTgjjQKSiDpGHdm3gx3HbZZG76RP2b+Dn9qq1D3lXnpj8yvutJ8FQOW1TviRqKqbzQLrDz0AUMe4MESIqAgVBp553gj8K+xLbsrD3f04l0RaM16iN4b+Cv3ozni41x/ncmuKTptmbD2EIAECAQAgouNqNJvFkmWmUBohzRt4IDKaCGHSBA3QptGwcvgAUA6QcrB4kjbovbyiXGRAPWZ3bZNpLqAGyICVunL7iXv2Xo1hMFJvAfDVGsGqsACeSR5GbhZhfPoRHt7xvzOiXsXN8jDyt9A/fgkPP/7p0ci1fkYXG2CdyZiPFJGIAACgLJpskggillAymiezCjGQpRDpgIEi0goooaPVEQ9sJz5u8rOxUxjK1zpLk8PZiHtOsxVAy2c6X4HnGE54047UAHF3DPAXg35HKogUHnrO4T9CP/gSLsdPcB+aeo2j6BzcrPj9v4SHu/6F9ANYdxMfSFhgXaiayykBAAIAJKVCYMUCAOS0OKiBEOwpDoKQRjRE2BIqPIl+B8FNVqwMhIbDhasu/XtcoW2Ifk1IQgtwDxoHhiGvPUBYDQqh4UNkGUBoygJeOR4kNoswOn7sRfNfn3y5pnhZHiR/C33yx1lt//Xpp6boB0AFEEAYy3h5SiMAAIAJAtVuC4EKyrka6nygoLk4HaOQeyUADbev420SzMuadJjPOpdc78nQOhBwsiZk6Xwca8oatKjfUnJh9+EhBqasxzFihTVEN5sWGeODtWmBQi3UyAYBXikeIn4Ja9lPWnsT1BQzyYNoMwtr2Y/L7T/UjD4YGJBaeFn9VCIAAJQJwwCsMLVkSFVyI2rCMHCoZuflWkEy2aUCjCEVgUWAjgE5x6WtK3xhNRRGmbrd3LiEYWOUmbOVCYdX0J9A+zfZJSPbQo0xuPFmKkZYr41PGaxvF24E98YxMABe6R0gfqneSsyHP3+GqQ0vv4Pkj4o7iH31Dw1RK/pgYBIYwjIXxU8ZAAAASZYdIBdiGZUqIQiSXI4palvHjq1JGnt7CQU1xr2Q5GCMANSdNiit0zW9LmGsyw+u1BBOlDE76faS6m9+W4FQQmaDT1+/tLhrhEGQHwSGxsWxWnZwEzrCPwBe6c3AbxWNmHH1SSZprZjpDeG30ohpD0//zHJt6IPBJGDnZ/8BAQAqKwPKxJwGglwhmfNBqlhITYPWwGPSoBFoOBIxyS62yRtLlbmv071gHlnZOu7WMznGc8bGlvR05ND/lVia8ZaM6hjiaq6WoiUE80QxxBWuDm5HI8uOunq458DKSZ/IAB7pzcAPpZjx8ufPRO2w0huCTyWISY/+oZnaoQ8OGIBx9j9DAgBETIgVaS5JBBVhcbINle1EShoLZbrYLXQaqqUTQ30i2vZ0Pu65lBOlDv1wX6fvNrOJ0nk7NeRMPiGMJbYvykMmo8FQj126DUqhHm/YR3bRJzonMreZrA7jwQoBsh46QWCTAp7ozXIvJaAwVm//oTZ89GaID6VBpj36x6Eeiy6wmKz8PwIAQCxzYYxIoYOktGqIWeg8LHO1G0vNp8bs5ONqZdnVMowZa7exmz83J2s7TW1rKN3chIKWIvKcuJnTcu9m/RVZw+9qlzXJ4nc8CjfbIu8Jo/fKp+5gUXK2Ha1khZHHCmC1YAFe6B0An9Gf8PD2H+ppeOgdgF+KQsKrbwR7UHQhA0ZWVv8TAKBSYV9kLWUwFxRFY4RT10majUnbhodYkubmJFlla1UyCLmh4hRJeP9mHJMv9LXUcynFiw1o9LA61nO/ce0ESkcAYXW6G/f8ysFcI79eMR3/ez7ckoIUJvMNzsv0cSPDlpjximLVFPkqgNsEhRPQBz7oHcDPpF8oq9t/W2qHh948fioWCm3tzW2pFV0MMGRn6pcSAwBqqOLJ1woLy01qikamtenCFDPShIzpqQybwTjvEhL97LWuPZ+wCM3xuu1eN1u+rV9KwQmjogSz7ZVM6xLJmGdNLq9vn+ma7vW34gmVR6zjY4RZLjeaaUQIVy52p3jTpT4qe7NpBUDeK5IBtwWe6M2g5+6/MB6e3tbUHhe9IXqc+gvz5enPltqjiyQQ9vKfEQIADPGSe43SXNCIx8AhctMtw8GFiUlObkjPrezvbzSQoleAgqtMG4duOhK67c0b9KQSGxwc3d9z1iH1BHbX1KK47SxpiOL4XfcZYiH+inHCQHNKiQhjyo0e9f2aVKpQBQJ8bgCiHAB+6LWJ2y5eYT5sPxZqh4lehbye4hHmy/aG2qPTcNH/xAABAKY2BmedMGFckr+LmpNN58mOY0JqoIvkW5QTMYCJXYcRJ/vLc40bzqNs7bfmN78nX4IrEGQLIqVSYm3O4wq7GM6947knStv0+jau3Ki/SX9NalSMCUnhbEqfcZN54Tk29Yu6Oq8Ffx8NBgAe6eXo9W1eob26MSzq4nDSy9HrR37C+DD9C7tQO3Qafv6PBACIiMzpKYe7GbEoN8km85xmB1yW3IVkapKG1EIWB5NGMiZto4pyZ6HMV302V2clM7WkOHWF9h3GuXqcR257p/b/f9rf0wIhpn5C7lceMex3O/6WmdyklT7GtILRJ3MTYdxSTodsguP8uws65goYtxO+6FXp9TK/UF6aPxO1x0YvT6+XfYXyofkfNFE7dAkpMUXZXP4UEQEgCEMXJxQpiCkihWEzM5E/zYn5rIlGh7llSNoOe/+XcI4gexXPMmLINOW34fiMPZh4ddyOjqukL3STpigHkxWC7nY+IL79PFJqBtTm764wJbkV8aGq2GW3/ZE4F52wVh9TYgYURDQBPujNwnvMJ5Te8GOr1R4HvVn6THoYvem/rVaPQ9dioOSzYxojACSQ4kFYUFK+OB6JOt+YJDORjey4io4p0JyEXPTz3zzkSbGF3rP3et27k35JfMbafzk+94T7lCkjn8py514xhxZbzfWyqcuIS7gdRg1CFIrgeC7dWIzeiq6wQE3dCGoEkgy+6OXEeWaP4tGJUDtc9HJiu2e74GH6j7R26DQll2z5xwhAEtFkLpuXt6yMNK2mkeSlA21mpLK5aeaEIRl0HqTelu3rRc1/XL6+a2vdQMDQEJ9Lh6ucW39Ls9miGQ2ntscDGabztVzD3bkuLb2/VzlU/Qg4mxrMxNZixS6SjTP5fOB42zdQbdiOAV0MJlABvugl4fGIV0mfijfUDhe9JDwfHiF9at5QG7pgYXyhPwkCBACoDgKC0JHAOIYyNJs0I02ymenEvCRZbFcLES2RAkSaKeL5oVxDr+v9qRrK/qvduE6No7XtToxmnbx2rBaeCPofarz1Q/m7Xjv6ltTvY/t9jFK087+7czqKOBayYRBH+7JATof+rQp+6OXBsdtbTa82hNrhoZcHx25vNbzaEGqHTsMV/PGCAAAAMpumbZLGlLnNyLGkGWkXVJo5kGxmmjRSUzDoqJytr4JQ1Nw2vJF+XndNQKpmwij57oit1ELDwYjKGkUvjpSu8hozZVYm1tnrdgxFNerrmrWTyKdhIU0oMWKEBctTJd7oJfD52FsIaxuFFKc2bPQS+HzsLYS1jUKKUxu6QGC40I8zIgAACCXJKBIhjBFxEkk2iTJM0zTG5bUd5kExtBnH7oh3vT4aldBw67pDyfpWwtZp6s6JVlhxPWPjTiE1Cg1xlKZMe7jevXUkvcZaYy+OXHfaZNUiDrdxmQeZo5uNg3iTdktcf/sLfujl6fbKd2E8OshEPQ0PvTw9r3wXxqNDmqmHodPwkv0DQACAzEbamJgKbUYitxlK88cAebnZRDLqmJLM5MpQS3lDfylHf/w0So5GXK/5qKJMq76uVe1ptcD1yE5yq73fod4Q62/HiC+/zx+hlBxdBCsb1l3Tt78/pWVJ1bKiT6QPXuhV5Pad7YJfTRKtno2FXkVc3tlhwmcTotXj0IqwKvuPgAAAU1cZF5uOYw8Wt1lIM3KWZGQzswPmxkBSty+ne8osSBGozvEi5tNGqDbDVuuupzLdMXf2W6YzFKlrMV6FFKyGcO4Scqt8bmw8YhLD51waMnES1K7QE5Teehu7hNQyE37WWqzILvB5AX7oJehxjkeYK/5B7fDRi/XxjEeYK/6HRW3oNOXsfyQAwMzgZWMjC+lSXVrkJBFJZHbAkDsby8ozdRgNiRjHkfe3yJ3I0M63U927Z7ou3TGPZHbXlXJwj6qe1A7zfDiSzbpu3biLpb1q+kVh9khrlBFKCYQUInq/bC7mGsrxLKxonafMM0xgFYiMAk9nZ1MAAMDIFQAAAAAAyC0AAC0AAAD17MzTH4yGhIWMh4eDioeJiomEhYSJhIWGhYKDhIiLjYuHhYae6EVsv7IjpA/FP6gNF71A7E/ahfAL/6A2dBquWJV9hgQAmDrfSGrp7PgkEZGksxwdIJsmkZkmGWleR0mDYV1KX5hGmHdP1SjbCxuElg0iTTIZHPaaiCla9ipN7q/2HxsjUhKAXv3lOqw3o6n5NzmK0PHaPUG7oqyKIPAbVZgkZWfVxS0pF+kEPAkWFH7o5dhxZUfR90aoHR56ObY/2VH0vTnUhk6hPP8fEAAgYxizTsjL38mzHcvIVE0yK5ubN5BhzkCSnN3J+2+8eC7LzoLUeTXXDWlE1jgiMGVqikjj8U4jHAJiNnVTMSENx3+FWP8oyf+khLUa3fnKmZZiJLlYp24Jz5DKMeotxP6LLI1hRWgMvugl9PWTT8ZHGynL9Vhs9AKz/eSL8VL8R60dulgsWUn+PxIAQDiuRDxUFbNEmHSUZLNp5GZmympmrjf5RITsWrt+KrfnSmmAOSbBk7fusKTn2eiCOEDV/S1v3f7aPHZRKmOrOWWTTJqsZjkY+Vy7imm4v7nEKuWw9/EmrBov2iCSzcIPvujl5PY+vIK124Sa4qKXk5f78AjWbh1qik6z/J8ICQFI0kgiFk0pzUxzmiZ52czmi3yamZvXAdKoEHN0TvTdhrHDcaxeFB/xNHFI46TX9emOWrOfeLDjc3zWz6yUGvx9/pbReZ8R3tbOwyg5rDikkq7VhiETx5qbPqvz0Sfn+IVMgB8iLJ7oJfX2nd+CRwcpUQ/DRC+pt+/8Fjw6UIm6PHQtxjLl2S8JIAbACcpOBMaOkhCRiCSvmc2IzLzMYB7noZliHEn3hbAu98Cea3Os9Gvo3f3/yHTsH8jWhucsnNcoY/LoTUfocd3uZ/c/qo87YvtV0elT4w9vjEOPqBv6RTGXJOlc55ZVQnL7QQKfCH4Bnujl2PlOr+Ch+bOm9pjo5dj5Tq/gofmzpvZoxVBI/idJBAAAQ9uFcRonXWgyZSRpZkTOQPM35ItmjsM4DHOHdIgh44tgZZ1ctul0KOPfuSnW7D7bodtQ/VJPivmserOzTX8GI2dK1yhydZe/6L9c72+U0l+pIfIyLBVNVewPGqv+0emg3gQCfujlzPYZdsFD80WrPR56ObN9hl3w0HzRao9Ow/9nhAAAkKTVJCPNL80fmTl5OZkizZ+TzcjNRl4zY5qnuZ1pDU1ubeM6eWrWn+cdmL7XLSHetfezrbojm8lPmv8e1pFsDKavcZyL1WvncOV3qkyJ2rkkiKkwT797fUS0COsQF2K7CN/b2IUCfujl5OXKd0bv+IN6PDz0cvJy5Tujd/xBPR46DUv5HwMAAEiSpCE/aST5snKbRpqXRJIdSG5GZAgWOqQyZtTYaT09x4Y6jHWav849Psvr1Iir0U7VOBejX1NoT5+6sX5Gm2ZM4yxNRozVz6v4eqW4y9G6PoxUX8fN1UTgJlYM2zW/rQie6CXo+eRHCJfhD2qHiV6Cnk9+hHAZ/qB26JTs/xkAAICMRjZtNtKmGTGAbKRpZnMyIn+Smz9f9ZvcvuftdHydnyh164U72kXqlWx3ezC1/m9MTf815dae8FTyt31uRlnpeztNyc/i+AINmwLR6BhYxj0ERadNtXE4G2skVqc9pjZyq7Dve5zdZQPe6KVyf6cjeAn+hUU9Dhu9VO7vdAQvwb+wqMeh05SXPw0AACDRbJo/ychsmrbN5qWZmZk5A81MMyKfvGyzYB4g0WFsv75rhFEWuh5YucO5YlfdQ/nwDJNEtFpCWiPCvz9YmnG6ITffTeRmkdF/hEx/27Bb2VCXkU0Mhn3+34VJWxuaylWkawJ+6CX1eQ6PUF6aH6iHw0Mvqc9zeITy0jzBbqLTsPzyUQIAAMiIpKncppHb3ETzctNsTgwkJDLzZ2TDPA2SsclYae6UDfHkdpUVYn52A/mlhsbp8N0gqcK2N+Q22KXs7fCM9ZydjfzpR7E+ff0fxxXyCRqPtbVvygbcfKQK4zmJOcpihYEOzeMTE17o5ej2ynamPboJ6qFY6OXocWW30B6dBLWh03Al/0cAAMgoaaTZTEnGWDJgkplE5EjSjGw2Xz4RXTCJEo2he4sVMdcOjf8wX/u/aWve/s1gthz3KyQZ/hoyDpSc2G2Nm/oxdL0raMT+r8+Ve/UddkcORXuRYs5EcOLKx7w/96DIbqBwzEph7cviAp7oReK8xsmUh+kHao+LXqCPa3OE9DD9hKD26AKBIWOrMk4lAQBAAKEJpKJkksJoNJoM0673A88kzZgyiRgJyWaUSIovxF6958U2yAx/Maml2u9IviCNXDJuMQteKQEhHJVeQM1GT7sYzWt/yirPGkitbbx1qPcZlBhpi8HJfXTeTYXror+f7JsI/uhlaf+NS/BRGBr1OGz04nh+x8P4wL/QqIdDp+2rHwMAABjWDswXZ05HmizSQEZeMpBmDZiXU5m5aUa2TZW0aaNx2zgVu9mvmS/ff7/ZwY7rMawUdWMdrSHNRqm94ZCASopHXf601Tm+bZBejw9X8VNr+d98RRo+KEO+T3DpF6VDNBznnuglzfnd3AIdBLXhoZfT52dzC3QQ1IZOU/4/AwAAkKRJkimRP83LZlaSkW1G80fmgDnZvMwk6dSOyTiONYyNP25D7n/0CNmf2Txr1C037Y2v+Z3ltvu/DK18FXrRGq3Sbjhc8y3U8vVF7likqASrCN0wsFRu6RyklWxjrCxEQpz8DwA7BV7oRWJ/NrtgLYJasdCLxP5sdsFaCLWhC2sReqE/IwIAgBCCIFQiDBUEIp4REUmSKfLLTDJzXDVHvJ0j6KuWw6Vua/wj7S0xun+n946UxqbetvQ+qaGlI8qMELs3aJRkrfL847dqvA2T1SCey3SukQ2SnXr+SRgxJk1HGm7WQsRQ+rINC37oxXJ/LhbTHviB2mOiF5v1uThCe+Af1B6dhlJUsj+VCAAASSsjWZSXk5MxEKKJwchblF+Mn0K2MYww15B0bDXfsiKTn17rH/0/lmYOiPQj2wHn645XXmrWZ5fq/HhBjRm15pqvoTuyvYb6aHeYlKZ2DW61scR02yG7Bm5IEpcOw3owy7aVwAASfugF8nhni0kvzRdp7THRi83+zhfjpfhC7dFpZnn+DwAAICkZaU7JiYy8tDohcwoZOmmKkZkZkTUm3atj5gyS9tWUy+/2G4L59CM0ZFXGtSq1N7oryBoBV/wb4ZEGx3dc4DIoYNRtfQrUDHuOYSPmsfbXPAk/Z6JO/lJDxGLdqHbUiuwA3ujF6bg2u+Bh+BcatcNGLy7HtbkFD81faNQOnYaSl5/SBBCAxCqb0WxGNid3LCJD5gBakUg7SdOczNnSZZqMI9pbprWYCp0zHAyN2hAUWJO8rdJ06jQWUdKK/dvv7Tl0MRqSJZ1Tio+8VUJLvblzkHEO5v4YUA7xh34U7C6rkRtl/2KBBf7oZel828XkT8U7QuLa46OXpeNuD1M/NT+hwm6i05D9v0RABKIxcVo0ZOhAyS50ajSfJEKSDJg9HMfuJIf9UJLzcDr3rGGtjIe8f/BzPvdHreO/leIXmnvK6CXebUuYTUUovZVqLmGmJ5c5x6UFYxKDVqsx10QYQwc3GKiVUtimfsYELqoI3uhl8fjmh/HAN1TUHhu9LB7fbDFe+IaK2qPTxubLnyEAAIRN0VzZbKXyN5JsTiMjG7P8yQDRyM0KiVFbIY3mF//eVf9u4BEOM3E1Ha+3sqcfaI7sSApILeF/kpJwlebNy9ZUc/3FsS+E8SMMNXoNmYBnTOIIZhmWOLAGZtF8uLmY1AdQAN7oxWl73y4Gxzcsao+NXpy29+1icHzDovbotC5/+hEAABKRIbKli3KzlcrLyWnI33x5EkJe06ZJIkki2nWdqPfUu14x/VuaUXAOt8a6umerVEJovxh7vtwYjWp51g2e9Y+8q4PXL7hPSjzvevEayywuR1G0+95Xl2KCm3eG4G9HFgC+6GVxvw+L8cJ/qA0XvSzu92Ex8YV/UDt0ml//EwAARJOmOdKMrAEZRm6TdIIkm+RJcwZIjFmOi0PQjNi+iNN3PTt1zpU3o2GsJ2tSRm8b2IniGrvVLqvhaCFEGRipGYR7s2e8VxCeO5p1HVeiuuK9cSva3HVsWPxCd+zYtMhDtA3wAf7o1XW9totxFYWKuiw+enVdn81iPIpCRV0WncYyk+VfEAAAIlI52UZn2UhyMieEuSzjI0nGDZBNkglzaEXmVEyQkZgarTXE68PBmy8GJabqHDrN79fsbTc50ZJ8CMZ4W6Z7aRROSlbIzNv71aOsiljni6rvea0xfP6+oJqGLEnlUiXgaX7oxXF/NjvjoxBqw0Mvjvu12Rkf+Ae1Qxcr0qq//CMAIGKLEkxSvDkC0UTSZmRlRDadcumQKs9FClxE8c7tWfijw97hsTv46l1cMikKTwc4fuE2fEp7atqWw3eV+Ln1Nfc33G/tIYTmVmGQyq2XvKDDbjjCozuCEIeJmzvM0KEo7vKDhMMBEQve6GX++OY746X4CztTe2z0Mn988sN4aX5Cnak9uoAklF19oSUSAFHSGGGUaDyIB0SC6DBXmqQamckSi363N/9nsrnjyQvnTFipPbJheWM7vubG9C5UqxfqpYYwaocSM8howFbuEtO+X2dvl0OsUioxMJ61I65yf15DCts4JfAxWT2M5SIP+AdEhWAB3uilcfu2O+Ey/A8VdXn46GVp+7aHcHXyUFFPRqvASkJSLrnQnwAgEI8pbkcgEQuCWMJDDofFrHXe04Vp/t5mb3HG+e2iN35Er+6U5Ukwr8a8PqrMiHnrTZD5h9gshOnnfWzb5zQAVeTsk5z7uTWN1GD6HLihUYjW7b9CcVwxEjJM0Aux8huyAln4GskA/ugV9fymnQi/Onj4qAfjo1fU853tRPjs4KGiHotOM5vJf0JAIIxlTHfRzOLpSrt0MhNNImOZyCbSfNl5dlwEGVrJT46n4yyuaDgZdJYN/8fo+htqV381x82cN5Wyz0du8HA2NvhkzGVG0ep+Sn0flXrXCmpPiLL622qJbhhxbVCseOE4asIFx2hFRN7opf24X7yMqzDUImrDRi/r+3NxM67CsEXUhk7DV59mAAAAot06rvPMxUl0QFOTJaMYQGSnc7NpNs2QM5rb6TCKsdLSv8X2xK9z6/Io+TTPrVVHTO3IK+/CnT81kIXRjjdzjOY5w+3Y7bsxHQ4hlDDTSbuado+lqJHsfb/kZKNdzEDdGgVfAJ7oxf78Zjvhgf9QGx56gT/v+cO48A9qh06TnamnLAIAwKCwfAnp0k3IGEg2zYjMTqbpYOa43JwQZR6GkWGMjR3z+52dHFGK/UXcMZj76Ia5OdnzXe/GMOl3X7H20wzhAiAQVk689vUfjdfwppDfiN18X1YVbrg/SfzOXxwDo6fEjXwClATe6BXx+A2LKZfkX6jEtcNGL0vnZzhEuRT/QyWty0On4ZLL5SkNCERdftrSixqppLkizUymIHTC5EmSkcbANA8GQ5NSXrlBfNIG/S+YmEfTz2FIeM6wk8vfe1wdHIBn0+OzTPHVKndMfF5FtW2bMooGY02P9kDkP+7gAFV8cIUtzYQBChfaKE9nZ1MABAD5FQAAAAAAyC0AAC4AAACAIvEjDYOIiImGjIWCiIOHjCne6JV1/WwO0x4tGCpqw0evbPtnszPtYfgX/kTt0Gko+f8lAQDAzOazFyKJBfNokjG+TTKTAdskb1okzRjmuYtD7FLC+3BSRgatlJxXp7dlAecKiK9ejB03919KNE4/caQvKiYnRqmPXub4np1tvwgmcUBU7EGlBLj54Bm41WKLAxSoAP7ole18D4sojw4KH7Xio1e04z7uTHsY/oeK2tBpLC8l+4kAAGHcIY1skqaRRG52SU5qUUaa0ebrQEo3YzaZEmOJMWqP52RMtzmn68vQ1NH9ZVZD8M+YfIQxu/HGfmxtzJSwZ5WStZtuah0oIaY3wXDrcJwNy9WaBIWINlqS70DWTt375GZhIA/+6NVl/Y47Y9X8Cx+1w0evrsd7PIS1jcKinopOw/8fiQjoasAFaUSOxU2nphZnpM1oxti4KaYhyU0zbZkxtCJbWDrb9313U2yFVZrCqX/T6+bvRtb49nh2vL9SN8cwphz5F9ba+1X5zdYytrlX913RsAkli9iBFShhiOJOD8knGJSmGwMBEgYB3uiVbb9nOxM+DP9DRe2w0Svbfs8O47MDwxLVii6QGPOfPkAAgN0kgoQcDWSaYkl0Ia3INGyO3JHxUJnHdtS0+CtmSUPHb5dTU++vC/Bh6qfgYCc3dYvd2t2DIx/Drhyuv/K9fRtK5hh3Iddgm2rdPMLTeRWcXyE5tCrPcIr/pES64RzbtvMQCADe6NV9f2ed8CH4H5a0dvjoNdP6yTrjo4HCJ9eKTsPPpmUJCAGIhokyQjPSiNyps7Ep5iWRqBh4rGkyrS1Oy3EcWJbsfHZH7nGE+8uLMTfEP+IY+9dPUke5nziiUV5USWIypRIlNvew/ugXlRsyasho+wgzROI6pbZh2JKYaiTxwiaUR3kMFn7oZfX8bybhMryh9vjo1f18D5NMD9szelXGbqLTdqaWLygBIADCuEi5b2qSOdh0XBOdnuXPa/NnJtlZkyQzkU6ZoiGi+33EX6fedP0bnpPY+X2M546Z2L+9XVnT3Zq7MD2CVYyhjtq2wsjVcjOpvdLeXaCmHxRjyBo4j2RXB+JN1GSQeGHR6RWujEQE3ug18/pcdMIq+RcqasNCL+vrdTEJK/5Bbeg0fP5lYgAAAoNhN40OJ07Ky2bEeNLcGLek0zKzefJnpkOH0ZipnSRsn75OIa3w2uBQ2CBXZ/SHmmkl5iFZ4dh7y4GkIrKB12oIbvqVhvoajM6aFeMnljKoK9kCPt5AyRYrb2dNocMGfxz4AX7oxen8ZYvw6kSoDQ+9OF1+2SK8Ognqseg0XL78AQAARJtoMzMyBk4z0/GD+Selo0xtbuYU0yTJSYfqlNLRINwjiWdXpu3j+Uzpua2O2/tsJI9bhD/qBhuzpWh0t5Fyc2qIueLTfg1LKZFq9x7zZVEwUw3wS9GIJAumO6lwwj9SSRHe6DX9+Gw7YTX8hIraY6PX9POz7YjV8D9U1MPQacrV/wiIQDRykyTNZ542M0+io2GOzA40xicycsYWx2EhY4w6JIPmBqlbyF5tG7ZlpaAZJ2P6cZ2sNQJ2w7Q2sO7cKQ7I1v8rhuqZWWU/jNQhlTRN3uEwdLH8vV3qWBzVqDDwDA7AKZLAFUAEfuiVZf9tJuGB/1ArHnpl3b+bSXjgP9SGVkEKzOz/CQkA5RRzUlFQO7kIURiiwzgMHcZsnzJGYljIgCZDe4P0dd32fgV3SKg4X11KQ6l95XwoTVZpRfsa1wPhrrbPv+HL5/B6deWaJYVrpanT4bqM0GyjIDyZ06/qhNvgA9vvOioBC4ge6AVpe213Ij00P1A7DPSidLm2O5Eehh+oPToNz/5LgAQAaTMSml8jzRto2oomJmbkpWmOdBpIFzo2MbZn95z89vcTi2RtkJ2pHV9/Ox0O8RzR0wr9nVONGtfmkr4ax16jUA6N9XLb8fCcZsVN4fL+aNT1jgxD6Sc+HJMR1M/MYrFRVPxVQAJ+6DXT9mcnxK9OlBD1ZDz0munCZ+ZP/b0TJYQ9UHQaPvtpIgBAVEQ7zxD580VOZGST0oyl8i01dR7ttu3poPuFjkna2MZXfNw+fZ8OHerxOI82cTv1a0o1ttf2neyTTq/Z6ZZ2PZnOB/X7b8PMN7OI3CPwrsM7bXLxYxa/fgI3ZLMrS1vUZ7ghXJ8EKp7o/ee28FI70L2hppjo/ee28FI70L2hpgiQAAAAAAAAAAAAAADAthkB\" type=\"audio/ogg\" />\n",
              "                    Your browser does not support the audio element.\n",
              "                </audio>\n",
              "              "
            ]
          },
          "metadata": {},
          "execution_count": 7
        }
      ]
    },
    {
      "cell_type": "code",
      "source": [
        "!wget -qqq https://upload.wikimedia.org/wikipedia/en/6/61/I_Have_A_Dream_sample.ogg"
      ],
      "metadata": {
        "id": "k3vrdoa0Z01X"
      },
      "execution_count": 8,
      "outputs": []
    },
    {
      "cell_type": "code",
      "source": [
        "# audio_file = \"I_Have_A_Dream_sample.ogg\"\n",
        "\n",
        "# messages = [{\n",
        "#     \"role\" : \"user\",\n",
        "#     \"content\": [\n",
        "#         { \"type\": \"audio\", \"audio\" : audio_file },\n",
        "#         { \"type\": \"text\",  \"text\" : \"What is this audio about?\" }\n",
        "#     ]\n",
        "# }]\n",
        "# do_gemma_3n_inference(messages, max_new_tokens = 256)"
      ],
      "metadata": {
        "id": "BJr_D4O9Z2Zh"
      },
      "execution_count": 9,
      "outputs": []
    },
    {
      "cell_type": "markdown",
      "source": [
        "# Let's combine all 3 modalities together!"
      ],
      "metadata": {
        "id": "L15JuAmmaOkB"
      }
    },
    {
      "cell_type": "code",
      "source": [
        "# messages = [{\n",
        "#     \"role\" : \"user\",\n",
        "#     \"content\": [\n",
        "#         { \"type\": \"audio\", \"audio\" : audio_file },\n",
        "#         { \"type\": \"image\", \"image\" : sloth_link },\n",
        "#         { \"type\": \"text\",  \"text\" : \"What is this audio and image about? \"\\\n",
        "#                                     \"How are they related?\" }\n",
        "#     ]\n",
        "# }]\n",
        "# do_gemma_3n_inference(messages, max_new_tokens = 256)"
      ],
      "metadata": {
        "id": "is37bsDZaRwV"
      },
      "execution_count": 10,
      "outputs": []
    },
    {
      "cell_type": "markdown",
      "source": [
        "# Let's finetune Gemma 3N!\n",
        "\n",
        "You can finetune the vision and text parts for now through selection - the audio part can also be finetuned - we're working to make it selectable as well!"
      ],
      "metadata": {
        "id": "Bw5XPyYFajyM"
      }
    },
    {
      "cell_type": "markdown",
      "metadata": {
        "id": "SXd9bTZd1aaL"
      },
      "source": [
        "We now add LoRA adapters so we only need to update a small amount of parameters!"
      ]
    },
    {
      "cell_type": "code",
      "execution_count": 11,
      "metadata": {
        "id": "6bZsfBuZDeCL",
        "outputId": "7fcdeac1-ce58-46ff-e4b8-9e96ca9a99cd",
        "colab": {
          "base_uri": "https://localhost:8080/"
        }
      },
      "outputs": [
        {
          "output_type": "stream",
          "name": "stdout",
          "text": [
            "Unsloth: Making `model.base_model.model.model.language_model` require gradients\n"
          ]
        }
      ],
      "source": [
        "model = FastModel.get_peft_model(\n",
        "    model,\n",
        "    finetune_vision_layers     = False, # Turn off for just text!\n",
        "    finetune_language_layers   = True,  # Should leave on!\n",
        "    finetune_attention_modules = True,  # Attention good for GRPO\n",
        "    finetune_mlp_modules       = True,  # SHould leave on always!\n",
        "\n",
        "    r = 8,           # Larger = higher accuracy, but might overfit\n",
        "    lora_alpha = 8,  # Recommended alpha == r at least\n",
        "    lora_dropout = 0,\n",
        "    bias = \"none\",\n",
        "    random_state = 3407,\n",
        ")"
      ]
    },
    {
      "cell_type": "markdown",
      "metadata": {
        "id": "vITh0KVJ10qX"
      },
      "source": [
        "<a name=\"Data\"></a>\n",
        "### Data Prep\n",
        "We now use the `Gemma-3` format for conversation style finetunes. We use [Maxime Labonne's FineTome-100k](https://huggingface.co/datasets/mlabonne/FineTome-100k) dataset in ShareGPT style. Gemma-3 renders multi turn conversations like below:\n",
        "\n",
        "```\n",
        "<bos><start_of_turn>user\n",
        "Hello!<end_of_turn>\n",
        "<start_of_turn>model\n",
        "Hey there!<end_of_turn>\n",
        "```\n",
        "\n",
        "We use our `get_chat_template` function to get the correct chat template. We support `zephyr, chatml, mistral, llama, alpaca, vicuna, vicuna_old, phi3, llama3, phi4, qwen2.5, gemma3` and more."
      ]
    },
    {
      "cell_type": "code",
      "execution_count": 12,
      "metadata": {
        "id": "LjY75GoYUCB8"
      },
      "outputs": [],
      "source": [
        "from unsloth.chat_templates import get_chat_template\n",
        "tokenizer = get_chat_template(\n",
        "    tokenizer,\n",
        "    chat_template = \"gemma-3\",\n",
        ")"
      ]
    },
    {
      "cell_type": "markdown",
      "source": [
        "We get the first 3000 rows of the dataset"
      ],
      "metadata": {
        "id": "ZQkXuGYxbJ-e"
      }
    },
    {
      "cell_type": "code",
      "execution_count": 13,
      "metadata": {
        "id": "Mkq4RvEq7FQr"
      },
      "outputs": [],
      "source": [
        "from datasets import load_dataset\n",
        "dataset = load_dataset(\"mlabonne/FineTome-100k\", split = \"train[:3000]\")"
      ]
    },
    {
      "cell_type": "markdown",
      "metadata": {
        "id": "K9CBpiISFa6C"
      },
      "source": [
        "We now use `standardize_data_formats` to try converting datasets to the correct format for finetuning purposes!"
      ]
    },
    {
      "cell_type": "code",
      "execution_count": 14,
      "metadata": {
        "id": "reoBXmAn7HlN"
      },
      "outputs": [],
      "source": [
        "from unsloth.chat_templates import standardize_data_formats\n",
        "dataset = standardize_data_formats(dataset)"
      ]
    },
    {
      "cell_type": "markdown",
      "metadata": {
        "id": "6i5Sx9In7vHi"
      },
      "source": [
        "Let's see how row 100 looks like!"
      ]
    },
    {
      "cell_type": "code",
      "execution_count": 15,
      "metadata": {
        "colab": {
          "base_uri": "https://localhost:8080/"
        },
        "id": "dzE1OEXi7s3P",
        "outputId": "5f7458b8-ba0d-4601-f215-ddede6adcc61"
      },
      "outputs": [
        {
          "output_type": "execute_result",
          "data": {
            "text/plain": [
              "{'conversations': [{'content': 'What is the modulus operator in programming and how can I use it to calculate the modulus of two given numbers?',\n",
              "   'role': 'user'},\n",
              "  {'content': 'In programming, the modulus operator is represented by the \\'%\\' symbol. It calculates the remainder when one number is divided by another. To calculate the modulus of two given numbers, you can use the modulus operator in the following way:\\n\\n```python\\n# Calculate the modulus\\nModulus = a % b\\n\\nprint(\"Modulus of the given numbers is: \", Modulus)\\n```\\n\\nIn this code snippet, the variables \\'a\\' and \\'b\\' represent the two given numbers for which you want to calculate the modulus. By using the modulus operator \\'%\\', we calculate the remainder when \\'a\\' is divided by \\'b\\'. The result is then stored in the variable \\'Modulus\\'. Finally, the modulus value is printed using the \\'print\\' statement.\\n\\nFor example, if \\'a\\' is 10 and \\'b\\' is 4, the modulus calculation would be 10 % 4, which equals 2. Therefore, the output of the above code would be:\\n\\n```\\nModulus of the given numbers is: 2\\n```\\n\\nThis means that the modulus of 10 and 4 is 2.',\n",
              "   'role': 'assistant'}],\n",
              " 'source': 'infini-instruct-top-500k',\n",
              " 'score': 4.774171352386475}"
            ]
          },
          "metadata": {},
          "execution_count": 15
        }
      ],
      "source": [
        "dataset[100]"
      ]
    },
    {
      "cell_type": "markdown",
      "metadata": {
        "id": "8Xs0LXio7rfd"
      },
      "source": [
        "We now have to apply the chat template for `Gemma-3` onto the conversations, and save it to `text`. We remove the `<bos>` token using removeprefix(`'<bos>'`) since we're finetuning. The Processor will add this token before training and the model expects only one."
      ]
    },
    {
      "cell_type": "code",
      "execution_count": 16,
      "metadata": {
        "id": "1ahE8Ys37JDJ",
        "colab": {
          "base_uri": "https://localhost:8080/",
          "height": 49,
          "referenced_widgets": [
            "5a1e7dfd39594522aa6c2e2aeeb2f8c0",
            "06871cafa6404127a3d9b07c23dcc9a4",
            "9dff64dd5a7542c596630270d034008f",
            "b6067cc50bc44fbeadefd35d765c19a3",
            "28c0451d009c46179eccd92d291ba8cb",
            "021da2995400431e80170d7e356b7b4f",
            "8ff5bffd8d9042e7a4bb1263deecff7a",
            "4de473ba4de443d7b09d157e9c816fa6",
            "cba0c82c8d01471484b0bbb907302be3",
            "16148e27b1f94803a5c366d685b87522",
            "5dcd44394d994d7f825fa5fcddca5ba0"
          ]
        },
        "outputId": "fc9dc447-0895-4734-fc20-a7ac5fb55f42"
      },
      "outputs": [
        {
          "output_type": "display_data",
          "data": {
            "text/plain": [
              "Map:   0%|          | 0/3000 [00:00<?, ? examples/s]"
            ],
            "application/vnd.jupyter.widget-view+json": {
              "version_major": 2,
              "version_minor": 0,
              "model_id": "5a1e7dfd39594522aa6c2e2aeeb2f8c0"
            }
          },
          "metadata": {}
        }
      ],
      "source": [
        "def formatting_prompts_func(examples):\n",
        "   convos = examples[\"conversations\"]\n",
        "   texts = [tokenizer.apply_chat_template(convo, tokenize = False, add_generation_prompt = False).removeprefix('<bos>') for convo in convos]\n",
        "   return { \"text\" : texts, }\n",
        "\n",
        "dataset = dataset.map(formatting_prompts_func, batched = True)"
      ]
    },
    {
      "cell_type": "markdown",
      "metadata": {
        "id": "ndDUB23CGAC5"
      },
      "source": [
        "Let's see how the chat template did! Notice there is no `<bos>` token as the processor tokenizer will be adding one."
      ]
    },
    {
      "cell_type": "code",
      "execution_count": 17,
      "metadata": {
        "colab": {
          "base_uri": "https://localhost:8080/",
          "height": 137
        },
        "id": "gGFzmplrEy9I",
        "outputId": "7b0c54b7-c654-4e76-e8b4-e348c2a1c9f7"
      },
      "outputs": [
        {
          "output_type": "execute_result",
          "data": {
            "text/plain": [
              "'<start_of_turn>user\\nWhat is the modulus operator in programming and how can I use it to calculate the modulus of two given numbers?<end_of_turn>\\n<start_of_turn>model\\nIn programming, the modulus operator is represented by the \\'%\\' symbol. It calculates the remainder when one number is divided by another. To calculate the modulus of two given numbers, you can use the modulus operator in the following way:\\n\\n```python\\n# Calculate the modulus\\nModulus = a % b\\n\\nprint(\"Modulus of the given numbers is: \", Modulus)\\n```\\n\\nIn this code snippet, the variables \\'a\\' and \\'b\\' represent the two given numbers for which you want to calculate the modulus. By using the modulus operator \\'%\\', we calculate the remainder when \\'a\\' is divided by \\'b\\'. The result is then stored in the variable \\'Modulus\\'. Finally, the modulus value is printed using the \\'print\\' statement.\\n\\nFor example, if \\'a\\' is 10 and \\'b\\' is 4, the modulus calculation would be 10 % 4, which equals 2. Therefore, the output of the above code would be:\\n\\n```\\nModulus of the given numbers is: 2\\n```\\n\\nThis means that the modulus of 10 and 4 is 2.<end_of_turn>\\n'"
            ],
            "application/vnd.google.colaboratory.intrinsic+json": {
              "type": "string"
            }
          },
          "metadata": {},
          "execution_count": 17
        }
      ],
      "source": [
        "dataset[100][\"text\"]"
      ]
    },
    {
      "cell_type": "markdown",
      "metadata": {
        "id": "idAEIeSQ3xdS"
      },
      "source": [
        "<a name=\"Train\"></a>\n",
        "### Train the model\n",
        "Now let's use Huggingface TRL's `SFTTrainer`! More docs here: [TRL SFT docs](https://huggingface.co/docs/trl/sft_trainer). We do 60 steps to speed things up, but you can set `num_train_epochs=1` for a full run, and turn off `max_steps=None`."
      ]
    },
    {
      "cell_type": "code",
      "execution_count": 18,
      "metadata": {
        "colab": {
          "base_uri": "https://localhost:8080/",
          "height": 49,
          "referenced_widgets": [
            "e14d6a3a22d84d3e80da56616c87f552",
            "0fc15570b87047ada456c109d69d92aa",
            "7e1b34443a2342fdb9693e6a39ca4e1e",
            "ee6efdbd17424d9190c2366a5e6f2622",
            "d2ad3130a35441da8bb61443102869a9",
            "f7ade24fc89e422286dec39d149923eb",
            "eb48773b8aa0441a9f9036ff045f56e1",
            "c75e9df2d724454c8edf62e5e9e7eb8e",
            "63ecb1aa3fbe48dcb9f6ac82ee32f353",
            "2e484eb02abe43e1a9fc1e2c50a91cf0",
            "69b15845283842dab80480dfa417e993"
          ]
        },
        "id": "95_Nn-89DhsL",
        "outputId": "b1b06e44-1272-465c-923b-f0746fc63c18"
      },
      "outputs": [
        {
          "output_type": "display_data",
          "data": {
            "text/plain": [
              "Unsloth: Tokenizing [\"text\"] (num_proc=2):   0%|          | 0/3000 [00:00<?, ? examples/s]"
            ],
            "application/vnd.jupyter.widget-view+json": {
              "version_major": 2,
              "version_minor": 0,
              "model_id": "e14d6a3a22d84d3e80da56616c87f552"
            }
          },
          "metadata": {}
        }
      ],
      "source": [
        "from trl import SFTTrainer, SFTConfig\n",
        "trainer = SFTTrainer(\n",
        "    model = model,\n",
        "    tokenizer = tokenizer,\n",
        "    train_dataset = dataset,\n",
        "    eval_dataset = None, # Can set up evaluation!\n",
        "    args = SFTConfig(\n",
        "        dataset_text_field = \"text\",\n",
        "        per_device_train_batch_size = 1,\n",
        "        gradient_accumulation_steps = 4, # Use GA to mimic batch size!\n",
        "        warmup_steps = 5,\n",
        "        # num_train_epochs = 1, # Set this for 1 full training run.\n",
        "        max_steps = 30,\n",
        "        learning_rate = 2e-4, # Reduce to 2e-5 for long training runs\n",
        "        logging_steps = 1,\n",
        "        optim = \"adamw_8bit\",\n",
        "        weight_decay = 0.01,\n",
        "        lr_scheduler_type = \"linear\",\n",
        "        seed = 3407,\n",
        "        report_to = \"none\", # Use this for WandB etc\n",
        "    ),\n",
        ")"
      ]
    },
    {
      "cell_type": "markdown",
      "metadata": {
        "id": "C_sGp5XlG6dq"
      },
      "source": [
        "We also use Unsloth's `train_on_completions` method to only train on the assistant outputs and ignore the loss on the user's inputs. This helps increase accuracy of finetunes!"
      ]
    },
    {
      "cell_type": "code",
      "execution_count": 19,
      "metadata": {
        "colab": {
          "base_uri": "https://localhost:8080/",
          "height": 49,
          "referenced_widgets": [
            "bbc1a705e76845ff9e5c5fd580d89b68",
            "02fbcdfa46014897bacccee42fd38e9d",
            "c2736421d74c4763a86496521c4c5cdb",
            "c21458039f274fb18da33ca056c306b9",
            "1e9d808aad8b448e90dd233ee1cc296e",
            "425674fc514b4fd5abe6f6bed9e4f6a5",
            "e27993c213124c58b5ae676ac116afc8",
            "068efd6f32984150a56c1eded05d3525",
            "24bba8b0859d4734ac2de6e0073ab602",
            "26c6a59d2b58435084fb53315ac3f0ab",
            "cd6b85bd82e448ccb4e19c4ff223bcdd"
          ]
        },
        "id": "juQiExuBG5Bt",
        "outputId": "c33d92c5-208e-4961-af6c-8f6db039f068"
      },
      "outputs": [
        {
          "output_type": "display_data",
          "data": {
            "text/plain": [
              "Map (num_proc=2):   0%|          | 0/3000 [00:00<?, ? examples/s]"
            ],
            "application/vnd.jupyter.widget-view+json": {
              "version_major": 2,
              "version_minor": 0,
              "model_id": "bbc1a705e76845ff9e5c5fd580d89b68"
            }
          },
          "metadata": {}
        }
      ],
      "source": [
        "from unsloth.chat_templates import train_on_responses_only\n",
        "trainer = train_on_responses_only(\n",
        "    trainer,\n",
        "    instruction_part = \"<start_of_turn>user\\n\",\n",
        "    response_part = \"<start_of_turn>model\\n\",\n",
        ")"
      ]
    },
    {
      "cell_type": "markdown",
      "metadata": {
        "id": "Dv1NBUozV78l"
      },
      "source": [
        "Let's verify masking the instruction part is done! Let's print the 100th row again.  Notice how the sample only has a single `<bos>` as expected!"
      ]
    },
    {
      "cell_type": "code",
      "execution_count": 20,
      "metadata": {
        "colab": {
          "base_uri": "https://localhost:8080/",
          "height": 137
        },
        "id": "LtsMVtlkUhja",
        "outputId": "6614229b-7545-4b5f-d8df-3b5215fcb25d"
      },
      "outputs": [
        {
          "output_type": "execute_result",
          "data": {
            "text/plain": [
              "'<bos><start_of_turn>user\\nWhat is the modulus operator in programming and how can I use it to calculate the modulus of two given numbers?<end_of_turn>\\n<start_of_turn>model\\nIn programming, the modulus operator is represented by the \\'%\\' symbol. It calculates the remainder when one number is divided by another. To calculate the modulus of two given numbers, you can use the modulus operator in the following way:\\n\\n```python\\n# Calculate the modulus\\nModulus = a % b\\n\\nprint(\"Modulus of the given numbers is: \", Modulus)\\n```\\n\\nIn this code snippet, the variables \\'a\\' and \\'b\\' represent the two given numbers for which you want to calculate the modulus. By using the modulus operator \\'%\\', we calculate the remainder when \\'a\\' is divided by \\'b\\'. The result is then stored in the variable \\'Modulus\\'. Finally, the modulus value is printed using the \\'print\\' statement.\\n\\nFor example, if \\'a\\' is 10 and \\'b\\' is 4, the modulus calculation would be 10 % 4, which equals 2. Therefore, the output of the above code would be:\\n\\n```\\nModulus of the given numbers is: 2\\n```\\n\\nThis means that the modulus of 10 and 4 is 2.<end_of_turn>\\n'"
            ],
            "application/vnd.google.colaboratory.intrinsic+json": {
              "type": "string"
            }
          },
          "metadata": {},
          "execution_count": 20
        }
      ],
      "source": [
        "tokenizer.decode(trainer.train_dataset[100][\"input_ids\"])"
      ]
    },
    {
      "cell_type": "markdown",
      "metadata": {
        "id": "4Kyjy__m9KY3"
      },
      "source": [
        "Now let's print the masked out example - you should see only the answer is present:"
      ]
    },
    {
      "cell_type": "code",
      "execution_count": 21,
      "metadata": {
        "colab": {
          "base_uri": "https://localhost:8080/",
          "height": 137
        },
        "id": "_rD6fl8EUxnG",
        "outputId": "4ac73a5d-9cc4-486a-bab3-d14cef518a12"
      },
      "outputs": [
        {
          "output_type": "execute_result",
          "data": {
            "text/plain": [
              "'                               In programming, the modulus operator is represented by the \\'%\\' symbol. It calculates the remainder when one number is divided by another. To calculate the modulus of two given numbers, you can use the modulus operator in the following way:\\n\\n```python\\n# Calculate the modulus\\nModulus = a % b\\n\\nprint(\"Modulus of the given numbers is: \", Modulus)\\n```\\n\\nIn this code snippet, the variables \\'a\\' and \\'b\\' represent the two given numbers for which you want to calculate the modulus. By using the modulus operator \\'%\\', we calculate the remainder when \\'a\\' is divided by \\'b\\'. The result is then stored in the variable \\'Modulus\\'. Finally, the modulus value is printed using the \\'print\\' statement.\\n\\nFor example, if \\'a\\' is 10 and \\'b\\' is 4, the modulus calculation would be 10 % 4, which equals 2. Therefore, the output of the above code would be:\\n\\n```\\nModulus of the given numbers is: 2\\n```\\n\\nThis means that the modulus of 10 and 4 is 2.<end_of_turn>\\n'"
            ],
            "application/vnd.google.colaboratory.intrinsic+json": {
              "type": "string"
            }
          },
          "metadata": {},
          "execution_count": 21
        }
      ],
      "source": [
        "tokenizer.decode([tokenizer.pad_token_id if x == -100 else x for x in trainer.train_dataset[100][\"labels\"]]).replace(tokenizer.pad_token, \" \")"
      ]
    },
    {
      "cell_type": "code",
      "execution_count": 22,
      "metadata": {
        "colab": {
          "base_uri": "https://localhost:8080/"
        },
        "id": "2ejIt2xSNKKp",
        "outputId": "d593676b-3b93-400d-c000-e3a4d4a82b9e"
      },
      "outputs": [
        {
          "output_type": "stream",
          "name": "stdout",
          "text": [
            "GPU = Tesla T4. Max memory = 14.741 GB.\n",
            "12.592 GB of memory reserved.\n"
          ]
        }
      ],
      "source": [
        "# @title Show current memory stats\n",
        "gpu_stats = torch.cuda.get_device_properties(0)\n",
        "start_gpu_memory = round(torch.cuda.max_memory_reserved() / 1024 / 1024 / 1024, 3)\n",
        "max_memory = round(gpu_stats.total_memory / 1024 / 1024 / 1024, 3)\n",
        "print(f\"GPU = {gpu_stats.name}. Max memory = {max_memory} GB.\")\n",
        "print(f\"{start_gpu_memory} GB of memory reserved.\")"
      ]
    },
    {
      "cell_type": "markdown",
      "metadata": {
        "id": "CNP1Uidk9mrz"
      },
      "source": [
        "# Let's train the model!\n",
        "\n",
        "To resume a training run, set `trainer.train(resume_from_checkpoint = True)`"
      ]
    },
    {
      "cell_type": "code",
      "execution_count": 23,
      "metadata": {
        "colab": {
          "base_uri": "https://localhost:8080/",
          "height": 1000
        },
        "id": "yqxqAZ7KJ4oL",
        "outputId": "78afdc3c-c6ca-429a-da66-a88d112e3efc"
      },
      "outputs": [
        {
          "output_type": "stream",
          "name": "stderr",
          "text": [
            "==((====))==  Unsloth - 2x faster free finetuning | Num GPUs used = 1\n",
            "   \\\\   /|    Num examples = 3,000 | Num Epochs = 1 | Total steps = 30\n",
            "O^O/ \\_/ \\    Batch size per device = 1 | Gradient accumulation steps = 4\n",
            "\\        /    Data Parallel GPUs = 1 | Total batch size (1 x 4 x 1) = 4\n",
            " \"-____-\"     Trainable parameters = 19,210,240 of 4,000,000,000 (0.48% trained)\n",
            "`use_cache=True` is incompatible with gradient checkpointing. Setting `use_cache=False`.\n"
          ]
        },
        {
          "output_type": "stream",
          "name": "stdout",
          "text": [
            "Unsloth: Will smartly offload gradients to save VRAM!\n"
          ]
        },
        {
          "output_type": "display_data",
          "data": {
            "text/plain": [
              "<IPython.core.display.HTML object>"
            ],
            "text/html": [
              "\n",
              "    <div>\n",
              "      \n",
              "      <progress value='30' max='30' style='width:300px; height:20px; vertical-align: middle;'></progress>\n",
              "      [30/30 03:38, Epoch 0/1]\n",
              "    </div>\n",
              "    <table border=\"1\" class=\"dataframe\">\n",
              "  <thead>\n",
              " <tr style=\"text-align: left;\">\n",
              "      <th>Step</th>\n",
              "      <th>Training Loss</th>\n",
              "    </tr>\n",
              "  </thead>\n",
              "  <tbody>\n",
              "    <tr>\n",
              "      <td>1</td>\n",
              "      <td>7.837500</td>\n",
              "    </tr>\n",
              "    <tr>\n",
              "      <td>2</td>\n",
              "      <td>7.321400</td>\n",
              "    </tr>\n",
              "    <tr>\n",
              "      <td>3</td>\n",
              "      <td>5.612000</td>\n",
              "    </tr>\n",
              "    <tr>\n",
              "      <td>4</td>\n",
              "      <td>6.834700</td>\n",
              "    </tr>\n",
              "    <tr>\n",
              "      <td>5</td>\n",
              "      <td>6.055700</td>\n",
              "    </tr>\n",
              "    <tr>\n",
              "      <td>6</td>\n",
              "      <td>5.708900</td>\n",
              "    </tr>\n",
              "    <tr>\n",
              "      <td>7</td>\n",
              "      <td>5.883100</td>\n",
              "    </tr>\n",
              "    <tr>\n",
              "      <td>8</td>\n",
              "      <td>6.726200</td>\n",
              "    </tr>\n",
              "    <tr>\n",
              "      <td>9</td>\n",
              "      <td>6.340900</td>\n",
              "    </tr>\n",
              "    <tr>\n",
              "      <td>10</td>\n",
              "      <td>6.254000</td>\n",
              "    </tr>\n",
              "    <tr>\n",
              "      <td>11</td>\n",
              "      <td>8.979900</td>\n",
              "    </tr>\n",
              "    <tr>\n",
              "      <td>12</td>\n",
              "      <td>6.578000</td>\n",
              "    </tr>\n",
              "    <tr>\n",
              "      <td>13</td>\n",
              "      <td>8.251400</td>\n",
              "    </tr>\n",
              "    <tr>\n",
              "      <td>14</td>\n",
              "      <td>9.181700</td>\n",
              "    </tr>\n",
              "    <tr>\n",
              "      <td>15</td>\n",
              "      <td>6.717700</td>\n",
              "    </tr>\n",
              "    <tr>\n",
              "      <td>16</td>\n",
              "      <td>8.310600</td>\n",
              "    </tr>\n",
              "    <tr>\n",
              "      <td>17</td>\n",
              "      <td>7.068600</td>\n",
              "    </tr>\n",
              "    <tr>\n",
              "      <td>18</td>\n",
              "      <td>7.544400</td>\n",
              "    </tr>\n",
              "    <tr>\n",
              "      <td>19</td>\n",
              "      <td>4.389900</td>\n",
              "    </tr>\n",
              "    <tr>\n",
              "      <td>20</td>\n",
              "      <td>3.217400</td>\n",
              "    </tr>\n",
              "    <tr>\n",
              "      <td>21</td>\n",
              "      <td>3.547500</td>\n",
              "    </tr>\n",
              "    <tr>\n",
              "      <td>22</td>\n",
              "      <td>4.042400</td>\n",
              "    </tr>\n",
              "    <tr>\n",
              "      <td>23</td>\n",
              "      <td>3.491200</td>\n",
              "    </tr>\n",
              "    <tr>\n",
              "      <td>24</td>\n",
              "      <td>3.094200</td>\n",
              "    </tr>\n",
              "    <tr>\n",
              "      <td>25</td>\n",
              "      <td>3.016600</td>\n",
              "    </tr>\n",
              "    <tr>\n",
              "      <td>26</td>\n",
              "      <td>2.234100</td>\n",
              "    </tr>\n",
              "    <tr>\n",
              "      <td>27</td>\n",
              "      <td>2.569700</td>\n",
              "    </tr>\n",
              "    <tr>\n",
              "      <td>28</td>\n",
              "      <td>2.539900</td>\n",
              "    </tr>\n",
              "    <tr>\n",
              "      <td>29</td>\n",
              "      <td>2.191300</td>\n",
              "    </tr>\n",
              "    <tr>\n",
              "      <td>30</td>\n",
              "      <td>2.654700</td>\n",
              "    </tr>\n",
              "  </tbody>\n",
              "</table><p>"
            ]
          },
          "metadata": {}
        }
      ],
      "source": [
        "trainer_stats = trainer.train()"
      ]
    },
    {
      "cell_type": "code",
      "execution_count": 24,
      "metadata": {
        "colab": {
          "base_uri": "https://localhost:8080/"
        },
        "id": "pCqnaKmlO1U9",
        "outputId": "1089646f-f3c3-4842-cced-4c7cf9063d42"
      },
      "outputs": [
        {
          "output_type": "stream",
          "name": "stdout",
          "text": [
            "277.9634 seconds used for training.\n",
            "4.63 minutes used for training.\n",
            "Peak reserved memory = 12.592 GB.\n",
            "Peak reserved memory for training = 0.0 GB.\n",
            "Peak reserved memory % of max memory = 85.422 %.\n",
            "Peak reserved memory for training % of max memory = 0.0 %.\n"
          ]
        }
      ],
      "source": [
        "# @title Show final memory and time stats\n",
        "used_memory = round(torch.cuda.max_memory_reserved() / 1024 / 1024 / 1024, 3)\n",
        "used_memory_for_lora = round(used_memory - start_gpu_memory, 3)\n",
        "used_percentage = round(used_memory / max_memory * 100, 3)\n",
        "lora_percentage = round(used_memory_for_lora / max_memory * 100, 3)\n",
        "print(f\"{trainer_stats.metrics['train_runtime']} seconds used for training.\")\n",
        "print(\n",
        "    f\"{round(trainer_stats.metrics['train_runtime']/60, 2)} minutes used for training.\"\n",
        ")\n",
        "print(f\"Peak reserved memory = {used_memory} GB.\")\n",
        "print(f\"Peak reserved memory for training = {used_memory_for_lora} GB.\")\n",
        "print(f\"Peak reserved memory % of max memory = {used_percentage} %.\")\n",
        "print(f\"Peak reserved memory for training % of max memory = {lora_percentage} %.\")"
      ]
    },
    {
      "cell_type": "markdown",
      "metadata": {
        "id": "ekOmTR1hSNcr"
      },
      "source": [
        "<a name=\"Inference\"></a>\n",
        "### Inference\n",
        "Let's run the model via Unsloth native inference! According to the `Gemma-3` team, the recommended settings for inference are `temperature = 1.0, top_p = 0.95, top_k = 64`"
      ]
    },
    {
      "cell_type": "code",
      "execution_count": 25,
      "metadata": {
        "colab": {
          "base_uri": "https://localhost:8080/"
        },
        "id": "kR3gIAX-SM2q",
        "outputId": "d178d910-5baa-48a6-bc4b-bbb96db655e1"
      },
      "outputs": [
        {
          "output_type": "execute_result",
          "data": {
            "text/plain": [
              "['<bos><start_of_turn>user\\nContinue the sequence: 1, 1, 2, 3, 5, 8,<end_of_turn>\\n<start_of_turn>model\\nThe sequence is the Fibonacci sequence. Each number is the sum of the two preceding numbers.\\n\\n1, 1, 2, 3, 5, 8, **13, 21, 34...**\\n\\nSo the next number is 13.\\n<end_of_turn>']"
            ]
          },
          "metadata": {},
          "execution_count": 25
        }
      ],
      "source": [
        "from unsloth.chat_templates import get_chat_template\n",
        "tokenizer = get_chat_template(\n",
        "    tokenizer,\n",
        "    chat_template = \"gemma-3\",\n",
        ")\n",
        "messages = [{\n",
        "    \"role\": \"user\",\n",
        "    \"content\": [{\n",
        "        \"type\" : \"text\",\n",
        "        \"text\" : \"Continue the sequence: 1, 1, 2, 3, 5, 8,\",\n",
        "    }]\n",
        "}]\n",
        "inputs = tokenizer.apply_chat_template(\n",
        "    messages,\n",
        "    add_generation_prompt = True, # Must add for generation\n",
        "    return_tensors = \"pt\",\n",
        "    tokenize = True,\n",
        "    return_dict = True,\n",
        ").to(\"cuda\")\n",
        "outputs = model.generate(\n",
        "    **inputs,\n",
        "    max_new_tokens = 64, # Increase for longer outputs!\n",
        "    # Recommended Gemma-3 settings!\n",
        "    temperature = 1.0, top_p = 0.95, top_k = 64,\n",
        ")\n",
        "tokenizer.batch_decode(outputs)"
      ]
    },
    {
      "cell_type": "markdown",
      "metadata": {
        "id": "CrSvZObor0lY"
      },
      "source": [
        " You can also use a `TextStreamer` for continuous inference - so you can see the generation token by token, instead of waiting the whole time!"
      ]
    },
    {
      "cell_type": "code",
      "execution_count": 26,
      "metadata": {
        "colab": {
          "base_uri": "https://localhost:8080/"
        },
        "id": "e2pEuRb1r2Vg",
        "outputId": "f2dbb3d3-8c1b-457c-80fe-290d13465250"
      },
      "outputs": [
        {
          "output_type": "stream",
          "name": "stdout",
          "text": [
            "The sky is blue because of a phenomenon called **Rayleigh scattering**. Here's a breakdown of what happens:\n",
            "\n",
            "* **Sunlight is made of all colors:** White sunlight is actually composed of all the colors of the rainbow (red, orange, yellow, green, blue, indigo, violet).\n",
            "* **\n"
          ]
        }
      ],
      "source": [
        "messages = [{\n",
        "    \"role\": \"user\",\n",
        "    \"content\": [{\"type\" : \"text\", \"text\" : \"Why is the sky blue?\",}]\n",
        "}]\n",
        "inputs = tokenizer.apply_chat_template(\n",
        "    messages,\n",
        "    add_generation_prompt = True, # Must add for generation\n",
        "    return_tensors = \"pt\",\n",
        "    tokenize = True,\n",
        "    return_dict = True,\n",
        ").to(\"cuda\")\n",
        "\n",
        "from transformers import TextStreamer\n",
        "_ = model.generate(\n",
        "    **inputs,\n",
        "    max_new_tokens = 64, # Increase for longer outputs!\n",
        "    # Recommended Gemma-3 settings!\n",
        "    temperature = 1.0, top_p = 0.95, top_k = 64,\n",
        "    streamer = TextStreamer(tokenizer, skip_prompt = True),\n",
        ")"
      ]
    },
    {
      "cell_type": "markdown",
      "metadata": {
        "id": "uMuVrWbjAzhc"
      },
      "source": [
        "<a name=\"Save\"></a>\n",
        "### Saving, loading finetuned models\n",
        "To save the final model as LoRA adapters, either use Huggingface's `push_to_hub` for an online save or `save_pretrained` for a local save.\n",
        "\n",
        "**[NOTE]** This ONLY saves the LoRA adapters, and not the full model. To save to 16bit or GGUF, scroll down!"
      ]
    },
    {
      "cell_type": "code",
      "execution_count": 27,
      "metadata": {
        "colab": {
          "base_uri": "https://localhost:8080/"
        },
        "id": "upcOlWe7A1vc",
        "outputId": "231dbe1d-3a36-4b32-a4ac-bea189d1d422"
      },
      "outputs": [
        {
          "output_type": "execute_result",
          "data": {
            "text/plain": [
              "['gemma-3n/processor_config.json']"
            ]
          },
          "metadata": {},
          "execution_count": 27
        }
      ],
      "source": [
        "model.save_pretrained(\"gemma-3n\")  # Local saving\n",
        "tokenizer.save_pretrained(\"gemma-3n\")\n",
        "# model.push_to_hub(\"HF_ACCOUNT/gemma-3\", token = \"...\") # Online saving\n",
        "# tokenizer.push_to_hub(\"HF_ACCOUNT/gemma-3\", token = \"...\") # Online saving"
      ]
    },
    {
      "cell_type": "markdown",
      "metadata": {
        "id": "AEEcJ4qfC7Lp"
      },
      "source": [
        "Now if you want to load the LoRA adapters we just saved for inference, set `False` to `True`:"
      ]
    },
    {
      "cell_type": "code",
      "execution_count": 28,
      "metadata": {
        "colab": {
          "base_uri": "https://localhost:8080/"
        },
        "id": "MKX_XKs_BNZR",
        "outputId": "48f7e5ff-44c7-4fe9-94c7-e3645989022b"
      },
      "outputs": [
        {
          "output_type": "stream",
          "name": "stdout",
          "text": [
            "Gemma-3N is a family of open-weights large language models (LLMs) created by the Gemma team at Google DeepMind. Here's a breakdown of what that means:\n",
            "\n",
            "*   **Open-weights:** This is a key aspect. \"Open-weights\" means the model's parameters (the learned values within the model) are publicly available. This allows researchers, developers, and enthusiasts to download, inspect, and fine-tune the model for their own purposes. This fosters innovation and transparency in the AI field.\n",
            "*   **Large Language Model (LLM):** Gemma-3N is a\n"
          ]
        }
      ],
      "source": [
        "if False:\n",
        "    from unsloth import FastModel\n",
        "    model, tokenizer = FastModel.from_pretrained(\n",
        "        model_name = \"lora_model\", # YOUR MODEL YOU USED FOR TRAINING\n",
        "        max_seq_length = 2048,\n",
        "        load_in_4bit = True,\n",
        "    )\n",
        "\n",
        "messages = [{\n",
        "    \"role\": \"user\",\n",
        "    \"content\": [{\"type\" : \"text\", \"text\" : \"What is Gemma-3N?\",}]\n",
        "}]\n",
        "inputs = tokenizer.apply_chat_template(\n",
        "    messages,\n",
        "    add_generation_prompt = True, # Must add for generation\n",
        "    return_tensors = \"pt\",\n",
        "    tokenize = True,\n",
        "    return_dict = True,\n",
        ").to(\"cuda\")\n",
        "\n",
        "from transformers import TextStreamer\n",
        "_ = model.generate(\n",
        "    **inputs,\n",
        "    max_new_tokens = 128, # Increase for longer outputs!\n",
        "    # Recommended Gemma-3 settings!\n",
        "    temperature = 1.0, top_p = 0.95, top_k = 64,\n",
        "    streamer = TextStreamer(tokenizer, skip_prompt = True),\n",
        ")"
      ]
    },
    {
      "cell_type": "markdown",
      "metadata": {
        "id": "f422JgM9sdVT"
      },
      "source": [
        "### Saving to float16 for VLLM\n",
        "\n",
        "We also support saving to `float16` directly for deployment! We save it in the folder `gemma-3N-finetune`. Set `if False` to `if True` to let it run!"
      ]
    },
    {
      "cell_type": "code",
      "execution_count": null,
      "metadata": {
        "id": "iHjt_SMYsd3P",
        "outputId": "d6f591dd-f806-44d0-9a3d-2ab92fff62c3",
        "colab": {
          "base_uri": "https://localhost:8080/",
          "height": 249,
          "referenced_widgets": [
            "0611b5114b9948a1a637d1410834519d",
            "909c2e8460154ff482c93afd09f822f2",
            "ff6ea9dc82f0412d95044d22bd60ab80",
            "6028b350ac414ffcb7040b80453e25d3",
            "6b037f31d565470cb242a1550f2dabd2",
            "f9b80f3db8e94f8a9c92039e44abcb00",
            "e36e6ef03b8a4ebd9a842b991d0fb4ea",
            "6cc145b87c964ea69ce6c0005dc9b584",
            "2eaf19a4546646a6a93e145c916b36ad",
            "7f2bc37f895a47378bc780058dc5cdc9",
            "2fc57f7a7888498d9601ab6619b675d5",
            "f62dab16f0e840678e562d4c80c73e18",
            "54921929fa6441d4ba0027a901654895",
            "4b50175669594c57abd4f1a12f3fbdcc",
            "8c62baecec284d2dad1f5c630cefc3a7",
            "b102e2cf14e04d63875921c4bc444ac0",
            "38b0bd77d8c84aec964f60c11a1673f6",
            "94378924877140ad997e4f525686c207",
            "c927dc2bc9cc4a6096701e4d06757e9d",
            "2976105f81524f8db6b8288d3e9bfd66",
            "6c38f3a0a2064a88be52a03aa683f237",
            "204580d841ad427687a007562e4381bd",
            "043c1ca293ba40418ec86707c24f8c29",
            "ff63115f66ab4fb5b9bc1335ab1245dd",
            "2ba5c6044a764e7086718f29e4feba2b",
            "ea6de35c08ce42129f227d066d6cdac9",
            "8ec93f674fd54773a6877233229c4197",
            "9bc37e40f70c4d9fb05ea5a159a65459",
            "299f86668eaa45828fa30c5280f976bf",
            "c9873567a19f49ebb818b73e6e32cc4f",
            "0c8856b326bf4319ab7937270d0537c9",
            "ed2f5a08835d479e87b520df2d87ad04",
            "046930e2ab6c4e9b892656c75ce1573d"
          ]
        }
      },
      "outputs": [
        {
          "output_type": "stream",
          "name": "stdout",
          "text": [
            "Found HuggingFace hub cache directory: /root/.cache/huggingface/hub\n",
            "Checking cache directory for required files...\n",
            "Cache check failed: model-00001-of-00004.safetensors not found in local cache.\n",
            "Not all required files found in cache. Will proceed with downloading.\n",
            "Downloading safetensors index for unsloth/gemma-3n-e4b-it...\n"
          ]
        },
        {
          "output_type": "stream",
          "name": "stderr",
          "text": [
            "\rUnsloth: Merging weights into 16bit:   0%|          | 0/4 [00:00<?, ?it/s]"
          ]
        },
        {
          "output_type": "display_data",
          "data": {
            "text/plain": [
              "model-00001-of-00004.safetensors:   0%|          | 0.00/3.08G [00:00<?, ?B/s]"
            ],
            "application/vnd.jupyter.widget-view+json": {
              "version_major": 2,
              "version_minor": 0,
              "model_id": "0611b5114b9948a1a637d1410834519d"
            }
          },
          "metadata": {}
        },
        {
          "output_type": "stream",
          "name": "stderr",
          "text": [
            "\rUnsloth: Merging weights into 16bit:  25%|██▌       | 1/4 [14:11<42:35, 851.70s/it]"
          ]
        },
        {
          "output_type": "display_data",
          "data": {
            "text/plain": [
              "model-00002-of-00004.safetensors:   0%|          | 0.00/4.97G [00:00<?, ?B/s]"
            ],
            "application/vnd.jupyter.widget-view+json": {
              "version_major": 2,
              "version_minor": 0,
              "model_id": "f62dab16f0e840678e562d4c80c73e18"
            }
          },
          "metadata": {}
        },
        {
          "output_type": "stream",
          "name": "stderr",
          "text": [
            "\rUnsloth: Merging weights into 16bit:  50%|█████     | 2/4 [35:33<36:49, 1104.76s/it]"
          ]
        },
        {
          "output_type": "display_data",
          "data": {
            "text/plain": [
              "model-00003-of-00004.safetensors:   0%|          | 0.00/4.99G [00:00<?, ?B/s]"
            ],
            "application/vnd.jupyter.widget-view+json": {
              "version_major": 2,
              "version_minor": 0,
              "model_id": "043c1ca293ba40418ec86707c24f8c29"
            }
          },
          "metadata": {}
        }
      ],
      "source": [
        "if True: # Change to True to save finetune!\n",
        "    model.save_pretrained_merged(\"gemma-3N-finetune\", tokenizer)"
      ]
    },
    {
      "cell_type": "code",
      "source": [
        "import getpass\n",
        "\n",
        "hf_token = getpass.getpass(\"Enter HF Token: \")"
      ],
      "metadata": {
        "id": "U_oq2JLd1gbH"
      },
      "execution_count": null,
      "outputs": []
    },
    {
      "cell_type": "markdown",
      "metadata": {
        "id": "z6O48DbNIAr0"
      },
      "source": [
        "If you want to upload / push to your Hugging Face account, set `if False` to `if True` and add your Hugging Face token and upload location!"
      ]
    },
    {
      "cell_type": "code",
      "execution_count": null,
      "metadata": {
        "id": "ZV-CiKPrIFG0"
      },
      "outputs": [],
      "source": [
        "if True: # Change to True to upload finetune\n",
        "    model.push_to_hub_merged(\n",
        "        \"paravatha/gemma-3N-finetune\", tokenizer,\n",
        "        token = hf_token\n",
        "    )"
      ]
    },
    {
      "cell_type": "markdown",
      "metadata": {
        "id": "TCv4vXHd61i7"
      },
      "source": [
        "### GGUF / llama.cpp Conversion\n",
        "To save to `GGUF` / `llama.cpp`, we support it natively now for all models! For now, you can convert easily to `Q8_0, F16 or BF16` precision. `Q4_K_M` for 4bit will come later!"
      ]
    },
    {
      "cell_type": "code",
      "execution_count": null,
      "metadata": {
        "id": "FqfebeAdT073"
      },
      "outputs": [],
      "source": [
        "if True: # Change to True to save to GGUF\n",
        "    model.save_pretrained_gguf(\n",
        "        \"gemma-3N-finetune\",\n",
        "        quantization_type = \"Q8_0\", # For now only Q8_0, BF16, F16 supported\n",
        "    )"
      ]
    },
    {
      "cell_type": "markdown",
      "metadata": {
        "id": "Q974YEVPI7JS"
      },
      "source": [
        "Likewise, if you want to instead push to GGUF to your Hugging Face account, set `if False` to `if True` and add your Hugging Face token and upload location!"
      ]
    },
    {
      "cell_type": "code",
      "execution_count": null,
      "metadata": {
        "id": "ZgcJIhJ0I_es"
      },
      "outputs": [],
      "source": [
        "if True: # Change to True to upload GGUF\n",
        "    model.push_to_hub_gguf(\n",
        "        \"gemma-3N-finetune\",\n",
        "        quantization_type = \"Q8_0\", # Only Q8_0, BF16, F16 supported\n",
        "        repo_id = \"paravatha/gemma-3N-finetune-gguf\",\n",
        "        token = hf_token,\n",
        "    )"
      ]
    },
    {
      "cell_type": "markdown",
      "metadata": {
        "id": "pnz9QOYTMvbH"
      },
      "source": [
        "Now, use the `gemma-3N-finetune.gguf` file or `gemma-3N-finetune-Q4_K_M.gguf` file in llama.cpp or a UI based system like Jan or Open WebUI. You can install Jan [here](https://github.com/janhq/jan) and Open WebUI [here](https://github.com/open-webui/open-webui)\n",
        "\n",
        "And we're done! If you have any questions on Unsloth, we have a [Discord](https://discord.gg/unsloth) channel! If you find any bugs or want to keep updated with the latest LLM stuff, or need help, join projects etc, feel free to join our Discord!\n",
        "\n",
        "Some other links:\n",
        "1. Train your own reasoning model - Llama GRPO notebook [Free Colab](https://colab.research.google.com/github/unslothai/notebooks/blob/main/nb/Llama3.1_(8B)-GRPO.ipynb)\n",
        "2. Saving finetunes to Ollama. [Free notebook](https://colab.research.google.com/github/unslothai/notebooks/blob/main/nb/Llama3_(8B)-Ollama.ipynb)\n",
        "3. Llama 3.2 Vision finetuning - Radiography use case. [Free Colab](https://colab.research.google.com/github/unslothai/notebooks/blob/main/nb/Llama3.2_(11B)-Vision.ipynb)\n",
        "6. See notebooks for DPO, ORPO, Continued pretraining, conversational finetuning and more on our [documentation](https://docs.unsloth.ai/get-started/unsloth-notebooks)!\n",
        "\n",
        "<div class=\"align-center\">\n",
        "  <a href=\"https://unsloth.ai\"><img src=\"https://github.com/unslothai/unsloth/raw/main/images/unsloth%20new%20logo.png\" width=\"115\"></a>\n",
        "  <a href=\"https://discord.gg/unsloth\"><img src=\"https://github.com/unslothai/unsloth/raw/main/images/Discord.png\" width=\"145\"></a>\n",
        "  <a href=\"https://docs.unsloth.ai/\"><img src=\"https://github.com/unslothai/unsloth/blob/main/images/documentation%20green%20button.png?raw=true\" width=\"125\"></a>\n",
        "\n",
        "  Join Discord if you need help + ⭐️ <i>Star us on <a href=\"https://github.com/unslothai/unsloth\">Github</a> </i> ⭐️\n",
        "</div>\n"
      ]
    }
  ],
  "metadata": {
    "accelerator": "GPU",
    "colab": {
      "gpuType": "T4",
      "provenance": [],
      "include_colab_link": true
    },
    "kernelspec": {
      "display_name": "Python 3",
      "name": "python3"
    },
    "language_info": {
      "codemirror_mode": {
        "name": "ipython",
        "version": 3
      },
      "file_extension": ".py",
      "mimetype": "text/x-python",
      "name": "python",
      "nbconvert_exporter": "python",
      "pygments_lexer": "ipython3",
      "version": "3.11.11"
    },
    "widgets": {
      "application/vnd.jupyter.widget-state+json": {
        "9ddc84abe4294cb081ef5f652d67707e": {
          "model_module": "@jupyter-widgets/controls",
          "model_name": "HBoxModel",
          "model_module_version": "1.5.0",
          "state": {
            "_dom_classes": [],
            "_model_module": "@jupyter-widgets/controls",
            "_model_module_version": "1.5.0",
            "_model_name": "HBoxModel",
            "_view_count": null,
            "_view_module": "@jupyter-widgets/controls",
            "_view_module_version": "1.5.0",
            "_view_name": "HBoxView",
            "box_style": "",
            "children": [
              "IPY_MODEL_243d69262f674730b6dcd5aa176f5558",
              "IPY_MODEL_cdddd2c0386140d0a353ec029695b813",
              "IPY_MODEL_10bd487900ea4988ae46d8d5aeda0436"
            ],
            "layout": "IPY_MODEL_5f10b09c629d453996be17079de623eb"
          }
        },
        "243d69262f674730b6dcd5aa176f5558": {
          "model_module": "@jupyter-widgets/controls",
          "model_name": "HTMLModel",
          "model_module_version": "1.5.0",
          "state": {
            "_dom_classes": [],
            "_model_module": "@jupyter-widgets/controls",
            "_model_module_version": "1.5.0",
            "_model_name": "HTMLModel",
            "_view_count": null,
            "_view_module": "@jupyter-widgets/controls",
            "_view_module_version": "1.5.0",
            "_view_name": "HTMLView",
            "description": "",
            "description_tooltip": null,
            "layout": "IPY_MODEL_d8df4b2ea66641c4823e52833668606e",
            "placeholder": "​",
            "style": "IPY_MODEL_e1ef83cf84aa4ed0a74f58a2c9d74906",
            "value": "Loading checkpoint shards: 100%"
          }
        },
        "cdddd2c0386140d0a353ec029695b813": {
          "model_module": "@jupyter-widgets/controls",
          "model_name": "FloatProgressModel",
          "model_module_version": "1.5.0",
          "state": {
            "_dom_classes": [],
            "_model_module": "@jupyter-widgets/controls",
            "_model_module_version": "1.5.0",
            "_model_name": "FloatProgressModel",
            "_view_count": null,
            "_view_module": "@jupyter-widgets/controls",
            "_view_module_version": "1.5.0",
            "_view_name": "ProgressView",
            "bar_style": "success",
            "description": "",
            "description_tooltip": null,
            "layout": "IPY_MODEL_3607bb178a85465693df1eae8ef894e0",
            "max": 3,
            "min": 0,
            "orientation": "horizontal",
            "style": "IPY_MODEL_d88457bde6184fc59e361febea04edd2",
            "value": 3
          }
        },
        "10bd487900ea4988ae46d8d5aeda0436": {
          "model_module": "@jupyter-widgets/controls",
          "model_name": "HTMLModel",
          "model_module_version": "1.5.0",
          "state": {
            "_dom_classes": [],
            "_model_module": "@jupyter-widgets/controls",
            "_model_module_version": "1.5.0",
            "_model_name": "HTMLModel",
            "_view_count": null,
            "_view_module": "@jupyter-widgets/controls",
            "_view_module_version": "1.5.0",
            "_view_name": "HTMLView",
            "description": "",
            "description_tooltip": null,
            "layout": "IPY_MODEL_0a15eb11d3804665ae94ea96648b2d08",
            "placeholder": "​",
            "style": "IPY_MODEL_572f96d79b93411ba062228586135997",
            "value": " 3/3 [00:48&lt;00:00, 14.55s/it]"
          }
        },
        "5f10b09c629d453996be17079de623eb": {
          "model_module": "@jupyter-widgets/base",
          "model_name": "LayoutModel",
          "model_module_version": "1.2.0",
          "state": {
            "_model_module": "@jupyter-widgets/base",
            "_model_module_version": "1.2.0",
            "_model_name": "LayoutModel",
            "_view_count": null,
            "_view_module": "@jupyter-widgets/base",
            "_view_module_version": "1.2.0",
            "_view_name": "LayoutView",
            "align_content": null,
            "align_items": null,
            "align_self": null,
            "border": null,
            "bottom": null,
            "display": null,
            "flex": null,
            "flex_flow": null,
            "grid_area": null,
            "grid_auto_columns": null,
            "grid_auto_flow": null,
            "grid_auto_rows": null,
            "grid_column": null,
            "grid_gap": null,
            "grid_row": null,
            "grid_template_areas": null,
            "grid_template_columns": null,
            "grid_template_rows": null,
            "height": null,
            "justify_content": null,
            "justify_items": null,
            "left": null,
            "margin": null,
            "max_height": null,
            "max_width": null,
            "min_height": null,
            "min_width": null,
            "object_fit": null,
            "object_position": null,
            "order": null,
            "overflow": null,
            "overflow_x": null,
            "overflow_y": null,
            "padding": null,
            "right": null,
            "top": null,
            "visibility": null,
            "width": null
          }
        },
        "d8df4b2ea66641c4823e52833668606e": {
          "model_module": "@jupyter-widgets/base",
          "model_name": "LayoutModel",
          "model_module_version": "1.2.0",
          "state": {
            "_model_module": "@jupyter-widgets/base",
            "_model_module_version": "1.2.0",
            "_model_name": "LayoutModel",
            "_view_count": null,
            "_view_module": "@jupyter-widgets/base",
            "_view_module_version": "1.2.0",
            "_view_name": "LayoutView",
            "align_content": null,
            "align_items": null,
            "align_self": null,
            "border": null,
            "bottom": null,
            "display": null,
            "flex": null,
            "flex_flow": null,
            "grid_area": null,
            "grid_auto_columns": null,
            "grid_auto_flow": null,
            "grid_auto_rows": null,
            "grid_column": null,
            "grid_gap": null,
            "grid_row": null,
            "grid_template_areas": null,
            "grid_template_columns": null,
            "grid_template_rows": null,
            "height": null,
            "justify_content": null,
            "justify_items": null,
            "left": null,
            "margin": null,
            "max_height": null,
            "max_width": null,
            "min_height": null,
            "min_width": null,
            "object_fit": null,
            "object_position": null,
            "order": null,
            "overflow": null,
            "overflow_x": null,
            "overflow_y": null,
            "padding": null,
            "right": null,
            "top": null,
            "visibility": null,
            "width": null
          }
        },
        "e1ef83cf84aa4ed0a74f58a2c9d74906": {
          "model_module": "@jupyter-widgets/controls",
          "model_name": "DescriptionStyleModel",
          "model_module_version": "1.5.0",
          "state": {
            "_model_module": "@jupyter-widgets/controls",
            "_model_module_version": "1.5.0",
            "_model_name": "DescriptionStyleModel",
            "_view_count": null,
            "_view_module": "@jupyter-widgets/base",
            "_view_module_version": "1.2.0",
            "_view_name": "StyleView",
            "description_width": ""
          }
        },
        "3607bb178a85465693df1eae8ef894e0": {
          "model_module": "@jupyter-widgets/base",
          "model_name": "LayoutModel",
          "model_module_version": "1.2.0",
          "state": {
            "_model_module": "@jupyter-widgets/base",
            "_model_module_version": "1.2.0",
            "_model_name": "LayoutModel",
            "_view_count": null,
            "_view_module": "@jupyter-widgets/base",
            "_view_module_version": "1.2.0",
            "_view_name": "LayoutView",
            "align_content": null,
            "align_items": null,
            "align_self": null,
            "border": null,
            "bottom": null,
            "display": null,
            "flex": null,
            "flex_flow": null,
            "grid_area": null,
            "grid_auto_columns": null,
            "grid_auto_flow": null,
            "grid_auto_rows": null,
            "grid_column": null,
            "grid_gap": null,
            "grid_row": null,
            "grid_template_areas": null,
            "grid_template_columns": null,
            "grid_template_rows": null,
            "height": null,
            "justify_content": null,
            "justify_items": null,
            "left": null,
            "margin": null,
            "max_height": null,
            "max_width": null,
            "min_height": null,
            "min_width": null,
            "object_fit": null,
            "object_position": null,
            "order": null,
            "overflow": null,
            "overflow_x": null,
            "overflow_y": null,
            "padding": null,
            "right": null,
            "top": null,
            "visibility": null,
            "width": null
          }
        },
        "d88457bde6184fc59e361febea04edd2": {
          "model_module": "@jupyter-widgets/controls",
          "model_name": "ProgressStyleModel",
          "model_module_version": "1.5.0",
          "state": {
            "_model_module": "@jupyter-widgets/controls",
            "_model_module_version": "1.5.0",
            "_model_name": "ProgressStyleModel",
            "_view_count": null,
            "_view_module": "@jupyter-widgets/base",
            "_view_module_version": "1.2.0",
            "_view_name": "StyleView",
            "bar_color": null,
            "description_width": ""
          }
        },
        "0a15eb11d3804665ae94ea96648b2d08": {
          "model_module": "@jupyter-widgets/base",
          "model_name": "LayoutModel",
          "model_module_version": "1.2.0",
          "state": {
            "_model_module": "@jupyter-widgets/base",
            "_model_module_version": "1.2.0",
            "_model_name": "LayoutModel",
            "_view_count": null,
            "_view_module": "@jupyter-widgets/base",
            "_view_module_version": "1.2.0",
            "_view_name": "LayoutView",
            "align_content": null,
            "align_items": null,
            "align_self": null,
            "border": null,
            "bottom": null,
            "display": null,
            "flex": null,
            "flex_flow": null,
            "grid_area": null,
            "grid_auto_columns": null,
            "grid_auto_flow": null,
            "grid_auto_rows": null,
            "grid_column": null,
            "grid_gap": null,
            "grid_row": null,
            "grid_template_areas": null,
            "grid_template_columns": null,
            "grid_template_rows": null,
            "height": null,
            "justify_content": null,
            "justify_items": null,
            "left": null,
            "margin": null,
            "max_height": null,
            "max_width": null,
            "min_height": null,
            "min_width": null,
            "object_fit": null,
            "object_position": null,
            "order": null,
            "overflow": null,
            "overflow_x": null,
            "overflow_y": null,
            "padding": null,
            "right": null,
            "top": null,
            "visibility": null,
            "width": null
          }
        },
        "572f96d79b93411ba062228586135997": {
          "model_module": "@jupyter-widgets/controls",
          "model_name": "DescriptionStyleModel",
          "model_module_version": "1.5.0",
          "state": {
            "_model_module": "@jupyter-widgets/controls",
            "_model_module_version": "1.5.0",
            "_model_name": "DescriptionStyleModel",
            "_view_count": null,
            "_view_module": "@jupyter-widgets/base",
            "_view_module_version": "1.2.0",
            "_view_name": "StyleView",
            "description_width": ""
          }
        },
        "5a1e7dfd39594522aa6c2e2aeeb2f8c0": {
          "model_module": "@jupyter-widgets/controls",
          "model_name": "HBoxModel",
          "model_module_version": "1.5.0",
          "state": {
            "_dom_classes": [],
            "_model_module": "@jupyter-widgets/controls",
            "_model_module_version": "1.5.0",
            "_model_name": "HBoxModel",
            "_view_count": null,
            "_view_module": "@jupyter-widgets/controls",
            "_view_module_version": "1.5.0",
            "_view_name": "HBoxView",
            "box_style": "",
            "children": [
              "IPY_MODEL_06871cafa6404127a3d9b07c23dcc9a4",
              "IPY_MODEL_9dff64dd5a7542c596630270d034008f",
              "IPY_MODEL_b6067cc50bc44fbeadefd35d765c19a3"
            ],
            "layout": "IPY_MODEL_28c0451d009c46179eccd92d291ba8cb"
          }
        },
        "06871cafa6404127a3d9b07c23dcc9a4": {
          "model_module": "@jupyter-widgets/controls",
          "model_name": "HTMLModel",
          "model_module_version": "1.5.0",
          "state": {
            "_dom_classes": [],
            "_model_module": "@jupyter-widgets/controls",
            "_model_module_version": "1.5.0",
            "_model_name": "HTMLModel",
            "_view_count": null,
            "_view_module": "@jupyter-widgets/controls",
            "_view_module_version": "1.5.0",
            "_view_name": "HTMLView",
            "description": "",
            "description_tooltip": null,
            "layout": "IPY_MODEL_021da2995400431e80170d7e356b7b4f",
            "placeholder": "​",
            "style": "IPY_MODEL_8ff5bffd8d9042e7a4bb1263deecff7a",
            "value": "Map: 100%"
          }
        },
        "9dff64dd5a7542c596630270d034008f": {
          "model_module": "@jupyter-widgets/controls",
          "model_name": "FloatProgressModel",
          "model_module_version": "1.5.0",
          "state": {
            "_dom_classes": [],
            "_model_module": "@jupyter-widgets/controls",
            "_model_module_version": "1.5.0",
            "_model_name": "FloatProgressModel",
            "_view_count": null,
            "_view_module": "@jupyter-widgets/controls",
            "_view_module_version": "1.5.0",
            "_view_name": "ProgressView",
            "bar_style": "success",
            "description": "",
            "description_tooltip": null,
            "layout": "IPY_MODEL_4de473ba4de443d7b09d157e9c816fa6",
            "max": 3000,
            "min": 0,
            "orientation": "horizontal",
            "style": "IPY_MODEL_cba0c82c8d01471484b0bbb907302be3",
            "value": 3000
          }
        },
        "b6067cc50bc44fbeadefd35d765c19a3": {
          "model_module": "@jupyter-widgets/controls",
          "model_name": "HTMLModel",
          "model_module_version": "1.5.0",
          "state": {
            "_dom_classes": [],
            "_model_module": "@jupyter-widgets/controls",
            "_model_module_version": "1.5.0",
            "_model_name": "HTMLModel",
            "_view_count": null,
            "_view_module": "@jupyter-widgets/controls",
            "_view_module_version": "1.5.0",
            "_view_name": "HTMLView",
            "description": "",
            "description_tooltip": null,
            "layout": "IPY_MODEL_16148e27b1f94803a5c366d685b87522",
            "placeholder": "​",
            "style": "IPY_MODEL_5dcd44394d994d7f825fa5fcddca5ba0",
            "value": " 3000/3000 [00:00&lt;00:00, 4042.39 examples/s]"
          }
        },
        "28c0451d009c46179eccd92d291ba8cb": {
          "model_module": "@jupyter-widgets/base",
          "model_name": "LayoutModel",
          "model_module_version": "1.2.0",
          "state": {
            "_model_module": "@jupyter-widgets/base",
            "_model_module_version": "1.2.0",
            "_model_name": "LayoutModel",
            "_view_count": null,
            "_view_module": "@jupyter-widgets/base",
            "_view_module_version": "1.2.0",
            "_view_name": "LayoutView",
            "align_content": null,
            "align_items": null,
            "align_self": null,
            "border": null,
            "bottom": null,
            "display": null,
            "flex": null,
            "flex_flow": null,
            "grid_area": null,
            "grid_auto_columns": null,
            "grid_auto_flow": null,
            "grid_auto_rows": null,
            "grid_column": null,
            "grid_gap": null,
            "grid_row": null,
            "grid_template_areas": null,
            "grid_template_columns": null,
            "grid_template_rows": null,
            "height": null,
            "justify_content": null,
            "justify_items": null,
            "left": null,
            "margin": null,
            "max_height": null,
            "max_width": null,
            "min_height": null,
            "min_width": null,
            "object_fit": null,
            "object_position": null,
            "order": null,
            "overflow": null,
            "overflow_x": null,
            "overflow_y": null,
            "padding": null,
            "right": null,
            "top": null,
            "visibility": null,
            "width": null
          }
        },
        "021da2995400431e80170d7e356b7b4f": {
          "model_module": "@jupyter-widgets/base",
          "model_name": "LayoutModel",
          "model_module_version": "1.2.0",
          "state": {
            "_model_module": "@jupyter-widgets/base",
            "_model_module_version": "1.2.0",
            "_model_name": "LayoutModel",
            "_view_count": null,
            "_view_module": "@jupyter-widgets/base",
            "_view_module_version": "1.2.0",
            "_view_name": "LayoutView",
            "align_content": null,
            "align_items": null,
            "align_self": null,
            "border": null,
            "bottom": null,
            "display": null,
            "flex": null,
            "flex_flow": null,
            "grid_area": null,
            "grid_auto_columns": null,
            "grid_auto_flow": null,
            "grid_auto_rows": null,
            "grid_column": null,
            "grid_gap": null,
            "grid_row": null,
            "grid_template_areas": null,
            "grid_template_columns": null,
            "grid_template_rows": null,
            "height": null,
            "justify_content": null,
            "justify_items": null,
            "left": null,
            "margin": null,
            "max_height": null,
            "max_width": null,
            "min_height": null,
            "min_width": null,
            "object_fit": null,
            "object_position": null,
            "order": null,
            "overflow": null,
            "overflow_x": null,
            "overflow_y": null,
            "padding": null,
            "right": null,
            "top": null,
            "visibility": null,
            "width": null
          }
        },
        "8ff5bffd8d9042e7a4bb1263deecff7a": {
          "model_module": "@jupyter-widgets/controls",
          "model_name": "DescriptionStyleModel",
          "model_module_version": "1.5.0",
          "state": {
            "_model_module": "@jupyter-widgets/controls",
            "_model_module_version": "1.5.0",
            "_model_name": "DescriptionStyleModel",
            "_view_count": null,
            "_view_module": "@jupyter-widgets/base",
            "_view_module_version": "1.2.0",
            "_view_name": "StyleView",
            "description_width": ""
          }
        },
        "4de473ba4de443d7b09d157e9c816fa6": {
          "model_module": "@jupyter-widgets/base",
          "model_name": "LayoutModel",
          "model_module_version": "1.2.0",
          "state": {
            "_model_module": "@jupyter-widgets/base",
            "_model_module_version": "1.2.0",
            "_model_name": "LayoutModel",
            "_view_count": null,
            "_view_module": "@jupyter-widgets/base",
            "_view_module_version": "1.2.0",
            "_view_name": "LayoutView",
            "align_content": null,
            "align_items": null,
            "align_self": null,
            "border": null,
            "bottom": null,
            "display": null,
            "flex": null,
            "flex_flow": null,
            "grid_area": null,
            "grid_auto_columns": null,
            "grid_auto_flow": null,
            "grid_auto_rows": null,
            "grid_column": null,
            "grid_gap": null,
            "grid_row": null,
            "grid_template_areas": null,
            "grid_template_columns": null,
            "grid_template_rows": null,
            "height": null,
            "justify_content": null,
            "justify_items": null,
            "left": null,
            "margin": null,
            "max_height": null,
            "max_width": null,
            "min_height": null,
            "min_width": null,
            "object_fit": null,
            "object_position": null,
            "order": null,
            "overflow": null,
            "overflow_x": null,
            "overflow_y": null,
            "padding": null,
            "right": null,
            "top": null,
            "visibility": null,
            "width": null
          }
        },
        "cba0c82c8d01471484b0bbb907302be3": {
          "model_module": "@jupyter-widgets/controls",
          "model_name": "ProgressStyleModel",
          "model_module_version": "1.5.0",
          "state": {
            "_model_module": "@jupyter-widgets/controls",
            "_model_module_version": "1.5.0",
            "_model_name": "ProgressStyleModel",
            "_view_count": null,
            "_view_module": "@jupyter-widgets/base",
            "_view_module_version": "1.2.0",
            "_view_name": "StyleView",
            "bar_color": null,
            "description_width": ""
          }
        },
        "16148e27b1f94803a5c366d685b87522": {
          "model_module": "@jupyter-widgets/base",
          "model_name": "LayoutModel",
          "model_module_version": "1.2.0",
          "state": {
            "_model_module": "@jupyter-widgets/base",
            "_model_module_version": "1.2.0",
            "_model_name": "LayoutModel",
            "_view_count": null,
            "_view_module": "@jupyter-widgets/base",
            "_view_module_version": "1.2.0",
            "_view_name": "LayoutView",
            "align_content": null,
            "align_items": null,
            "align_self": null,
            "border": null,
            "bottom": null,
            "display": null,
            "flex": null,
            "flex_flow": null,
            "grid_area": null,
            "grid_auto_columns": null,
            "grid_auto_flow": null,
            "grid_auto_rows": null,
            "grid_column": null,
            "grid_gap": null,
            "grid_row": null,
            "grid_template_areas": null,
            "grid_template_columns": null,
            "grid_template_rows": null,
            "height": null,
            "justify_content": null,
            "justify_items": null,
            "left": null,
            "margin": null,
            "max_height": null,
            "max_width": null,
            "min_height": null,
            "min_width": null,
            "object_fit": null,
            "object_position": null,
            "order": null,
            "overflow": null,
            "overflow_x": null,
            "overflow_y": null,
            "padding": null,
            "right": null,
            "top": null,
            "visibility": null,
            "width": null
          }
        },
        "5dcd44394d994d7f825fa5fcddca5ba0": {
          "model_module": "@jupyter-widgets/controls",
          "model_name": "DescriptionStyleModel",
          "model_module_version": "1.5.0",
          "state": {
            "_model_module": "@jupyter-widgets/controls",
            "_model_module_version": "1.5.0",
            "_model_name": "DescriptionStyleModel",
            "_view_count": null,
            "_view_module": "@jupyter-widgets/base",
            "_view_module_version": "1.2.0",
            "_view_name": "StyleView",
            "description_width": ""
          }
        },
        "e14d6a3a22d84d3e80da56616c87f552": {
          "model_module": "@jupyter-widgets/controls",
          "model_name": "HBoxModel",
          "model_module_version": "1.5.0",
          "state": {
            "_dom_classes": [],
            "_model_module": "@jupyter-widgets/controls",
            "_model_module_version": "1.5.0",
            "_model_name": "HBoxModel",
            "_view_count": null,
            "_view_module": "@jupyter-widgets/controls",
            "_view_module_version": "1.5.0",
            "_view_name": "HBoxView",
            "box_style": "",
            "children": [
              "IPY_MODEL_0fc15570b87047ada456c109d69d92aa",
              "IPY_MODEL_7e1b34443a2342fdb9693e6a39ca4e1e",
              "IPY_MODEL_ee6efdbd17424d9190c2366a5e6f2622"
            ],
            "layout": "IPY_MODEL_d2ad3130a35441da8bb61443102869a9"
          }
        },
        "0fc15570b87047ada456c109d69d92aa": {
          "model_module": "@jupyter-widgets/controls",
          "model_name": "HTMLModel",
          "model_module_version": "1.5.0",
          "state": {
            "_dom_classes": [],
            "_model_module": "@jupyter-widgets/controls",
            "_model_module_version": "1.5.0",
            "_model_name": "HTMLModel",
            "_view_count": null,
            "_view_module": "@jupyter-widgets/controls",
            "_view_module_version": "1.5.0",
            "_view_name": "HTMLView",
            "description": "",
            "description_tooltip": null,
            "layout": "IPY_MODEL_f7ade24fc89e422286dec39d149923eb",
            "placeholder": "​",
            "style": "IPY_MODEL_eb48773b8aa0441a9f9036ff045f56e1",
            "value": "Unsloth: Tokenizing [&quot;text&quot;] (num_proc=2): 100%"
          }
        },
        "7e1b34443a2342fdb9693e6a39ca4e1e": {
          "model_module": "@jupyter-widgets/controls",
          "model_name": "FloatProgressModel",
          "model_module_version": "1.5.0",
          "state": {
            "_dom_classes": [],
            "_model_module": "@jupyter-widgets/controls",
            "_model_module_version": "1.5.0",
            "_model_name": "FloatProgressModel",
            "_view_count": null,
            "_view_module": "@jupyter-widgets/controls",
            "_view_module_version": "1.5.0",
            "_view_name": "ProgressView",
            "bar_style": "success",
            "description": "",
            "description_tooltip": null,
            "layout": "IPY_MODEL_c75e9df2d724454c8edf62e5e9e7eb8e",
            "max": 3000,
            "min": 0,
            "orientation": "horizontal",
            "style": "IPY_MODEL_63ecb1aa3fbe48dcb9f6ac82ee32f353",
            "value": 3000
          }
        },
        "ee6efdbd17424d9190c2366a5e6f2622": {
          "model_module": "@jupyter-widgets/controls",
          "model_name": "HTMLModel",
          "model_module_version": "1.5.0",
          "state": {
            "_dom_classes": [],
            "_model_module": "@jupyter-widgets/controls",
            "_model_module_version": "1.5.0",
            "_model_name": "HTMLModel",
            "_view_count": null,
            "_view_module": "@jupyter-widgets/controls",
            "_view_module_version": "1.5.0",
            "_view_name": "HTMLView",
            "description": "",
            "description_tooltip": null,
            "layout": "IPY_MODEL_2e484eb02abe43e1a9fc1e2c50a91cf0",
            "placeholder": "​",
            "style": "IPY_MODEL_69b15845283842dab80480dfa417e993",
            "value": " 3000/3000 [00:12&lt;00:00, 331.73 examples/s]"
          }
        },
        "d2ad3130a35441da8bb61443102869a9": {
          "model_module": "@jupyter-widgets/base",
          "model_name": "LayoutModel",
          "model_module_version": "1.2.0",
          "state": {
            "_model_module": "@jupyter-widgets/base",
            "_model_module_version": "1.2.0",
            "_model_name": "LayoutModel",
            "_view_count": null,
            "_view_module": "@jupyter-widgets/base",
            "_view_module_version": "1.2.0",
            "_view_name": "LayoutView",
            "align_content": null,
            "align_items": null,
            "align_self": null,
            "border": null,
            "bottom": null,
            "display": null,
            "flex": null,
            "flex_flow": null,
            "grid_area": null,
            "grid_auto_columns": null,
            "grid_auto_flow": null,
            "grid_auto_rows": null,
            "grid_column": null,
            "grid_gap": null,
            "grid_row": null,
            "grid_template_areas": null,
            "grid_template_columns": null,
            "grid_template_rows": null,
            "height": null,
            "justify_content": null,
            "justify_items": null,
            "left": null,
            "margin": null,
            "max_height": null,
            "max_width": null,
            "min_height": null,
            "min_width": null,
            "object_fit": null,
            "object_position": null,
            "order": null,
            "overflow": null,
            "overflow_x": null,
            "overflow_y": null,
            "padding": null,
            "right": null,
            "top": null,
            "visibility": null,
            "width": null
          }
        },
        "f7ade24fc89e422286dec39d149923eb": {
          "model_module": "@jupyter-widgets/base",
          "model_name": "LayoutModel",
          "model_module_version": "1.2.0",
          "state": {
            "_model_module": "@jupyter-widgets/base",
            "_model_module_version": "1.2.0",
            "_model_name": "LayoutModel",
            "_view_count": null,
            "_view_module": "@jupyter-widgets/base",
            "_view_module_version": "1.2.0",
            "_view_name": "LayoutView",
            "align_content": null,
            "align_items": null,
            "align_self": null,
            "border": null,
            "bottom": null,
            "display": null,
            "flex": null,
            "flex_flow": null,
            "grid_area": null,
            "grid_auto_columns": null,
            "grid_auto_flow": null,
            "grid_auto_rows": null,
            "grid_column": null,
            "grid_gap": null,
            "grid_row": null,
            "grid_template_areas": null,
            "grid_template_columns": null,
            "grid_template_rows": null,
            "height": null,
            "justify_content": null,
            "justify_items": null,
            "left": null,
            "margin": null,
            "max_height": null,
            "max_width": null,
            "min_height": null,
            "min_width": null,
            "object_fit": null,
            "object_position": null,
            "order": null,
            "overflow": null,
            "overflow_x": null,
            "overflow_y": null,
            "padding": null,
            "right": null,
            "top": null,
            "visibility": null,
            "width": null
          }
        },
        "eb48773b8aa0441a9f9036ff045f56e1": {
          "model_module": "@jupyter-widgets/controls",
          "model_name": "DescriptionStyleModel",
          "model_module_version": "1.5.0",
          "state": {
            "_model_module": "@jupyter-widgets/controls",
            "_model_module_version": "1.5.0",
            "_model_name": "DescriptionStyleModel",
            "_view_count": null,
            "_view_module": "@jupyter-widgets/base",
            "_view_module_version": "1.2.0",
            "_view_name": "StyleView",
            "description_width": ""
          }
        },
        "c75e9df2d724454c8edf62e5e9e7eb8e": {
          "model_module": "@jupyter-widgets/base",
          "model_name": "LayoutModel",
          "model_module_version": "1.2.0",
          "state": {
            "_model_module": "@jupyter-widgets/base",
            "_model_module_version": "1.2.0",
            "_model_name": "LayoutModel",
            "_view_count": null,
            "_view_module": "@jupyter-widgets/base",
            "_view_module_version": "1.2.0",
            "_view_name": "LayoutView",
            "align_content": null,
            "align_items": null,
            "align_self": null,
            "border": null,
            "bottom": null,
            "display": null,
            "flex": null,
            "flex_flow": null,
            "grid_area": null,
            "grid_auto_columns": null,
            "grid_auto_flow": null,
            "grid_auto_rows": null,
            "grid_column": null,
            "grid_gap": null,
            "grid_row": null,
            "grid_template_areas": null,
            "grid_template_columns": null,
            "grid_template_rows": null,
            "height": null,
            "justify_content": null,
            "justify_items": null,
            "left": null,
            "margin": null,
            "max_height": null,
            "max_width": null,
            "min_height": null,
            "min_width": null,
            "object_fit": null,
            "object_position": null,
            "order": null,
            "overflow": null,
            "overflow_x": null,
            "overflow_y": null,
            "padding": null,
            "right": null,
            "top": null,
            "visibility": null,
            "width": null
          }
        },
        "63ecb1aa3fbe48dcb9f6ac82ee32f353": {
          "model_module": "@jupyter-widgets/controls",
          "model_name": "ProgressStyleModel",
          "model_module_version": "1.5.0",
          "state": {
            "_model_module": "@jupyter-widgets/controls",
            "_model_module_version": "1.5.0",
            "_model_name": "ProgressStyleModel",
            "_view_count": null,
            "_view_module": "@jupyter-widgets/base",
            "_view_module_version": "1.2.0",
            "_view_name": "StyleView",
            "bar_color": null,
            "description_width": ""
          }
        },
        "2e484eb02abe43e1a9fc1e2c50a91cf0": {
          "model_module": "@jupyter-widgets/base",
          "model_name": "LayoutModel",
          "model_module_version": "1.2.0",
          "state": {
            "_model_module": "@jupyter-widgets/base",
            "_model_module_version": "1.2.0",
            "_model_name": "LayoutModel",
            "_view_count": null,
            "_view_module": "@jupyter-widgets/base",
            "_view_module_version": "1.2.0",
            "_view_name": "LayoutView",
            "align_content": null,
            "align_items": null,
            "align_self": null,
            "border": null,
            "bottom": null,
            "display": null,
            "flex": null,
            "flex_flow": null,
            "grid_area": null,
            "grid_auto_columns": null,
            "grid_auto_flow": null,
            "grid_auto_rows": null,
            "grid_column": null,
            "grid_gap": null,
            "grid_row": null,
            "grid_template_areas": null,
            "grid_template_columns": null,
            "grid_template_rows": null,
            "height": null,
            "justify_content": null,
            "justify_items": null,
            "left": null,
            "margin": null,
            "max_height": null,
            "max_width": null,
            "min_height": null,
            "min_width": null,
            "object_fit": null,
            "object_position": null,
            "order": null,
            "overflow": null,
            "overflow_x": null,
            "overflow_y": null,
            "padding": null,
            "right": null,
            "top": null,
            "visibility": null,
            "width": null
          }
        },
        "69b15845283842dab80480dfa417e993": {
          "model_module": "@jupyter-widgets/controls",
          "model_name": "DescriptionStyleModel",
          "model_module_version": "1.5.0",
          "state": {
            "_model_module": "@jupyter-widgets/controls",
            "_model_module_version": "1.5.0",
            "_model_name": "DescriptionStyleModel",
            "_view_count": null,
            "_view_module": "@jupyter-widgets/base",
            "_view_module_version": "1.2.0",
            "_view_name": "StyleView",
            "description_width": ""
          }
        },
        "bbc1a705e76845ff9e5c5fd580d89b68": {
          "model_module": "@jupyter-widgets/controls",
          "model_name": "HBoxModel",
          "model_module_version": "1.5.0",
          "state": {
            "_dom_classes": [],
            "_model_module": "@jupyter-widgets/controls",
            "_model_module_version": "1.5.0",
            "_model_name": "HBoxModel",
            "_view_count": null,
            "_view_module": "@jupyter-widgets/controls",
            "_view_module_version": "1.5.0",
            "_view_name": "HBoxView",
            "box_style": "",
            "children": [
              "IPY_MODEL_02fbcdfa46014897bacccee42fd38e9d",
              "IPY_MODEL_c2736421d74c4763a86496521c4c5cdb",
              "IPY_MODEL_c21458039f274fb18da33ca056c306b9"
            ],
            "layout": "IPY_MODEL_1e9d808aad8b448e90dd233ee1cc296e"
          }
        },
        "02fbcdfa46014897bacccee42fd38e9d": {
          "model_module": "@jupyter-widgets/controls",
          "model_name": "HTMLModel",
          "model_module_version": "1.5.0",
          "state": {
            "_dom_classes": [],
            "_model_module": "@jupyter-widgets/controls",
            "_model_module_version": "1.5.0",
            "_model_name": "HTMLModel",
            "_view_count": null,
            "_view_module": "@jupyter-widgets/controls",
            "_view_module_version": "1.5.0",
            "_view_name": "HTMLView",
            "description": "",
            "description_tooltip": null,
            "layout": "IPY_MODEL_425674fc514b4fd5abe6f6bed9e4f6a5",
            "placeholder": "​",
            "style": "IPY_MODEL_e27993c213124c58b5ae676ac116afc8",
            "value": "Map (num_proc=2): 100%"
          }
        },
        "c2736421d74c4763a86496521c4c5cdb": {
          "model_module": "@jupyter-widgets/controls",
          "model_name": "FloatProgressModel",
          "model_module_version": "1.5.0",
          "state": {
            "_dom_classes": [],
            "_model_module": "@jupyter-widgets/controls",
            "_model_module_version": "1.5.0",
            "_model_name": "FloatProgressModel",
            "_view_count": null,
            "_view_module": "@jupyter-widgets/controls",
            "_view_module_version": "1.5.0",
            "_view_name": "ProgressView",
            "bar_style": "success",
            "description": "",
            "description_tooltip": null,
            "layout": "IPY_MODEL_068efd6f32984150a56c1eded05d3525",
            "max": 3000,
            "min": 0,
            "orientation": "horizontal",
            "style": "IPY_MODEL_24bba8b0859d4734ac2de6e0073ab602",
            "value": 3000
          }
        },
        "c21458039f274fb18da33ca056c306b9": {
          "model_module": "@jupyter-widgets/controls",
          "model_name": "HTMLModel",
          "model_module_version": "1.5.0",
          "state": {
            "_dom_classes": [],
            "_model_module": "@jupyter-widgets/controls",
            "_model_module_version": "1.5.0",
            "_model_name": "HTMLModel",
            "_view_count": null,
            "_view_module": "@jupyter-widgets/controls",
            "_view_module_version": "1.5.0",
            "_view_name": "HTMLView",
            "description": "",
            "description_tooltip": null,
            "layout": "IPY_MODEL_26c6a59d2b58435084fb53315ac3f0ab",
            "placeholder": "​",
            "style": "IPY_MODEL_cd6b85bd82e448ccb4e19c4ff223bcdd",
            "value": " 3000/3000 [00:03&lt;00:00, 903.42 examples/s]"
          }
        },
        "1e9d808aad8b448e90dd233ee1cc296e": {
          "model_module": "@jupyter-widgets/base",
          "model_name": "LayoutModel",
          "model_module_version": "1.2.0",
          "state": {
            "_model_module": "@jupyter-widgets/base",
            "_model_module_version": "1.2.0",
            "_model_name": "LayoutModel",
            "_view_count": null,
            "_view_module": "@jupyter-widgets/base",
            "_view_module_version": "1.2.0",
            "_view_name": "LayoutView",
            "align_content": null,
            "align_items": null,
            "align_self": null,
            "border": null,
            "bottom": null,
            "display": null,
            "flex": null,
            "flex_flow": null,
            "grid_area": null,
            "grid_auto_columns": null,
            "grid_auto_flow": null,
            "grid_auto_rows": null,
            "grid_column": null,
            "grid_gap": null,
            "grid_row": null,
            "grid_template_areas": null,
            "grid_template_columns": null,
            "grid_template_rows": null,
            "height": null,
            "justify_content": null,
            "justify_items": null,
            "left": null,
            "margin": null,
            "max_height": null,
            "max_width": null,
            "min_height": null,
            "min_width": null,
            "object_fit": null,
            "object_position": null,
            "order": null,
            "overflow": null,
            "overflow_x": null,
            "overflow_y": null,
            "padding": null,
            "right": null,
            "top": null,
            "visibility": null,
            "width": null
          }
        },
        "425674fc514b4fd5abe6f6bed9e4f6a5": {
          "model_module": "@jupyter-widgets/base",
          "model_name": "LayoutModel",
          "model_module_version": "1.2.0",
          "state": {
            "_model_module": "@jupyter-widgets/base",
            "_model_module_version": "1.2.0",
            "_model_name": "LayoutModel",
            "_view_count": null,
            "_view_module": "@jupyter-widgets/base",
            "_view_module_version": "1.2.0",
            "_view_name": "LayoutView",
            "align_content": null,
            "align_items": null,
            "align_self": null,
            "border": null,
            "bottom": null,
            "display": null,
            "flex": null,
            "flex_flow": null,
            "grid_area": null,
            "grid_auto_columns": null,
            "grid_auto_flow": null,
            "grid_auto_rows": null,
            "grid_column": null,
            "grid_gap": null,
            "grid_row": null,
            "grid_template_areas": null,
            "grid_template_columns": null,
            "grid_template_rows": null,
            "height": null,
            "justify_content": null,
            "justify_items": null,
            "left": null,
            "margin": null,
            "max_height": null,
            "max_width": null,
            "min_height": null,
            "min_width": null,
            "object_fit": null,
            "object_position": null,
            "order": null,
            "overflow": null,
            "overflow_x": null,
            "overflow_y": null,
            "padding": null,
            "right": null,
            "top": null,
            "visibility": null,
            "width": null
          }
        },
        "e27993c213124c58b5ae676ac116afc8": {
          "model_module": "@jupyter-widgets/controls",
          "model_name": "DescriptionStyleModel",
          "model_module_version": "1.5.0",
          "state": {
            "_model_module": "@jupyter-widgets/controls",
            "_model_module_version": "1.5.0",
            "_model_name": "DescriptionStyleModel",
            "_view_count": null,
            "_view_module": "@jupyter-widgets/base",
            "_view_module_version": "1.2.0",
            "_view_name": "StyleView",
            "description_width": ""
          }
        },
        "068efd6f32984150a56c1eded05d3525": {
          "model_module": "@jupyter-widgets/base",
          "model_name": "LayoutModel",
          "model_module_version": "1.2.0",
          "state": {
            "_model_module": "@jupyter-widgets/base",
            "_model_module_version": "1.2.0",
            "_model_name": "LayoutModel",
            "_view_count": null,
            "_view_module": "@jupyter-widgets/base",
            "_view_module_version": "1.2.0",
            "_view_name": "LayoutView",
            "align_content": null,
            "align_items": null,
            "align_self": null,
            "border": null,
            "bottom": null,
            "display": null,
            "flex": null,
            "flex_flow": null,
            "grid_area": null,
            "grid_auto_columns": null,
            "grid_auto_flow": null,
            "grid_auto_rows": null,
            "grid_column": null,
            "grid_gap": null,
            "grid_row": null,
            "grid_template_areas": null,
            "grid_template_columns": null,
            "grid_template_rows": null,
            "height": null,
            "justify_content": null,
            "justify_items": null,
            "left": null,
            "margin": null,
            "max_height": null,
            "max_width": null,
            "min_height": null,
            "min_width": null,
            "object_fit": null,
            "object_position": null,
            "order": null,
            "overflow": null,
            "overflow_x": null,
            "overflow_y": null,
            "padding": null,
            "right": null,
            "top": null,
            "visibility": null,
            "width": null
          }
        },
        "24bba8b0859d4734ac2de6e0073ab602": {
          "model_module": "@jupyter-widgets/controls",
          "model_name": "ProgressStyleModel",
          "model_module_version": "1.5.0",
          "state": {
            "_model_module": "@jupyter-widgets/controls",
            "_model_module_version": "1.5.0",
            "_model_name": "ProgressStyleModel",
            "_view_count": null,
            "_view_module": "@jupyter-widgets/base",
            "_view_module_version": "1.2.0",
            "_view_name": "StyleView",
            "bar_color": null,
            "description_width": ""
          }
        },
        "26c6a59d2b58435084fb53315ac3f0ab": {
          "model_module": "@jupyter-widgets/base",
          "model_name": "LayoutModel",
          "model_module_version": "1.2.0",
          "state": {
            "_model_module": "@jupyter-widgets/base",
            "_model_module_version": "1.2.0",
            "_model_name": "LayoutModel",
            "_view_count": null,
            "_view_module": "@jupyter-widgets/base",
            "_view_module_version": "1.2.0",
            "_view_name": "LayoutView",
            "align_content": null,
            "align_items": null,
            "align_self": null,
            "border": null,
            "bottom": null,
            "display": null,
            "flex": null,
            "flex_flow": null,
            "grid_area": null,
            "grid_auto_columns": null,
            "grid_auto_flow": null,
            "grid_auto_rows": null,
            "grid_column": null,
            "grid_gap": null,
            "grid_row": null,
            "grid_template_areas": null,
            "grid_template_columns": null,
            "grid_template_rows": null,
            "height": null,
            "justify_content": null,
            "justify_items": null,
            "left": null,
            "margin": null,
            "max_height": null,
            "max_width": null,
            "min_height": null,
            "min_width": null,
            "object_fit": null,
            "object_position": null,
            "order": null,
            "overflow": null,
            "overflow_x": null,
            "overflow_y": null,
            "padding": null,
            "right": null,
            "top": null,
            "visibility": null,
            "width": null
          }
        },
        "cd6b85bd82e448ccb4e19c4ff223bcdd": {
          "model_module": "@jupyter-widgets/controls",
          "model_name": "DescriptionStyleModel",
          "model_module_version": "1.5.0",
          "state": {
            "_model_module": "@jupyter-widgets/controls",
            "_model_module_version": "1.5.0",
            "_model_name": "DescriptionStyleModel",
            "_view_count": null,
            "_view_module": "@jupyter-widgets/base",
            "_view_module_version": "1.2.0",
            "_view_name": "StyleView",
            "description_width": ""
          }
        },
        "0611b5114b9948a1a637d1410834519d": {
          "model_module": "@jupyter-widgets/controls",
          "model_name": "HBoxModel",
          "model_module_version": "1.5.0",
          "state": {
            "_dom_classes": [],
            "_model_module": "@jupyter-widgets/controls",
            "_model_module_version": "1.5.0",
            "_model_name": "HBoxModel",
            "_view_count": null,
            "_view_module": "@jupyter-widgets/controls",
            "_view_module_version": "1.5.0",
            "_view_name": "HBoxView",
            "box_style": "",
            "children": [
              "IPY_MODEL_909c2e8460154ff482c93afd09f822f2",
              "IPY_MODEL_ff6ea9dc82f0412d95044d22bd60ab80",
              "IPY_MODEL_6028b350ac414ffcb7040b80453e25d3"
            ],
            "layout": "IPY_MODEL_6b037f31d565470cb242a1550f2dabd2"
          }
        },
        "909c2e8460154ff482c93afd09f822f2": {
          "model_module": "@jupyter-widgets/controls",
          "model_name": "HTMLModel",
          "model_module_version": "1.5.0",
          "state": {
            "_dom_classes": [],
            "_model_module": "@jupyter-widgets/controls",
            "_model_module_version": "1.5.0",
            "_model_name": "HTMLModel",
            "_view_count": null,
            "_view_module": "@jupyter-widgets/controls",
            "_view_module_version": "1.5.0",
            "_view_name": "HTMLView",
            "description": "",
            "description_tooltip": null,
            "layout": "IPY_MODEL_f9b80f3db8e94f8a9c92039e44abcb00",
            "placeholder": "​",
            "style": "IPY_MODEL_e36e6ef03b8a4ebd9a842b991d0fb4ea",
            "value": "model-00001-of-00004.safetensors: 100%"
          }
        },
        "ff6ea9dc82f0412d95044d22bd60ab80": {
          "model_module": "@jupyter-widgets/controls",
          "model_name": "FloatProgressModel",
          "model_module_version": "1.5.0",
          "state": {
            "_dom_classes": [],
            "_model_module": "@jupyter-widgets/controls",
            "_model_module_version": "1.5.0",
            "_model_name": "FloatProgressModel",
            "_view_count": null,
            "_view_module": "@jupyter-widgets/controls",
            "_view_module_version": "1.5.0",
            "_view_name": "ProgressView",
            "bar_style": "success",
            "description": "",
            "description_tooltip": null,
            "layout": "IPY_MODEL_6cc145b87c964ea69ce6c0005dc9b584",
            "max": 3077103576,
            "min": 0,
            "orientation": "horizontal",
            "style": "IPY_MODEL_2eaf19a4546646a6a93e145c916b36ad",
            "value": 3077103576
          }
        },
        "6028b350ac414ffcb7040b80453e25d3": {
          "model_module": "@jupyter-widgets/controls",
          "model_name": "HTMLModel",
          "model_module_version": "1.5.0",
          "state": {
            "_dom_classes": [],
            "_model_module": "@jupyter-widgets/controls",
            "_model_module_version": "1.5.0",
            "_model_name": "HTMLModel",
            "_view_count": null,
            "_view_module": "@jupyter-widgets/controls",
            "_view_module_version": "1.5.0",
            "_view_name": "HTMLView",
            "description": "",
            "description_tooltip": null,
            "layout": "IPY_MODEL_7f2bc37f895a47378bc780058dc5cdc9",
            "placeholder": "​",
            "style": "IPY_MODEL_2fc57f7a7888498d9601ab6619b675d5",
            "value": " 3.08G/3.08G [05:22&lt;00:00, 13.9MB/s]"
          }
        },
        "6b037f31d565470cb242a1550f2dabd2": {
          "model_module": "@jupyter-widgets/base",
          "model_name": "LayoutModel",
          "model_module_version": "1.2.0",
          "state": {
            "_model_module": "@jupyter-widgets/base",
            "_model_module_version": "1.2.0",
            "_model_name": "LayoutModel",
            "_view_count": null,
            "_view_module": "@jupyter-widgets/base",
            "_view_module_version": "1.2.0",
            "_view_name": "LayoutView",
            "align_content": null,
            "align_items": null,
            "align_self": null,
            "border": null,
            "bottom": null,
            "display": null,
            "flex": null,
            "flex_flow": null,
            "grid_area": null,
            "grid_auto_columns": null,
            "grid_auto_flow": null,
            "grid_auto_rows": null,
            "grid_column": null,
            "grid_gap": null,
            "grid_row": null,
            "grid_template_areas": null,
            "grid_template_columns": null,
            "grid_template_rows": null,
            "height": null,
            "justify_content": null,
            "justify_items": null,
            "left": null,
            "margin": null,
            "max_height": null,
            "max_width": null,
            "min_height": null,
            "min_width": null,
            "object_fit": null,
            "object_position": null,
            "order": null,
            "overflow": null,
            "overflow_x": null,
            "overflow_y": null,
            "padding": null,
            "right": null,
            "top": null,
            "visibility": null,
            "width": null
          }
        },
        "f9b80f3db8e94f8a9c92039e44abcb00": {
          "model_module": "@jupyter-widgets/base",
          "model_name": "LayoutModel",
          "model_module_version": "1.2.0",
          "state": {
            "_model_module": "@jupyter-widgets/base",
            "_model_module_version": "1.2.0",
            "_model_name": "LayoutModel",
            "_view_count": null,
            "_view_module": "@jupyter-widgets/base",
            "_view_module_version": "1.2.0",
            "_view_name": "LayoutView",
            "align_content": null,
            "align_items": null,
            "align_self": null,
            "border": null,
            "bottom": null,
            "display": null,
            "flex": null,
            "flex_flow": null,
            "grid_area": null,
            "grid_auto_columns": null,
            "grid_auto_flow": null,
            "grid_auto_rows": null,
            "grid_column": null,
            "grid_gap": null,
            "grid_row": null,
            "grid_template_areas": null,
            "grid_template_columns": null,
            "grid_template_rows": null,
            "height": null,
            "justify_content": null,
            "justify_items": null,
            "left": null,
            "margin": null,
            "max_height": null,
            "max_width": null,
            "min_height": null,
            "min_width": null,
            "object_fit": null,
            "object_position": null,
            "order": null,
            "overflow": null,
            "overflow_x": null,
            "overflow_y": null,
            "padding": null,
            "right": null,
            "top": null,
            "visibility": null,
            "width": null
          }
        },
        "e36e6ef03b8a4ebd9a842b991d0fb4ea": {
          "model_module": "@jupyter-widgets/controls",
          "model_name": "DescriptionStyleModel",
          "model_module_version": "1.5.0",
          "state": {
            "_model_module": "@jupyter-widgets/controls",
            "_model_module_version": "1.5.0",
            "_model_name": "DescriptionStyleModel",
            "_view_count": null,
            "_view_module": "@jupyter-widgets/base",
            "_view_module_version": "1.2.0",
            "_view_name": "StyleView",
            "description_width": ""
          }
        },
        "6cc145b87c964ea69ce6c0005dc9b584": {
          "model_module": "@jupyter-widgets/base",
          "model_name": "LayoutModel",
          "model_module_version": "1.2.0",
          "state": {
            "_model_module": "@jupyter-widgets/base",
            "_model_module_version": "1.2.0",
            "_model_name": "LayoutModel",
            "_view_count": null,
            "_view_module": "@jupyter-widgets/base",
            "_view_module_version": "1.2.0",
            "_view_name": "LayoutView",
            "align_content": null,
            "align_items": null,
            "align_self": null,
            "border": null,
            "bottom": null,
            "display": null,
            "flex": null,
            "flex_flow": null,
            "grid_area": null,
            "grid_auto_columns": null,
            "grid_auto_flow": null,
            "grid_auto_rows": null,
            "grid_column": null,
            "grid_gap": null,
            "grid_row": null,
            "grid_template_areas": null,
            "grid_template_columns": null,
            "grid_template_rows": null,
            "height": null,
            "justify_content": null,
            "justify_items": null,
            "left": null,
            "margin": null,
            "max_height": null,
            "max_width": null,
            "min_height": null,
            "min_width": null,
            "object_fit": null,
            "object_position": null,
            "order": null,
            "overflow": null,
            "overflow_x": null,
            "overflow_y": null,
            "padding": null,
            "right": null,
            "top": null,
            "visibility": null,
            "width": null
          }
        },
        "2eaf19a4546646a6a93e145c916b36ad": {
          "model_module": "@jupyter-widgets/controls",
          "model_name": "ProgressStyleModel",
          "model_module_version": "1.5.0",
          "state": {
            "_model_module": "@jupyter-widgets/controls",
            "_model_module_version": "1.5.0",
            "_model_name": "ProgressStyleModel",
            "_view_count": null,
            "_view_module": "@jupyter-widgets/base",
            "_view_module_version": "1.2.0",
            "_view_name": "StyleView",
            "bar_color": null,
            "description_width": ""
          }
        },
        "7f2bc37f895a47378bc780058dc5cdc9": {
          "model_module": "@jupyter-widgets/base",
          "model_name": "LayoutModel",
          "model_module_version": "1.2.0",
          "state": {
            "_model_module": "@jupyter-widgets/base",
            "_model_module_version": "1.2.0",
            "_model_name": "LayoutModel",
            "_view_count": null,
            "_view_module": "@jupyter-widgets/base",
            "_view_module_version": "1.2.0",
            "_view_name": "LayoutView",
            "align_content": null,
            "align_items": null,
            "align_self": null,
            "border": null,
            "bottom": null,
            "display": null,
            "flex": null,
            "flex_flow": null,
            "grid_area": null,
            "grid_auto_columns": null,
            "grid_auto_flow": null,
            "grid_auto_rows": null,
            "grid_column": null,
            "grid_gap": null,
            "grid_row": null,
            "grid_template_areas": null,
            "grid_template_columns": null,
            "grid_template_rows": null,
            "height": null,
            "justify_content": null,
            "justify_items": null,
            "left": null,
            "margin": null,
            "max_height": null,
            "max_width": null,
            "min_height": null,
            "min_width": null,
            "object_fit": null,
            "object_position": null,
            "order": null,
            "overflow": null,
            "overflow_x": null,
            "overflow_y": null,
            "padding": null,
            "right": null,
            "top": null,
            "visibility": null,
            "width": null
          }
        },
        "2fc57f7a7888498d9601ab6619b675d5": {
          "model_module": "@jupyter-widgets/controls",
          "model_name": "DescriptionStyleModel",
          "model_module_version": "1.5.0",
          "state": {
            "_model_module": "@jupyter-widgets/controls",
            "_model_module_version": "1.5.0",
            "_model_name": "DescriptionStyleModel",
            "_view_count": null,
            "_view_module": "@jupyter-widgets/base",
            "_view_module_version": "1.2.0",
            "_view_name": "StyleView",
            "description_width": ""
          }
        },
        "f62dab16f0e840678e562d4c80c73e18": {
          "model_module": "@jupyter-widgets/controls",
          "model_name": "HBoxModel",
          "model_module_version": "1.5.0",
          "state": {
            "_dom_classes": [],
            "_model_module": "@jupyter-widgets/controls",
            "_model_module_version": "1.5.0",
            "_model_name": "HBoxModel",
            "_view_count": null,
            "_view_module": "@jupyter-widgets/controls",
            "_view_module_version": "1.5.0",
            "_view_name": "HBoxView",
            "box_style": "",
            "children": [
              "IPY_MODEL_54921929fa6441d4ba0027a901654895",
              "IPY_MODEL_4b50175669594c57abd4f1a12f3fbdcc",
              "IPY_MODEL_8c62baecec284d2dad1f5c630cefc3a7"
            ],
            "layout": "IPY_MODEL_b102e2cf14e04d63875921c4bc444ac0"
          }
        },
        "54921929fa6441d4ba0027a901654895": {
          "model_module": "@jupyter-widgets/controls",
          "model_name": "HTMLModel",
          "model_module_version": "1.5.0",
          "state": {
            "_dom_classes": [],
            "_model_module": "@jupyter-widgets/controls",
            "_model_module_version": "1.5.0",
            "_model_name": "HTMLModel",
            "_view_count": null,
            "_view_module": "@jupyter-widgets/controls",
            "_view_module_version": "1.5.0",
            "_view_name": "HTMLView",
            "description": "",
            "description_tooltip": null,
            "layout": "IPY_MODEL_38b0bd77d8c84aec964f60c11a1673f6",
            "placeholder": "​",
            "style": "IPY_MODEL_94378924877140ad997e4f525686c207",
            "value": "model-00002-of-00004.safetensors: 100%"
          }
        },
        "4b50175669594c57abd4f1a12f3fbdcc": {
          "model_module": "@jupyter-widgets/controls",
          "model_name": "FloatProgressModel",
          "model_module_version": "1.5.0",
          "state": {
            "_dom_classes": [],
            "_model_module": "@jupyter-widgets/controls",
            "_model_module_version": "1.5.0",
            "_model_name": "FloatProgressModel",
            "_view_count": null,
            "_view_module": "@jupyter-widgets/controls",
            "_view_module_version": "1.5.0",
            "_view_name": "ProgressView",
            "bar_style": "success",
            "description": "",
            "description_tooltip": null,
            "layout": "IPY_MODEL_c927dc2bc9cc4a6096701e4d06757e9d",
            "max": 4966792808,
            "min": 0,
            "orientation": "horizontal",
            "style": "IPY_MODEL_2976105f81524f8db6b8288d3e9bfd66",
            "value": 4966792808
          }
        },
        "8c62baecec284d2dad1f5c630cefc3a7": {
          "model_module": "@jupyter-widgets/controls",
          "model_name": "HTMLModel",
          "model_module_version": "1.5.0",
          "state": {
            "_dom_classes": [],
            "_model_module": "@jupyter-widgets/controls",
            "_model_module_version": "1.5.0",
            "_model_name": "HTMLModel",
            "_view_count": null,
            "_view_module": "@jupyter-widgets/controls",
            "_view_module_version": "1.5.0",
            "_view_name": "HTMLView",
            "description": "",
            "description_tooltip": null,
            "layout": "IPY_MODEL_6c38f3a0a2064a88be52a03aa683f237",
            "placeholder": "​",
            "style": "IPY_MODEL_204580d841ad427687a007562e4381bd",
            "value": " 4.97G/4.97G [08:00&lt;00:00, 19.4MB/s]"
          }
        },
        "b102e2cf14e04d63875921c4bc444ac0": {
          "model_module": "@jupyter-widgets/base",
          "model_name": "LayoutModel",
          "model_module_version": "1.2.0",
          "state": {
            "_model_module": "@jupyter-widgets/base",
            "_model_module_version": "1.2.0",
            "_model_name": "LayoutModel",
            "_view_count": null,
            "_view_module": "@jupyter-widgets/base",
            "_view_module_version": "1.2.0",
            "_view_name": "LayoutView",
            "align_content": null,
            "align_items": null,
            "align_self": null,
            "border": null,
            "bottom": null,
            "display": null,
            "flex": null,
            "flex_flow": null,
            "grid_area": null,
            "grid_auto_columns": null,
            "grid_auto_flow": null,
            "grid_auto_rows": null,
            "grid_column": null,
            "grid_gap": null,
            "grid_row": null,
            "grid_template_areas": null,
            "grid_template_columns": null,
            "grid_template_rows": null,
            "height": null,
            "justify_content": null,
            "justify_items": null,
            "left": null,
            "margin": null,
            "max_height": null,
            "max_width": null,
            "min_height": null,
            "min_width": null,
            "object_fit": null,
            "object_position": null,
            "order": null,
            "overflow": null,
            "overflow_x": null,
            "overflow_y": null,
            "padding": null,
            "right": null,
            "top": null,
            "visibility": null,
            "width": null
          }
        },
        "38b0bd77d8c84aec964f60c11a1673f6": {
          "model_module": "@jupyter-widgets/base",
          "model_name": "LayoutModel",
          "model_module_version": "1.2.0",
          "state": {
            "_model_module": "@jupyter-widgets/base",
            "_model_module_version": "1.2.0",
            "_model_name": "LayoutModel",
            "_view_count": null,
            "_view_module": "@jupyter-widgets/base",
            "_view_module_version": "1.2.0",
            "_view_name": "LayoutView",
            "align_content": null,
            "align_items": null,
            "align_self": null,
            "border": null,
            "bottom": null,
            "display": null,
            "flex": null,
            "flex_flow": null,
            "grid_area": null,
            "grid_auto_columns": null,
            "grid_auto_flow": null,
            "grid_auto_rows": null,
            "grid_column": null,
            "grid_gap": null,
            "grid_row": null,
            "grid_template_areas": null,
            "grid_template_columns": null,
            "grid_template_rows": null,
            "height": null,
            "justify_content": null,
            "justify_items": null,
            "left": null,
            "margin": null,
            "max_height": null,
            "max_width": null,
            "min_height": null,
            "min_width": null,
            "object_fit": null,
            "object_position": null,
            "order": null,
            "overflow": null,
            "overflow_x": null,
            "overflow_y": null,
            "padding": null,
            "right": null,
            "top": null,
            "visibility": null,
            "width": null
          }
        },
        "94378924877140ad997e4f525686c207": {
          "model_module": "@jupyter-widgets/controls",
          "model_name": "DescriptionStyleModel",
          "model_module_version": "1.5.0",
          "state": {
            "_model_module": "@jupyter-widgets/controls",
            "_model_module_version": "1.5.0",
            "_model_name": "DescriptionStyleModel",
            "_view_count": null,
            "_view_module": "@jupyter-widgets/base",
            "_view_module_version": "1.2.0",
            "_view_name": "StyleView",
            "description_width": ""
          }
        },
        "c927dc2bc9cc4a6096701e4d06757e9d": {
          "model_module": "@jupyter-widgets/base",
          "model_name": "LayoutModel",
          "model_module_version": "1.2.0",
          "state": {
            "_model_module": "@jupyter-widgets/base",
            "_model_module_version": "1.2.0",
            "_model_name": "LayoutModel",
            "_view_count": null,
            "_view_module": "@jupyter-widgets/base",
            "_view_module_version": "1.2.0",
            "_view_name": "LayoutView",
            "align_content": null,
            "align_items": null,
            "align_self": null,
            "border": null,
            "bottom": null,
            "display": null,
            "flex": null,
            "flex_flow": null,
            "grid_area": null,
            "grid_auto_columns": null,
            "grid_auto_flow": null,
            "grid_auto_rows": null,
            "grid_column": null,
            "grid_gap": null,
            "grid_row": null,
            "grid_template_areas": null,
            "grid_template_columns": null,
            "grid_template_rows": null,
            "height": null,
            "justify_content": null,
            "justify_items": null,
            "left": null,
            "margin": null,
            "max_height": null,
            "max_width": null,
            "min_height": null,
            "min_width": null,
            "object_fit": null,
            "object_position": null,
            "order": null,
            "overflow": null,
            "overflow_x": null,
            "overflow_y": null,
            "padding": null,
            "right": null,
            "top": null,
            "visibility": null,
            "width": null
          }
        },
        "2976105f81524f8db6b8288d3e9bfd66": {
          "model_module": "@jupyter-widgets/controls",
          "model_name": "ProgressStyleModel",
          "model_module_version": "1.5.0",
          "state": {
            "_model_module": "@jupyter-widgets/controls",
            "_model_module_version": "1.5.0",
            "_model_name": "ProgressStyleModel",
            "_view_count": null,
            "_view_module": "@jupyter-widgets/base",
            "_view_module_version": "1.2.0",
            "_view_name": "StyleView",
            "bar_color": null,
            "description_width": ""
          }
        },
        "6c38f3a0a2064a88be52a03aa683f237": {
          "model_module": "@jupyter-widgets/base",
          "model_name": "LayoutModel",
          "model_module_version": "1.2.0",
          "state": {
            "_model_module": "@jupyter-widgets/base",
            "_model_module_version": "1.2.0",
            "_model_name": "LayoutModel",
            "_view_count": null,
            "_view_module": "@jupyter-widgets/base",
            "_view_module_version": "1.2.0",
            "_view_name": "LayoutView",
            "align_content": null,
            "align_items": null,
            "align_self": null,
            "border": null,
            "bottom": null,
            "display": null,
            "flex": null,
            "flex_flow": null,
            "grid_area": null,
            "grid_auto_columns": null,
            "grid_auto_flow": null,
            "grid_auto_rows": null,
            "grid_column": null,
            "grid_gap": null,
            "grid_row": null,
            "grid_template_areas": null,
            "grid_template_columns": null,
            "grid_template_rows": null,
            "height": null,
            "justify_content": null,
            "justify_items": null,
            "left": null,
            "margin": null,
            "max_height": null,
            "max_width": null,
            "min_height": null,
            "min_width": null,
            "object_fit": null,
            "object_position": null,
            "order": null,
            "overflow": null,
            "overflow_x": null,
            "overflow_y": null,
            "padding": null,
            "right": null,
            "top": null,
            "visibility": null,
            "width": null
          }
        },
        "204580d841ad427687a007562e4381bd": {
          "model_module": "@jupyter-widgets/controls",
          "model_name": "DescriptionStyleModel",
          "model_module_version": "1.5.0",
          "state": {
            "_model_module": "@jupyter-widgets/controls",
            "_model_module_version": "1.5.0",
            "_model_name": "DescriptionStyleModel",
            "_view_count": null,
            "_view_module": "@jupyter-widgets/base",
            "_view_module_version": "1.2.0",
            "_view_name": "StyleView",
            "description_width": ""
          }
        },
        "043c1ca293ba40418ec86707c24f8c29": {
          "model_module": "@jupyter-widgets/controls",
          "model_name": "HBoxModel",
          "model_module_version": "1.5.0",
          "state": {
            "_dom_classes": [],
            "_model_module": "@jupyter-widgets/controls",
            "_model_module_version": "1.5.0",
            "_model_name": "HBoxModel",
            "_view_count": null,
            "_view_module": "@jupyter-widgets/controls",
            "_view_module_version": "1.5.0",
            "_view_name": "HBoxView",
            "box_style": "",
            "children": [
              "IPY_MODEL_ff63115f66ab4fb5b9bc1335ab1245dd",
              "IPY_MODEL_2ba5c6044a764e7086718f29e4feba2b",
              "IPY_MODEL_ea6de35c08ce42129f227d066d6cdac9"
            ],
            "layout": "IPY_MODEL_8ec93f674fd54773a6877233229c4197"
          }
        },
        "ff63115f66ab4fb5b9bc1335ab1245dd": {
          "model_module": "@jupyter-widgets/controls",
          "model_name": "HTMLModel",
          "model_module_version": "1.5.0",
          "state": {
            "_dom_classes": [],
            "_model_module": "@jupyter-widgets/controls",
            "_model_module_version": "1.5.0",
            "_model_name": "HTMLModel",
            "_view_count": null,
            "_view_module": "@jupyter-widgets/controls",
            "_view_module_version": "1.5.0",
            "_view_name": "HTMLView",
            "description": "",
            "description_tooltip": null,
            "layout": "IPY_MODEL_9bc37e40f70c4d9fb05ea5a159a65459",
            "placeholder": "​",
            "style": "IPY_MODEL_299f86668eaa45828fa30c5280f976bf",
            "value": "model-00003-of-00004.safetensors: 100%"
          }
        },
        "2ba5c6044a764e7086718f29e4feba2b": {
          "model_module": "@jupyter-widgets/controls",
          "model_name": "FloatProgressModel",
          "model_module_version": "1.5.0",
          "state": {
            "_dom_classes": [],
            "_model_module": "@jupyter-widgets/controls",
            "_model_module_version": "1.5.0",
            "_model_name": "FloatProgressModel",
            "_view_count": null,
            "_view_module": "@jupyter-widgets/controls",
            "_view_module_version": "1.5.0",
            "_view_name": "ProgressView",
            "bar_style": "success",
            "description": "",
            "description_tooltip": null,
            "layout": "IPY_MODEL_c9873567a19f49ebb818b73e6e32cc4f",
            "max": 4992870216,
            "min": 0,
            "orientation": "horizontal",
            "style": "IPY_MODEL_0c8856b326bf4319ab7937270d0537c9",
            "value": 4992870216
          }
        },
        "ea6de35c08ce42129f227d066d6cdac9": {
          "model_module": "@jupyter-widgets/controls",
          "model_name": "HTMLModel",
          "model_module_version": "1.5.0",
          "state": {
            "_dom_classes": [],
            "_model_module": "@jupyter-widgets/controls",
            "_model_module_version": "1.5.0",
            "_model_name": "HTMLModel",
            "_view_count": null,
            "_view_module": "@jupyter-widgets/controls",
            "_view_module_version": "1.5.0",
            "_view_name": "HTMLView",
            "description": "",
            "description_tooltip": null,
            "layout": "IPY_MODEL_ed2f5a08835d479e87b520df2d87ad04",
            "placeholder": "​",
            "style": "IPY_MODEL_046930e2ab6c4e9b892656c75ce1573d",
            "value": " 4.99G/4.99G [06:44&lt;00:00, 23.7MB/s]"
          }
        },
        "8ec93f674fd54773a6877233229c4197": {
          "model_module": "@jupyter-widgets/base",
          "model_name": "LayoutModel",
          "model_module_version": "1.2.0",
          "state": {
            "_model_module": "@jupyter-widgets/base",
            "_model_module_version": "1.2.0",
            "_model_name": "LayoutModel",
            "_view_count": null,
            "_view_module": "@jupyter-widgets/base",
            "_view_module_version": "1.2.0",
            "_view_name": "LayoutView",
            "align_content": null,
            "align_items": null,
            "align_self": null,
            "border": null,
            "bottom": null,
            "display": null,
            "flex": null,
            "flex_flow": null,
            "grid_area": null,
            "grid_auto_columns": null,
            "grid_auto_flow": null,
            "grid_auto_rows": null,
            "grid_column": null,
            "grid_gap": null,
            "grid_row": null,
            "grid_template_areas": null,
            "grid_template_columns": null,
            "grid_template_rows": null,
            "height": null,
            "justify_content": null,
            "justify_items": null,
            "left": null,
            "margin": null,
            "max_height": null,
            "max_width": null,
            "min_height": null,
            "min_width": null,
            "object_fit": null,
            "object_position": null,
            "order": null,
            "overflow": null,
            "overflow_x": null,
            "overflow_y": null,
            "padding": null,
            "right": null,
            "top": null,
            "visibility": null,
            "width": null
          }
        },
        "9bc37e40f70c4d9fb05ea5a159a65459": {
          "model_module": "@jupyter-widgets/base",
          "model_name": "LayoutModel",
          "model_module_version": "1.2.0",
          "state": {
            "_model_module": "@jupyter-widgets/base",
            "_model_module_version": "1.2.0",
            "_model_name": "LayoutModel",
            "_view_count": null,
            "_view_module": "@jupyter-widgets/base",
            "_view_module_version": "1.2.0",
            "_view_name": "LayoutView",
            "align_content": null,
            "align_items": null,
            "align_self": null,
            "border": null,
            "bottom": null,
            "display": null,
            "flex": null,
            "flex_flow": null,
            "grid_area": null,
            "grid_auto_columns": null,
            "grid_auto_flow": null,
            "grid_auto_rows": null,
            "grid_column": null,
            "grid_gap": null,
            "grid_row": null,
            "grid_template_areas": null,
            "grid_template_columns": null,
            "grid_template_rows": null,
            "height": null,
            "justify_content": null,
            "justify_items": null,
            "left": null,
            "margin": null,
            "max_height": null,
            "max_width": null,
            "min_height": null,
            "min_width": null,
            "object_fit": null,
            "object_position": null,
            "order": null,
            "overflow": null,
            "overflow_x": null,
            "overflow_y": null,
            "padding": null,
            "right": null,
            "top": null,
            "visibility": null,
            "width": null
          }
        },
        "299f86668eaa45828fa30c5280f976bf": {
          "model_module": "@jupyter-widgets/controls",
          "model_name": "DescriptionStyleModel",
          "model_module_version": "1.5.0",
          "state": {
            "_model_module": "@jupyter-widgets/controls",
            "_model_module_version": "1.5.0",
            "_model_name": "DescriptionStyleModel",
            "_view_count": null,
            "_view_module": "@jupyter-widgets/base",
            "_view_module_version": "1.2.0",
            "_view_name": "StyleView",
            "description_width": ""
          }
        },
        "c9873567a19f49ebb818b73e6e32cc4f": {
          "model_module": "@jupyter-widgets/base",
          "model_name": "LayoutModel",
          "model_module_version": "1.2.0",
          "state": {
            "_model_module": "@jupyter-widgets/base",
            "_model_module_version": "1.2.0",
            "_model_name": "LayoutModel",
            "_view_count": null,
            "_view_module": "@jupyter-widgets/base",
            "_view_module_version": "1.2.0",
            "_view_name": "LayoutView",
            "align_content": null,
            "align_items": null,
            "align_self": null,
            "border": null,
            "bottom": null,
            "display": null,
            "flex": null,
            "flex_flow": null,
            "grid_area": null,
            "grid_auto_columns": null,
            "grid_auto_flow": null,
            "grid_auto_rows": null,
            "grid_column": null,
            "grid_gap": null,
            "grid_row": null,
            "grid_template_areas": null,
            "grid_template_columns": null,
            "grid_template_rows": null,
            "height": null,
            "justify_content": null,
            "justify_items": null,
            "left": null,
            "margin": null,
            "max_height": null,
            "max_width": null,
            "min_height": null,
            "min_width": null,
            "object_fit": null,
            "object_position": null,
            "order": null,
            "overflow": null,
            "overflow_x": null,
            "overflow_y": null,
            "padding": null,
            "right": null,
            "top": null,
            "visibility": null,
            "width": null
          }
        },
        "0c8856b326bf4319ab7937270d0537c9": {
          "model_module": "@jupyter-widgets/controls",
          "model_name": "ProgressStyleModel",
          "model_module_version": "1.5.0",
          "state": {
            "_model_module": "@jupyter-widgets/controls",
            "_model_module_version": "1.5.0",
            "_model_name": "ProgressStyleModel",
            "_view_count": null,
            "_view_module": "@jupyter-widgets/base",
            "_view_module_version": "1.2.0",
            "_view_name": "StyleView",
            "bar_color": null,
            "description_width": ""
          }
        },
        "ed2f5a08835d479e87b520df2d87ad04": {
          "model_module": "@jupyter-widgets/base",
          "model_name": "LayoutModel",
          "model_module_version": "1.2.0",
          "state": {
            "_model_module": "@jupyter-widgets/base",
            "_model_module_version": "1.2.0",
            "_model_name": "LayoutModel",
            "_view_count": null,
            "_view_module": "@jupyter-widgets/base",
            "_view_module_version": "1.2.0",
            "_view_name": "LayoutView",
            "align_content": null,
            "align_items": null,
            "align_self": null,
            "border": null,
            "bottom": null,
            "display": null,
            "flex": null,
            "flex_flow": null,
            "grid_area": null,
            "grid_auto_columns": null,
            "grid_auto_flow": null,
            "grid_auto_rows": null,
            "grid_column": null,
            "grid_gap": null,
            "grid_row": null,
            "grid_template_areas": null,
            "grid_template_columns": null,
            "grid_template_rows": null,
            "height": null,
            "justify_content": null,
            "justify_items": null,
            "left": null,
            "margin": null,
            "max_height": null,
            "max_width": null,
            "min_height": null,
            "min_width": null,
            "object_fit": null,
            "object_position": null,
            "order": null,
            "overflow": null,
            "overflow_x": null,
            "overflow_y": null,
            "padding": null,
            "right": null,
            "top": null,
            "visibility": null,
            "width": null
          }
        },
        "046930e2ab6c4e9b892656c75ce1573d": {
          "model_module": "@jupyter-widgets/controls",
          "model_name": "DescriptionStyleModel",
          "model_module_version": "1.5.0",
          "state": {
            "_model_module": "@jupyter-widgets/controls",
            "_model_module_version": "1.5.0",
            "_model_name": "DescriptionStyleModel",
            "_view_count": null,
            "_view_module": "@jupyter-widgets/base",
            "_view_module_version": "1.2.0",
            "_view_name": "StyleView",
            "description_width": ""
          }
        }
      }
    }
  },
  "nbformat": 4,
  "nbformat_minor": 0
}